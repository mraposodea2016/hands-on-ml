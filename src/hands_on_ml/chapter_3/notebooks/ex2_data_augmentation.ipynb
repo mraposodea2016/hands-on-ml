{
 "cells": [
  {
   "cell_type": "code",
   "execution_count": 62,
   "metadata": {
    "collapsed": true
   },
   "outputs": [],
   "source": [
    "from sklearn.datasets import fetch_openml"
   ]
  },
  {
   "cell_type": "code",
   "execution_count": 63,
   "outputs": [],
   "source": [
    "mnist = fetch_openml('mnist_784', version=1)"
   ],
   "metadata": {
    "collapsed": false,
    "pycharm": {
     "name": "#%%\n"
    }
   }
  },
  {
   "cell_type": "code",
   "execution_count": 111,
   "outputs": [],
   "source": [
    "X, y = mnist['data'], mnist['target']\n",
    "X_train, X_test, y_train, y_test = X[:60000], X[60000:], y[:60000], y[60000:]"
   ],
   "metadata": {
    "collapsed": false,
    "pycharm": {
     "name": "#%%\n"
    }
   }
  },
  {
   "cell_type": "code",
   "execution_count": 90,
   "outputs": [],
   "source": [
    "from scipy.ndimage.interpolation import shift\n",
    "import pandas as pd\n",
    "import logging\n",
    "\n",
    "logging.basicConfig(level=logging.INFO, format='%(message)s')"
   ],
   "metadata": {
    "collapsed": false,
    "pycharm": {
     "name": "#%%\n"
    }
   }
  },
  {
   "cell_type": "code",
   "execution_count": 91,
   "outputs": [
    {
     "name": "stderr",
     "output_type": "stream",
     "text": [
      "INFO:root:0\n",
      "INFO:root:10000\n",
      "INFO:root:20000\n",
      "INFO:root:30000\n",
      "INFO:root:40000\n",
      "INFO:root:50000\n"
     ]
    }
   ],
   "source": [
    "def gen_shifted_df(seq):\n",
    "    shifted_arr = shift(image, seq).reshape(784, 1).T\n",
    "    return pd.DataFrame(shifted_arr, columns=X_train.columns)\n",
    "\n",
    "\n",
    "shifted, labels = [], []\n",
    "for i in range(len(X_train)):\n",
    "    if i % 10000 == 0:\n",
    "        logging.info(i)\n",
    "    image = X_train.iloc[i].values.reshape(28, 28)\n",
    "\n",
    "    left_df = gen_shifted_df([0, -1])\n",
    "    right_df = gen_shifted_df([0, 1])\n",
    "    up_df = gen_shifted_df([-1, 0])\n",
    "    down_df = gen_shifted_df([1, 0])\n",
    "\n",
    "    shifted += [left_df, right_df, up_df, down_df]\n",
    "    labels += [pd.Series(y_train.iloc[i]) for _ in range(4)]\n",
    "\n",
    "X_train = pd.concat([X_train] + shifted).reset_index().drop('index')\n",
    "y_train = pd.concat([y_train] + labels).reset_index().drop('index')"
   ],
   "metadata": {
    "collapsed": false,
    "pycharm": {
     "name": "#%%\n"
    }
   }
  },
  {
   "cell_type": "code",
   "execution_count": 126,
   "outputs": [
    {
     "data": {
      "text/plain": "((300000, 784), (300000,))"
     },
     "execution_count": 126,
     "metadata": {},
     "output_type": "execute_result"
    }
   ],
   "source": [
    "X_train.shape, y_train.shape"
   ],
   "metadata": {
    "collapsed": false,
    "pycharm": {
     "name": "#%%\n"
    }
   }
  },
  {
   "cell_type": "code",
   "execution_count": 125,
   "outputs": [],
   "source": [
    "X_train = pd.concat([X_train] + shifted).reset_index().drop(columns='index')\n",
    "y_train = pd.concat([y_train] + labels).reset_index().drop(columns='index')[0]"
   ],
   "metadata": {
    "collapsed": false,
    "pycharm": {
     "name": "#%%\n"
    }
   }
  },
  {
   "cell_type": "code",
   "execution_count": 117,
   "outputs": [
    {
     "data": {
      "text/plain": "       pixel125  pixel126  pixel127  pixel128  pixel129  pixel130  pixel131  \\\n0             -         -         -         -         -         -         -   \n60000         -         -         -         -         -         -         -   \n60001         -         -         -         -         -         -         -   \n60002      3.00     18.00     18.00     18.00    126.00    136.00    175.00   \n60003         -         -         -         -         -         -         -   \n\n       pixel132  pixel133  pixel134  ...  pixel685  pixel686  pixel705  \\\n0             -         -         -  ...         -         -         -   \n60000         -         -         -  ...         -         -         -   \n60001         -         -         -  ...     16.00         -         -   \n60002     26.00    166.00    255.00  ...         -         -         -   \n60003         -         -         -  ...    133.00     11.00    136.00   \n\n       pixel706  pixel707  pixel708  pixel709  pixel710  pixel711  pixel712  \n0             -         -         -         -         -         -         -  \n60000         -         -         -         -         -         -         -  \n60001         -         -         -         -         -         -         -  \n60002         -         -         -         -         -         -         -  \n60003    253.00    253.00    253.00    212.00    135.00    132.00     16.00  \n\n[5 rows x 249 columns]",
      "text/html": "<div>\n<style scoped>\n    .dataframe tbody tr th:only-of-type {\n        vertical-align: middle;\n    }\n\n    .dataframe tbody tr th {\n        vertical-align: top;\n    }\n\n    .dataframe thead th {\n        text-align: right;\n    }\n</style>\n<table border=\"1\" class=\"dataframe\">\n  <thead>\n    <tr style=\"text-align: right;\">\n      <th></th>\n      <th>pixel125</th>\n      <th>pixel126</th>\n      <th>pixel127</th>\n      <th>pixel128</th>\n      <th>pixel129</th>\n      <th>pixel130</th>\n      <th>pixel131</th>\n      <th>pixel132</th>\n      <th>pixel133</th>\n      <th>pixel134</th>\n      <th>...</th>\n      <th>pixel685</th>\n      <th>pixel686</th>\n      <th>pixel705</th>\n      <th>pixel706</th>\n      <th>pixel707</th>\n      <th>pixel708</th>\n      <th>pixel709</th>\n      <th>pixel710</th>\n      <th>pixel711</th>\n      <th>pixel712</th>\n    </tr>\n  </thead>\n  <tbody>\n    <tr>\n      <th>0</th>\n      <td>-</td>\n      <td>-</td>\n      <td>-</td>\n      <td>-</td>\n      <td>-</td>\n      <td>-</td>\n      <td>-</td>\n      <td>-</td>\n      <td>-</td>\n      <td>-</td>\n      <td>...</td>\n      <td>-</td>\n      <td>-</td>\n      <td>-</td>\n      <td>-</td>\n      <td>-</td>\n      <td>-</td>\n      <td>-</td>\n      <td>-</td>\n      <td>-</td>\n      <td>-</td>\n    </tr>\n    <tr>\n      <th>60000</th>\n      <td>-</td>\n      <td>-</td>\n      <td>-</td>\n      <td>-</td>\n      <td>-</td>\n      <td>-</td>\n      <td>-</td>\n      <td>-</td>\n      <td>-</td>\n      <td>-</td>\n      <td>...</td>\n      <td>-</td>\n      <td>-</td>\n      <td>-</td>\n      <td>-</td>\n      <td>-</td>\n      <td>-</td>\n      <td>-</td>\n      <td>-</td>\n      <td>-</td>\n      <td>-</td>\n    </tr>\n    <tr>\n      <th>60001</th>\n      <td>-</td>\n      <td>-</td>\n      <td>-</td>\n      <td>-</td>\n      <td>-</td>\n      <td>-</td>\n      <td>-</td>\n      <td>-</td>\n      <td>-</td>\n      <td>-</td>\n      <td>...</td>\n      <td>16.00</td>\n      <td>-</td>\n      <td>-</td>\n      <td>-</td>\n      <td>-</td>\n      <td>-</td>\n      <td>-</td>\n      <td>-</td>\n      <td>-</td>\n      <td>-</td>\n    </tr>\n    <tr>\n      <th>60002</th>\n      <td>3.00</td>\n      <td>18.00</td>\n      <td>18.00</td>\n      <td>18.00</td>\n      <td>126.00</td>\n      <td>136.00</td>\n      <td>175.00</td>\n      <td>26.00</td>\n      <td>166.00</td>\n      <td>255.00</td>\n      <td>...</td>\n      <td>-</td>\n      <td>-</td>\n      <td>-</td>\n      <td>-</td>\n      <td>-</td>\n      <td>-</td>\n      <td>-</td>\n      <td>-</td>\n      <td>-</td>\n      <td>-</td>\n    </tr>\n    <tr>\n      <th>60003</th>\n      <td>-</td>\n      <td>-</td>\n      <td>-</td>\n      <td>-</td>\n      <td>-</td>\n      <td>-</td>\n      <td>-</td>\n      <td>-</td>\n      <td>-</td>\n      <td>-</td>\n      <td>...</td>\n      <td>133.00</td>\n      <td>11.00</td>\n      <td>136.00</td>\n      <td>253.00</td>\n      <td>253.00</td>\n      <td>253.00</td>\n      <td>212.00</td>\n      <td>135.00</td>\n      <td>132.00</td>\n      <td>16.00</td>\n    </tr>\n  </tbody>\n</table>\n<p>5 rows × 249 columns</p>\n</div>"
     },
     "execution_count": 117,
     "metadata": {},
     "output_type": "execute_result"
    }
   ],
   "source": [
    "pd.set_option('display.float_format', lambda d: '-' if abs(\n",
    "    d) < 10 ** -12 else f'{d:.02f}')  # Format Pandas DataFrame visualization for easier reading\n",
    "unshifted = pd.DataFrame(X_train.iloc[0]).transpose().round()  # take first number in MNIST as an example\n",
    "shift_comparison_sample = pd.concat(\n",
    "    [unshifted, X_train[60000:60004].round()])  # concatenate shifted images of the first image\n",
    "shift_comparison_sample.loc[:,\n",
    "~(shift_comparison_sample == 0).all(axis=0)]  # select columns with at least one non-zero row"
   ],
   "metadata": {
    "collapsed": false,
    "pycharm": {
     "name": "#%%\n"
    }
   }
  },
  {
   "cell_type": "code",
   "execution_count": 118,
   "outputs": [],
   "source": [
    "from src.hands_on_ml.chapter_3 import visual"
   ],
   "metadata": {
    "collapsed": false,
    "pycharm": {
     "name": "#%%\n"
    }
   }
  },
  {
   "cell_type": "code",
   "execution_count": 158,
   "outputs": [
    {
     "data": {
      "text/plain": "<Figure size 432x288 with 1 Axes>",
      "image/png": "[encoded data removed]"
     },
     "metadata": {
      "needs_background": "light"
     },
     "output_type": "display_data"
    },
    {
     "data": {
      "text/plain": "<Figure size 432x288 with 1 Axes>",
      "image/png": "[encoded data removed]"
     },
     "metadata": {
      "needs_background": "light"
     },
     "output_type": "display_data"
    }
   ],
   "source": [
    "visual.plot_mnist_sample(X_train.iloc[0].values)\n",
    "visual.plot_mnist_sample(X_train.iloc[60002].values)"
   ],
   "metadata": {
    "collapsed": false,
    "pycharm": {
     "name": "#%%\n"
    }
   }
  },
  {
   "cell_type": "code",
   "execution_count": 127,
   "outputs": [],
   "source": [
    "from sklearn.neighbors import KNeighborsClassifier"
   ],
   "metadata": {
    "collapsed": false,
    "pycharm": {
     "name": "#%%\n"
    }
   }
  },
  {
   "cell_type": "code",
   "execution_count": 152,
   "outputs": [
    {
     "data": {
      "text/plain": "KNeighborsClassifier(n_neighbors=4, weights='distance')"
     },
     "execution_count": 152,
     "metadata": {},
     "output_type": "execute_result"
    }
   ],
   "source": [
    "knn_clf = KNeighborsClassifier(n_neighbors=4,\n",
    "                               weights='distance')  # Hyperparameters for the best estimator found in Exercise 1\n",
    "knn_clf.fit(X_train, y_train)"
   ],
   "metadata": {
    "collapsed": false,
    "pycharm": {
     "name": "#%%\n"
    }
   }
  },
  {
   "cell_type": "code",
   "execution_count": 159,
   "outputs": [],
   "source": [
    "y_test_pred = knn_clf.predict(X_test)"
   ],
   "metadata": {
    "collapsed": false,
    "pycharm": {
     "name": "#%%\n"
    }
   }
  },
  {
   "cell_type": "code",
   "execution_count": 160,
   "outputs": [],
   "source": [
    "from sklearn.metrics import accuracy_score"
   ],
   "metadata": {
    "collapsed": false,
    "pycharm": {
     "name": "#%%\n"
    }
   }
  },
  {
   "cell_type": "code",
   "execution_count": 161,
   "outputs": [
    {
     "data": {
      "text/plain": "0.9743"
     },
     "execution_count": 161,
     "metadata": {},
     "output_type": "execute_result"
    }
   ],
   "source": [
    "accuracy_score(y_test, y_test_pred)"
   ],
   "metadata": {
    "collapsed": false,
    "pycharm": {
     "name": "#%%\n"
    }
   }
  },
  {
   "cell_type": "code",
   "execution_count": null,
   "outputs": [],
   "source": [],
   "metadata": {
    "collapsed": false,
    "pycharm": {
     "name": "#%%\n"
    }
   }
  }
 ],
 "metadata": {
  "kernelspec": {
   "display_name": "Python 3",
   "language": "python",
   "name": "python3"
  },
  "language_info": {
   "codemirror_mode": {
    "name": "ipython",
    "version": 2
   },
   "file_extension": ".py",
   "mimetype": "text/x-python",
   "name": "python",
   "nbconvert_exporter": "python",
   "pygments_lexer": "ipython2",
   "version": "2.7.6"
  }
 },
 "nbformat": 4,
 "nbformat_minor": 0
}