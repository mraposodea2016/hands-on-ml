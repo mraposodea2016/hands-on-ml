{
 "cells": [
  {
   "cell_type": "code",
   "execution_count": 2,
   "metadata": {
    "collapsed": true,
    "ExecuteTime": {
     "end_time": "2023-05-18T12:02:57.800130Z",
     "start_time": "2023-05-18T12:02:57.787679Z"
    }
   },
   "outputs": [],
   "source": [
    "from sklearn.datasets import fetch_openml"
   ]
  },
  {
   "cell_type": "code",
   "execution_count": null,
   "outputs": [],
   "source": [
    "mnist = fetch_openml('mnist_784', version=1)"
   ],
   "metadata": {
    "collapsed": false,
    "pycharm": {
     "name": "#%%\n"
    },
    "is_executing": true,
    "ExecuteTime": {
     "start_time": "2023-05-18T12:11:09.653116Z"
    }
   }
  },
  {
   "cell_type": "code",
   "execution_count": 4,
   "outputs": [],
   "source": [
    "X, y = mnist['data'], mnist['target']\n",
    "X_train, X_test, y_train, y_test = X[:60000], X[60000:], y[:60000], y[60000:]"
   ],
   "metadata": {
    "collapsed": false,
    "pycharm": {
     "name": "#%%\n"
    }
   }
  },
  {
   "cell_type": "code",
   "execution_count": 5,
   "outputs": [],
   "source": [
    "from sklearn.neighbors import KNeighborsClassifier"
   ],
   "metadata": {
    "collapsed": false,
    "pycharm": {
     "name": "#%%\n"
    }
   }
  },
  {
   "cell_type": "code",
   "execution_count": 6,
   "outputs": [
    {
     "data": {
      "text/plain": "KNeighborsClassifier(n_neighbors=3)"
     },
     "execution_count": 6,
     "metadata": {},
     "output_type": "execute_result"
    }
   ],
   "source": [
    "knn_clf = KNeighborsClassifier(n_neighbors=3,\n",
    "                               weights='uniform')\n",
    "knn_clf.fit(X_train, y_train)"
   ],
   "metadata": {
    "collapsed": false,
    "pycharm": {
     "name": "#%%\n"
    }
   }
  },
  {
   "cell_type": "code",
   "execution_count": 7,
   "outputs": [],
   "source": [
    "from sklearn.model_selection import GridSearchCV"
   ],
   "metadata": {
    "collapsed": false,
    "pycharm": {
     "name": "#%%\n"
    }
   }
  },
  {
   "cell_type": "code",
   "execution_count": 8,
   "outputs": [
    {
     "name": "stdout",
     "output_type": "stream",
     "text": [
      "Fitting 5 folds for each of 8 candidates, totalling 40 fits\n",
      "[CV] END .....................n_neighbors=1, weights=uniform; total time=  11.4s\n",
      "[CV] END .....................n_neighbors=1, weights=uniform; total time=  11.0s\n",
      "[CV] END .....................n_neighbors=1, weights=uniform; total time=  11.2s\n",
      "[CV] END .....................n_neighbors=1, weights=uniform; total time=  11.2s\n",
      "[CV] END .....................n_neighbors=1, weights=uniform; total time=  11.3s\n",
      "[CV] END ....................n_neighbors=1, weights=distance; total time=  11.7s\n",
      "[CV] END ....................n_neighbors=1, weights=distance; total time=  10.8s\n",
      "[CV] END ....................n_neighbors=1, weights=distance; total time=  11.1s\n",
      "[CV] END ....................n_neighbors=1, weights=distance; total time=  10.8s\n",
      "[CV] END ....................n_neighbors=1, weights=distance; total time=  11.3s\n",
      "[CV] END .....................n_neighbors=2, weights=uniform; total time=  13.8s\n",
      "[CV] END .....................n_neighbors=2, weights=uniform; total time=  13.9s\n",
      "[CV] END .....................n_neighbors=2, weights=uniform; total time=  14.1s\n",
      "[CV] END .....................n_neighbors=2, weights=uniform; total time=  13.9s\n",
      "[CV] END .....................n_neighbors=2, weights=uniform; total time=  14.6s\n",
      "[CV] END ....................n_neighbors=2, weights=distance; total time=  13.8s\n",
      "[CV] END ....................n_neighbors=2, weights=distance; total time=  14.2s\n",
      "[CV] END ....................n_neighbors=2, weights=distance; total time=  14.0s\n",
      "[CV] END ....................n_neighbors=2, weights=distance; total time=  14.0s\n",
      "[CV] END ....................n_neighbors=2, weights=distance; total time=  13.7s\n",
      "[CV] END .....................n_neighbors=3, weights=uniform; total time=  17.2s\n",
      "[CV] END .....................n_neighbors=3, weights=uniform; total time=  16.9s\n",
      "[CV] END .....................n_neighbors=3, weights=uniform; total time=  16.8s\n",
      "[CV] END .....................n_neighbors=3, weights=uniform; total time=  16.8s\n",
      "[CV] END .....................n_neighbors=3, weights=uniform; total time=  17.7s\n",
      "[CV] END ....................n_neighbors=3, weights=distance; total time=  19.2s\n",
      "[CV] END ....................n_neighbors=3, weights=distance; total time=  21.7s\n",
      "[CV] END ....................n_neighbors=3, weights=distance; total time=  18.0s\n",
      "[CV] END ....................n_neighbors=3, weights=distance; total time=  17.2s\n",
      "[CV] END ....................n_neighbors=3, weights=distance; total time=  18.4s\n",
      "[CV] END .....................n_neighbors=4, weights=uniform; total time=  16.2s\n",
      "[CV] END .....................n_neighbors=4, weights=uniform; total time=  14.7s\n",
      "[CV] END .....................n_neighbors=4, weights=uniform; total time=  16.4s\n",
      "[CV] END .....................n_neighbors=4, weights=uniform; total time=  16.1s\n",
      "[CV] END .....................n_neighbors=4, weights=uniform; total time=  14.8s\n",
      "[CV] END ....................n_neighbors=4, weights=distance; total time=  14.5s\n",
      "[CV] END ....................n_neighbors=4, weights=distance; total time=  13.8s\n",
      "[CV] END ....................n_neighbors=4, weights=distance; total time=  13.2s\n",
      "[CV] END ....................n_neighbors=4, weights=distance; total time=  15.9s\n",
      "[CV] END ....................n_neighbors=4, weights=distance; total time=  18.6s\n"
     ]
    },
    {
     "data": {
      "text/plain": "GridSearchCV(estimator=KNeighborsClassifier(n_neighbors=3),\n             param_grid={'n_neighbors': [1, 2, 3, 4],\n                         'weights': ['uniform', 'distance']},\n             verbose=2)"
     },
     "execution_count": 8,
     "metadata": {},
     "output_type": "execute_result"
    }
   ],
   "source": [
    "params = {'n_neighbors': list(range(1,5)),\n",
    "          'weights': ['uniform', 'distance']}\n",
    "clf = GridSearchCV(knn_clf, params, verbose=2)\n",
    "clf.fit(X_train, y_train)"
   ],
   "metadata": {
    "collapsed": false,
    "pycharm": {
     "name": "#%%\n"
    }
   }
  },
  {
   "cell_type": "code",
   "execution_count": 17,
   "outputs": [
    {
     "data": {
      "text/plain": "KNeighborsClassifier(n_neighbors=4, weights='distance')"
     },
     "execution_count": 17,
     "metadata": {},
     "output_type": "execute_result"
    }
   ],
   "source": [
    "best_clf = clf.best_estimator_\n",
    "best_clf"
   ],
   "metadata": {
    "collapsed": false,
    "pycharm": {
     "name": "#%%\n"
    }
   }
  },
  {
   "cell_type": "code",
   "execution_count": 18,
   "outputs": [],
   "source": [
    "y_test_pred = best_clf.predict(X_test)"
   ],
   "metadata": {
    "collapsed": false,
    "pycharm": {
     "name": "#%%\n"
    }
   }
  },
  {
   "cell_type": "code",
   "execution_count": 14,
   "outputs": [],
   "source": [
    "from sklearn.metrics import accuracy_score"
   ],
   "metadata": {
    "collapsed": false,
    "pycharm": {
     "name": "#%%\n"
    }
   }
  },
  {
   "cell_type": "code",
   "execution_count": 19,
   "outputs": [
    {
     "data": {
      "text/plain": "0.9714"
     },
     "execution_count": 19,
     "metadata": {},
     "output_type": "execute_result"
    }
   ],
   "source": [
    "accuracy_score(y_test, y_test_pred)"
   ],
   "metadata": {
    "collapsed": false,
    "pycharm": {
     "name": "#%%\n"
    }
   }
  },
  {
   "cell_type": "code",
   "execution_count": null,
   "outputs": [],
   "source": [],
   "metadata": {
    "collapsed": false,
    "pycharm": {
     "name": "#%%\n"
    }
   }
  }
 ],
 "metadata": {
  "kernelspec": {
   "display_name": "Python 3",
   "language": "python",
   "name": "python3"
  },
  "language_info": {
   "codemirror_mode": {
    "name": "ipython",
    "version": 2
   },
   "file_extension": ".py",
   "mimetype": "text/x-python",
   "name": "python",
   "nbconvert_exporter": "python",
   "pygments_lexer": "ipython2",
   "version": "2.7.6"
  }
 },
 "nbformat": 4,
 "nbformat_minor": 0
}
