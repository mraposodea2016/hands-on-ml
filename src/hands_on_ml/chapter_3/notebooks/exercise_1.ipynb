{
 "cells": [
  {
   "cell_type": "code",
   "execution_count": 1,
   "metadata": {
    "collapsed": true
   },
   "outputs": [],
   "source": [
    "from sklearn.datasets import fetch_openml"
   ]
  },
  {
   "cell_type": "code",
   "execution_count": 2,
   "outputs": [],
   "source": [
    "mnist = fetch_openml('mnist_784', version=1)"
   ],
   "metadata": {
    "collapsed": false,
    "pycharm": {
     "name": "#%%\n"
    }
   }
  },
  {
   "cell_type": "code",
   "execution_count": 3,
   "outputs": [],
   "source": [
    "X, y = mnist['data'], mnist['target']\n",
    "X_train, X_test, y_train, y_test = X[:60000], X[60000:], y[:60000], y[60000:]"
   ],
   "metadata": {
    "collapsed": false,
    "pycharm": {
     "name": "#%%\n"
    }
   }
  },
  {
   "cell_type": "code",
   "execution_count": 4,
   "outputs": [],
   "source": [
    "from sklearn.neighbors import KNeighborsClassifier"
   ],
   "metadata": {
    "collapsed": false,
    "pycharm": {
     "name": "#%%\n"
    }
   }
  },
  {
   "cell_type": "code",
   "execution_count": 5,
   "outputs": [
    {
     "data": {
      "text/plain": "KNeighborsClassifier(n_neighbors=3)"
     },
     "execution_count": 5,
     "metadata": {},
     "output_type": "execute_result"
    }
   ],
   "source": [
    "knn_clf = KNeighborsClassifier(n_neighbors=3,\n",
    "                               weights='uniform')\n",
    "knn_clf.fit(X_train, y_train)"
   ],
   "metadata": {
    "collapsed": false,
    "pycharm": {
     "name": "#%%\n"
    }
   }
  },
  {
   "cell_type": "code",
   "execution_count": 6,
   "outputs": [],
   "source": [
    "from sklearn.model_selection import GridSearchCV"
   ],
   "metadata": {
    "collapsed": false,
    "pycharm": {
     "name": "#%%\n"
    }
   }
  },
  {
   "cell_type": "code",
   "execution_count": 7,
   "outputs": [
    {
     "name": "stdout",
     "output_type": "stream",
     "text": [
      "Fitting 5 folds for each of 18 candidates, totalling 90 fits\n",
      "[CV] END .....................n_neighbors=1, weights=uniform; total time=  13.3s\n",
      "[CV] END .....................n_neighbors=1, weights=uniform; total time=  12.4s\n",
      "[CV] END .....................n_neighbors=1, weights=uniform; total time=  12.8s\n",
      "[CV] END .....................n_neighbors=1, weights=uniform; total time=  11.6s\n",
      "[CV] END .....................n_neighbors=1, weights=uniform; total time=  11.2s\n",
      "[CV] END ....................n_neighbors=1, weights=distance; total time=  11.5s\n",
      "[CV] END ....................n_neighbors=1, weights=distance; total time=  12.1s\n",
      "[CV] END ....................n_neighbors=1, weights=distance; total time=  11.5s\n",
      "[CV] END ....................n_neighbors=1, weights=distance; total time=  12.2s\n",
      "[CV] END ....................n_neighbors=1, weights=distance; total time=  11.4s\n",
      "[CV] END .....................n_neighbors=2, weights=uniform; total time=  15.7s\n",
      "[CV] END .....................n_neighbors=2, weights=uniform; total time=  20.8s\n",
      "[CV] END .....................n_neighbors=2, weights=uniform; total time=  33.8s\n",
      "[CV] END .....................n_neighbors=2, weights=uniform; total time=  25.4s\n",
      "[CV] END .....................n_neighbors=2, weights=uniform; total time=  24.1s\n",
      "[CV] END ....................n_neighbors=2, weights=distance; total time=  22.5s\n",
      "[CV] END ....................n_neighbors=2, weights=distance; total time=  16.3s\n",
      "[CV] END ....................n_neighbors=2, weights=distance; total time=  14.9s\n",
      "[CV] END ....................n_neighbors=2, weights=distance; total time=  15.0s\n",
      "[CV] END ....................n_neighbors=2, weights=distance; total time=  15.6s\n",
      "[CV] END .....................n_neighbors=3, weights=uniform; total time=  18.8s\n",
      "[CV] END .....................n_neighbors=3, weights=uniform; total time=  17.8s\n",
      "[CV] END .....................n_neighbors=3, weights=uniform; total time=  17.6s\n",
      "[CV] END .....................n_neighbors=3, weights=uniform; total time=  18.8s\n",
      "[CV] END .....................n_neighbors=3, weights=uniform; total time=  18.4s\n",
      "[CV] END ....................n_neighbors=3, weights=distance; total time=  19.2s\n",
      "[CV] END ....................n_neighbors=3, weights=distance; total time=  19.0s\n",
      "[CV] END ....................n_neighbors=3, weights=distance; total time=  18.5s\n",
      "[CV] END ....................n_neighbors=3, weights=distance; total time=  19.2s\n",
      "[CV] END ....................n_neighbors=3, weights=distance; total time=  18.6s\n",
      "[CV] END .....................n_neighbors=4, weights=uniform; total time=  13.9s\n",
      "[CV] END .....................n_neighbors=4, weights=uniform; total time=  14.1s\n",
      "[CV] END .....................n_neighbors=4, weights=uniform; total time=  14.7s\n",
      "[CV] END .....................n_neighbors=4, weights=uniform; total time=  13.4s\n",
      "[CV] END .....................n_neighbors=4, weights=uniform; total time=  16.4s\n",
      "[CV] END ....................n_neighbors=4, weights=distance; total time=  13.5s\n",
      "[CV] END ....................n_neighbors=4, weights=distance; total time=  13.1s\n",
      "[CV] END ....................n_neighbors=4, weights=distance; total time=  13.1s\n",
      "[CV] END ....................n_neighbors=4, weights=distance; total time=  13.9s\n",
      "[CV] END ....................n_neighbors=4, weights=distance; total time=  13.3s\n",
      "[CV] END .....................n_neighbors=5, weights=uniform; total time=  14.3s\n",
      "[CV] END .....................n_neighbors=5, weights=uniform; total time=  14.6s\n",
      "[CV] END .....................n_neighbors=5, weights=uniform; total time=  14.3s\n",
      "[CV] END .....................n_neighbors=5, weights=uniform; total time=  15.4s\n",
      "[CV] END .....................n_neighbors=5, weights=uniform; total time=  14.6s\n",
      "[CV] END ....................n_neighbors=5, weights=distance; total time=  14.4s\n",
      "[CV] END ....................n_neighbors=5, weights=distance; total time=  13.0s\n",
      "[CV] END ....................n_neighbors=5, weights=distance; total time=  13.4s\n",
      "[CV] END ....................n_neighbors=5, weights=distance; total time=  14.4s\n",
      "[CV] END ....................n_neighbors=5, weights=distance; total time=  15.0s\n",
      "[CV] END .....................n_neighbors=6, weights=uniform; total time=  14.6s\n",
      "[CV] END .....................n_neighbors=6, weights=uniform; total time=  15.3s\n",
      "[CV] END .....................n_neighbors=6, weights=uniform; total time=  14.6s\n",
      "[CV] END .....................n_neighbors=6, weights=uniform; total time=  13.8s\n",
      "[CV] END .....................n_neighbors=6, weights=uniform; total time=  15.1s\n",
      "[CV] END ....................n_neighbors=6, weights=distance; total time=  14.3s\n",
      "[CV] END ....................n_neighbors=6, weights=distance; total time=  15.8s\n",
      "[CV] END ....................n_neighbors=6, weights=distance; total time=  14.5s\n",
      "[CV] END ....................n_neighbors=6, weights=distance; total time=  18.2s\n",
      "[CV] END ....................n_neighbors=6, weights=distance; total time=  19.4s\n",
      "[CV] END .....................n_neighbors=7, weights=uniform; total time=  14.6s\n",
      "[CV] END .....................n_neighbors=7, weights=uniform; total time=  16.2s\n",
      "[CV] END .....................n_neighbors=7, weights=uniform; total time=  15.9s\n",
      "[CV] END .....................n_neighbors=7, weights=uniform; total time=  16.5s\n",
      "[CV] END .....................n_neighbors=7, weights=uniform; total time=  16.7s\n",
      "[CV] END ....................n_neighbors=7, weights=distance; total time=  15.1s\n",
      "[CV] END ....................n_neighbors=7, weights=distance; total time=  14.6s\n",
      "[CV] END ....................n_neighbors=7, weights=distance; total time=  14.2s\n",
      "[CV] END ....................n_neighbors=7, weights=distance; total time=  15.3s\n",
      "[CV] END ....................n_neighbors=7, weights=distance; total time=  15.1s\n",
      "[CV] END .....................n_neighbors=8, weights=uniform; total time=  15.4s\n",
      "[CV] END .....................n_neighbors=8, weights=uniform; total time=  14.6s\n",
      "[CV] END .....................n_neighbors=8, weights=uniform; total time=  14.4s\n",
      "[CV] END .....................n_neighbors=8, weights=uniform; total time=  14.7s\n",
      "[CV] END .....................n_neighbors=8, weights=uniform; total time=  14.6s\n",
      "[CV] END ....................n_neighbors=8, weights=distance; total time=  15.2s\n",
      "[CV] END ....................n_neighbors=8, weights=distance; total time=  15.1s\n",
      "[CV] END ....................n_neighbors=8, weights=distance; total time=  14.5s\n",
      "[CV] END ....................n_neighbors=8, weights=distance; total time=  14.2s\n",
      "[CV] END ....................n_neighbors=8, weights=distance; total time=  14.8s\n",
      "[CV] END .....................n_neighbors=9, weights=uniform; total time=  13.9s\n",
      "[CV] END .....................n_neighbors=9, weights=uniform; total time=  14.8s\n",
      "[CV] END .....................n_neighbors=9, weights=uniform; total time=  14.8s\n",
      "[CV] END .....................n_neighbors=9, weights=uniform; total time=  15.5s\n",
      "[CV] END .....................n_neighbors=9, weights=uniform; total time=  15.7s\n",
      "[CV] END ....................n_neighbors=9, weights=distance; total time=  15.2s\n",
      "[CV] END ....................n_neighbors=9, weights=distance; total time=  15.0s\n",
      "[CV] END ....................n_neighbors=9, weights=distance; total time=  14.6s\n",
      "[CV] END ....................n_neighbors=9, weights=distance; total time=  16.1s\n",
      "[CV] END ....................n_neighbors=9, weights=distance; total time=  19.7s\n"
     ]
    },
    {
     "data": {
      "text/plain": "GridSearchCV(estimator=KNeighborsClassifier(n_neighbors=3),\n             param_grid={'n_neighbors': [1, 2, 3, 4, 5, 6, 7, 8, 9],\n                         'weights': ['uniform', 'distance']},\n             verbose=2)"
     },
     "execution_count": 7,
     "metadata": {},
     "output_type": "execute_result"
    }
   ],
   "source": [
    "params = {'n_neighbors': list(range(1,10)),\n",
    "          'weights': ['uniform', 'distance']}\n",
    "clf = GridSearchCV(knn_clf, params, verbose=2)\n",
    "clf.fit(X_train, y_train)"
   ],
   "metadata": {
    "collapsed": false,
    "pycharm": {
     "name": "#%%\n"
    }
   }
  },
  {
   "cell_type": "code",
   "execution_count": 8,
   "outputs": [],
   "source": [
    "best_clf = clf.best_estimator_"
   ],
   "metadata": {
    "collapsed": false,
    "pycharm": {
     "name": "#%%\n"
    }
   }
  },
  {
   "cell_type": "code",
   "execution_count": 9,
   "outputs": [],
   "source": [
    "from sklearn.model_selection import cross_val_predict"
   ],
   "metadata": {
    "collapsed": false,
    "pycharm": {
     "name": "#%%\n"
    }
   }
  },
  {
   "cell_type": "code",
   "execution_count": 10,
   "outputs": [
    {
     "name": "stderr",
     "output_type": "stream",
     "text": [
      "[Parallel(n_jobs=1)]: Using backend SequentialBackend with 1 concurrent workers.\n",
      "[Parallel(n_jobs=1)]: Done   1 out of   1 | elapsed:    0.7s remaining:    0.0s\n",
      "[Parallel(n_jobs=1)]: Done   3 out of   3 | elapsed:    2.2s finished\n"
     ]
    }
   ],
   "source": [
    "y_test_pred = cross_val_predict(best_clf, X_test, y_test,\n",
    "                                 cv=3,\n",
    "                                 verbose=2)"
   ],
   "metadata": {
    "collapsed": false,
    "pycharm": {
     "name": "#%%\n"
    }
   }
  },
  {
   "cell_type": "code",
   "execution_count": 11,
   "outputs": [],
   "source": [
    "from sklearn.metrics import precision_score"
   ],
   "metadata": {
    "collapsed": false,
    "pycharm": {
     "name": "#%%\n"
    }
   }
  },
  {
   "cell_type": "code",
   "execution_count": 12,
   "outputs": [
    {
     "data": {
      "text/plain": "0.9422015858141111"
     },
     "execution_count": 12,
     "metadata": {},
     "output_type": "execute_result"
    }
   ],
   "source": [
    "precision_score(y_test, y_test_pred, average='macro')"
   ],
   "metadata": {
    "collapsed": false,
    "pycharm": {
     "name": "#%%\n"
    }
   }
  },
  {
   "cell_type": "code",
   "execution_count": null,
   "outputs": [],
   "source": [],
   "metadata": {
    "collapsed": false,
    "pycharm": {
     "name": "#%%\n"
    }
   }
  }
 ],
 "metadata": {
  "kernelspec": {
   "display_name": "Python 3",
   "language": "python",
   "name": "python3"
  },
  "language_info": {
   "codemirror_mode": {
    "name": "ipython",
    "version": 2
   },
   "file_extension": ".py",
   "mimetype": "text/x-python",
   "name": "python",
   "nbconvert_exporter": "python",
   "pygments_lexer": "ipython2",
   "version": "2.7.6"
  }
 },
 "nbformat": 4,
 "nbformat_minor": 0
}