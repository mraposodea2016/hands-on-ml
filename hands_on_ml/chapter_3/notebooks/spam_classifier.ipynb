{
 "cells": [
  {
   "cell_type": "code",
   "execution_count": 16,
   "metadata": {
    "collapsed": true,
    "ExecuteTime": {
     "end_time": "2023-06-14T13:37:47.249895Z",
     "start_time": "2023-06-14T13:37:47.246943Z"
    }
   },
   "outputs": [],
   "source": [
    "import requests\n",
    "from bs4 import BeautifulSoup\n",
    "import tarfile\n",
    "import io\n",
    "import os\n",
    "from pathlib import Path"
   ]
  },
  {
   "cell_type": "code",
   "execution_count": 2,
   "outputs": [],
   "source": [
    "APACHE_SPAM_ASSASSIN = \"https://spamassassin.apache.org/old/publiccorpus\"\n",
    "response = requests.get(APACHE_SPAM_ASSASSIN)\n",
    "response.raise_for_status()"
   ],
   "metadata": {
    "collapsed": false,
    "ExecuteTime": {
     "end_time": "2023-06-14T13:26:28.618197Z",
     "start_time": "2023-06-14T13:26:28.570633Z"
    }
   }
  },
  {
   "cell_type": "code",
   "execution_count": 10,
   "outputs": [
    {
     "data": {
      "text/plain": "['20021010_easy_ham.tar.bz2',\n '20021010_hard_ham.tar.bz2',\n '20021010_spam.tar.bz2',\n '20030228_easy_ham.tar.bz2',\n '20030228_easy_ham_2.tar.bz2',\n '20030228_hard_ham.tar.bz2',\n '20030228_spam.tar.bz2',\n '20030228_spam_2.tar.bz2',\n '20050311_spam_2.tar.bz2']"
     },
     "execution_count": 10,
     "metadata": {},
     "output_type": "execute_result"
    }
   ],
   "source": [
    "soup = BeautifulSoup(response.text, 'html.parser')\n",
    "file_paths = [link.get('href') for link in soup.find_all('a')]\n",
    "file_paths = [path for path in file_paths if path.split('.')[-1] == 'bz2']\n",
    "file_paths"
   ],
   "metadata": {
    "collapsed": false,
    "ExecuteTime": {
     "end_time": "2023-06-14T13:31:52.676881Z",
     "start_time": "2023-06-14T13:31:52.673907Z"
    }
   }
  },
  {
   "cell_type": "code",
   "execution_count": 20,
   "outputs": [],
   "source": [
    "for file_path in file_paths:\n",
    "    response = requests.get(f\"{APACHE_SPAM_ASSASSIN}/{file_path}\")\n",
    "    response.raise_for_status()\n",
    "\n",
    "    file_object = io.BytesIO(response.content)\n",
    "    tar = tarfile.open(fileobj=file_object, mode=\"r:bz2\")\n",
    "\n",
    "    extract_dir = Path('../data')\n",
    "    extract_path = extract_dir.joinpath(Path(file_path))\n",
    "\n",
    "    extract_dir.mkdir(exist_ok=True)\n",
    "    tar.extractall(extract_path)\n",
    "\n",
    "    tar.close()"
   ],
   "metadata": {
    "collapsed": false,
    "ExecuteTime": {
     "end_time": "2023-06-14T13:43:41.986932Z",
     "start_time": "2023-06-14T13:43:22.522685Z"
    }
   }
  },
  {
   "cell_type": "code",
   "execution_count": 21,
   "outputs": [
    {
     "name": "stdout",
     "output_type": "stream",
     "text": [
      "Directory size: 60298644 bytes\n"
     ]
    }
   ],
   "source": [
    "def get_directory_size(directory):\n",
    "    total = 0\n",
    "    for dirpath, dirnames, filenames in os.walk(directory):\n",
    "        for f in filenames:\n",
    "            fp = os.path.join(dirpath, f)\n",
    "            if not os.path.islink(fp):\n",
    "                total += os.path.getsize(fp)\n",
    "\n",
    "    return total\n",
    "\n",
    "size = get_directory_size(\"../data\")\n",
    "print(f\"Directory size: {size} bytes\")"
   ],
   "metadata": {
    "collapsed": false,
    "ExecuteTime": {
     "end_time": "2023-06-14T13:45:10.732862Z",
     "start_time": "2023-06-14T13:45:10.517137Z"
    }
   }
  },
  {
   "cell_type": "code",
   "execution_count": null,
   "outputs": [],
   "source": [],
   "metadata": {
    "collapsed": false
   }
  }
 ],
 "metadata": {
  "kernelspec": {
   "display_name": "Python 3",
   "language": "python",
   "name": "python3"
  },
  "language_info": {
   "codemirror_mode": {
    "name": "ipython",
    "version": 2
   },
   "file_extension": ".py",
   "mimetype": "text/x-python",
   "name": "python",
   "nbconvert_exporter": "python",
   "pygments_lexer": "ipython2",
   "version": "2.7.6"
  }
 },
 "nbformat": 4,
 "nbformat_minor": 0
}
