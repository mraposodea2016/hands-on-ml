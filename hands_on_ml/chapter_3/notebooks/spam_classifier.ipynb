{
 "cells": [
  {
   "cell_type": "markdown",
   "source": [
    "# Data Extraction"
   ],
   "metadata": {
    "collapsed": false
   }
  },
  {
   "cell_type": "code",
   "execution_count": 1,
   "outputs": [],
   "source": [
    "import io\n",
    "import os\n",
    "import re\n",
    "import tarfile\n",
    "from pathlib import Path\n",
    "\n",
    "import chardet\n",
    "import numpy as np\n",
    "import pandas as pd\n",
    "import requests\n",
    "from bs4 import BeautifulSoup\n",
    "from pyspark.sql import SparkSession"
   ],
   "metadata": {
    "collapsed": false,
    "ExecuteTime": {
     "end_time": "2023-06-19T19:48:21.928764Z",
     "start_time": "2023-06-19T19:48:20.058546Z"
    }
   }
  },
  {
   "cell_type": "code",
   "execution_count": 2,
   "outputs": [
    {
     "name": "stderr",
     "output_type": "stream",
     "text": [
      "23/06/19 16:48:23 WARN Utils: Your hostname, mr.local resolves to a loopback address: 127.0.0.1; using 192.168.15.7 instead (on interface en0)\n",
      "23/06/19 16:48:23 WARN Utils: Set SPARK_LOCAL_IP if you need to bind to another address\n",
      "Setting default log level to \"WARN\".\n",
      "To adjust logging level use sc.setLogLevel(newLevel). For SparkR, use setLogLevel(newLevel).\n",
      "23/06/19 16:48:24 WARN NativeCodeLoader: Unable to load native-hadoop library for your platform... using builtin-java classes where applicable\n"
     ]
    }
   ],
   "source": [
    "spark = SparkSession.builder.getOrCreate()\n",
    "spark.conf.set(\"spark.sql.parquet.enableVectorizedReader\", \"false\")"
   ],
   "metadata": {
    "collapsed": false,
    "ExecuteTime": {
     "end_time": "2023-06-19T19:48:26.216487Z",
     "start_time": "2023-06-19T19:48:21.927725Z"
    }
   }
  },
  {
   "cell_type": "code",
   "execution_count": 3,
   "outputs": [],
   "source": [
    "APACHE_SPAM_ASSASSIN = \"https://spamassassin.apache.org/old/publiccorpus\"\n",
    "DATA_FOLDER = '../data'"
   ],
   "metadata": {
    "collapsed": false,
    "ExecuteTime": {
     "end_time": "2023-06-19T19:48:26.220898Z",
     "start_time": "2023-06-19T19:48:26.217023Z"
    }
   }
  },
  {
   "cell_type": "code",
   "execution_count": 4,
   "outputs": [],
   "source": [
    "def pull_data():\n",
    "    response = requests.get(APACHE_SPAM_ASSASSIN)\n",
    "    response.raise_for_status()\n",
    "\n",
    "    soup = BeautifulSoup(response.text, 'html.parser')\n",
    "    file_paths = [link.get('href') for link in soup.find_all('a')]\n",
    "    file_paths = [path for path in file_paths if path.split('.')[-1] == 'bz2']\n",
    "\n",
    "    available_data = set(os.listdir(DATA_FOLDER))\n",
    "    file_paths = [path for path in file_paths if path not in available_data and path != 'corpus.parquet']\n",
    "\n",
    "    if len(file_paths) == 0:\n",
    "        print('No data to pull')\n",
    "\n",
    "    for file_path in file_paths:\n",
    "        print(f'Pulling {file_path}')\n",
    "        response = requests.get(f\"{APACHE_SPAM_ASSASSIN}/{file_path}\")\n",
    "        response.raise_for_status()\n",
    "\n",
    "        file_object = io.BytesIO(response.content)\n",
    "        tar = tarfile.open(fileobj=file_object, mode=\"r:bz2\")\n",
    "\n",
    "        extract_dir = Path(DATA_FOLDER)\n",
    "        extract_path = extract_dir.joinpath(Path(file_path))\n",
    "\n",
    "        extract_dir.mkdir(exist_ok=True)\n",
    "        tar.extractall(extract_path)\n",
    "\n",
    "        tar.close()\n",
    "\n",
    "    size = get_directory_size(\"../data\")\n",
    "    print(f\"Data directory size: {size} bytes\")\n",
    "\n",
    "\n",
    "def get_directory_size(directory):\n",
    "    total = 0\n",
    "    for dirpath, dirnames, filenames in os.walk(directory):\n",
    "        for f in filenames:\n",
    "            fp = os.path.join(dirpath, f)\n",
    "            if not os.path.islink(fp):\n",
    "                total += os.path.getsize(fp)\n",
    "\n",
    "    return total"
   ],
   "metadata": {
    "collapsed": false,
    "ExecuteTime": {
     "end_time": "2023-06-19T19:48:26.232828Z",
     "start_time": "2023-06-19T19:48:26.229691Z"
    }
   }
  },
  {
   "cell_type": "code",
   "execution_count": 10,
   "outputs": [
    {
     "name": "stdout",
     "output_type": "stream",
     "text": [
      "No data to pull\n",
      "Data directory size: 121604826 bytes\n"
     ]
    }
   ],
   "source": [
    "pull_data()"
   ],
   "metadata": {
    "collapsed": false,
    "ExecuteTime": {
     "end_time": "2023-06-15T00:57:47.341226Z",
     "start_time": "2023-06-15T00:57:46.943876Z"
    }
   }
  },
  {
   "cell_type": "code",
   "execution_count": 5,
   "outputs": [],
   "source": [
    "def parse_data():\n",
    "    successful_files = []\n",
    "    failed_files = []\n",
    "    corpus_df = pd.DataFrame(columns=['date', 'difficulty', 'category', 'collection', 'body'])\n",
    "    for dirpath, dirnames, filenames in os.walk(DATA_FOLDER):\n",
    "        print(dirpath)\n",
    "        for filename in filenames:\n",
    "            corpus_path = os.path.join(dirpath, filename)\n",
    "            corpus_df, successful_files, failed_files = incorporate(corpus_df, corpus_path, dirpath, successful_files,\n",
    "                                                                    failed_files)\n",
    "    return corpus_df, successful_files, failed_files\n",
    "\n",
    "\n",
    "def incorporate(df, corpus_path, dirpath, successful_files, failed_files):\n",
    "    rawdata = open(corpus_path, 'rb').read()\n",
    "    result = chardet.detect(rawdata)\n",
    "    encoding = result['encoding']\n",
    "\n",
    "    with open(corpus_path, 'r', encoding=encoding) as f:\n",
    "        [(date, *ids)] = re.findall(r'([\\d]{8})_([a-z]*)_?([a-z]*)_?([\\d]*)\\.tar\\.bz2.*',\n",
    "                                    dirpath)\n",
    "        [difficulty, category, collection] = parse_ids(ids)\n",
    "        try:\n",
    "            body = f.read()\n",
    "            row = pd.DataFrame({'date': date,\n",
    "                                'difficulty': difficulty,\n",
    "                                'category': category,\n",
    "                                'collection': collection,\n",
    "                                'body': body}, index=[0, 1, 2, 3, 4])\n",
    "            df = pd.concat([df, row], ignore_index=True)\n",
    "            successful_files.append(corpus_path)\n",
    "        except Exception as E:\n",
    "            print(E)\n",
    "            failed_files.append(corpus_path)\n",
    "    return df, successful_files, failed_files\n",
    "\n",
    "\n",
    "def parse_ids(ids):\n",
    "    cls, difficulty, collection = None, None, None\n",
    "    match ids:\n",
    "        case [cls, '', '']:\n",
    "            difficulty = None\n",
    "            collection = None\n",
    "        case [difficulty, cls, '']:\n",
    "            collection = None\n",
    "        case [difficulty, cls, collection]:\n",
    "            pass\n",
    "        case _:\n",
    "            pass\n",
    "\n",
    "    return [difficulty, cls, collection]\n",
    "\n",
    "\n",
    "def save_as_parquet(df):\n",
    "    spark_df = spark.createDataFrame(df)\n",
    "    spark_df.write.parquet(f'{DATA_FOLDER}/corpus.parquet')"
   ],
   "metadata": {
    "collapsed": false,
    "ExecuteTime": {
     "end_time": "2023-06-19T19:48:26.256507Z",
     "start_time": "2023-06-19T19:48:26.241536Z"
    }
   }
  },
  {
   "cell_type": "code",
   "execution_count": 6,
   "outputs": [
    {
     "name": "stderr",
     "output_type": "stream",
     "text": [
      "                                                                                \r"
     ]
    }
   ],
   "source": [
    "if 'corpus.parquet' in set(os.listdir(DATA_FOLDER)):\n",
    "    df = spark.read.parquet(f'{DATA_FOLDER}/corpus.parquet')\n",
    "    corpus_df = df.toPandas()\n",
    "else:\n",
    "    corpus_df, successful_files, failed_files = parse_data()\n",
    "    print(failed_files)\n",
    "    save_as_parquet(corpus_df)"
   ],
   "metadata": {
    "collapsed": false,
    "ExecuteTime": {
     "end_time": "2023-06-19T19:48:32.700661Z",
     "start_time": "2023-06-19T19:48:26.248372Z"
    }
   }
  },
  {
   "cell_type": "code",
   "execution_count": 7,
   "outputs": [
    {
     "data": {
      "text/plain": "           date difficulty category collection  \\\n0      20030228       hard      ham       None   \n1      20030228       hard      ham       None   \n2      20030228       hard      ham       None   \n3      20030228       hard      ham       None   \n4      20030228       hard      ham       None   \n...         ...        ...      ...        ...   \n53650  20030228       easy      ham       None   \n53651  20030228       easy      ham       None   \n53652  20030228       easy      ham       None   \n53653  20030228       easy      ham       None   \n53654  20030228       easy      ham       None   \n\n                                                    body  \n0      Return-Path: <bounce-lghtml-2534368@sprocket.l...  \n1      Return-Path: <bounce-lghtml-2534368@sprocket.l...  \n2      Return-Path: <bounce-lghtml-2534368@sprocket.l...  \n3      Return-Path: <bounce-lghtml-2534368@sprocket.l...  \n4      Return-Path: <bounce-lghtml-2534368@sprocket.l...  \n...                                                  ...  \n53650  From exmh-workers-admin@redhat.com  Tue Aug 27...  \n53651  From exmh-workers-admin@redhat.com  Tue Aug 27...  \n53652  From exmh-workers-admin@redhat.com  Tue Aug 27...  \n53653  From exmh-workers-admin@redhat.com  Tue Aug 27...  \n53654  From fork-admin@xent.com  Wed Sep 25 10:24:54 ...  \n\n[53655 rows x 5 columns]",
      "text/html": "<div>\n<style scoped>\n    .dataframe tbody tr th:only-of-type {\n        vertical-align: middle;\n    }\n\n    .dataframe tbody tr th {\n        vertical-align: top;\n    }\n\n    .dataframe thead th {\n        text-align: right;\n    }\n</style>\n<table border=\"1\" class=\"dataframe\">\n  <thead>\n    <tr style=\"text-align: right;\">\n      <th></th>\n      <th>date</th>\n      <th>difficulty</th>\n      <th>category</th>\n      <th>collection</th>\n      <th>body</th>\n    </tr>\n  </thead>\n  <tbody>\n    <tr>\n      <th>0</th>\n      <td>20030228</td>\n      <td>hard</td>\n      <td>ham</td>\n      <td>None</td>\n      <td>Return-Path: &lt;bounce-lghtml-2534368@sprocket.l...</td>\n    </tr>\n    <tr>\n      <th>1</th>\n      <td>20030228</td>\n      <td>hard</td>\n      <td>ham</td>\n      <td>None</td>\n      <td>Return-Path: &lt;bounce-lghtml-2534368@sprocket.l...</td>\n    </tr>\n    <tr>\n      <th>2</th>\n      <td>20030228</td>\n      <td>hard</td>\n      <td>ham</td>\n      <td>None</td>\n      <td>Return-Path: &lt;bounce-lghtml-2534368@sprocket.l...</td>\n    </tr>\n    <tr>\n      <th>3</th>\n      <td>20030228</td>\n      <td>hard</td>\n      <td>ham</td>\n      <td>None</td>\n      <td>Return-Path: &lt;bounce-lghtml-2534368@sprocket.l...</td>\n    </tr>\n    <tr>\n      <th>4</th>\n      <td>20030228</td>\n      <td>hard</td>\n      <td>ham</td>\n      <td>None</td>\n      <td>Return-Path: &lt;bounce-lghtml-2534368@sprocket.l...</td>\n    </tr>\n    <tr>\n      <th>...</th>\n      <td>...</td>\n      <td>...</td>\n      <td>...</td>\n      <td>...</td>\n      <td>...</td>\n    </tr>\n    <tr>\n      <th>53650</th>\n      <td>20030228</td>\n      <td>easy</td>\n      <td>ham</td>\n      <td>None</td>\n      <td>From exmh-workers-admin@redhat.com  Tue Aug 27...</td>\n    </tr>\n    <tr>\n      <th>53651</th>\n      <td>20030228</td>\n      <td>easy</td>\n      <td>ham</td>\n      <td>None</td>\n      <td>From exmh-workers-admin@redhat.com  Tue Aug 27...</td>\n    </tr>\n    <tr>\n      <th>53652</th>\n      <td>20030228</td>\n      <td>easy</td>\n      <td>ham</td>\n      <td>None</td>\n      <td>From exmh-workers-admin@redhat.com  Tue Aug 27...</td>\n    </tr>\n    <tr>\n      <th>53653</th>\n      <td>20030228</td>\n      <td>easy</td>\n      <td>ham</td>\n      <td>None</td>\n      <td>From exmh-workers-admin@redhat.com  Tue Aug 27...</td>\n    </tr>\n    <tr>\n      <th>53654</th>\n      <td>20030228</td>\n      <td>easy</td>\n      <td>ham</td>\n      <td>None</td>\n      <td>From fork-admin@xent.com  Wed Sep 25 10:24:54 ...</td>\n    </tr>\n  </tbody>\n</table>\n<p>53655 rows × 5 columns</p>\n</div>"
     },
     "execution_count": 7,
     "metadata": {},
     "output_type": "execute_result"
    }
   ],
   "source": [
    "corpus_df"
   ],
   "metadata": {
    "collapsed": false,
    "ExecuteTime": {
     "end_time": "2023-06-19T19:48:32.724801Z",
     "start_time": "2023-06-19T19:48:32.708188Z"
    }
   }
  },
  {
   "cell_type": "markdown",
   "source": [
    "# Preprocessing"
   ],
   "metadata": {
    "collapsed": false
   }
  },
  {
   "cell_type": "markdown",
   "source": [
    "## Categorical or Binary Features"
   ],
   "metadata": {
    "collapsed": false
   }
  },
  {
   "cell_type": "code",
   "execution_count": 8,
   "outputs": [],
   "source": [
    "def extract_headers(row):\n",
    "    row['has_headers'] = True\n",
    "    try:\n",
    "        [headers, body] = row['body'].split('\\n\\n', maxsplit=1)\n",
    "        header_rows = headers.split('\\n')\n",
    "        current_key = None\n",
    "        for h in header_rows:\n",
    "            row, current_key = parse_header(row, h, current_key)\n",
    "        row['body'] = body\n",
    "    except Exception as e:\n",
    "        row['header_error'] = e\n",
    "        row['has_headers'] = False\n",
    "    return row\n",
    "\n",
    "\n",
    "def parse_header(row, h, current_key):\n",
    "    match re.split(r\"([\\w\\-]+)\\:\\s*\", h):\n",
    "        case ['', key, value]:\n",
    "            row[key.lower()] = value\n",
    "            current_key = key.lower()\n",
    "        case [value]:\n",
    "            if current_key:\n",
    "                row[current_key] += value\n",
    "        case _:\n",
    "            pass\n",
    "    return row, current_key"
   ],
   "metadata": {
    "collapsed": false,
    "ExecuteTime": {
     "end_time": "2023-06-19T19:48:32.744471Z",
     "start_time": "2023-06-19T19:48:32.729071Z"
    }
   }
  },
  {
   "cell_type": "code",
   "execution_count": 9,
   "outputs": [],
   "source": [
    "preproc_df = corpus_df.drop_duplicates(subset='body')\n",
    "preproc_df = preproc_df.apply(extract_headers, axis=1)"
   ],
   "metadata": {
    "collapsed": false,
    "ExecuteTime": {
     "end_time": "2023-06-19T19:49:41.972911Z",
     "start_time": "2023-06-19T19:48:36.090389Z"
    }
   }
  },
  {
   "cell_type": "code",
   "execution_count": 10,
   "outputs": [],
   "source": [
    "reduced_preproc_df = preproc_df.dropna(thresh=1000, axis=1)"
   ],
   "metadata": {
    "collapsed": false,
    "ExecuteTime": {
     "end_time": "2023-06-19T19:49:42.152673Z",
     "start_time": "2023-06-19T19:49:42.006973Z"
    }
   }
  },
  {
   "cell_type": "code",
   "execution_count": 11,
   "outputs": [],
   "source": [
    "def extract_email_address(row, cols):\n",
    "    for col in cols:\n",
    "        if str(row[col]) and type(row[col]) != list:\n",
    "            row[col] = re.findall(r\"([^\\s\\<]+\\@[^\\s\\>]+)\", str(row[col])) or None\n",
    "    return row"
   ],
   "metadata": {
    "collapsed": false,
    "ExecuteTime": {
     "end_time": "2023-06-19T19:49:42.157628Z",
     "start_time": "2023-06-19T19:49:42.153038Z"
    }
   }
  },
  {
   "cell_type": "code",
   "execution_count": 12,
   "outputs": [],
   "source": [
    "envelope_cols = ['delivered-to', 'errors-to', 'from', 'in-reply-to', 'list-id', 'message-id', 'received', 'references',\n",
    "                 'reply-to', 'return-path', 'sender', 'to', 'x-beenthere']\n",
    "extracted_emails_df = reduced_preproc_df.apply(lambda r: extract_email_address(r, envelope_cols), axis=1)"
   ],
   "metadata": {
    "collapsed": false,
    "ExecuteTime": {
     "end_time": "2023-06-19T19:49:45.025662Z",
     "start_time": "2023-06-19T19:49:42.162620Z"
    }
   }
  },
  {
   "cell_type": "code",
   "execution_count": 13,
   "outputs": [],
   "source": [
    "matching_cols = [\n",
    "    ['delivered-to', 'to'],\n",
    "    ['errors-to', 'from'],\n",
    "    ['errors-to', 'return-path'],\n",
    "    ['from', 'reply-to'],\n",
    "    ['from', 'return-path'],\n",
    "    ['from', 'sender'],\n",
    "    ['x-beenthere', 'list-id']\n",
    "]\n",
    "\n",
    "\n",
    "def envelope_cols_match(row):\n",
    "    for [col1, col2] in matching_cols:\n",
    "        values_exist = row[col1] and row[col2]\n",
    "        if not values_exist:\n",
    "            return row\n",
    "        row[f'feat-match-{col1}-{col2}'] = 1 if set(row[col1]) == set(row[col2]) else 0\n",
    "    return row"
   ],
   "metadata": {
    "collapsed": false,
    "ExecuteTime": {
     "end_time": "2023-06-19T19:49:45.031615Z",
     "start_time": "2023-06-19T19:49:45.028840Z"
    }
   }
  },
  {
   "cell_type": "code",
   "execution_count": 14,
   "outputs": [],
   "source": [
    "matched_envelopes_df = extracted_emails_df.apply(envelope_cols_match, axis=1)"
   ],
   "metadata": {
    "collapsed": false,
    "ExecuteTime": {
     "end_time": "2023-06-19T19:49:56.060029Z",
     "start_time": "2023-06-19T19:49:45.032881Z"
    }
   }
  },
  {
   "cell_type": "code",
   "execution_count": 15,
   "outputs": [],
   "source": [
    "def get_feat_cols(df):\n",
    "    return [col for col in df.columns if re.match(r\"^feat\\-.*$\", col) is not None]"
   ],
   "metadata": {
    "collapsed": false,
    "ExecuteTime": {
     "end_time": "2023-06-19T19:49:56.060448Z",
     "start_time": "2023-06-19T19:49:56.058664Z"
    }
   }
  },
  {
   "cell_type": "code",
   "execution_count": 16,
   "outputs": [
    {
     "data": {
      "text/plain": "       feat-match-delivered-to-to  feat-match-errors-to-from  \\\ncount                 7760.000000                4569.000000   \nmean                     0.147938                   0.003502   \nstd                      0.355062                   0.059079   \nmin                      0.000000                   0.000000   \n25%                      0.000000                   0.000000   \n50%                      0.000000                   0.000000   \n75%                      0.000000                   0.000000   \nmax                      1.000000                   1.000000   \n\n       feat-match-errors-to-return-path  feat-match-from-reply-to  \\\ncount                       4568.000000               1662.000000   \nmean                           0.992557                  0.293020   \nstd                            0.085961                  0.455285   \nmin                            0.000000                  0.000000   \n25%                            1.000000                  0.000000   \n50%                            1.000000                  0.000000   \n75%                            1.000000                  1.000000   \nmax                            1.000000                  1.000000   \n\n       feat-match-from-return-path  feat-match-from-sender  \ncount                  1662.000000             1654.000000  \nmean                      0.010229                0.007860  \nstd                       0.100648                0.088333  \nmin                       0.000000                0.000000  \n25%                       0.000000                0.000000  \n50%                       0.000000                0.000000  \n75%                       0.000000                0.000000  \nmax                       1.000000                1.000000  ",
      "text/html": "<div>\n<style scoped>\n    .dataframe tbody tr th:only-of-type {\n        vertical-align: middle;\n    }\n\n    .dataframe tbody tr th {\n        vertical-align: top;\n    }\n\n    .dataframe thead th {\n        text-align: right;\n    }\n</style>\n<table border=\"1\" class=\"dataframe\">\n  <thead>\n    <tr style=\"text-align: right;\">\n      <th></th>\n      <th>feat-match-delivered-to-to</th>\n      <th>feat-match-errors-to-from</th>\n      <th>feat-match-errors-to-return-path</th>\n      <th>feat-match-from-reply-to</th>\n      <th>feat-match-from-return-path</th>\n      <th>feat-match-from-sender</th>\n    </tr>\n  </thead>\n  <tbody>\n    <tr>\n      <th>count</th>\n      <td>7760.000000</td>\n      <td>4569.000000</td>\n      <td>4568.000000</td>\n      <td>1662.000000</td>\n      <td>1662.000000</td>\n      <td>1654.000000</td>\n    </tr>\n    <tr>\n      <th>mean</th>\n      <td>0.147938</td>\n      <td>0.003502</td>\n      <td>0.992557</td>\n      <td>0.293020</td>\n      <td>0.010229</td>\n      <td>0.007860</td>\n    </tr>\n    <tr>\n      <th>std</th>\n      <td>0.355062</td>\n      <td>0.059079</td>\n      <td>0.085961</td>\n      <td>0.455285</td>\n      <td>0.100648</td>\n      <td>0.088333</td>\n    </tr>\n    <tr>\n      <th>min</th>\n      <td>0.000000</td>\n      <td>0.000000</td>\n      <td>0.000000</td>\n      <td>0.000000</td>\n      <td>0.000000</td>\n      <td>0.000000</td>\n    </tr>\n    <tr>\n      <th>25%</th>\n      <td>0.000000</td>\n      <td>0.000000</td>\n      <td>1.000000</td>\n      <td>0.000000</td>\n      <td>0.000000</td>\n      <td>0.000000</td>\n    </tr>\n    <tr>\n      <th>50%</th>\n      <td>0.000000</td>\n      <td>0.000000</td>\n      <td>1.000000</td>\n      <td>0.000000</td>\n      <td>0.000000</td>\n      <td>0.000000</td>\n    </tr>\n    <tr>\n      <th>75%</th>\n      <td>0.000000</td>\n      <td>0.000000</td>\n      <td>1.000000</td>\n      <td>1.000000</td>\n      <td>0.000000</td>\n      <td>0.000000</td>\n    </tr>\n    <tr>\n      <th>max</th>\n      <td>1.000000</td>\n      <td>1.000000</td>\n      <td>1.000000</td>\n      <td>1.000000</td>\n      <td>1.000000</td>\n      <td>1.000000</td>\n    </tr>\n  </tbody>\n</table>\n</div>"
     },
     "execution_count": 16,
     "metadata": {},
     "output_type": "execute_result"
    }
   ],
   "source": [
    "matched_envelopes_df[get_feat_cols(matched_envelopes_df)].describe()"
   ],
   "metadata": {
    "collapsed": false,
    "ExecuteTime": {
     "end_time": "2023-06-19T19:49:56.095040Z",
     "start_time": "2023-06-19T19:49:56.065590Z"
    }
   }
  },
  {
   "cell_type": "code",
   "execution_count": 17,
   "outputs": [],
   "source": [
    "message_ids = {}\n",
    "\n",
    "\n",
    "def duplicate_message_id(row):\n",
    "    if not row['message-id']:\n",
    "        matched_envelopes_df.loc[row.name, 'feat-duplicate-message-id'] = 0\n",
    "        return row\n",
    "\n",
    "    for message_id in row['message-id']:\n",
    "        if message_id not in message_ids:\n",
    "            message_ids[message_id] = row.name\n",
    "            matched_envelopes_df.loc[row.name, 'feat-duplicate-message-id'] = 0\n",
    "        else:\n",
    "            matched_envelopes_df.loc[message_ids[message_id], 'feat-duplicate-message-id'] = 1\n",
    "    return row\n",
    "\n",
    "\n",
    "matched_envelopes_df.apply(duplicate_message_id, axis=1)\n",
    "duplicate_messages_df = matched_envelopes_df"
   ],
   "metadata": {
    "collapsed": false,
    "ExecuteTime": {
     "end_time": "2023-06-19T19:49:57.608247Z",
     "start_time": "2023-06-19T19:49:56.092118Z"
    }
   }
  },
  {
   "cell_type": "code",
   "execution_count": 18,
   "outputs": [],
   "source": [
    "def prepare_for_encoding(row, col):\n",
    "    if pd.isna(row[col]):\n",
    "        return row\n",
    "\n",
    "    row[col] = row[col].lower()\n",
    "    row[col] = row[col].split(' ')[0]\n",
    "    return row\n",
    "\n",
    "\n",
    "def one_hot_encode(df, col):\n",
    "    cte_df = df.apply(lambda r: prepare_for_encoding(r, col), axis=1)\n",
    "    encoded_cte_df = pd.get_dummies(cte_df[col], prefix=f'feat-encoded-{col}', dtype=int)\n",
    "    return pd.concat([cte_df, encoded_cte_df], axis=1)\n",
    "\n",
    "\n",
    "with_encoded_cte_df = one_hot_encode(duplicate_messages_df, 'content-transfer-encoding')"
   ],
   "metadata": {
    "collapsed": false,
    "ExecuteTime": {
     "end_time": "2023-06-19T19:49:58.330905Z",
     "start_time": "2023-06-19T19:49:57.625977Z"
    }
   }
  },
  {
   "cell_type": "code",
   "execution_count": 19,
   "outputs": [
    {
     "data": {
      "text/plain": "       feat-match-delivered-to-to  feat-match-errors-to-from  \\\n0                             NaN                        NaN   \n5                             0.0                        NaN   \n10                            NaN                        NaN   \n15                            NaN                        NaN   \n20                            NaN                        NaN   \n...                           ...                        ...   \n53629                         0.0                        0.0   \n53634                         0.0                        NaN   \n53639                         0.0                        NaN   \n53644                         1.0                        0.0   \n53649                         0.0                        0.0   \n\n       feat-match-errors-to-return-path  feat-match-from-reply-to  \\\n0                                   NaN                       NaN   \n5                                   NaN                       NaN   \n10                                  NaN                       NaN   \n15                                  NaN                       NaN   \n20                                  NaN                       NaN   \n...                                 ...                       ...   \n53629                               1.0                       0.0   \n53634                               NaN                       NaN   \n53639                               NaN                       NaN   \n53644                               1.0                       NaN   \n53649                               1.0                       0.0   \n\n       feat-match-from-return-path  feat-match-from-sender  \\\n0                              NaN                     NaN   \n5                              NaN                     NaN   \n10                             NaN                     NaN   \n15                             NaN                     NaN   \n20                             NaN                     NaN   \n...                            ...                     ...   \n53629                          0.0                     0.0   \n53634                          NaN                     NaN   \n53639                          NaN                     NaN   \n53644                          NaN                     NaN   \n53649                          0.0                     0.0   \n\n       feat-duplicate-message-id  feat-encoded-content-transfer-encoding_7bit  \\\n0                            0.0                                            0   \n5                            1.0                                            1   \n10                           1.0                                            1   \n15                           1.0                                            0   \n20                           1.0                                            1   \n...                          ...                                          ...   \n53629                        NaN                                            0   \n53634                        NaN                                            0   \n53639                        NaN                                            0   \n53644                        NaN                                            1   \n53649                        NaN                                            1   \n\n       feat-encoded-content-transfer-encoding_8bit  \\\n0                                                0   \n5                                                0   \n10                                               0   \n15                                               0   \n20                                               0   \n...                                            ...   \n53629                                            0   \n53634                                            1   \n53639                                            0   \n53644                                            0   \n53649                                            0   \n\n       feat-encoded-content-transfer-encoding_base64  \\\n0                                                  0   \n5                                                  0   \n10                                                 0   \n15                                                 0   \n20                                                 0   \n...                                              ...   \n53629                                              0   \n53634                                              0   \n53639                                              0   \n53644                                              0   \n53649                                              0   \n\n       feat-encoded-content-transfer-encoding_binary  \\\n0                                                  0   \n5                                                  0   \n10                                                 0   \n15                                                 0   \n20                                                 0   \n...                                              ...   \n53629                                              0   \n53634                                              0   \n53639                                              0   \n53644                                              0   \n53649                                              0   \n\n       feat-encoded-content-transfer-encoding_quoted-printable  \\\n0                                                      0         \n5                                                      0         \n10                                                     0         \n15                                                     1         \n20                                                     0         \n...                                                  ...         \n53629                                                  0         \n53634                                                  0         \n53639                                                  0         \n53644                                                  0         \n53649                                                  0         \n\n       feat-encoded-precedence_bulk  feat-encoded-precedence_first-class  \\\n0                                 0                                    0   \n5                                 1                                    0   \n10                                0                                    0   \n15                                0                                    0   \n20                                1                                    0   \n...                             ...                                  ...   \n53629                             1                                    0   \n53634                             0                                    0   \n53639                             0                                    0   \n53644                             1                                    0   \n53649                             1                                    0   \n\n       feat-encoded-precedence_list  feat-encoded-precedence_normal  \n0                                 0                               0  \n5                                 0                               0  \n10                                0                               0  \n15                                0                               0  \n20                                0                               0  \n...                             ...                             ...  \n53629                             0                               0  \n53634                             0                               0  \n53639                             0                               0  \n53644                             0                               0  \n53649                             0                               0  \n\n[9154 rows x 16 columns]",
      "text/html": "<div>\n<style scoped>\n    .dataframe tbody tr th:only-of-type {\n        vertical-align: middle;\n    }\n\n    .dataframe tbody tr th {\n        vertical-align: top;\n    }\n\n    .dataframe thead th {\n        text-align: right;\n    }\n</style>\n<table border=\"1\" class=\"dataframe\">\n  <thead>\n    <tr style=\"text-align: right;\">\n      <th></th>\n      <th>feat-match-delivered-to-to</th>\n      <th>feat-match-errors-to-from</th>\n      <th>feat-match-errors-to-return-path</th>\n      <th>feat-match-from-reply-to</th>\n      <th>feat-match-from-return-path</th>\n      <th>feat-match-from-sender</th>\n      <th>feat-duplicate-message-id</th>\n      <th>feat-encoded-content-transfer-encoding_7bit</th>\n      <th>feat-encoded-content-transfer-encoding_8bit</th>\n      <th>feat-encoded-content-transfer-encoding_base64</th>\n      <th>feat-encoded-content-transfer-encoding_binary</th>\n      <th>feat-encoded-content-transfer-encoding_quoted-printable</th>\n      <th>feat-encoded-precedence_bulk</th>\n      <th>feat-encoded-precedence_first-class</th>\n      <th>feat-encoded-precedence_list</th>\n      <th>feat-encoded-precedence_normal</th>\n    </tr>\n  </thead>\n  <tbody>\n    <tr>\n      <th>0</th>\n      <td>NaN</td>\n      <td>NaN</td>\n      <td>NaN</td>\n      <td>NaN</td>\n      <td>NaN</td>\n      <td>NaN</td>\n      <td>0.0</td>\n      <td>0</td>\n      <td>0</td>\n      <td>0</td>\n      <td>0</td>\n      <td>0</td>\n      <td>0</td>\n      <td>0</td>\n      <td>0</td>\n      <td>0</td>\n    </tr>\n    <tr>\n      <th>5</th>\n      <td>0.0</td>\n      <td>NaN</td>\n      <td>NaN</td>\n      <td>NaN</td>\n      <td>NaN</td>\n      <td>NaN</td>\n      <td>1.0</td>\n      <td>1</td>\n      <td>0</td>\n      <td>0</td>\n      <td>0</td>\n      <td>0</td>\n      <td>1</td>\n      <td>0</td>\n      <td>0</td>\n      <td>0</td>\n    </tr>\n    <tr>\n      <th>10</th>\n      <td>NaN</td>\n      <td>NaN</td>\n      <td>NaN</td>\n      <td>NaN</td>\n      <td>NaN</td>\n      <td>NaN</td>\n      <td>1.0</td>\n      <td>1</td>\n      <td>0</td>\n      <td>0</td>\n      <td>0</td>\n      <td>0</td>\n      <td>0</td>\n      <td>0</td>\n      <td>0</td>\n      <td>0</td>\n    </tr>\n    <tr>\n      <th>15</th>\n      <td>NaN</td>\n      <td>NaN</td>\n      <td>NaN</td>\n      <td>NaN</td>\n      <td>NaN</td>\n      <td>NaN</td>\n      <td>1.0</td>\n      <td>0</td>\n      <td>0</td>\n      <td>0</td>\n      <td>0</td>\n      <td>1</td>\n      <td>0</td>\n      <td>0</td>\n      <td>0</td>\n      <td>0</td>\n    </tr>\n    <tr>\n      <th>20</th>\n      <td>NaN</td>\n      <td>NaN</td>\n      <td>NaN</td>\n      <td>NaN</td>\n      <td>NaN</td>\n      <td>NaN</td>\n      <td>1.0</td>\n      <td>1</td>\n      <td>0</td>\n      <td>0</td>\n      <td>0</td>\n      <td>0</td>\n      <td>1</td>\n      <td>0</td>\n      <td>0</td>\n      <td>0</td>\n    </tr>\n    <tr>\n      <th>...</th>\n      <td>...</td>\n      <td>...</td>\n      <td>...</td>\n      <td>...</td>\n      <td>...</td>\n      <td>...</td>\n      <td>...</td>\n      <td>...</td>\n      <td>...</td>\n      <td>...</td>\n      <td>...</td>\n      <td>...</td>\n      <td>...</td>\n      <td>...</td>\n      <td>...</td>\n      <td>...</td>\n    </tr>\n    <tr>\n      <th>53629</th>\n      <td>0.0</td>\n      <td>0.0</td>\n      <td>1.0</td>\n      <td>0.0</td>\n      <td>0.0</td>\n      <td>0.0</td>\n      <td>NaN</td>\n      <td>0</td>\n      <td>0</td>\n      <td>0</td>\n      <td>0</td>\n      <td>0</td>\n      <td>1</td>\n      <td>0</td>\n      <td>0</td>\n      <td>0</td>\n    </tr>\n    <tr>\n      <th>53634</th>\n      <td>0.0</td>\n      <td>NaN</td>\n      <td>NaN</td>\n      <td>NaN</td>\n      <td>NaN</td>\n      <td>NaN</td>\n      <td>NaN</td>\n      <td>0</td>\n      <td>1</td>\n      <td>0</td>\n      <td>0</td>\n      <td>0</td>\n      <td>0</td>\n      <td>0</td>\n      <td>0</td>\n      <td>0</td>\n    </tr>\n    <tr>\n      <th>53639</th>\n      <td>0.0</td>\n      <td>NaN</td>\n      <td>NaN</td>\n      <td>NaN</td>\n      <td>NaN</td>\n      <td>NaN</td>\n      <td>NaN</td>\n      <td>0</td>\n      <td>0</td>\n      <td>0</td>\n      <td>0</td>\n      <td>0</td>\n      <td>0</td>\n      <td>0</td>\n      <td>0</td>\n      <td>0</td>\n    </tr>\n    <tr>\n      <th>53644</th>\n      <td>1.0</td>\n      <td>0.0</td>\n      <td>1.0</td>\n      <td>NaN</td>\n      <td>NaN</td>\n      <td>NaN</td>\n      <td>NaN</td>\n      <td>1</td>\n      <td>0</td>\n      <td>0</td>\n      <td>0</td>\n      <td>0</td>\n      <td>1</td>\n      <td>0</td>\n      <td>0</td>\n      <td>0</td>\n    </tr>\n    <tr>\n      <th>53649</th>\n      <td>0.0</td>\n      <td>0.0</td>\n      <td>1.0</td>\n      <td>0.0</td>\n      <td>0.0</td>\n      <td>0.0</td>\n      <td>NaN</td>\n      <td>1</td>\n      <td>0</td>\n      <td>0</td>\n      <td>0</td>\n      <td>0</td>\n      <td>1</td>\n      <td>0</td>\n      <td>0</td>\n      <td>0</td>\n    </tr>\n  </tbody>\n</table>\n<p>9154 rows × 16 columns</p>\n</div>"
     },
     "execution_count": 19,
     "metadata": {},
     "output_type": "execute_result"
    }
   ],
   "source": [
    "with_encoded_precedence_df = one_hot_encode(with_encoded_cte_df, 'precedence')\n",
    "with_encoded_precedence_df[get_feat_cols(with_encoded_precedence_df)]"
   ],
   "metadata": {
    "collapsed": false,
    "ExecuteTime": {
     "end_time": "2023-06-19T19:49:59.046666Z",
     "start_time": "2023-06-19T19:49:58.335282Z"
    }
   }
  },
  {
   "cell_type": "code",
   "execution_count": 20,
   "outputs": [
    {
     "data": {
      "text/plain": "       feat-match-delivered-to-to  feat-match-errors-to-from  \\\n0                             NaN                        NaN   \n5                             0.0                        NaN   \n10                            NaN                        NaN   \n15                            NaN                        NaN   \n20                            NaN                        NaN   \n...                           ...                        ...   \n53629                         0.0                        0.0   \n53634                         0.0                        NaN   \n53639                         0.0                        NaN   \n53644                         1.0                        0.0   \n53649                         0.0                        0.0   \n\n       feat-match-errors-to-return-path  feat-match-from-reply-to  \\\n0                                   NaN                       NaN   \n5                                   NaN                       NaN   \n10                                  NaN                       NaN   \n15                                  NaN                       NaN   \n20                                  NaN                       NaN   \n...                                 ...                       ...   \n53629                               1.0                       0.0   \n53634                               NaN                       NaN   \n53639                               NaN                       NaN   \n53644                               1.0                       NaN   \n53649                               1.0                       0.0   \n\n       feat-match-from-return-path  feat-match-from-sender  \\\n0                              NaN                     NaN   \n5                              NaN                     NaN   \n10                             NaN                     NaN   \n15                             NaN                     NaN   \n20                             NaN                     NaN   \n...                            ...                     ...   \n53629                          0.0                     0.0   \n53634                          NaN                     NaN   \n53639                          NaN                     NaN   \n53644                          NaN                     NaN   \n53649                          0.0                     0.0   \n\n       feat-duplicate-message-id  feat-encoded-content-transfer-encoding_7bit  \\\n0                            0.0                                            0   \n5                            1.0                                            1   \n10                           1.0                                            1   \n15                           1.0                                            0   \n20                           1.0                                            1   \n...                          ...                                          ...   \n53629                        NaN                                            0   \n53634                        NaN                                            0   \n53639                        NaN                                            0   \n53644                        NaN                                            1   \n53649                        NaN                                            1   \n\n       feat-encoded-content-transfer-encoding_8bit  \\\n0                                                0   \n5                                                0   \n10                                               0   \n15                                               0   \n20                                               0   \n...                                            ...   \n53629                                            0   \n53634                                            1   \n53639                                            0   \n53644                                            0   \n53649                                            0   \n\n       feat-encoded-content-transfer-encoding_base64  ...  \\\n0                                                  0  ...   \n5                                                  0  ...   \n10                                                 0  ...   \n15                                                 0  ...   \n20                                                 0  ...   \n...                                              ...  ...   \n53629                                              0  ...   \n53634                                              0  ...   \n53639                                              0  ...   \n53644                                              0  ...   \n53649                                              0  ...   \n\n       feat-encoded-x-mailman-version_2.0.1  \\\n0                                         0   \n5                                         0   \n10                                        0   \n15                                        0   \n20                                        0   \n...                                     ...   \n53629                                     0   \n53634                                     0   \n53639                                     0   \n53644                                     0   \n53649                                     1   \n\n       feat-encoded-x-mailman-version_2.0.10  \\\n0                                          0   \n5                                          0   \n10                                         0   \n15                                         0   \n20                                         0   \n...                                      ...   \n53629                                      0   \n53634                                      0   \n53639                                      0   \n53644                                      0   \n53649                                      0   \n\n       feat-encoded-x-mailman-version_2.0.11  \\\n0                                          0   \n5                                          0   \n10                                         0   \n15                                         0   \n20                                         0   \n...                                      ...   \n53629                                      1   \n53634                                      0   \n53639                                      0   \n53644                                      1   \n53649                                      0   \n\n       feat-encoded-x-mailman-version_2.0.3  \\\n0                                         0   \n5                                         0   \n10                                        0   \n15                                        0   \n20                                        0   \n...                                     ...   \n53629                                     0   \n53634                                     0   \n53639                                     0   \n53644                                     0   \n53649                                     0   \n\n       feat-encoded-x-mailman-version_2.0.6  \\\n0                                         0   \n5                                         0   \n10                                        0   \n15                                        0   \n20                                        0   \n...                                     ...   \n53629                                     0   \n53634                                     0   \n53639                                     0   \n53644                                     0   \n53649                                     0   \n\n       feat-encoded-x-mailman-version_2.0.7  \\\n0                                         0   \n5                                         0   \n10                                        0   \n15                                        0   \n20                                        0   \n...                                     ...   \n53629                                     0   \n53634                                     0   \n53639                                     0   \n53644                                     0   \n53649                                     0   \n\n       feat-encoded-x-mailman-version_2.0.8  \\\n0                                         0   \n5                                         0   \n10                                        0   \n15                                        0   \n20                                        0   \n...                                     ...   \n53629                                     0   \n53634                                     0   \n53639                                     0   \n53644                                     0   \n53649                                     0   \n\n       feat-encoded-x-mailman-version_2.0.9-sf.net  \\\n0                                                0   \n5                                                0   \n10                                               0   \n15                                               0   \n20                                               0   \n...                                            ...   \n53629                                            0   \n53634                                            0   \n53639                                            0   \n53644                                            0   \n53649                                            0   \n\n       feat-encoded-x-mailman-version_2.1b5  \\\n0                                         0   \n5                                         0   \n10                                        0   \n15                                        0   \n20                                        0   \n...                                     ...   \n53629                                     0   \n53634                                     0   \n53639                                     0   \n53644                                     0   \n53649                                     0   \n\n       feat-encoded-x-mailman-version_2.1b5+  \n0                                          0  \n5                                          0  \n10                                         0  \n15                                         0  \n20                                         0  \n...                                      ...  \n53629                                      0  \n53634                                      0  \n53639                                      0  \n53644                                      0  \n53649                                      0  \n\n[9154 rows x 27 columns]",
      "text/html": "<div>\n<style scoped>\n    .dataframe tbody tr th:only-of-type {\n        vertical-align: middle;\n    }\n\n    .dataframe tbody tr th {\n        vertical-align: top;\n    }\n\n    .dataframe thead th {\n        text-align: right;\n    }\n</style>\n<table border=\"1\" class=\"dataframe\">\n  <thead>\n    <tr style=\"text-align: right;\">\n      <th></th>\n      <th>feat-match-delivered-to-to</th>\n      <th>feat-match-errors-to-from</th>\n      <th>feat-match-errors-to-return-path</th>\n      <th>feat-match-from-reply-to</th>\n      <th>feat-match-from-return-path</th>\n      <th>feat-match-from-sender</th>\n      <th>feat-duplicate-message-id</th>\n      <th>feat-encoded-content-transfer-encoding_7bit</th>\n      <th>feat-encoded-content-transfer-encoding_8bit</th>\n      <th>feat-encoded-content-transfer-encoding_base64</th>\n      <th>...</th>\n      <th>feat-encoded-x-mailman-version_2.0.1</th>\n      <th>feat-encoded-x-mailman-version_2.0.10</th>\n      <th>feat-encoded-x-mailman-version_2.0.11</th>\n      <th>feat-encoded-x-mailman-version_2.0.3</th>\n      <th>feat-encoded-x-mailman-version_2.0.6</th>\n      <th>feat-encoded-x-mailman-version_2.0.7</th>\n      <th>feat-encoded-x-mailman-version_2.0.8</th>\n      <th>feat-encoded-x-mailman-version_2.0.9-sf.net</th>\n      <th>feat-encoded-x-mailman-version_2.1b5</th>\n      <th>feat-encoded-x-mailman-version_2.1b5+</th>\n    </tr>\n  </thead>\n  <tbody>\n    <tr>\n      <th>0</th>\n      <td>NaN</td>\n      <td>NaN</td>\n      <td>NaN</td>\n      <td>NaN</td>\n      <td>NaN</td>\n      <td>NaN</td>\n      <td>0.0</td>\n      <td>0</td>\n      <td>0</td>\n      <td>0</td>\n      <td>...</td>\n      <td>0</td>\n      <td>0</td>\n      <td>0</td>\n      <td>0</td>\n      <td>0</td>\n      <td>0</td>\n      <td>0</td>\n      <td>0</td>\n      <td>0</td>\n      <td>0</td>\n    </tr>\n    <tr>\n      <th>5</th>\n      <td>0.0</td>\n      <td>NaN</td>\n      <td>NaN</td>\n      <td>NaN</td>\n      <td>NaN</td>\n      <td>NaN</td>\n      <td>1.0</td>\n      <td>1</td>\n      <td>0</td>\n      <td>0</td>\n      <td>...</td>\n      <td>0</td>\n      <td>0</td>\n      <td>0</td>\n      <td>0</td>\n      <td>0</td>\n      <td>0</td>\n      <td>0</td>\n      <td>0</td>\n      <td>0</td>\n      <td>0</td>\n    </tr>\n    <tr>\n      <th>10</th>\n      <td>NaN</td>\n      <td>NaN</td>\n      <td>NaN</td>\n      <td>NaN</td>\n      <td>NaN</td>\n      <td>NaN</td>\n      <td>1.0</td>\n      <td>1</td>\n      <td>0</td>\n      <td>0</td>\n      <td>...</td>\n      <td>0</td>\n      <td>0</td>\n      <td>0</td>\n      <td>0</td>\n      <td>0</td>\n      <td>0</td>\n      <td>0</td>\n      <td>0</td>\n      <td>0</td>\n      <td>0</td>\n    </tr>\n    <tr>\n      <th>15</th>\n      <td>NaN</td>\n      <td>NaN</td>\n      <td>NaN</td>\n      <td>NaN</td>\n      <td>NaN</td>\n      <td>NaN</td>\n      <td>1.0</td>\n      <td>0</td>\n      <td>0</td>\n      <td>0</td>\n      <td>...</td>\n      <td>0</td>\n      <td>0</td>\n      <td>0</td>\n      <td>0</td>\n      <td>0</td>\n      <td>0</td>\n      <td>0</td>\n      <td>0</td>\n      <td>0</td>\n      <td>0</td>\n    </tr>\n    <tr>\n      <th>20</th>\n      <td>NaN</td>\n      <td>NaN</td>\n      <td>NaN</td>\n      <td>NaN</td>\n      <td>NaN</td>\n      <td>NaN</td>\n      <td>1.0</td>\n      <td>1</td>\n      <td>0</td>\n      <td>0</td>\n      <td>...</td>\n      <td>0</td>\n      <td>0</td>\n      <td>0</td>\n      <td>0</td>\n      <td>0</td>\n      <td>0</td>\n      <td>0</td>\n      <td>0</td>\n      <td>0</td>\n      <td>0</td>\n    </tr>\n    <tr>\n      <th>...</th>\n      <td>...</td>\n      <td>...</td>\n      <td>...</td>\n      <td>...</td>\n      <td>...</td>\n      <td>...</td>\n      <td>...</td>\n      <td>...</td>\n      <td>...</td>\n      <td>...</td>\n      <td>...</td>\n      <td>...</td>\n      <td>...</td>\n      <td>...</td>\n      <td>...</td>\n      <td>...</td>\n      <td>...</td>\n      <td>...</td>\n      <td>...</td>\n      <td>...</td>\n      <td>...</td>\n    </tr>\n    <tr>\n      <th>53629</th>\n      <td>0.0</td>\n      <td>0.0</td>\n      <td>1.0</td>\n      <td>0.0</td>\n      <td>0.0</td>\n      <td>0.0</td>\n      <td>NaN</td>\n      <td>0</td>\n      <td>0</td>\n      <td>0</td>\n      <td>...</td>\n      <td>0</td>\n      <td>0</td>\n      <td>1</td>\n      <td>0</td>\n      <td>0</td>\n      <td>0</td>\n      <td>0</td>\n      <td>0</td>\n      <td>0</td>\n      <td>0</td>\n    </tr>\n    <tr>\n      <th>53634</th>\n      <td>0.0</td>\n      <td>NaN</td>\n      <td>NaN</td>\n      <td>NaN</td>\n      <td>NaN</td>\n      <td>NaN</td>\n      <td>NaN</td>\n      <td>0</td>\n      <td>1</td>\n      <td>0</td>\n      <td>...</td>\n      <td>0</td>\n      <td>0</td>\n      <td>0</td>\n      <td>0</td>\n      <td>0</td>\n      <td>0</td>\n      <td>0</td>\n      <td>0</td>\n      <td>0</td>\n      <td>0</td>\n    </tr>\n    <tr>\n      <th>53639</th>\n      <td>0.0</td>\n      <td>NaN</td>\n      <td>NaN</td>\n      <td>NaN</td>\n      <td>NaN</td>\n      <td>NaN</td>\n      <td>NaN</td>\n      <td>0</td>\n      <td>0</td>\n      <td>0</td>\n      <td>...</td>\n      <td>0</td>\n      <td>0</td>\n      <td>0</td>\n      <td>0</td>\n      <td>0</td>\n      <td>0</td>\n      <td>0</td>\n      <td>0</td>\n      <td>0</td>\n      <td>0</td>\n    </tr>\n    <tr>\n      <th>53644</th>\n      <td>1.0</td>\n      <td>0.0</td>\n      <td>1.0</td>\n      <td>NaN</td>\n      <td>NaN</td>\n      <td>NaN</td>\n      <td>NaN</td>\n      <td>1</td>\n      <td>0</td>\n      <td>0</td>\n      <td>...</td>\n      <td>0</td>\n      <td>0</td>\n      <td>1</td>\n      <td>0</td>\n      <td>0</td>\n      <td>0</td>\n      <td>0</td>\n      <td>0</td>\n      <td>0</td>\n      <td>0</td>\n    </tr>\n    <tr>\n      <th>53649</th>\n      <td>0.0</td>\n      <td>0.0</td>\n      <td>1.0</td>\n      <td>0.0</td>\n      <td>0.0</td>\n      <td>0.0</td>\n      <td>NaN</td>\n      <td>1</td>\n      <td>0</td>\n      <td>0</td>\n      <td>...</td>\n      <td>1</td>\n      <td>0</td>\n      <td>0</td>\n      <td>0</td>\n      <td>0</td>\n      <td>0</td>\n      <td>0</td>\n      <td>0</td>\n      <td>0</td>\n      <td>0</td>\n    </tr>\n  </tbody>\n</table>\n<p>9154 rows × 27 columns</p>\n</div>"
     },
     "execution_count": 20,
     "metadata": {},
     "output_type": "execute_result"
    }
   ],
   "source": [
    "with_encoded_mailman_version_df = one_hot_encode(with_encoded_precedence_df, 'x-mailman-version')\n",
    "with_encoded_mailman_version_df[get_feat_cols(with_encoded_mailman_version_df)]"
   ],
   "metadata": {
    "collapsed": false,
    "ExecuteTime": {
     "end_time": "2023-06-19T19:49:59.995462Z",
     "start_time": "2023-06-19T19:49:59.047037Z"
    }
   }
  },
  {
   "cell_type": "code",
   "execution_count": 21,
   "outputs": [
    {
     "data": {
      "text/plain": "count    1149.000000\nmean        1.075718\nstd         0.387537\nmin        -1.000000\n25%         1.000000\n50%         1.000000\n75%         1.000000\nmax         3.000000\nName: feat-x-msmail-priority, dtype: float64"
     },
     "execution_count": 21,
     "metadata": {},
     "output_type": "execute_result"
    }
   ],
   "source": [
    "def parse_msmail_priority(row):\n",
    "    if pd.isna(row['x-msmail-priority']):\n",
    "        return row\n",
    "\n",
    "    match row['x-msmail-priority']:\n",
    "        case 'normal':\n",
    "            row['feat-x-msmail-priority'] = 1\n",
    "        case 'medium':\n",
    "            row['feat-x-msmail-priority'] = 1\n",
    "        case 'low':\n",
    "            row['feat-x-msmail-priority'] = 2\n",
    "        case 'high':\n",
    "            row['feat-x-msmail-priority'] = 3\n",
    "        case _:\n",
    "            row['feat-x-msmail-priority'] = -1\n",
    "\n",
    "    return row\n",
    "\n",
    "\n",
    "with_msmail_priority_df = with_encoded_mailman_version_df.apply(lambda r: prepare_for_encoding(r, 'x-msmail-priority'),\n",
    "                                                                axis=1)\n",
    "with_categorical_msmail_priority_df = with_msmail_priority_df.apply(parse_msmail_priority, axis=1)\n",
    "with_categorical_msmail_priority_df['feat-x-msmail-priority'].describe()"
   ],
   "metadata": {
    "collapsed": false,
    "ExecuteTime": {
     "end_time": "2023-06-19T19:50:02.853781Z",
     "start_time": "2023-06-19T19:49:59.995891Z"
    }
   }
  },
  {
   "cell_type": "code",
   "execution_count": 22,
   "outputs": [
    {
     "data": {
      "text/plain": "count    1488.000000\nmean        2.828629\nstd         0.588674\nmin         0.000000\n25%         3.000000\n50%         3.000000\n75%         3.000000\nmax         5.000000\nName: feat-x-priority, dtype: float64"
     },
     "execution_count": 22,
     "metadata": {},
     "output_type": "execute_result"
    }
   ],
   "source": [
    "def parse_priority(row):\n",
    "    if pd.isna(row['x-priority']):\n",
    "        return row\n",
    "\n",
    "    priority = row['x-priority']\n",
    "    if re.findall(r\"Highest\", priority):\n",
    "        row['feat-x-priority'] = 0\n",
    "    else:\n",
    "        row['feat-x-priority'] = int(re.search(r'\\d', priority).group())\n",
    "    return row\n",
    "\n",
    "\n",
    "with_categorical_priority_df = with_categorical_msmail_priority_df.apply(parse_priority, axis=1)\n",
    "with_categorical_priority_df['feat-x-priority'].describe()"
   ],
   "metadata": {
    "collapsed": false,
    "ExecuteTime": {
     "end_time": "2023-06-19T19:50:05.124200Z",
     "start_time": "2023-06-19T19:50:02.931455Z"
    }
   }
  },
  {
   "cell_type": "code",
   "execution_count": 23,
   "outputs": [
    {
     "data": {
      "text/plain": "count    2155.000000\nmean        0.007425\nstd         0.085866\nmin         0.000000\n25%         0.000000\n50%         0.000000\n75%         0.000000\nmax         1.000000\nName: feat-x-spam-status, dtype: float64"
     },
     "execution_count": 23,
     "metadata": {},
     "output_type": "execute_result"
    }
   ],
   "source": [
    "def parse_spam_status(row):\n",
    "    spam_status = row['x-spam-status']\n",
    "    if pd.isna(spam_status):\n",
    "        return row\n",
    "\n",
    "    match spam_status.split(', ')[0].lower():\n",
    "        case 'no':\n",
    "            row['feat-x-spam-status'] = 0\n",
    "        case 'yes':\n",
    "            row['feat-x-spam-status'] = 1\n",
    "        case _:\n",
    "            row['feat-x-spam-status'] = -1\n",
    "    return row\n",
    "\n",
    "\n",
    "with_binary_spam_status_df = with_categorical_priority_df.apply(parse_spam_status, axis=1)\n",
    "with_binary_spam_status_df['feat-x-spam-status'].describe()"
   ],
   "metadata": {
    "collapsed": false,
    "ExecuteTime": {
     "end_time": "2023-06-19T19:50:07.862696Z",
     "start_time": "2023-06-19T19:50:05.132808Z"
    }
   }
  },
  {
   "cell_type": "code",
   "execution_count": 24,
   "outputs": [
    {
     "data": {
      "text/plain": "count    2156.000000\nmean        0.067718\nstd         0.628818\nmin         0.000000\n25%         0.000000\n50%         0.000000\n75%         0.000000\nmax        11.000000\nName: feat-x-spam-level, dtype: float64"
     },
     "execution_count": 24,
     "metadata": {},
     "output_type": "execute_result"
    }
   ],
   "source": [
    "def parse_spam_level(row):\n",
    "    spam_level = row['x-spam-level']\n",
    "    if pd.isna(spam_level):\n",
    "        return row\n",
    "\n",
    "    row['feat-x-spam-level'] = len(spam_level.rstrip().lstrip())\n",
    "    return row\n",
    "\n",
    "\n",
    "with_categorical_spam_level_df = with_binary_spam_status_df.apply(parse_spam_level, axis=1)\n",
    "with_categorical_spam_level_df['feat-x-spam-level'].describe()"
   ],
   "metadata": {
    "collapsed": false,
    "ExecuteTime": {
     "end_time": "2023-06-19T19:50:10.311595Z",
     "start_time": "2023-06-19T19:50:07.914328Z"
    }
   }
  },
  {
   "cell_type": "code",
   "execution_count": 25,
   "outputs": [],
   "source": [
    "embedding_cols = ['cc', 'content-type', 'subject', 'x-mailer']"
   ],
   "metadata": {
    "collapsed": false,
    "ExecuteTime": {
     "end_time": "2023-06-19T19:50:10.318472Z",
     "start_time": "2023-06-19T19:50:10.309155Z"
    }
   }
  },
  {
   "cell_type": "code",
   "execution_count": 26,
   "outputs": [
    {
     "data": {
      "text/plain": "count    1962.000000\nmean        3.007136\nstd         6.011204\nmin         1.000000\n25%         1.000000\n50%         1.000000\n75%         2.000000\nmax        73.000000\nName: feat-cc-count, dtype: float64"
     },
     "execution_count": 26,
     "metadata": {},
     "output_type": "execute_result"
    }
   ],
   "source": [
    "def get_cc_count(row):\n",
    "    if pd.isna(row['cc']):\n",
    "        return row\n",
    "\n",
    "    row['feat-cc-count'] = len(row['cc'].split(','))\n",
    "    return row\n",
    "\n",
    "\n",
    "with_cc_count_df = with_categorical_spam_level_df.apply(get_cc_count, axis=1)\n",
    "with_cc_count_df['feat-cc-count'].describe()"
   ],
   "metadata": {
    "collapsed": false,
    "ExecuteTime": {
     "end_time": "2023-06-19T19:50:12.833495Z",
     "start_time": "2023-06-19T19:50:10.322570Z"
    }
   }
  },
  {
   "cell_type": "code",
   "execution_count": 27,
   "outputs": [
    {
     "data": {
      "text/plain": "            content-type-protocol      content-type-type content-type-charset  \\\ncount                          69                     39                  585   \nunique                          2                      2                    7   \ntop     application/pgp-signature  multipart/alternative             us-ascii   \nfreq                           67                     34                  388   \n\n       content-type-micalg content-type-delsp content-type-format  \\\ncount                  180                  2                  13   \nunique                   3                  1                   1   \ntop               pgp-sha1                yes              flowed   \nfreq                   168                  2                  13   \n\n                     content-type-boundary  \ncount                                  131  \nunique                                  77  \ntop     =_NextPart_2rfkindysadvnqw3nerasdf  \nfreq                                     6  ",
      "text/html": "<div>\n<style scoped>\n    .dataframe tbody tr th:only-of-type {\n        vertical-align: middle;\n    }\n\n    .dataframe tbody tr th {\n        vertical-align: top;\n    }\n\n    .dataframe thead th {\n        text-align: right;\n    }\n</style>\n<table border=\"1\" class=\"dataframe\">\n  <thead>\n    <tr style=\"text-align: right;\">\n      <th></th>\n      <th>content-type-protocol</th>\n      <th>content-type-type</th>\n      <th>content-type-charset</th>\n      <th>content-type-micalg</th>\n      <th>content-type-delsp</th>\n      <th>content-type-format</th>\n      <th>content-type-boundary</th>\n    </tr>\n  </thead>\n  <tbody>\n    <tr>\n      <th>count</th>\n      <td>69</td>\n      <td>39</td>\n      <td>585</td>\n      <td>180</td>\n      <td>2</td>\n      <td>13</td>\n      <td>131</td>\n    </tr>\n    <tr>\n      <th>unique</th>\n      <td>2</td>\n      <td>2</td>\n      <td>7</td>\n      <td>3</td>\n      <td>1</td>\n      <td>1</td>\n      <td>77</td>\n    </tr>\n    <tr>\n      <th>top</th>\n      <td>application/pgp-signature</td>\n      <td>multipart/alternative</td>\n      <td>us-ascii</td>\n      <td>pgp-sha1</td>\n      <td>yes</td>\n      <td>flowed</td>\n      <td>=_NextPart_2rfkindysadvnqw3nerasdf</td>\n    </tr>\n    <tr>\n      <th>freq</th>\n      <td>67</td>\n      <td>34</td>\n      <td>388</td>\n      <td>168</td>\n      <td>2</td>\n      <td>13</td>\n      <td>6</td>\n    </tr>\n  </tbody>\n</table>\n</div>"
     },
     "execution_count": 27,
     "metadata": {},
     "output_type": "execute_result"
    }
   ],
   "source": [
    "ct_subfields = set()\n",
    "\n",
    "\n",
    "def parse_content_type(row):\n",
    "    content_type = row['content-type']\n",
    "    if pd.isna(content_type):\n",
    "        return row\n",
    "\n",
    "    value = content_type.split(';')[0]\n",
    "    row['content-type'] = value\n",
    "\n",
    "    subfields = re.findall(r\"([\\w]+)\\=[\\\"]?(.+?)[\\\"]?[\\;|\\n|$]\", re.sub('[\\t\\s\\n]+?', '', content_type))\n",
    "    for (subfield, subvalue) in subfields:\n",
    "        ct_subfields.add(f'content-type-{subfield.lower()}')\n",
    "        row[f'content-type-{subfield}'] = subvalue\n",
    "    return row\n",
    "\n",
    "\n",
    "with_content_type_df = with_cc_count_df.apply(parse_content_type, axis=1)\n",
    "with_content_type_df[list(ct_subfields)].describe()"
   ],
   "metadata": {
    "collapsed": false,
    "ExecuteTime": {
     "end_time": "2023-06-19T19:50:15.027198Z",
     "start_time": "2023-06-19T19:50:12.851081Z"
    }
   }
  },
  {
   "cell_type": "code",
   "execution_count": 28,
   "outputs": [
    {
     "data": {
      "text/plain": "       feat-cc-count  feat-duplicate-message-id  \\\n0                NaN                        0.0   \n5                NaN                        1.0   \n10               NaN                        1.0   \n15               NaN                        1.0   \n20               NaN                        1.0   \n...              ...                        ...   \n53629            NaN                        NaN   \n53634            2.0                        NaN   \n53639            NaN                        NaN   \n53644            NaN                        NaN   \n53649            1.0                        NaN   \n\n       feat-encoded-content-transfer-encoding_7bit  \\\n0                                                0   \n5                                                1   \n10                                               1   \n15                                               0   \n20                                               1   \n...                                            ...   \n53629                                            0   \n53634                                            0   \n53639                                            0   \n53644                                            1   \n53649                                            1   \n\n       feat-encoded-content-transfer-encoding_8bit  \\\n0                                                0   \n5                                                0   \n10                                               0   \n15                                               0   \n20                                               0   \n...                                            ...   \n53629                                            0   \n53634                                            1   \n53639                                            0   \n53644                                            0   \n53649                                            0   \n\n       feat-encoded-content-transfer-encoding_base64  \\\n0                                                  0   \n5                                                  0   \n10                                                 0   \n15                                                 0   \n20                                                 0   \n...                                              ...   \n53629                                              0   \n53634                                              0   \n53639                                              0   \n53644                                              0   \n53649                                              0   \n\n       feat-encoded-content-transfer-encoding_binary  \\\n0                                                  0   \n5                                                  0   \n10                                                 0   \n15                                                 0   \n20                                                 0   \n...                                              ...   \n53629                                              0   \n53634                                              0   \n53639                                              0   \n53644                                              0   \n53649                                              0   \n\n       feat-encoded-content-transfer-encoding_quoted-printable  \\\n0                                                      0         \n5                                                      0         \n10                                                     0         \n15                                                     1         \n20                                                     0         \n...                                                  ...         \n53629                                                  0         \n53634                                                  0         \n53639                                                  0         \n53644                                                  0         \n53649                                                  0         \n\n       feat-encoded-precedence_bulk  feat-encoded-precedence_first-class  \\\n0                                 0                                    0   \n5                                 1                                    0   \n10                                0                                    0   \n15                                0                                    0   \n20                                1                                    0   \n...                             ...                                  ...   \n53629                             1                                    0   \n53634                             0                                    0   \n53639                             0                                    0   \n53644                             1                                    0   \n53649                             1                                    0   \n\n       feat-encoded-precedence_list  ...  feat-match-from-return-path  \\\n0                                 0  ...                          NaN   \n5                                 0  ...                          NaN   \n10                                0  ...                          NaN   \n15                                0  ...                          NaN   \n20                                0  ...                          NaN   \n...                             ...  ...                          ...   \n53629                             0  ...                          0.0   \n53634                             0  ...                          NaN   \n53639                             0  ...                          NaN   \n53644                             0  ...                          NaN   \n53649                             0  ...                          0.0   \n\n       feat-match-from-sender  feat-x-msmail-priority  feat-x-priority  \\\n0                         NaN                     NaN              NaN   \n5                         NaN                     NaN              NaN   \n10                        NaN                     NaN              NaN   \n15                        NaN                     NaN              NaN   \n20                        NaN                     NaN              NaN   \n...                       ...                     ...              ...   \n53629                     0.0                     NaN              NaN   \n53634                     NaN                     NaN              NaN   \n53639                     NaN                     NaN              NaN   \n53644                     NaN                     NaN              NaN   \n53649                     0.0                     NaN              NaN   \n\n       feat-x-spam-level  feat-x-spam-status  \\\n0                    NaN                 NaN   \n5                    NaN                 NaN   \n10                   NaN                 NaN   \n15                   NaN                 NaN   \n20                   NaN                 NaN   \n...                  ...                 ...   \n53629                NaN                 NaN   \n53634                NaN                 NaN   \n53639                NaN                 NaN   \n53644                NaN                 NaN   \n53649                NaN                 NaN   \n\n       feat-encoded-content-type-charset_iso-8859-1  \\\n0                                                 0   \n5                                                 0   \n10                                                0   \n15                                                0   \n20                                                0   \n...                                             ...   \n53629                                             0   \n53634                                             0   \n53639                                             0   \n53644                                             0   \n53649                                             0   \n\n       feat-encoded-content-type-charset_iso-8859-15  \\\n0                                                  0   \n5                                                  0   \n10                                                 0   \n15                                                 0   \n20                                                 0   \n...                                              ...   \n53629                                              0   \n53634                                              0   \n53639                                              0   \n53644                                              0   \n53649                                              0   \n\n       feat-encoded-content-type-charset_us-ascii  \\\n0                                               0   \n5                                               1   \n10                                              0   \n15                                              0   \n20                                              0   \n...                                           ...   \n53629                                           0   \n53634                                           0   \n53639                                           0   \n53644                                           1   \n53649                                           0   \n\n       feat-encoded-content-type-charset_windows-1252  \n0                                                   0  \n5                                                   0  \n10                                                  0  \n15                                                  0  \n20                                                  0  \n...                                               ...  \n53629                                               0  \n53634                                               0  \n53639                                               0  \n53644                                               0  \n53649                                               0  \n\n[9154 rows x 36 columns]",
      "text/html": "<div>\n<style scoped>\n    .dataframe tbody tr th:only-of-type {\n        vertical-align: middle;\n    }\n\n    .dataframe tbody tr th {\n        vertical-align: top;\n    }\n\n    .dataframe thead th {\n        text-align: right;\n    }\n</style>\n<table border=\"1\" class=\"dataframe\">\n  <thead>\n    <tr style=\"text-align: right;\">\n      <th></th>\n      <th>feat-cc-count</th>\n      <th>feat-duplicate-message-id</th>\n      <th>feat-encoded-content-transfer-encoding_7bit</th>\n      <th>feat-encoded-content-transfer-encoding_8bit</th>\n      <th>feat-encoded-content-transfer-encoding_base64</th>\n      <th>feat-encoded-content-transfer-encoding_binary</th>\n      <th>feat-encoded-content-transfer-encoding_quoted-printable</th>\n      <th>feat-encoded-precedence_bulk</th>\n      <th>feat-encoded-precedence_first-class</th>\n      <th>feat-encoded-precedence_list</th>\n      <th>...</th>\n      <th>feat-match-from-return-path</th>\n      <th>feat-match-from-sender</th>\n      <th>feat-x-msmail-priority</th>\n      <th>feat-x-priority</th>\n      <th>feat-x-spam-level</th>\n      <th>feat-x-spam-status</th>\n      <th>feat-encoded-content-type-charset_iso-8859-1</th>\n      <th>feat-encoded-content-type-charset_iso-8859-15</th>\n      <th>feat-encoded-content-type-charset_us-ascii</th>\n      <th>feat-encoded-content-type-charset_windows-1252</th>\n    </tr>\n  </thead>\n  <tbody>\n    <tr>\n      <th>0</th>\n      <td>NaN</td>\n      <td>0.0</td>\n      <td>0</td>\n      <td>0</td>\n      <td>0</td>\n      <td>0</td>\n      <td>0</td>\n      <td>0</td>\n      <td>0</td>\n      <td>0</td>\n      <td>...</td>\n      <td>NaN</td>\n      <td>NaN</td>\n      <td>NaN</td>\n      <td>NaN</td>\n      <td>NaN</td>\n      <td>NaN</td>\n      <td>0</td>\n      <td>0</td>\n      <td>0</td>\n      <td>0</td>\n    </tr>\n    <tr>\n      <th>5</th>\n      <td>NaN</td>\n      <td>1.0</td>\n      <td>1</td>\n      <td>0</td>\n      <td>0</td>\n      <td>0</td>\n      <td>0</td>\n      <td>1</td>\n      <td>0</td>\n      <td>0</td>\n      <td>...</td>\n      <td>NaN</td>\n      <td>NaN</td>\n      <td>NaN</td>\n      <td>NaN</td>\n      <td>NaN</td>\n      <td>NaN</td>\n      <td>0</td>\n      <td>0</td>\n      <td>1</td>\n      <td>0</td>\n    </tr>\n    <tr>\n      <th>10</th>\n      <td>NaN</td>\n      <td>1.0</td>\n      <td>1</td>\n      <td>0</td>\n      <td>0</td>\n      <td>0</td>\n      <td>0</td>\n      <td>0</td>\n      <td>0</td>\n      <td>0</td>\n      <td>...</td>\n      <td>NaN</td>\n      <td>NaN</td>\n      <td>NaN</td>\n      <td>NaN</td>\n      <td>NaN</td>\n      <td>NaN</td>\n      <td>0</td>\n      <td>0</td>\n      <td>0</td>\n      <td>0</td>\n    </tr>\n    <tr>\n      <th>15</th>\n      <td>NaN</td>\n      <td>1.0</td>\n      <td>0</td>\n      <td>0</td>\n      <td>0</td>\n      <td>0</td>\n      <td>1</td>\n      <td>0</td>\n      <td>0</td>\n      <td>0</td>\n      <td>...</td>\n      <td>NaN</td>\n      <td>NaN</td>\n      <td>NaN</td>\n      <td>NaN</td>\n      <td>NaN</td>\n      <td>NaN</td>\n      <td>0</td>\n      <td>0</td>\n      <td>0</td>\n      <td>0</td>\n    </tr>\n    <tr>\n      <th>20</th>\n      <td>NaN</td>\n      <td>1.0</td>\n      <td>1</td>\n      <td>0</td>\n      <td>0</td>\n      <td>0</td>\n      <td>0</td>\n      <td>1</td>\n      <td>0</td>\n      <td>0</td>\n      <td>...</td>\n      <td>NaN</td>\n      <td>NaN</td>\n      <td>NaN</td>\n      <td>NaN</td>\n      <td>NaN</td>\n      <td>NaN</td>\n      <td>0</td>\n      <td>0</td>\n      <td>0</td>\n      <td>0</td>\n    </tr>\n    <tr>\n      <th>...</th>\n      <td>...</td>\n      <td>...</td>\n      <td>...</td>\n      <td>...</td>\n      <td>...</td>\n      <td>...</td>\n      <td>...</td>\n      <td>...</td>\n      <td>...</td>\n      <td>...</td>\n      <td>...</td>\n      <td>...</td>\n      <td>...</td>\n      <td>...</td>\n      <td>...</td>\n      <td>...</td>\n      <td>...</td>\n      <td>...</td>\n      <td>...</td>\n      <td>...</td>\n      <td>...</td>\n    </tr>\n    <tr>\n      <th>53629</th>\n      <td>NaN</td>\n      <td>NaN</td>\n      <td>0</td>\n      <td>0</td>\n      <td>0</td>\n      <td>0</td>\n      <td>0</td>\n      <td>1</td>\n      <td>0</td>\n      <td>0</td>\n      <td>...</td>\n      <td>0.0</td>\n      <td>0.0</td>\n      <td>NaN</td>\n      <td>NaN</td>\n      <td>NaN</td>\n      <td>NaN</td>\n      <td>0</td>\n      <td>0</td>\n      <td>0</td>\n      <td>0</td>\n    </tr>\n    <tr>\n      <th>53634</th>\n      <td>2.0</td>\n      <td>NaN</td>\n      <td>0</td>\n      <td>1</td>\n      <td>0</td>\n      <td>0</td>\n      <td>0</td>\n      <td>0</td>\n      <td>0</td>\n      <td>0</td>\n      <td>...</td>\n      <td>NaN</td>\n      <td>NaN</td>\n      <td>NaN</td>\n      <td>NaN</td>\n      <td>NaN</td>\n      <td>NaN</td>\n      <td>0</td>\n      <td>0</td>\n      <td>0</td>\n      <td>0</td>\n    </tr>\n    <tr>\n      <th>53639</th>\n      <td>NaN</td>\n      <td>NaN</td>\n      <td>0</td>\n      <td>0</td>\n      <td>0</td>\n      <td>0</td>\n      <td>0</td>\n      <td>0</td>\n      <td>0</td>\n      <td>0</td>\n      <td>...</td>\n      <td>NaN</td>\n      <td>NaN</td>\n      <td>NaN</td>\n      <td>NaN</td>\n      <td>NaN</td>\n      <td>NaN</td>\n      <td>0</td>\n      <td>0</td>\n      <td>0</td>\n      <td>0</td>\n    </tr>\n    <tr>\n      <th>53644</th>\n      <td>NaN</td>\n      <td>NaN</td>\n      <td>1</td>\n      <td>0</td>\n      <td>0</td>\n      <td>0</td>\n      <td>0</td>\n      <td>1</td>\n      <td>0</td>\n      <td>0</td>\n      <td>...</td>\n      <td>NaN</td>\n      <td>NaN</td>\n      <td>NaN</td>\n      <td>NaN</td>\n      <td>NaN</td>\n      <td>NaN</td>\n      <td>0</td>\n      <td>0</td>\n      <td>1</td>\n      <td>0</td>\n    </tr>\n    <tr>\n      <th>53649</th>\n      <td>1.0</td>\n      <td>NaN</td>\n      <td>1</td>\n      <td>0</td>\n      <td>0</td>\n      <td>0</td>\n      <td>0</td>\n      <td>1</td>\n      <td>0</td>\n      <td>0</td>\n      <td>...</td>\n      <td>0.0</td>\n      <td>0.0</td>\n      <td>NaN</td>\n      <td>NaN</td>\n      <td>NaN</td>\n      <td>NaN</td>\n      <td>0</td>\n      <td>0</td>\n      <td>0</td>\n      <td>0</td>\n    </tr>\n  </tbody>\n</table>\n<p>9154 rows × 36 columns</p>\n</div>"
     },
     "execution_count": 28,
     "metadata": {},
     "output_type": "execute_result"
    }
   ],
   "source": [
    "with_encoded_charset_df = one_hot_encode(with_content_type_df, 'content-type-charset')\n",
    "with_encoded_charset_df[get_feat_cols(with_encoded_charset_df)]"
   ],
   "metadata": {
    "collapsed": false,
    "ExecuteTime": {
     "end_time": "2023-06-19T19:50:15.900754Z",
     "start_time": "2023-06-19T19:50:15.033374Z"
    }
   }
  },
  {
   "cell_type": "code",
   "execution_count": 29,
   "outputs": [
    {
     "data": {
      "text/plain": "       feat-cc-count  feat-duplicate-message-id  \\\n0                NaN                        0.0   \n5                NaN                        1.0   \n10               NaN                        1.0   \n15               NaN                        1.0   \n20               NaN                        1.0   \n...              ...                        ...   \n53629            NaN                        NaN   \n53634            2.0                        NaN   \n53639            NaN                        NaN   \n53644            NaN                        NaN   \n53649            1.0                        NaN   \n\n       feat-encoded-content-transfer-encoding_7bit  \\\n0                                                0   \n5                                                1   \n10                                               1   \n15                                               0   \n20                                               1   \n...                                            ...   \n53629                                            0   \n53634                                            0   \n53639                                            0   \n53644                                            1   \n53649                                            1   \n\n       feat-encoded-content-transfer-encoding_8bit  \\\n0                                                0   \n5                                                0   \n10                                               0   \n15                                               0   \n20                                               0   \n...                                            ...   \n53629                                            0   \n53634                                            1   \n53639                                            0   \n53644                                            0   \n53649                                            0   \n\n       feat-encoded-content-transfer-encoding_base64  \\\n0                                                  0   \n5                                                  0   \n10                                                 0   \n15                                                 0   \n20                                                 0   \n...                                              ...   \n53629                                              0   \n53634                                              0   \n53639                                              0   \n53644                                              0   \n53649                                              0   \n\n       feat-encoded-content-transfer-encoding_binary  \\\n0                                                  0   \n5                                                  0   \n10                                                 0   \n15                                                 0   \n20                                                 0   \n...                                              ...   \n53629                                              0   \n53634                                              0   \n53639                                              0   \n53644                                              0   \n53649                                              0   \n\n       feat-encoded-content-transfer-encoding_quoted-printable  \\\n0                                                      0         \n5                                                      0         \n10                                                     0         \n15                                                     1         \n20                                                     0         \n...                                                  ...         \n53629                                                  0         \n53634                                                  0         \n53639                                                  0         \n53644                                                  0         \n53649                                                  0         \n\n       feat-encoded-precedence_bulk  feat-encoded-precedence_first-class  \\\n0                                 0                                    0   \n5                                 1                                    0   \n10                                0                                    0   \n15                                0                                    0   \n20                                1                                    0   \n...                             ...                                  ...   \n53629                             1                                    0   \n53634                             0                                    0   \n53639                             0                                    0   \n53644                             1                                    0   \n53649                             1                                    0   \n\n       feat-encoded-precedence_list  ...  feat-match-from-sender  \\\n0                                 0  ...                     NaN   \n5                                 0  ...                     NaN   \n10                                0  ...                     NaN   \n15                                0  ...                     NaN   \n20                                0  ...                     NaN   \n...                             ...  ...                     ...   \n53629                             0  ...                     0.0   \n53634                             0  ...                     NaN   \n53639                             0  ...                     NaN   \n53644                             0  ...                     NaN   \n53649                             0  ...                     0.0   \n\n       feat-x-msmail-priority  feat-x-priority  feat-x-spam-level  \\\n0                         NaN              NaN                NaN   \n5                         NaN              NaN                NaN   \n10                        NaN              NaN                NaN   \n15                        NaN              NaN                NaN   \n20                        NaN              NaN                NaN   \n...                       ...              ...                ...   \n53629                     NaN              NaN                NaN   \n53634                     NaN              NaN                NaN   \n53639                     NaN              NaN                NaN   \n53644                     NaN              NaN                NaN   \n53649                     NaN              NaN                NaN   \n\n       feat-x-spam-status  feat-encoded-content-type-charset_iso-8859-1  \\\n0                     NaN                                             0   \n5                     NaN                                             0   \n10                    NaN                                             0   \n15                    NaN                                             0   \n20                    NaN                                             0   \n...                   ...                                           ...   \n53629                 NaN                                             0   \n53634                 NaN                                             0   \n53639                 NaN                                             0   \n53644                 NaN                                             0   \n53649                 NaN                                             0   \n\n       feat-encoded-content-type-charset_iso-8859-15  \\\n0                                                  0   \n5                                                  0   \n10                                                 0   \n15                                                 0   \n20                                                 0   \n...                                              ...   \n53629                                              0   \n53634                                              0   \n53639                                              0   \n53644                                              0   \n53649                                              0   \n\n       feat-encoded-content-type-charset_us-ascii  \\\n0                                               0   \n5                                               1   \n10                                              0   \n15                                              0   \n20                                              0   \n...                                           ...   \n53629                                           0   \n53634                                           0   \n53639                                           0   \n53644                                           1   \n53649                                           0   \n\n       feat-encoded-content-type-charset_windows-1252  \\\n0                                                   0   \n5                                                   0   \n10                                                  0   \n15                                                  0   \n20                                                  0   \n...                                               ...   \n53629                                               0   \n53634                                               0   \n53639                                               0   \n53644                                               0   \n53649                                               0   \n\n       feat-content-type-boundary  \n0                               1  \n5                               1  \n10                              1  \n15                              1  \n20                              1  \n...                           ...  \n53629                           1  \n53634                           1  \n53639                           1  \n53644                           1  \n53649                           0  \n\n[9154 rows x 37 columns]",
      "text/html": "<div>\n<style scoped>\n    .dataframe tbody tr th:only-of-type {\n        vertical-align: middle;\n    }\n\n    .dataframe tbody tr th {\n        vertical-align: top;\n    }\n\n    .dataframe thead th {\n        text-align: right;\n    }\n</style>\n<table border=\"1\" class=\"dataframe\">\n  <thead>\n    <tr style=\"text-align: right;\">\n      <th></th>\n      <th>feat-cc-count</th>\n      <th>feat-duplicate-message-id</th>\n      <th>feat-encoded-content-transfer-encoding_7bit</th>\n      <th>feat-encoded-content-transfer-encoding_8bit</th>\n      <th>feat-encoded-content-transfer-encoding_base64</th>\n      <th>feat-encoded-content-transfer-encoding_binary</th>\n      <th>feat-encoded-content-transfer-encoding_quoted-printable</th>\n      <th>feat-encoded-precedence_bulk</th>\n      <th>feat-encoded-precedence_first-class</th>\n      <th>feat-encoded-precedence_list</th>\n      <th>...</th>\n      <th>feat-match-from-sender</th>\n      <th>feat-x-msmail-priority</th>\n      <th>feat-x-priority</th>\n      <th>feat-x-spam-level</th>\n      <th>feat-x-spam-status</th>\n      <th>feat-encoded-content-type-charset_iso-8859-1</th>\n      <th>feat-encoded-content-type-charset_iso-8859-15</th>\n      <th>feat-encoded-content-type-charset_us-ascii</th>\n      <th>feat-encoded-content-type-charset_windows-1252</th>\n      <th>feat-content-type-boundary</th>\n    </tr>\n  </thead>\n  <tbody>\n    <tr>\n      <th>0</th>\n      <td>NaN</td>\n      <td>0.0</td>\n      <td>0</td>\n      <td>0</td>\n      <td>0</td>\n      <td>0</td>\n      <td>0</td>\n      <td>0</td>\n      <td>0</td>\n      <td>0</td>\n      <td>...</td>\n      <td>NaN</td>\n      <td>NaN</td>\n      <td>NaN</td>\n      <td>NaN</td>\n      <td>NaN</td>\n      <td>0</td>\n      <td>0</td>\n      <td>0</td>\n      <td>0</td>\n      <td>1</td>\n    </tr>\n    <tr>\n      <th>5</th>\n      <td>NaN</td>\n      <td>1.0</td>\n      <td>1</td>\n      <td>0</td>\n      <td>0</td>\n      <td>0</td>\n      <td>0</td>\n      <td>1</td>\n      <td>0</td>\n      <td>0</td>\n      <td>...</td>\n      <td>NaN</td>\n      <td>NaN</td>\n      <td>NaN</td>\n      <td>NaN</td>\n      <td>NaN</td>\n      <td>0</td>\n      <td>0</td>\n      <td>1</td>\n      <td>0</td>\n      <td>1</td>\n    </tr>\n    <tr>\n      <th>10</th>\n      <td>NaN</td>\n      <td>1.0</td>\n      <td>1</td>\n      <td>0</td>\n      <td>0</td>\n      <td>0</td>\n      <td>0</td>\n      <td>0</td>\n      <td>0</td>\n      <td>0</td>\n      <td>...</td>\n      <td>NaN</td>\n      <td>NaN</td>\n      <td>NaN</td>\n      <td>NaN</td>\n      <td>NaN</td>\n      <td>0</td>\n      <td>0</td>\n      <td>0</td>\n      <td>0</td>\n      <td>1</td>\n    </tr>\n    <tr>\n      <th>15</th>\n      <td>NaN</td>\n      <td>1.0</td>\n      <td>0</td>\n      <td>0</td>\n      <td>0</td>\n      <td>0</td>\n      <td>1</td>\n      <td>0</td>\n      <td>0</td>\n      <td>0</td>\n      <td>...</td>\n      <td>NaN</td>\n      <td>NaN</td>\n      <td>NaN</td>\n      <td>NaN</td>\n      <td>NaN</td>\n      <td>0</td>\n      <td>0</td>\n      <td>0</td>\n      <td>0</td>\n      <td>1</td>\n    </tr>\n    <tr>\n      <th>20</th>\n      <td>NaN</td>\n      <td>1.0</td>\n      <td>1</td>\n      <td>0</td>\n      <td>0</td>\n      <td>0</td>\n      <td>0</td>\n      <td>1</td>\n      <td>0</td>\n      <td>0</td>\n      <td>...</td>\n      <td>NaN</td>\n      <td>NaN</td>\n      <td>NaN</td>\n      <td>NaN</td>\n      <td>NaN</td>\n      <td>0</td>\n      <td>0</td>\n      <td>0</td>\n      <td>0</td>\n      <td>1</td>\n    </tr>\n    <tr>\n      <th>...</th>\n      <td>...</td>\n      <td>...</td>\n      <td>...</td>\n      <td>...</td>\n      <td>...</td>\n      <td>...</td>\n      <td>...</td>\n      <td>...</td>\n      <td>...</td>\n      <td>...</td>\n      <td>...</td>\n      <td>...</td>\n      <td>...</td>\n      <td>...</td>\n      <td>...</td>\n      <td>...</td>\n      <td>...</td>\n      <td>...</td>\n      <td>...</td>\n      <td>...</td>\n      <td>...</td>\n    </tr>\n    <tr>\n      <th>53629</th>\n      <td>NaN</td>\n      <td>NaN</td>\n      <td>0</td>\n      <td>0</td>\n      <td>0</td>\n      <td>0</td>\n      <td>0</td>\n      <td>1</td>\n      <td>0</td>\n      <td>0</td>\n      <td>...</td>\n      <td>0.0</td>\n      <td>NaN</td>\n      <td>NaN</td>\n      <td>NaN</td>\n      <td>NaN</td>\n      <td>0</td>\n      <td>0</td>\n      <td>0</td>\n      <td>0</td>\n      <td>1</td>\n    </tr>\n    <tr>\n      <th>53634</th>\n      <td>2.0</td>\n      <td>NaN</td>\n      <td>0</td>\n      <td>1</td>\n      <td>0</td>\n      <td>0</td>\n      <td>0</td>\n      <td>0</td>\n      <td>0</td>\n      <td>0</td>\n      <td>...</td>\n      <td>NaN</td>\n      <td>NaN</td>\n      <td>NaN</td>\n      <td>NaN</td>\n      <td>NaN</td>\n      <td>0</td>\n      <td>0</td>\n      <td>0</td>\n      <td>0</td>\n      <td>1</td>\n    </tr>\n    <tr>\n      <th>53639</th>\n      <td>NaN</td>\n      <td>NaN</td>\n      <td>0</td>\n      <td>0</td>\n      <td>0</td>\n      <td>0</td>\n      <td>0</td>\n      <td>0</td>\n      <td>0</td>\n      <td>0</td>\n      <td>...</td>\n      <td>NaN</td>\n      <td>NaN</td>\n      <td>NaN</td>\n      <td>NaN</td>\n      <td>NaN</td>\n      <td>0</td>\n      <td>0</td>\n      <td>0</td>\n      <td>0</td>\n      <td>1</td>\n    </tr>\n    <tr>\n      <th>53644</th>\n      <td>NaN</td>\n      <td>NaN</td>\n      <td>1</td>\n      <td>0</td>\n      <td>0</td>\n      <td>0</td>\n      <td>0</td>\n      <td>1</td>\n      <td>0</td>\n      <td>0</td>\n      <td>...</td>\n      <td>NaN</td>\n      <td>NaN</td>\n      <td>NaN</td>\n      <td>NaN</td>\n      <td>NaN</td>\n      <td>0</td>\n      <td>0</td>\n      <td>1</td>\n      <td>0</td>\n      <td>1</td>\n    </tr>\n    <tr>\n      <th>53649</th>\n      <td>1.0</td>\n      <td>NaN</td>\n      <td>1</td>\n      <td>0</td>\n      <td>0</td>\n      <td>0</td>\n      <td>0</td>\n      <td>1</td>\n      <td>0</td>\n      <td>0</td>\n      <td>...</td>\n      <td>0.0</td>\n      <td>NaN</td>\n      <td>NaN</td>\n      <td>NaN</td>\n      <td>NaN</td>\n      <td>0</td>\n      <td>0</td>\n      <td>0</td>\n      <td>0</td>\n      <td>0</td>\n    </tr>\n  </tbody>\n</table>\n<p>9154 rows × 37 columns</p>\n</div>"
     },
     "execution_count": 29,
     "metadata": {},
     "output_type": "execute_result"
    }
   ],
   "source": [
    "with_encoded_charset_df['feat-content-type-boundary'] = with_encoded_charset_df['content-type-boundary'].isna().astype(\n",
    "    int)\n",
    "with_binary_boundary_df = with_encoded_charset_df\n",
    "with_binary_boundary_df[get_feat_cols(with_binary_boundary_df)]"
   ],
   "metadata": {
    "collapsed": false,
    "ExecuteTime": {
     "end_time": "2023-06-19T19:50:15.956078Z",
     "start_time": "2023-06-19T19:50:15.909138Z"
    }
   }
  },
  {
   "cell_type": "code",
   "execution_count": 30,
   "outputs": [
    {
     "data": {
      "text/plain": "count                        3370\nunique                        152\ntop       microsoftoutlookexpress\nfreq                          652\nName: x-mailer, dtype: object"
     },
     "execution_count": 30,
     "metadata": {},
     "output_type": "execute_result"
    }
   ],
   "source": [
    "def parse_mailer(row):\n",
    "    x_mailer = row['x-mailer']\n",
    "    if pd.isna(x_mailer):\n",
    "        return row\n",
    "\n",
    "    result = re.sub(r\"[\\(\\[\\{].*?[\\)\\]\\}]\", \"\", x_mailer)\n",
    "    result = re.sub(r\"([\\w\\-]*?([\\d]+\\.)+[\\+\\d\\w\\-]*?)\", \"\", result)\n",
    "    result = re.sub(r\"([\\d\\/]+)\", \"\", result)\n",
    "    result = result.lower()\n",
    "    result = re.sub(r\"version|with\", \"\", result)\n",
    "    result = re.sub(r\"[\\W]\", \"\", result)\n",
    "\n",
    "    row['x-mailer'] = result\n",
    "    return row\n",
    "\n",
    "\n",
    "with_mailer_df = with_binary_boundary_df.apply(parse_mailer, axis=1)\n",
    "with_mailer_df['x-mailer'].describe()"
   ],
   "metadata": {
    "collapsed": false,
    "ExecuteTime": {
     "end_time": "2023-06-19T19:50:16.834856Z",
     "start_time": "2023-06-19T19:50:15.949156Z"
    }
   }
  },
  {
   "cell_type": "code",
   "execution_count": 31,
   "outputs": [
    {
     "data": {
      "text/plain": "count      3370\nunique       11\ntop       other\nfreq       1180\nName: x-mailer, dtype: object"
     },
     "execution_count": 31,
     "metadata": {},
     "output_type": "execute_result"
    }
   ],
   "source": [
    "def bin_mailers(row, mailers):\n",
    "    mailer = row['x-mailer']\n",
    "    if pd.isna(mailer):\n",
    "        return row\n",
    "\n",
    "    if mailer not in mailers:\n",
    "        row['x-mailer'] = 'other'\n",
    "\n",
    "    return row\n",
    "\n",
    "\n",
    "def get_top_mailers(df):\n",
    "    spam_counts = df[df['category'] == 'spam']['x-mailer'].value_counts().sort_values(ascending=False)\n",
    "    ham_counts = df[df['category'] == 'ham']['x-mailer'].value_counts().sort_values(ascending=False)\n",
    "    ham = pd.DataFrame(ham_counts).rename(columns={'count': 'ham'})\n",
    "    spam = pd.DataFrame(spam_counts).rename(columns={'count': 'spam'})\n",
    "    mailer_counts = pd.concat([ham, spam], axis=1).fillna(0)\n",
    "    mailer_counts['total'] = mailer_counts['spam'] + mailer_counts['ham']\n",
    "    mailer_counts['spam_ratio'] = mailer_counts['spam'] / mailer_counts['total']\n",
    "    return list(mailer_counts.sort_values(by=['total', 'spam_ratio'], ascending=False).iloc[:10].index)\n",
    "\n",
    "\n",
    "top_mailers = get_top_mailers(with_mailer_df)\n",
    "with_binned_mailer_df = with_mailer_df.apply(lambda r: bin_mailers(r, top_mailers), axis=1)\n",
    "with_binned_mailer_df['x-mailer'].describe()"
   ],
   "metadata": {
    "collapsed": false,
    "ExecuteTime": {
     "end_time": "2023-06-19T19:50:17.531539Z",
     "start_time": "2023-06-19T19:50:16.844481Z"
    }
   }
  },
  {
   "cell_type": "code",
   "execution_count": 32,
   "outputs": [
    {
     "data": {
      "text/plain": "       feat-cc-count  feat-duplicate-message-id  \\\n0                NaN                        0.0   \n5                NaN                        1.0   \n10               NaN                        1.0   \n15               NaN                        1.0   \n20               NaN                        1.0   \n...              ...                        ...   \n53629            NaN                        NaN   \n53634            2.0                        NaN   \n53639            NaN                        NaN   \n53644            NaN                        NaN   \n53649            1.0                        NaN   \n\n       feat-encoded-content-transfer-encoding_7bit  \\\n0                                                0   \n5                                                1   \n10                                               1   \n15                                               0   \n20                                               1   \n...                                            ...   \n53629                                            0   \n53634                                            0   \n53639                                            0   \n53644                                            1   \n53649                                            1   \n\n       feat-encoded-content-transfer-encoding_8bit  \\\n0                                                0   \n5                                                0   \n10                                               0   \n15                                               0   \n20                                               0   \n...                                            ...   \n53629                                            0   \n53634                                            1   \n53639                                            0   \n53644                                            0   \n53649                                            0   \n\n       feat-encoded-content-transfer-encoding_base64  \\\n0                                                  0   \n5                                                  0   \n10                                                 0   \n15                                                 0   \n20                                                 0   \n...                                              ...   \n53629                                              0   \n53634                                              0   \n53639                                              0   \n53644                                              0   \n53649                                              0   \n\n       feat-encoded-content-transfer-encoding_binary  \\\n0                                                  0   \n5                                                  0   \n10                                                 0   \n15                                                 0   \n20                                                 0   \n...                                              ...   \n53629                                              0   \n53634                                              0   \n53639                                              0   \n53644                                              0   \n53649                                              0   \n\n       feat-encoded-content-transfer-encoding_quoted-printable  \\\n0                                                      0         \n5                                                      0         \n10                                                     0         \n15                                                     1         \n20                                                     0         \n...                                                  ...         \n53629                                                  0         \n53634                                                  0         \n53639                                                  0         \n53644                                                  0         \n53649                                                  0         \n\n       feat-encoded-precedence_bulk  feat-encoded-precedence_first-class  \\\n0                                 0                                    0   \n5                                 1                                    0   \n10                                0                                    0   \n15                                0                                    0   \n20                                1                                    0   \n...                             ...                                  ...   \n53629                             1                                    0   \n53634                             0                                    0   \n53639                             0                                    0   \n53644                             1                                    0   \n53649                             1                                    0   \n\n       feat-encoded-precedence_list  ...  feat-encoded-x-mailer_exmh  \\\n0                                 0  ...                           0   \n5                                 0  ...                           0   \n10                                0  ...                           0   \n15                                0  ...                           0   \n20                                0  ...                           0   \n...                             ...  ...                         ...   \n53629                             0  ...                           0   \n53634                             0  ...                           0   \n53639                             0  ...                           0   \n53644                             0  ...                           0   \n53649                             0  ...                           1   \n\n       feat-encoded-x-mailer_internetmailservice  \\\n0                                              0   \n5                                              0   \n10                                             0   \n15                                             0   \n20                                             0   \n...                                          ...   \n53629                                          0   \n53634                                          0   \n53639                                          0   \n53644                                          0   \n53649                                          0   \n\n       feat-encoded-x-mailer_microsoftcdoforwindows  \\\n0                                                 0   \n5                                                 0   \n10                                                0   \n15                                                0   \n20                                                0   \n...                                             ...   \n53629                                             0   \n53634                                             0   \n53639                                             0   \n53644                                             0   \n53649                                             0   \n\n       feat-encoded-x-mailer_microsoftoutlookbuild  \\\n0                                                0   \n5                                                0   \n10                                               0   \n15                                               0   \n20                                               0   \n...                                            ...   \n53629                                            0   \n53634                                            0   \n53639                                            0   \n53644                                            0   \n53649                                            0   \n\n       feat-encoded-x-mailer_microsoftoutlookexpress  \\\n0                                                  0   \n5                                                  0   \n10                                                 0   \n15                                                 0   \n20                                                 0   \n...                                              ...   \n53629                                              0   \n53634                                              0   \n53639                                              0   \n53644                                              0   \n53649                                              0   \n\n       feat-encoded-x-mailer_microsoftoutlookimobuild  \\\n0                                                   0   \n5                                                   0   \n10                                                  0   \n15                                                  0   \n20                                                  0   \n...                                               ...   \n53629                                               0   \n53634                                               0   \n53639                                               0   \n53644                                               0   \n53649                                               0   \n\n       feat-encoded-x-mailer_mozilla  feat-encoded-x-mailer_other  \\\n0                                  0                            1   \n5                                  0                            0   \n10                                 0                            0   \n15                                 0                            0   \n20                                 1                            0   \n...                              ...                          ...   \n53629                              0                            0   \n53634                              0                            1   \n53639                              0                            0   \n53644                              0                            0   \n53649                              0                            0   \n\n       feat-encoded-x-mailer_sylpheedclaws  \\\n0                                        0   \n5                                        0   \n10                                       0   \n15                                       0   \n20                                       0   \n...                                    ...   \n53629                                    0   \n53634                                    0   \n53639                                    0   \n53644                                    0   \n53649                                    0   \n\n       feat-encoded-x-mailer_ximianevolution  \n0                                          0  \n5                                          0  \n10                                         0  \n15                                         0  \n20                                         0  \n...                                      ...  \n53629                                      1  \n53634                                      0  \n53639                                      0  \n53644                                      0  \n53649                                      0  \n\n[9154 rows x 48 columns]",
      "text/html": "<div>\n<style scoped>\n    .dataframe tbody tr th:only-of-type {\n        vertical-align: middle;\n    }\n\n    .dataframe tbody tr th {\n        vertical-align: top;\n    }\n\n    .dataframe thead th {\n        text-align: right;\n    }\n</style>\n<table border=\"1\" class=\"dataframe\">\n  <thead>\n    <tr style=\"text-align: right;\">\n      <th></th>\n      <th>feat-cc-count</th>\n      <th>feat-duplicate-message-id</th>\n      <th>feat-encoded-content-transfer-encoding_7bit</th>\n      <th>feat-encoded-content-transfer-encoding_8bit</th>\n      <th>feat-encoded-content-transfer-encoding_base64</th>\n      <th>feat-encoded-content-transfer-encoding_binary</th>\n      <th>feat-encoded-content-transfer-encoding_quoted-printable</th>\n      <th>feat-encoded-precedence_bulk</th>\n      <th>feat-encoded-precedence_first-class</th>\n      <th>feat-encoded-precedence_list</th>\n      <th>...</th>\n      <th>feat-encoded-x-mailer_exmh</th>\n      <th>feat-encoded-x-mailer_internetmailservice</th>\n      <th>feat-encoded-x-mailer_microsoftcdoforwindows</th>\n      <th>feat-encoded-x-mailer_microsoftoutlookbuild</th>\n      <th>feat-encoded-x-mailer_microsoftoutlookexpress</th>\n      <th>feat-encoded-x-mailer_microsoftoutlookimobuild</th>\n      <th>feat-encoded-x-mailer_mozilla</th>\n      <th>feat-encoded-x-mailer_other</th>\n      <th>feat-encoded-x-mailer_sylpheedclaws</th>\n      <th>feat-encoded-x-mailer_ximianevolution</th>\n    </tr>\n  </thead>\n  <tbody>\n    <tr>\n      <th>0</th>\n      <td>NaN</td>\n      <td>0.0</td>\n      <td>0</td>\n      <td>0</td>\n      <td>0</td>\n      <td>0</td>\n      <td>0</td>\n      <td>0</td>\n      <td>0</td>\n      <td>0</td>\n      <td>...</td>\n      <td>0</td>\n      <td>0</td>\n      <td>0</td>\n      <td>0</td>\n      <td>0</td>\n      <td>0</td>\n      <td>0</td>\n      <td>1</td>\n      <td>0</td>\n      <td>0</td>\n    </tr>\n    <tr>\n      <th>5</th>\n      <td>NaN</td>\n      <td>1.0</td>\n      <td>1</td>\n      <td>0</td>\n      <td>0</td>\n      <td>0</td>\n      <td>0</td>\n      <td>1</td>\n      <td>0</td>\n      <td>0</td>\n      <td>...</td>\n      <td>0</td>\n      <td>0</td>\n      <td>0</td>\n      <td>0</td>\n      <td>0</td>\n      <td>0</td>\n      <td>0</td>\n      <td>0</td>\n      <td>0</td>\n      <td>0</td>\n    </tr>\n    <tr>\n      <th>10</th>\n      <td>NaN</td>\n      <td>1.0</td>\n      <td>1</td>\n      <td>0</td>\n      <td>0</td>\n      <td>0</td>\n      <td>0</td>\n      <td>0</td>\n      <td>0</td>\n      <td>0</td>\n      <td>...</td>\n      <td>0</td>\n      <td>0</td>\n      <td>0</td>\n      <td>0</td>\n      <td>0</td>\n      <td>0</td>\n      <td>0</td>\n      <td>0</td>\n      <td>0</td>\n      <td>0</td>\n    </tr>\n    <tr>\n      <th>15</th>\n      <td>NaN</td>\n      <td>1.0</td>\n      <td>0</td>\n      <td>0</td>\n      <td>0</td>\n      <td>0</td>\n      <td>1</td>\n      <td>0</td>\n      <td>0</td>\n      <td>0</td>\n      <td>...</td>\n      <td>0</td>\n      <td>0</td>\n      <td>0</td>\n      <td>0</td>\n      <td>0</td>\n      <td>0</td>\n      <td>0</td>\n      <td>0</td>\n      <td>0</td>\n      <td>0</td>\n    </tr>\n    <tr>\n      <th>20</th>\n      <td>NaN</td>\n      <td>1.0</td>\n      <td>1</td>\n      <td>0</td>\n      <td>0</td>\n      <td>0</td>\n      <td>0</td>\n      <td>1</td>\n      <td>0</td>\n      <td>0</td>\n      <td>...</td>\n      <td>0</td>\n      <td>0</td>\n      <td>0</td>\n      <td>0</td>\n      <td>0</td>\n      <td>0</td>\n      <td>1</td>\n      <td>0</td>\n      <td>0</td>\n      <td>0</td>\n    </tr>\n    <tr>\n      <th>...</th>\n      <td>...</td>\n      <td>...</td>\n      <td>...</td>\n      <td>...</td>\n      <td>...</td>\n      <td>...</td>\n      <td>...</td>\n      <td>...</td>\n      <td>...</td>\n      <td>...</td>\n      <td>...</td>\n      <td>...</td>\n      <td>...</td>\n      <td>...</td>\n      <td>...</td>\n      <td>...</td>\n      <td>...</td>\n      <td>...</td>\n      <td>...</td>\n      <td>...</td>\n      <td>...</td>\n    </tr>\n    <tr>\n      <th>53629</th>\n      <td>NaN</td>\n      <td>NaN</td>\n      <td>0</td>\n      <td>0</td>\n      <td>0</td>\n      <td>0</td>\n      <td>0</td>\n      <td>1</td>\n      <td>0</td>\n      <td>0</td>\n      <td>...</td>\n      <td>0</td>\n      <td>0</td>\n      <td>0</td>\n      <td>0</td>\n      <td>0</td>\n      <td>0</td>\n      <td>0</td>\n      <td>0</td>\n      <td>0</td>\n      <td>1</td>\n    </tr>\n    <tr>\n      <th>53634</th>\n      <td>2.0</td>\n      <td>NaN</td>\n      <td>0</td>\n      <td>1</td>\n      <td>0</td>\n      <td>0</td>\n      <td>0</td>\n      <td>0</td>\n      <td>0</td>\n      <td>0</td>\n      <td>...</td>\n      <td>0</td>\n      <td>0</td>\n      <td>0</td>\n      <td>0</td>\n      <td>0</td>\n      <td>0</td>\n      <td>0</td>\n      <td>1</td>\n      <td>0</td>\n      <td>0</td>\n    </tr>\n    <tr>\n      <th>53639</th>\n      <td>NaN</td>\n      <td>NaN</td>\n      <td>0</td>\n      <td>0</td>\n      <td>0</td>\n      <td>0</td>\n      <td>0</td>\n      <td>0</td>\n      <td>0</td>\n      <td>0</td>\n      <td>...</td>\n      <td>0</td>\n      <td>0</td>\n      <td>0</td>\n      <td>0</td>\n      <td>0</td>\n      <td>0</td>\n      <td>0</td>\n      <td>0</td>\n      <td>0</td>\n      <td>0</td>\n    </tr>\n    <tr>\n      <th>53644</th>\n      <td>NaN</td>\n      <td>NaN</td>\n      <td>1</td>\n      <td>0</td>\n      <td>0</td>\n      <td>0</td>\n      <td>0</td>\n      <td>1</td>\n      <td>0</td>\n      <td>0</td>\n      <td>...</td>\n      <td>0</td>\n      <td>0</td>\n      <td>0</td>\n      <td>0</td>\n      <td>0</td>\n      <td>0</td>\n      <td>0</td>\n      <td>0</td>\n      <td>0</td>\n      <td>0</td>\n    </tr>\n    <tr>\n      <th>53649</th>\n      <td>1.0</td>\n      <td>NaN</td>\n      <td>1</td>\n      <td>0</td>\n      <td>0</td>\n      <td>0</td>\n      <td>0</td>\n      <td>1</td>\n      <td>0</td>\n      <td>0</td>\n      <td>...</td>\n      <td>1</td>\n      <td>0</td>\n      <td>0</td>\n      <td>0</td>\n      <td>0</td>\n      <td>0</td>\n      <td>0</td>\n      <td>0</td>\n      <td>0</td>\n      <td>0</td>\n    </tr>\n  </tbody>\n</table>\n<p>9154 rows × 48 columns</p>\n</div>"
     },
     "execution_count": 32,
     "metadata": {},
     "output_type": "execute_result"
    }
   ],
   "source": [
    "with_encoded_mailer_df = one_hot_encode(with_binned_mailer_df, 'x-mailer')\n",
    "with_encoded_mailer_df[get_feat_cols(with_encoded_mailer_df)]"
   ],
   "metadata": {
    "collapsed": false,
    "ExecuteTime": {
     "end_time": "2023-06-19T19:50:18.267334Z",
     "start_time": "2023-06-19T19:50:17.531880Z"
    }
   }
  },
  {
   "cell_type": "markdown",
   "source": [
    "## Text Features"
   ],
   "metadata": {
    "collapsed": false
   }
  },
  {
   "cell_type": "code",
   "execution_count": 34,
   "outputs": [
    {
     "data": {
      "text/plain": "0            [Lockergnome Windows Daily]  Sticker Courtesy\n5                                                      NaN\n10       Great deals on perfect Summer cameras! (CNET S...\n15       How Microsoft plans to take over your living r...\n20            [NOVICE] pl/pgsql and returns timestamp type\n                               ...                        \n53629                                                  NaN\n53634                                                  NaN\n53639                        Speaking in Texas this Friday\n53644                                                  NaN\n53649                                                  NaN\nName: subject, Length: 9154, dtype: object"
     },
     "execution_count": 34,
     "metadata": {},
     "output_type": "execute_result"
    }
   ],
   "source": [
    "with_encoded_mailer_df['subject']"
   ],
   "metadata": {
    "collapsed": false
   }
  },
  {
   "cell_type": "code",
   "execution_count": 36,
   "outputs": [
    {
     "name": "stderr",
     "output_type": "stream",
     "text": [
      "Some weights of the model checkpoint at bert-base-cased were not used when initializing BertModel: ['cls.predictions.bias', 'cls.predictions.transform.dense.bias', 'cls.predictions.transform.LayerNorm.bias', 'cls.seq_relationship.weight', 'cls.seq_relationship.bias', 'cls.predictions.transform.dense.weight', 'cls.predictions.transform.LayerNorm.weight']\n",
      "- This IS expected if you are initializing BertModel from the checkpoint of a model trained on another task or with another architecture (e.g. initializing a BertForSequenceClassification model from a BertForPreTraining model).\n",
      "- This IS NOT expected if you are initializing BertModel from the checkpoint of a model that you expect to be exactly identical (initializing a BertForSequenceClassification model from a BertForSequenceClassification model).\n"
     ]
    }
   ],
   "source": [
    "from transformers import AutoTokenizer, AutoModel\n",
    "\n",
    "tokenizer = AutoTokenizer.from_pretrained('bert-base-cased')\n",
    "model = AutoModel.from_pretrained('bert-base-cased')"
   ],
   "metadata": {
    "collapsed": false,
    "ExecuteTime": {
     "end_time": "2023-06-19T19:59:30.503038Z",
     "start_time": "2023-06-19T19:59:29.140040Z"
    }
   }
  },
  {
   "cell_type": "code",
   "execution_count": 72,
   "outputs": [
    {
     "data": {
      "text/plain": "dict_keys([0, 10, 15, 20, 25, 35, 40, 50, 55, 70, 75, 80, 85, 95, 110, 125, 130, 135, 140, 150, 155, 160, 165, 175, 180, 190, 195, 205, 210, 215, 220, 230, 245, 250, 255, 260, 265, 285, 290, 300, 305, 320, 325, 330, 345, 355, 360, 365, 375, 380, 385, 390, 395, 400, 405, 410, 415, 420, 425, 430, 440, 450, 470, 475, 485, 495, 500, 510, 525, 530, 535, 540, 550, 560, 565, 570, 575, 580, 585, 590, 595, 600, 605, 610, 615, 620, 625, 630, 635, 640, 650, 655, 660, 675, 680, 695, 715, 720, 725, 740, 745, 750, 755, 760, 765, 780, 790, 795, 800, 805, 810, 820, 825, 835, 845, 850, 855, 860, 865, 870, 880, 890, 900, 910, 915, 920, 930, 935, 945, 970, 975, 980, 985, 990, 995, 1000, 1015, 1025, 1035, 1045, 1050, 1060, 1070, 1075, 1080, 1085, 1095, 1100, 1105, 1110, 1115, 1120, 1125, 1140, 1150, 1160, 1175, 1195, 1200, 1210, 1215, 1220, 1225, 1230, 1245, 1250, 1260, 1265, 1275, 1290, 1305, 1310, 1320, 1330, 1335, 1340, 1355, 1360, 1365, 1370, 1375, 1385, 1390, 1395, 1410, 1415, 1420, 1430, 1455, 1460, 1465, 1470, 1475, 1480, 1485, 1490, 1505, 1510, 1520, 1530, 1545, 1550, 1555, 1560, 1565, 1570, 1580, 1585, 1590, 1595, 1600, 1605, 1610, 1615, 1620, 1625, 1635, 1640, 1645, 1660, 1680, 1685, 1695, 1700, 1710, 1715, 1720, 1725, 1735, 1755, 1760, 1780, 1785, 1805, 1820, 1825, 1830, 1835, 1845, 1855, 1870, 1880, 1885, 1890, 1915, 1920, 1930, 1935, 1940, 1950, 1955, 1975, 1980, 1990, 2000, 2005, 2020, 2050, 2055, 2070, 2075, 2085, 2100, 2105, 2110, 2115, 2130, 2135, 2145, 2150, 2155, 2160, 2165, 2195, 2205, 2215, 2220, 2230, 2235, 2250, 2270, 2280, 2295, 2300, 2310, 2320, 2325, 2335, 2355, 2360, 2365, 2370, 2380, 2385, 2395, 2400, 2405, 2415, 2425, 2440, 2450, 2455, 2465, 2475, 2480, 2485, 2490, 2495, 2500, 2505, 2510, 2515, 2520, 2525, 2530, 2535, 2540, 2545, 2550, 2555, 2560, 2565, 2570, 2575, 2580, 2585, 2590, 2595, 2600, 2605, 2610, 2615, 2620, 2625, 2630, 2635, 2640, 2645, 2655, 2660, 2665, 2670, 2675, 2680, 2685, 2690, 2695, 2700, 2705, 2710, 2715, 2720, 2725, 2735, 2740, 2745, 2750, 2755, 2760, 2765, 2775, 2780, 2785, 2790, 2795, 2800, 2815, 2820, 2825, 2830, 2835, 2845, 2850, 2865, 2870, 2875, 2885, 2890, 2895, 2900, 2905, 2910, 2915, 2920, 2925, 2930, 2935, 2940, 2950, 2955, 2960, 2965, 2970, 2975, 2980, 2985, 2990, 2995, 3000, 3005, 3010, 3015, 3020, 3025, 3030, 3035, 3040, 3045, 3050, 3055, 3060, 3065, 3076, 3081, 3086, 3096, 3101, 3131, 3136, 3146, 3151, 3156, 3161, 3171, 3206, 3211, 3221, 3226, 3246, 3261, 3276, 3291, 3301, 3341, 3346, 3356, 3366, 3371, 3386, 3391, 3401, 3406, 3426, 3431, 3441, 3446, 3466, 3501, 3506, 3511, 3526, 3541, 3546, 3551, 3556, 3561, 3566, 3571, 3576, 3581, 3601, 3606, 3641, 3646, 3656, 3661, 3666, 3676, 3681, 3691, 3696, 3711, 3716, 3721, 3736, 3741, 3746, 3786, 3791, 3801, 3831, 3836, 3841, 3846, 3851, 3856, 3871, 3881, 3886, 3891, 3946, 3956, 3966, 4001, 4011, 4021, 4071, 4081, 4086, 4091, 4101, 4116, 4126, 4146, 4151, 4161, 4166, 4176, 4181, 4186, 4191, 4201, 4216, 4241, 4261, 4266, 4271, 4286, 4291, 4301, 4316, 4346, 4351, 4356, 4366, 4371, 4376, 4381, 4391, 4401, 4426, 4431, 4441, 4486, 4496, 4501, 4511, 4521, 4526, 4531, 4561, 4571, 4591, 4601, 4606, 4611, 4616, 4621, 4626, 4631, 4641, 4656, 4666, 4681, 4706, 4726, 4736, 4741, 4751, 4766, 4786, 4791, 4796, 4811, 4816, 4831, 4836, 4841, 4846, 4851, 4856, 4861, 4866, 4876, 4881, 4886, 4891, 4896, 4901, 4906, 4911, 4916, 4921, 4926, 4931, 4936, 4941, 4956, 4961, 4966, 4971, 4981, 4986, 4991, 5001, 5006, 5011, 5016, 5036, 5041, 5046, 5051, 5066, 5071, 5076, 5081, 5086, 5096, 5101, 5106, 5111, 5116, 5121, 5126, 5131, 5136, 5141, 5146, 5151, 5156, 5161, 5166, 5171, 5176, 5181, 5186, 5191, 5196, 5201, 5206, 5211, 5216, 5221, 5226, 5231, 5236, 5251, 5256, 5261, 5266, 5276, 5281, 5286, 5291, 5301, 5306, 5316, 5321, 5326, 5331, 5341, 5346, 5351, 5356, 5361, 5366, 5371, 5376, 5386, 5391, 5396, 5401, 5406, 5416, 5421, 5431, 5436, 5441, 5446, 5451, 5456, 5461, 5466, 5471, 5476, 5481, 5486, 5491, 5496, 5501, 5506, 5511, 5516, 5521, 5526, 5531, 5536, 5541, 5551, 5556, 5561, 5566, 5571, 5576, 5586, 5591, 5596, 5601, 5606, 5611, 5616, 5621, 5626, 5631, 5636, 5646, 5651, 5661, 5666, 5671, 5676, 5681, 5686, 5691, 5696, 5701, 5706, 5711, 5721, 5726, 5731, 5741, 5746, 5751, 5756, 5761, 5766, 5771, 5776, 5786, 5791, 5796, 5801, 5806, 5811, 5816, 5821, 5826, 5831, 5841, 5851, 5856, 5861, 5866, 5871, 5881, 5886, 5891, 5906, 5911, 5916, 5921, 5926, 5931, 5936, 5941, 5951, 5956, 5961, 5966, 5971, 5976, 5986, 5991, 5996, 6001, 6006, 6021, 6026, 6031, 6041, 6046, 6061, 6066, 6071, 6076, 6101, 6106, 6111, 6116, 6121, 6126, 6131, 6136, 6141, 6146, 6156, 6161, 6176, 6181, 6186, 6191, 6201, 6206, 6211, 6216, 6221, 6226, 6231, 6241, 6251, 6256, 6261, 6266, 6276, 6281, 6286, 6291, 6296, 6301, 6306, 6311, 6316, 6321, 6326, 6331, 6336, 6341, 6346, 6351, 6356, 6371, 6376, 6381, 6386, 6391, 6396, 6401, 6406, 6411, 6416, 6421, 6426, 6431, 6441, 6446, 6456, 6461, 6471, 6476, 6481, 6486, 6491, 6511, 6516, 6521, 6526, 6531, 6536, 6541, 6546, 6551, 6556, 6561, 6566, 6571, 6576, 6581, 6586, 6591, 6596, 6601, 6606, 6616, 6621, 6626, 6631, 6636, 6646, 6656, 6661, 6666, 6686, 6691, 6701, 6706, 6711, 6716, 6721, 6726, 6731, 6746, 6756, 6761, 6766, 6776, 6781, 6786, 6791, 6796, 6806, 6811, 6816, 6821, 6826, 6836, 6846, 6851, 6856, 6866, 6881, 6886, 6891, 6896, 6901, 6906, 6911, 6916, 6926, 6936, 6941, 6946, 6951, 6956, 6961, 6971, 6976, 6981, 6986, 7006, 7011, 7016, 7026, 7031, 7041, 7056, 7061, 7066, 7071, 7076, 7081, 7086, 7096, 7106, 7111, 7116, 7121, 7131, 7136, 7141, 7146, 7151, 7161, 7166, 7168, 7224, 7259, 7264, 7269, 7274, 7279, 7284, 7289, 7294, 7299, 7304, 7309, 7314, 7319, 7324, 7329, 7334, 7344, 7349, 7359, 7364, 7369, 7379, 7384, 7389, 7394, 7399, 7404, 7409, 7414, 7424, 7429, 7439, 7444, 7454, 7459, 7464, 7474, 7479, 7484, 7489, 7494, 7499, 7504, 7509, 7514, 7524, 7534, 7544, 7554, 7559, 7569, 7574, 7584, 7589, 7604, 7614, 7619, 7629, 7634, 7639, 7644, 7649, 7654, 7659, 7674, 7679, 7694, 7699, 7704, 7709, 7714, 7719, 7724, 7729, 7734, 7739, 7744, 7754, 7759, 7764, 7769, 7774, 7779, 7784, 7789, 7799, 7804, 7809, 7814, 7824, 7829, 7834, 7839, 7844, 7854, 7864, 7874, 7879, 7884, 7894, 7899, 7904, 7909, 7914, 7919, 7924, 7929, 7934, 7939, 7944, 7949, 7954, 7959, 7974, 7979, 7989, 7994, 7999, 8004, 8009, 8014, 8019, 8024, 8029, 8034, 8039, 8044, 8049, 8054, 8059, 8074, 8084, 8089, 8094, 8104, 8109, 8114, 8119, 8124, 8129, 8134, 8139, 8144, 8149, 8154, 8159, 8164, 8174, 8179, 8184, 8189, 8194, 8204, 8209, 8214, 8219, 8224, 8229, 8239, 8244, 8249, 8254, 8259, 8264, 8269, 8279, 8284, 8289, 8294, 8299, 8304, 8309, 8314, 8324, 8329, 8334, 8339, 8354, 8359, 8369, 8379, 8384, 8389, 8394, 8399, 8404, 8409, 8414, 8424, 8429, 8434, 8439, 8449, 8454, 8469, 8474, 8484, 8489, 8494, 8499, 8504, 8509, 8514, 8529, 8539, 8544, 8549, 8554, 8559, 8564, 8579, 8584, 8589, 8594, 8599, 8609, 8614, 8619, 8624, 8634, 8639, 8644, 8649, 8654, 8659, 8669, 8674, 8679, 8684, 8689, 8694, 8699, 8704, 8709, 8719, 8724, 8734, 8739, 8744, 8749, 8759, 8764, 8774, 8779, 8784, 8789, 8794, 8799, 8804, 8809, 8814, 8819, 8824, 8829, 8834, 8839, 8844, 8849, 8854, 8859, 8869, 8874, 8879, 8884, 8889, 8894, 8899, 8909, 8914, 8919, 8929, 8944, 8949, 8954, 8964, 8969, 8974, 8979, 8984, 8999, 9004, 9009, 9014, 9019, 9024, 9029, 9039, 9044, 9054, 9059, 9064, 9069, 9074, 9079, 9084, 9089, 9099, 9104, 9109, 9119, 9124, 9134, 9139, 9144, 9154, 9159, 9164, 9169, 9174, 9179, 9194, 9199, 9214, 9219, 9224, 9229, 9234, 9239, 9244, 9254, 9259, 9264, 9274, 9279, 9284, 9294, 9299, 9304, 9309, 9314, 9319, 9324, 9329, 9334, 9339, 9344, 9354, 9359, 9364, 9369, 9379, 9384, 9389, 9394, 9399, 9404, 9409, 9414, 9419, 9429, 9434, 9439, 9444, 9449, 9454, 9459, 9464, 9469, 9474, 9484, 9489, 9494, 9504, 9509, 9519, 9524, 9529, 9534, 9539, 9544, 9549, 9554, 9559, 9564, 9569, 9574, 9579, 9584, 9589, 9599, 9604, 9609, 9614, 9619, 9629, 9634, 9639, 9649, 9654, 9664, 9669, 9674, 9679, 9684, 9689, 9694, 9699, 9709, 9719, 9724, 9729, 9739, 9749, 9779, 9784, 9789, 9809, 9814, 9819, 9834, 9839, 9849, 9859, 9869, 9894, 9899, 9904, 9919, 9929, 9939, 9954, 9964, 9969, 9974, 9994, 10004, 10014, 10019, 10024, 10039, 10049, 10054, 10069, 10074, 10079, 10099, 10104, 10114, 10119, 10124, 10129, 10134, 10139, 10144, 10149, 10164, 10169, 10174, 10194, 10204, 10224, 10248, 10253, 10258, 10263, 10268, 10273, 10278, 10288, 10293, 10298, 10303, 10308, 10313, 10318, 10323, 10328, 10333, 10338, 10348, 10353, 10373, 10378, 10383, 10393, 10403, 10408, 10413, 10418, 10423, 10428, 10433, 10438, 10443, 10448, 10453, 10458, 10463, 10468, 10473, 10478, 10483, 10488, 10498, 10503, 10508, 10513, 10518, 10523, 10528, 10533, 10538, 10543, 10548, 10553, 10558, 10563, 10573, 10578, 10583, 10588, 10593, 10598, 10603, 10608, 10613, 10623, 10628, 10633, 10638, 10643, 10648, 10653, 10658, 10663, 10668, 10673, 10678, 10688, 10693, 10698, 10703, 10708, 10713, 10718, 10723, 10728, 10733, 10738, 10743, 10753, 10758, 10763, 10768, 10773, 10778, 10783, 10788, 10793, 10803, 10808, 10813, 10818, 10828, 10833, 10838, 10843, 10848, 10853, 10858, 10863, 10868, 10873, 10878, 10883, 10888, 10893, 10898, 10903, 10908, 10913, 10918, 10923, 10933, 10938, 10943, 10948, 10953, 10958, 10963, 10978, 10983, 10988, 10993, 10998, 11003, 11008, 11018, 11028, 11033, 11038, 11043, 11048, 11053, 11058, 11063, 11073, 11078, 11083, 11088, 11093, 11098, 11103, 11108, 11113, 11118, 11128, 11133, 11138, 11143, 11148, 11153, 11158, 11163, 11173, 11183, 11188, 11193, 11198, 11203, 11208, 11213, 11218, 11223, 11228, 11233, 11238, 11243, 11248, 11253, 11258, 11263, 11268, 11273, 11283, 11288, 11293, 11298, 11303, 11308, 11313, 11318, 11323, 11328, 11333, 11338, 11343, 11348, 11353, 11358, 11363, 11368, 11373, 11378, 11383, 11393, 11398, 11403, 11408, 11413, 11418, 11423, 11428, 11433, 11438, 11443, 11448, 11453, 11458, 11463, 11468, 11473, 11478, 11483, 11488, 11498, 11503, 11508, 11513, 11533, 11538, 11543, 11548, 11558, 11563, 11568, 11573, 11578, 11583, 11588, 11593, 11603, 11608, 11613, 11618, 11628, 11633, 11638, 11643, 11648, 11658, 11663, 11668, 11673, 11678, 11683, 11688, 11693, 11698, 11703, 11708, 11713, 11718, 11723, 11728, 11733, 11738, 11743, 11748, 11753, 11758, 11763, 11773, 11778, 11783, 11788, 11793, 11798, 11803, 11808, 11813, 11818, 11823, 11828, 11833, 11838, 11843, 11848, 11853, 11858, 11863, 11873, 11878, 11883, 11888, 11893, 11898, 11903, 11908, 11913, 11918, 11923, 11933, 11938, 11943, 11948, 11953, 11958, 11963, 11968, 11973, 11978, 11983, 11988, 12008, 12013, 12018, 12023, 12028, 12033, 12038, 12043, 12048, 12053, 12058, 12063, 12073, 12078, 12083, 12088, 12093, 12098, 12103, 12108, 12113, 12118, 12123, 12128, 12133, 12138, 12143, 12148, 12158, 12163, 12168, 12173, 12178, 12183, 12193, 12198, 12203, 12208, 12213, 12218, 12228, 12233, 12238, 12243, 12253, 12258, 12263, 12268, 12273, 12278, 12283, 12288, 12293, 12298, 12303, 12308, 12318, 12323, 12328, 12333, 12338, 12343, 12348, 12353, 12358, 12363, 12368, 12373, 12378, 12383, 12388, 12393, 12398, 12403, 12408, 12418, 12423, 12433, 12438, 12443, 12448, 12458, 12463, 12473, 12478, 12483, 12488, 12493, 12503, 12508, 12513, 12518, 12523, 12528, 12533, 12543, 12548, 12553, 12558, 12563, 12568, 12573, 12583, 12588, 12593, 12598, 12603, 12608, 12613, 12618, 12623, 12628, 12633, 12638, 12643, 12648, 12653, 12658, 12663, 12668, 12673, 12678, 12683, 12688, 12698, 12713, 12718, 12723, 12728, 12738, 12743, 12748, 12753, 12758, 12763, 12773, 12778, 12783, 12788, 12793, 12798, 12803, 12808, 12813, 12828, 12838, 12843, 12853, 12858, 12863, 12868, 12873, 12878, 12888, 12893, 12898, 12903, 12908, 12913, 12918, 12923, 12928, 12933, 12938, 12943, 12948, 12953, 12958, 12963, 12968, 12973, 12978, 12988, 12993, 12998, 13003, 13013, 13018, 13023, 13028, 13033, 13038, 13043, 13048, 13053, 13058, 13063, 13068, 13073, 13083, 13088, 13098, 13103, 13108, 13113, 13118, 13123, 13128, 13133, 13138, 13143, 13148, 13153, 13158, 13163, 13168, 13173, 13178, 13188, 13193, 13198, 13203, 13208, 13213, 13218, 13223, 13228, 13233, 13238, 13248, 13253, 13258, 13263, 13268, 13273, 13278, 13283, 13288, 13293, 13298, 13303, 16538, 16543, 16548, 16553, 16558, 16563, 16568, 16573, 16578, 16583, 16588, 16593, 16598, 16603, 16608, 16613, 16618, 16623, 16628, 16638, 16643, 16648, 16653, 16658, 16663, 16668, 16678, 16683, 16688, 16693, 16698, 16703, 16713, 16718, 16728, 16733, 16738, 16743, 16748, 16753, 16758, 16763, 16768, 16773, 16788, 16803, 16808, 16813, 16818, 16823, 16833, 16838, 16843, 16853, 16858, 16868, 16878, 16888, 16893, 16898, 16903, 16908, 16918, 16923, 16928, 16933, 16938, 16943, 16948, 16953, 16958, 16963, 16968, 16973, 16978, 16983, 16988, 16993, 16998, 17003, 17008, 17013, 17018, 17023, 17028, 17033, 17038, 17043, 17048, 17058, 17063, 17068, 17073, 17083, 17088, 17093, 17098, 17108, 17113, 17118, 17123, 17128, 17133, 17138, 17143, 17148, 17153, 17158, 17163, 17168, 17173, 17178, 17183, 17188, 17193, 17198, 17203, 17208, 17213, 17218, 17223, 17228, 17233, 17238, 17243, 17248, 17253, 17268, 17273, 17278, 17283, 17288, 17293, 17298, 17303, 17308, 17313, 17318, 17323, 17328, 17333, 17338, 17343, 17348, 17363, 17368, 17373, 17378, 17383, 17388, 17393, 17398, 17408, 17413, 17418, 17423, 17428, 17433, 17438, 17443, 17448, 17458, 17463, 17468, 17473, 17478, 17483, 17488, 17493, 17498, 17503, 17508, 17513, 17518, 17523, 17528, 17533, 17538, 17543, 17548, 17553, 17558, 17563, 17568, 17573, 17578, 17598, 17603, 17608, 17623, 17628, 17633, 17638, 17643, 17648, 17653, 17658, 17663, 17668, 17673, 17678, 17683, 17688, 17693, 17698, 17703, 17708, 17713, 17718, 17723, 17728, 17738, 17748, 17753, 17758, 17773, 17778, 17783, 17788, 17793, 17798, 17803, 17808, 17813, 17818, 17823, 17828, 17833, 17838, 17843, 17848, 17853, 17858, 17863, 17868, 17873, 17878, 17888, 17893, 17898, 17903, 17913, 17918, 17923, 17928, 17933, 17943, 17948, 17953, 17958, 17963, 17973, 17978, 17988, 17993, 17998, 18003, 18008, 18013, 18018, 18023, 18028, 18033, 18038, 18043, 18048, 18058, 18063, 18068, 18073, 18078, 18083, 18088, 18093, 18098, 18103, 18108, 18113, 18118, 18123, 18133, 18138, 18143, 18148, 18153, 18168, 18173, 18178, 18183, 18188, 18193, 18203, 18208, 18213, 18218, 18228, 18233, 18238, 18243, 18248, 18253, 18258, 18263, 18273, 18278, 18283, 18288, 18293, 18298, 18308, 18313, 18328, 18333, 18338, 18343, 18353, 18358, 18363, 18378, 18393, 18398, 18403, 18408, 18413, 18418, 18423, 18428, 18433, 18438, 18443, 18448, 18453, 18468, 18473, 18478, 18483, 18493, 18498, 18503, 18513, 18518, 18528, 18538, 18543, 18548, 18553, 18558, 18563, 18568, 18573, 18578, 18583, 18588, 18593, 18598, 18603, 18608, 18613, 18618, 18623, 18628, 18633, 18638, 18648, 18653, 18658, 18663, 18668, 18673, 18683, 18688, 18693, 18698, 18703, 18708, 18713, 18718, 18723, 18738, 18743, 18748, 18753, 18758, 18763, 18768, 18773, 18778, 18783, 18793, 18798, 18813, 18818, 18828, 18833, 18838, 18848, 18863, 18873, 18878, 18883, 18888, 18893, 18898, 18903, 18908, 18913, 18918, 18923, 18933, 18938, 18943, 18948, 18958, 18963, 18968, 18973, 18978, 18983, 18993, 18998, 19003, 19008, 19013, 19018, 19023, 19028, 19033, 19038, 19043, 19048, 19053, 19063, 19068, 19073, 19078, 19083, 19088, 19093, 19098, 19103, 19113, 19123, 19133, 19138, 19143, 19148, 19153, 19158, 19163, 19168, 19173, 19178, 19183, 19193, 19198, 19203, 19208, 19213, 19218, 19223, 19228, 19238, 19243, 19248, 19253, 19258, 19263, 19268, 19273, 19278, 19283, 19288, 19293, 19298, 19303, 19308, 19318, 19323, 19328, 19333, 19338, 19343, 19348, 19353, 19363, 19368, 19373, 19378, 19383, 19388, 19393, 19398, 19408, 19413, 19418, 19423, 19428, 19433, 19443, 19448, 19453, 19458, 19463, 19473, 19478, 19483, 19493, 19498, 19503, 19508, 19518, 19528, 19533, 19538, 19543, 19548, 19553, 19558, 19563, 19568, 19573, 19578, 19583, 19588, 19593, 19598, 19603, 19608, 19613, 19618, 19623, 19628, 19633, 19638, 19643, 19648, 19658, 19663, 19668, 19678, 19688, 19693, 19698, 19703, 19708, 19713, 19718, 19723, 19728, 19733, 19738, 19743, 19748, 19753, 19758, 19763, 19768, 19778, 19783, 19788, 19798, 19803, 19808, 19813, 19818, 19823, 19828, 19833, 19838, 19843, 19848, 19853, 19858, 23199, 23204, 23244, 23259, 23269, 23284, 23289, 23364, 23379, 23384, 23459, 23544, 23569, 23594, 23619, 23659, 23694, 23709, 23729, 23739, 23759, 23824, 23854, 23859, 23869, 23894, 23909, 23924, 23929, 23939, 23944, 23949, 23954, 23964, 23984, 23989, 24039, 24049, 24074, 24079, 24089, 24099, 24124, 24134, 24199, 24214, 24229, 24234, 24239, 24244, 24249, 24264, 24334, 24384, 24389, 24404, 24429, 24444, 24479, 24519, 24534, 24539, 24544, 24559, 24644, 24714, 24724, 24754, 24759, 24814, 24824, 24844, 24859, 24864, 24879, 24889, 24899, 24914, 24929, 24934, 24939, 24959, 24994, 25024, 25059, 25074, 25094, 25099, 25149, 25194, 25219, 25249, 25254, 25279, 25294, 25309, 25334, 25364, 25374, 25419, 25424, 25444, 25474, 25524, 25539, 25554, 25589, 25659, 25664, 25674, 25684, 25704, 25719, 25724, 25739, 25744, 25779, 25819, 25824, 25859, 25864, 25874, 25884, 25894, 25904, 25939, 25949, 25959, 25969, 25979, 26004, 26034, 26059, 26149, 26174, 26224, 26264, 26269, 26279, 26284, 26309, 26324, 26329, 26379, 26424, 26444, 26449, 26494, 26504, 26529, 26539, 26544, 26554, 26569, 26589, 26599, 26624, 26654, 26664, 26699, 26704, 26719, 26759, 26769, 26824, 26829, 26864, 26869, 26874, 26909, 26919, 26939, 26954, 26959, 27004, 27019, 27035, 27045, 27095, 27105, 27110, 27120, 27130, 27135, 27150, 27165, 27195, 27205, 27210, 27215, 27220, 27225, 27230, 27250, 27260, 27280, 27290, 27305, 27310, 27315, 27320, 27330, 27350, 27360, 27375, 27380, 27385, 27420, 27430, 27435, 27460, 27470, 27475, 27485, 27515, 27525, 27530, 27545, 27550, 27570, 27585, 27590, 27600, 27605, 27610, 27625, 27635, 27640, 27645, 27650, 27675, 27700, 27710, 27740, 27745, 27750, 27755, 27780, 27800, 27805, 27845, 27860, 27865, 27885, 27890, 27895, 27900, 27905, 27910, 27920, 27935, 27940, 27980, 28005, 28015, 28055, 28070, 28075, 28105, 28120, 28135, 28145, 28160, 28170, 28175, 28180, 28190, 28195, 28210, 28245, 28250, 28260, 28265, 28295, 28300, 28305, 28310, 28315, 28350, 28355, 28380, 28390, 28415, 28430, 28435, 28440, 28445, 28450, 28455, 28460, 28470, 28475, 28490, 28520, 28530, 28535, 28540, 28550, 28560, 28575, 28605, 28625, 28630, 28640, 28645, 28650, 28655, 28680, 28685, 28690, 28695, 28705, 28715, 28720, 28730, 28740, 28750, 28755, 28765, 28780, 28795, 28810, 28835, 28840, 28845, 28855, 28860, 28865, 28870, 28875, 28880, 28885, 28890, 28915, 28925, 28950, 28955, 28965, 28985, 28995, 29000, 29020, 29045, 29050, 29060, 29080, 29090, 29105, 29125, 29140, 29145, 29150, 29155, 29165, 29180, 29190, 29195, 29215, 29235, 29240, 29245, 29260, 29280, 29285, 29305, 29310, 29320, 29325, 29330, 29345, 29375, 29385, 29410, 29415, 29420, 29450, 29460, 29490, 29500, 29515, 29520, 29535, 29545, 29565, 29575, 29585, 29595, 29605, 29610, 29620, 29625, 29635, 29650, 29655, 29665, 29675, 29685, 29710, 29720, 29725, 29730, 29740, 29745, 29765, 29780, 29800, 29805, 29810, 29830, 29850, 29855, 29860, 29865, 29870, 29875, 29910, 29935, 29940, 29945, 29960, 29985, 29990, 30005, 30025, 30030, 30040, 30060, 30065, 30080, 30090, 30095, 30105, 30125, 30130, 30135, 30140, 30155, 30200, 30210, 30220, 30225, 30235, 30245, 30260, 30270, 30275, 30285, 30290, 30300, 30305, 30320, 30330, 30335, 30340, 30365, 30375, 30380, 30385, 30390, 30395, 30400, 30405, 30410, 30415, 30425, 30430, 30435, 30440, 30445, 30450, 30455, 30460, 30465, 30485, 30500, 30510, 30515, 30520, 30545, 30555, 30560, 30570, 30580, 30600, 30610, 30620, 30640, 30655, 30660, 30665, 30680, 30685, 30695, 30705, 30715, 30725, 30730, 30735, 30740, 30765, 30770, 30780, 30785, 30800, 30805, 30810, 30815, 30825, 30840, 30845, 30850, 30870, 30880, 30900, 30905, 30930, 30955, 30960, 30965, 30975, 30980, 30990, 30995, 31005, 31015, 31035, 31050, 31055, 31060, 31070, 31075, 31080, 31090, 31095, 31100, 31110, 31115, 31125, 31131, 31136, 31141, 31146, 31151, 31156, 31171, 31176, 31181, 31186, 31211, 31221, 31226, 31231, 31256, 31266, 31291, 31296, 31306, 31316, 31321, 31341, 31346, 31356, 31366, 31371, 31386, 31396, 31401, 31421, 31426, 31431, 31436, 31441, 31451, 31461, 31496, 31501, 31511, 31531, 31541, 31556, 31561, 31596, 31631, 31636, 31641, 31656, 31671, 31676, 31681, 31686, 31691, 31696, 31706, 31711, 31716, 31721, 31731, 31741, 31746, 31761, 31766, 31786, 31791, 31826, 31836, 31841, 31866, 31886, 31906, 31911, 31916, 31921, 31931, 31951, 31976, 31981, 31986, 31991, 31996, 32016, 32021, 32046, 32051, 32056, 32061, 32076, 32086, 32096, 32101, 32106, 32136, 32161, 32181, 32211, 32216, 32221, 32231, 32236, 32241, 32266, 32271, 32301, 32351, 32356, 32366, 32371, 32391, 32406, 32411, 32416, 32421, 32426, 32431, 32436, 32461, 32471, 32486, 32491, 32511, 32521, 32536, 32546, 32556, 32566, 32611, 32616, 32656, 32661, 32666, 32706, 32711, 32721, 32736, 32741, 32746, 32771, 32786, 32791, 32801, 32806, 32816, 32821, 32826, 32831, 32846, 32861, 32866, 32871, 32881, 32901, 32906, 32916, 32921, 32926, 32931, 32946, 32951, 32956, 32966, 32971, 32996, 33006, 33011, 33016, 33036, 33046, 33051, 33076, 33081, 33101, 33116, 33121, 33146, 33161, 33166, 33171, 33176, 33186, 33191, 33211, 33216, 33231, 33236, 33241, 33256, 33271, 33276, 33291, 33296, 33316, 33321, 33331, 33336, 33341, 33351, 33361, 33366, 33376, 33381, 33401, 33436, 33471, 33476, 33486, 33491, 33506, 33526, 33536, 33551, 33556, 33571, 33581, 33591, 33596, 33601, 33616, 33626, 33631, 33656, 33676, 33706, 33711, 33731, 33736, 33751, 33756, 33766, 33771, 33781, 33786, 33791, 33801, 33806, 33821, 33826, 33831, 33841, 33846, 33851, 33861, 33866, 33876, 33881, 33901, 33906, 33941, 33956, 33961, 33976, 33991, 34001, 34011, 34016, 34036, 34056, 34066, 34071, 34081, 34086, 34096, 34111, 34121, 34131, 34136, 34141, 34146, 34176, 34181, 34191, 34196, 34201, 34216, 34221, 34241, 34246, 34251, 34256, 34261, 34266, 34271, 34286, 34291, 34296, 34306, 34311, 34321, 34346, 34351, 34361, 34386, 34401, 34421, 34441, 34471, 34486, 34501, 34506, 34521, 34556, 34561, 34571, 34581, 34586, 34591, 34601, 34606, 34621, 34641, 34646, 34656, 34661, 34666, 34691, 34696, 34701, 34706, 34721, 34726, 34736, 34746, 34756, 34781, 34791, 34801, 34806, 34816, 34831, 34836, 34866, 34871, 34886, 34896, 34901, 34911, 34921, 34931, 34946, 34961, 34976, 34981, 34991, 34996, 35011, 35016, 35021, 35026, 35061, 35066, 35081, 35086, 35101, 35106, 35111, 35126, 35131, 35136, 35146, 35161, 35166, 35171, 35176, 35191, 35196, 35236, 35241, 35256, 35276, 35306, 35311, 35346, 35381, 35391, 35406, 35466, 35501, 35511, 35526, 35531, 35561, 35571, 35641, 35661, 35666, 35671, 35691, 35751, 35781, 35831, 35846, 35861, 35871, 35896, 35901, 35911, 35976, 35996, 36001, 36006, 36011, 36036, 36051, 36056, 36061, 36106, 36111, 36136, 36206, 36226, 36256, 36286, 36301, 36316, 36376, 36381, 36401, 36411, 36421, 36426, 36456, 36491, 36521, 36536, 36546, 36581, 36591, 36631, 36636, 36671, 36696, 36716, 36756, 36766, 36796, 36801, 36881, 36896, 36901, 36931, 36946, 36971, 36981, 36986, 36991, 36996, 37036, 37051, 37081, 37086, 37091, 37106, 37111, 37126, 37136, 37141, 37156, 37166, 37221, 37226, 37271, 37316, 37326, 37341, 37356, 37366, 37376, 37381, 37411, 37461, 37471, 37476, 37486, 37531, 37556, 37616, 37636, 37646, 37726, 37731, 37736, 37771, 37786, 37801, 37831, 37891, 37901, 37926, 37956, 37961, 37966, 37976, 37996, 38026, 38041, 38056, 38101, 38156, 38161, 38166, 38246, 38286, 38328, 38343, 38353, 38363, 38368, 38373, 38378, 38388, 38398, 38403, 38408, 38418, 38423, 38468, 38493, 38498, 38518, 38523, 38543, 38553, 38573, 38598, 38623, 38628, 38633, 38653, 38658, 38663, 38668, 38678, 38683, 38688, 38713, 38723, 38733, 38738, 38743, 38763, 38768, 38778, 38788, 38793, 38798, 38818, 38828, 38838, 38848, 38853, 38858, 38863, 38888, 38893, 38898, 38908, 38913, 38918, 38953, 38973, 38998, 39008, 39013, 39018, 39028, 39038, 39053, 39058, 39103, 39108, 39113, 39118, 39123, 39133, 39148, 39158, 39168, 39198, 39203, 39213, 39218, 39228, 39238, 39243, 39258, 39263, 39268, 39273, 39278, 39283, 39293, 39308, 39313, 39333, 39343, 39348, 39353, 39358, 39368, 39378, 39398, 39408, 39418, 39423, 39438, 39443, 39448, 39458, 39468, 39473, 39483, 39493, 39498, 39508, 39513, 39518, 39533, 39538, 39548, 39558, 39568, 39578, 39598, 39603, 39608, 39613, 39643, 39648, 39658, 39663, 39678, 39683, 39688, 39698, 39703, 39713, 39738, 39778, 39793, 39798, 39813, 39828, 39833, 39838, 39843, 39853, 39858, 39868, 39898, 39908, 39943, 39948, 39968, 39988, 40013, 40043, 40063, 40068, 40073, 40088, 40093, 40098, 40103, 40108, 40118, 40148, 40153, 40168, 40173, 40178, 40188, 40203, 40218, 40223, 40228, 40238, 40243, 40258, 40268, 40278, 40283, 40288, 40298, 40303, 40313, 40323, 40348, 40353, 40358, 40363, 40368, 40373, 40378, 40383, 40403, 40408, 40418, 40423, 40438, 40448, 40453, 40458, 40468, 40473, 40483, 40498, 40513, 40528, 40533, 40538, 40553, 40558, 40563, 40568, 40573, 40578, 40598, 40613, 40618, 40623, 40633, 40678, 40698, 40703, 40713, 40718, 40738, 40743, 40748, 40753, 40763, 40768, 40783, 40788, 40798, 40808, 40813, 40818, 40823, 40833, 40838, 40858, 40863, 40873, 40893, 40903, 40913, 40943, 40953, 40958, 40963, 40983, 40993, 40998, 41003, 41013, 41023, 41043, 41053, 41058, 41073, 41083, 41108, 41113, 41123, 41133, 41138, 41143, 41153, 41158, 41168, 41173, 41178, 41183, 41213, 41218, 41223, 41243, 41253, 41263, 41268, 41278, 41288, 41293, 41298, 41308, 41348, 41353, 41358, 41363, 41370, 41380, 41385, 41390, 41395, 41405, 41410, 41415, 41420, 41425, 41435, 41440, 41445, 41450, 41455, 41465, 41470, 41475, 41480, 41490, 41495, 41500, 41510, 41515, 41530, 41555, 41560, 41575, 41595, 41605, 41610, 41615, 41625, 41630, 41640, 41645, 41680, 41685, 41690, 41695, 41700, 41710, 41715, 41725, 41760, 41765, 41770, 41775, 41780, 41785, 41795, 41800, 41805, 41810, 41815, 41820, 41835, 41850, 41855, 41885, 41890, 41905, 41910, 41915, 41935, 41950, 41980, 41985, 41990, 42000, 42010, 42020, 42040, 42045, 42050, 42070, 42075, 42085, 42090, 42095, 42115, 42150, 42155, 42165, 42170, 42185, 42200, 42220, 42225, 42230, 42240, 42245, 42250, 42260, 42275, 42290, 42305, 42310, 42315, 42320, 42330, 42335, 42410, 42415, 42440, 42445, 42460, 42470, 42475, 42505, 42530, 42535, 42540, 42545, 42565, 42590, 42605, 42610, 42640, 42665, 42685, 42690, 42695, 42705, 42715, 42725, 42730, 42735, 42755, 42760, 42765, 42770, 42780, 42785, 42800, 42805, 42825, 42830, 42855, 42865, 42870, 42875, 42885, 42950, 42955, 42965, 42970, 42980, 42995, 43000, 43005, 43020, 43025, 43030, 43050, 43065, 43075, 43080, 43085, 43100, 43105, 43115, 43120, 43125, 43130, 43135, 43140, 43145, 43155, 43175, 43190, 43215, 43225, 43230, 43235, 43240, 43245, 43260, 43265, 43270, 43310, 43315, 43320, 43335, 43340, 43360, 43365, 43375, 43385, 43390, 43415, 43420, 43425, 43430, 43435, 43450, 43460, 43465, 43470, 43480, 43490, 43515, 43525, 43535, 43545, 43555, 43565, 43595, 43600, 43625, 43650, 43675, 43680, 43685, 43705, 43710, 43715, 43730, 43750, 43760, 43785, 43790, 43795, 43800, 43810, 43815, 43820, 43860, 43865, 43875, 43890, 43910, 43920, 43930, 43935, 43945, 43960, 43970, 43975, 43990, 44010, 44025, 44035, 44040, 44055, 44060, 44080, 44085, 44100, 44110, 44115, 44125, 44130, 44150, 44155, 44160, 44165, 44175, 44195, 44205, 44220, 44225, 44245, 44255, 44260, 44295, 44300, 44310, 44315, 44325, 44330, 44335, 44355, 44365, 44375, 44385, 44395, 44410, 44425, 44430, 44447, 44457, 44467, 44472, 44482, 44497, 44502, 44522, 44527, 44542, 44567, 44577, 44607, 44612, 44637, 44642, 44667, 44672, 44677, 44687, 44692, 44697, 44737, 44767, 44772, 44817, 44827, 44837, 44842, 44847, 44867, 44907, 44912, 44932, 44962, 44987, 44992, 45027, 45032, 45037, 45047, 45057, 45067, 45082, 45087, 45097, 45107, 45142, 45162, 45167, 45172, 45182, 45197, 45227, 45232, 45237, 45252, 45257, 45262, 45272, 45287, 45297, 45307, 45322, 45327, 45342, 45352, 45372, 45382, 45387, 45397, 45407, 45412, 45422, 45427, 45442, 45447, 45462, 45467, 45482, 45502, 45517, 45527, 45547, 45552, 45562, 45567, 45572, 45587, 45597, 45612, 45617, 45622, 45637, 45647, 45667, 45672, 45682, 45687, 45692, 45702, 45722, 45737, 45742, 45747, 45762, 45782, 45822, 45827, 45842, 45852, 45867, 45877, 45892, 45912, 45917, 45937, 45942, 45957, 45977, 45987, 45992, 46017, 46022, 46027, 46067, 46077, 46087, 46102, 46107, 46127, 46132, 46137, 46142, 46152, 46232, 46237, 46247, 46252, 46262, 46267, 46272, 46307, 46312, 46322, 46327, 46332, 46342, 46347, 46392, 46402, 46407, 46427, 46432, 46447, 46452, 46462, 46482, 46492, 46497, 46502, 46507, 46512, 46527, 46532, 46562, 46567, 46597, 46602, 46607, 46622, 46637, 46642, 46657, 46662, 46677, 46682, 46697, 46727, 46742, 46752, 46772, 46787, 46802, 46812, 46837, 46852, 46862, 46867, 46887, 46892, 46897, 46902, 46922, 46932, 46942, 46947, 46957, 46967, 46982, 47002, 47012, 47027, 47032, 47037, 47042, 47057, 47062, 47082, 47512, 47537, 47552, 47562, 47567, 47587, 47632, 47642, 47672, 47682, 47727, 47742, 47747, 47767, 47772, 47777, 47787, 47842, 47852, 47857, 47882, 47917, 47927, 47932, 47952, 47957, 47962, 47977, 48012, 48027, 48037, 48047, 48072, 48077, 48117, 48122, 48137, 48142, 48162, 48177, 48182, 48202, 48212, 48222, 48227, 48237, 48242, 48257, 48282, 48287, 48292, 48297, 48302, 48317, 48327, 48337, 48347, 48352, 48362, 48382, 48387, 48392, 48412, 48442, 48447, 48452, 48457, 48467, 48477, 48482, 48487, 48497, 48512, 48522, 48537, 48542, 48547, 48557, 48577, 48587, 48592, 48597, 48602, 48607, 48612, 48622, 48637, 48647, 48652, 48662, 48667, 48677, 48682, 48687, 48717, 48722, 48737, 48767, 48807, 48812, 48817, 48822, 48837, 48847, 48852, 48857, 48877, 48892, 48907, 48922, 48927, 48932, 48937, 48942, 48952, 48957, 48962, 48967, 48982, 48987, 49017, 49042, 49047, 49067, 49092, 49097, 49112, 49117, 49122, 49127, 49147, 49152, 49157, 49177, 49187, 49202, 49217, 49222, 49247, 49252, 49287, 49292, 49297, 49312, 49327, 49332, 49337, 49342, 49347, 49352, 49382, 49392, 49397, 49407, 49412, 49417, 49427, 49432, 49437, 49467, 49477, 49487, 49492, 49497, 49502, 49512, 49527, 49542, 49557, 49587, 49597, 49602, 49607, 49622, 49627, 49632, 49637, 49657, 49662, 49667, 49672, 49677, 49687, 49697, 49702, 49707, 49727, 49737, 49742, 49762, 49767, 49772, 49787, 49802, 49807, 49812, 49822, 49827, 49847, 49857, 49862, 49867, 49872, 49877, 49892, 49927, 49942, 49962, 49972, 49977, 49987, 49992, 50012, 50017, 50022, 50067, 50082, 50092, 50107, 50112, 50122, 50137, 50142, 50157, 50167, 50177, 50187, 50202, 50207, 50217, 50232, 50247, 50252, 50277, 50292, 50352, 50372, 50402, 50412, 50422, 50437, 50442, 50447, 50457, 50472, 50487, 50492, 50497, 50512, 50522, 50527, 50537, 50552, 50572, 50577, 50584, 50634, 50639, 50669, 50674, 50699, 50714, 50729, 50734, 50754, 50774, 50784, 50814, 50834, 50839, 50849, 50854, 50909, 50939, 50959, 50979, 50989, 51009, 51019, 51024, 51029, 51054, 51069, 51079, 51084, 51134, 51139, 51149, 51154, 51159, 51179, 51189, 51199, 51209, 51214, 51224, 51254, 51259, 51274, 51304, 51314, 51354, 51384, 51409, 51414, 51419, 51424, 51434, 51444, 51449, 51454, 51459, 51464, 51474, 51484, 51494, 51504, 51544, 51559, 51569, 51579, 51599, 51604, 51609, 51619, 51629, 51644, 51649, 51654, 51679, 51689, 51714, 51724, 51734, 51769, 51774, 51784, 51799, 51824, 51834, 51839, 51859, 51869, 51879, 51884, 51894, 51909, 51944, 51959, 51974, 51979, 51984, 51994, 51999, 52004, 52014, 52024, 52049, 52064, 52079, 52114, 52124, 52129, 52134, 52159, 52174, 52184, 52189, 52194, 52209, 52234, 52239, 52249, 52259, 52264, 52279, 52294, 52299, 52309, 52314, 52324, 52329, 52339, 52349, 52354, 52379, 52429, 52459, 52474, 52519, 52539, 52554, 52569, 52619, 52639, 52649, 52654, 52659, 52669, 52674, 52689, 52704, 52709, 52724, 52744, 52749, 52774, 52799, 52804, 52809, 52819, 52824, 52829, 52839, 52844, 52849, 52854, 52864, 52884, 52889, 52899, 52904, 52939, 52949, 52964, 52999, 53004, 53009, 53014, 53019, 53029, 53034, 53049, 53059, 53079, 53084, 53094, 53104, 53119, 53124, 53144, 53154, 53169, 53174, 53184, 53194, 53199, 53244, 53249, 53254, 53279, 53284, 53289, 53309, 53324, 53334, 53359, 53389, 53394, 53404, 53414, 53419, 53434, 53454, 53459, 53489, 53494, 53499, 53504, 53524, 53529, 53539, 53544, 53569, 53574, 53589, 53594, 53604, 53614, 53639])"
     },
     "execution_count": 72,
     "metadata": {},
     "output_type": "execute_result"
    }
   ],
   "source": [
    "embeddings = {}\n",
    "\n",
    "\n",
    "def tokenize_email(row):\n",
    "    subject = row['subject']\n",
    "    if pd.isna(subject):\n",
    "        return row\n",
    "\n",
    "    encoded_input = tokenizer(subject, return_tensors='pt')\n",
    "    output = model(**encoded_input)\n",
    "    email_embedding = output.last_hidden_state.mean(dim=1)\n",
    "    embeddings[row.name] = email_embedding.detach().numpy()\n",
    "    return row\n",
    "\n",
    "\n",
    "with_encoded_mailer_df.apply(tokenize_email, axis=1)\n",
    "embeddings.keys()"
   ],
   "metadata": {
    "collapsed": false,
    "ExecuteTime": {
     "end_time": "2023-06-19T20:32:48.970928Z",
     "start_time": "2023-06-19T20:30:05.250187Z"
    }
   }
  },
  {
   "cell_type": "code",
   "execution_count": 73,
   "outputs": [
    {
     "name": "stderr",
     "output_type": "stream",
     "text": [
      "/var/folders/_t/kjvh_2295rnbf4fvm71_rcfm0000gn/T/ipykernel_47225/4071314012.py:3: FutureWarning: arrays to stack must be passed as a \"sequence\" type such as list or tuple. Support for non-sequence iterables such as generators is deprecated as of NumPy 1.16 and will raise an error in the future.\n",
      "  embeddings_array = np.vstack(embeddings.values())\n"
     ]
    },
    {
     "data": {
      "text/plain": "array([[-0.69894075, -1.0172611 ,  0.35746828, ..., -1.2071154 ,\n         0.2889372 ,  0.3350447 ],\n       [-1.7731428 ,  0.595579  ,  0.3318903 , ..., -1.1492454 ,\n        -0.5359675 , -0.35100642],\n       [-2.1570091 , -0.09000626, -0.41435495, ..., -0.77879965,\n        -0.42611787,  0.06220271],\n       ...,\n       [-0.6522845 , -0.09001421, -1.0258795 , ..., -0.00417939,\n         2.525723  , -0.3599519 ],\n       [-0.44558877, -0.20607898, -0.21497835, ..., -1.027054  ,\n        -0.21153268,  0.34008992],\n       [ 0.986225  ,  0.6319695 , -1.0163678 , ..., -0.9033133 ,\n        -0.25137243, -0.4272848 ]], dtype=float32)"
     },
     "execution_count": 73,
     "metadata": {},
     "output_type": "execute_result"
    }
   ],
   "source": [
    "from sklearn.decomposition import PCA\n",
    "\n",
    "embeddings_array = np.vstack(embeddings.values())\n",
    "dimensions = 10\n",
    "pca = PCA(n_components=dimensions)\n",
    "reduced_embeddings = pca.fit_transform(embeddings_array)\n",
    "reduced_embeddings"
   ],
   "metadata": {
    "collapsed": false,
    "ExecuteTime": {
     "end_time": "2023-06-19T20:32:49.057282Z",
     "start_time": "2023-06-19T20:32:48.973557Z"
    }
   }
  },
  {
   "cell_type": "code",
   "execution_count": 74,
   "outputs": [
    {
     "data": {
      "text/plain": "       feat-cc-count  feat-duplicate-message-id  \\\n0                NaN                        0.0   \n5                NaN                        1.0   \n10               NaN                        1.0   \n15               NaN                        1.0   \n20               NaN                        1.0   \n...              ...                        ...   \n53629            NaN                        NaN   \n53634            2.0                        NaN   \n53639            NaN                        NaN   \n53644            NaN                        NaN   \n53649            1.0                        NaN   \n\n       feat-encoded-content-transfer-encoding_7bit  \\\n0                                                0   \n5                                                1   \n10                                               1   \n15                                               0   \n20                                               1   \n...                                            ...   \n53629                                            0   \n53634                                            0   \n53639                                            0   \n53644                                            1   \n53649                                            1   \n\n       feat-encoded-content-transfer-encoding_8bit  \\\n0                                                0   \n5                                                0   \n10                                               0   \n15                                               0   \n20                                               0   \n...                                            ...   \n53629                                            0   \n53634                                            1   \n53639                                            0   \n53644                                            0   \n53649                                            0   \n\n       feat-encoded-content-transfer-encoding_base64  \\\n0                                                  0   \n5                                                  0   \n10                                                 0   \n15                                                 0   \n20                                                 0   \n...                                              ...   \n53629                                              0   \n53634                                              0   \n53639                                              0   \n53644                                              0   \n53649                                              0   \n\n       feat-encoded-content-transfer-encoding_binary  \\\n0                                                  0   \n5                                                  0   \n10                                                 0   \n15                                                 0   \n20                                                 0   \n...                                              ...   \n53629                                              0   \n53634                                              0   \n53639                                              0   \n53644                                              0   \n53649                                              0   \n\n       feat-encoded-content-transfer-encoding_quoted-printable  \\\n0                                                      0         \n5                                                      0         \n10                                                     0         \n15                                                     1         \n20                                                     0         \n...                                                  ...         \n53629                                                  0         \n53634                                                  0         \n53639                                                  0         \n53644                                                  0         \n53649                                                  0         \n\n       feat-encoded-precedence_bulk  feat-encoded-precedence_first-class  \\\n0                                 0                                    0   \n5                                 1                                    0   \n10                                0                                    0   \n15                                0                                    0   \n20                                1                                    0   \n...                             ...                                  ...   \n53629                             1                                    0   \n53634                             0                                    0   \n53639                             0                                    0   \n53644                             1                                    0   \n53649                             1                                    0   \n\n       feat-encoded-precedence_list  ...  feat-subject-embedding-0  \\\n0                                 0  ...                 -0.698941   \n5                                 0  ...                       NaN   \n10                                0  ...                 -1.773143   \n15                                0  ...                 -2.157009   \n20                                0  ...                 -2.104642   \n...                             ...  ...                       ...   \n53629                             0  ...                       NaN   \n53634                             0  ...                       NaN   \n53639                             0  ...                  0.986225   \n53644                             0  ...                       NaN   \n53649                             0  ...                       NaN   \n\n       feat-subject-embedding-1  feat-subject-embedding-2  \\\n0                     -1.017261                  0.357468   \n5                           NaN                       NaN   \n10                     0.595579                  0.331890   \n15                    -0.090006                 -0.414355   \n20                    -1.858202                  0.353218   \n...                         ...                       ...   \n53629                       NaN                       NaN   \n53634                       NaN                       NaN   \n53639                  0.631970                 -1.016368   \n53644                       NaN                       NaN   \n53649                       NaN                       NaN   \n\n       feat-subject-embedding-3  feat-subject-embedding-4  \\\n0                     -0.379588                 -1.680987   \n5                           NaN                       NaN   \n10                     1.277573                 -0.143662   \n15                     0.713300                 -0.002243   \n20                    -0.002266                  1.156176   \n...                         ...                       ...   \n53629                       NaN                       NaN   \n53634                       NaN                       NaN   \n53639                 -0.483061                  0.258043   \n53644                       NaN                       NaN   \n53649                       NaN                       NaN   \n\n       feat-subject-embedding-5  feat-subject-embedding-6  \\\n0                     -0.042240                 -0.179343   \n5                           NaN                       NaN   \n10                    -0.527984                  0.594515   \n15                    -0.657375                  0.665949   \n20                     0.989521                  1.036399   \n...                         ...                       ...   \n53629                       NaN                       NaN   \n53634                       NaN                       NaN   \n53639                 -0.659922                 -0.543884   \n53644                       NaN                       NaN   \n53649                       NaN                       NaN   \n\n       feat-subject-embedding-7  feat-subject-embedding-8  \\\n0                     -1.207115                  0.288937   \n5                           NaN                       NaN   \n10                    -1.149245                 -0.535968   \n15                    -0.778800                 -0.426118   \n20                     1.093130                 -0.053236   \n...                         ...                       ...   \n53629                       NaN                       NaN   \n53634                       NaN                       NaN   \n53639                 -0.903313                 -0.251372   \n53644                       NaN                       NaN   \n53649                       NaN                       NaN   \n\n       feat-subject-embedding-9  \n0                      0.335045  \n5                           NaN  \n10                    -0.351006  \n15                     0.062203  \n20                     0.311117  \n...                         ...  \n53629                       NaN  \n53634                       NaN  \n53639                 -0.427285  \n53644                       NaN  \n53649                       NaN  \n\n[9154 rows x 58 columns]",
      "text/html": "<div>\n<style scoped>\n    .dataframe tbody tr th:only-of-type {\n        vertical-align: middle;\n    }\n\n    .dataframe tbody tr th {\n        vertical-align: top;\n    }\n\n    .dataframe thead th {\n        text-align: right;\n    }\n</style>\n<table border=\"1\" class=\"dataframe\">\n  <thead>\n    <tr style=\"text-align: right;\">\n      <th></th>\n      <th>feat-cc-count</th>\n      <th>feat-duplicate-message-id</th>\n      <th>feat-encoded-content-transfer-encoding_7bit</th>\n      <th>feat-encoded-content-transfer-encoding_8bit</th>\n      <th>feat-encoded-content-transfer-encoding_base64</th>\n      <th>feat-encoded-content-transfer-encoding_binary</th>\n      <th>feat-encoded-content-transfer-encoding_quoted-printable</th>\n      <th>feat-encoded-precedence_bulk</th>\n      <th>feat-encoded-precedence_first-class</th>\n      <th>feat-encoded-precedence_list</th>\n      <th>...</th>\n      <th>feat-subject-embedding-0</th>\n      <th>feat-subject-embedding-1</th>\n      <th>feat-subject-embedding-2</th>\n      <th>feat-subject-embedding-3</th>\n      <th>feat-subject-embedding-4</th>\n      <th>feat-subject-embedding-5</th>\n      <th>feat-subject-embedding-6</th>\n      <th>feat-subject-embedding-7</th>\n      <th>feat-subject-embedding-8</th>\n      <th>feat-subject-embedding-9</th>\n    </tr>\n  </thead>\n  <tbody>\n    <tr>\n      <th>0</th>\n      <td>NaN</td>\n      <td>0.0</td>\n      <td>0</td>\n      <td>0</td>\n      <td>0</td>\n      <td>0</td>\n      <td>0</td>\n      <td>0</td>\n      <td>0</td>\n      <td>0</td>\n      <td>...</td>\n      <td>-0.698941</td>\n      <td>-1.017261</td>\n      <td>0.357468</td>\n      <td>-0.379588</td>\n      <td>-1.680987</td>\n      <td>-0.042240</td>\n      <td>-0.179343</td>\n      <td>-1.207115</td>\n      <td>0.288937</td>\n      <td>0.335045</td>\n    </tr>\n    <tr>\n      <th>5</th>\n      <td>NaN</td>\n      <td>1.0</td>\n      <td>1</td>\n      <td>0</td>\n      <td>0</td>\n      <td>0</td>\n      <td>0</td>\n      <td>1</td>\n      <td>0</td>\n      <td>0</td>\n      <td>...</td>\n      <td>NaN</td>\n      <td>NaN</td>\n      <td>NaN</td>\n      <td>NaN</td>\n      <td>NaN</td>\n      <td>NaN</td>\n      <td>NaN</td>\n      <td>NaN</td>\n      <td>NaN</td>\n      <td>NaN</td>\n    </tr>\n    <tr>\n      <th>10</th>\n      <td>NaN</td>\n      <td>1.0</td>\n      <td>1</td>\n      <td>0</td>\n      <td>0</td>\n      <td>0</td>\n      <td>0</td>\n      <td>0</td>\n      <td>0</td>\n      <td>0</td>\n      <td>...</td>\n      <td>-1.773143</td>\n      <td>0.595579</td>\n      <td>0.331890</td>\n      <td>1.277573</td>\n      <td>-0.143662</td>\n      <td>-0.527984</td>\n      <td>0.594515</td>\n      <td>-1.149245</td>\n      <td>-0.535968</td>\n      <td>-0.351006</td>\n    </tr>\n    <tr>\n      <th>15</th>\n      <td>NaN</td>\n      <td>1.0</td>\n      <td>0</td>\n      <td>0</td>\n      <td>0</td>\n      <td>0</td>\n      <td>1</td>\n      <td>0</td>\n      <td>0</td>\n      <td>0</td>\n      <td>...</td>\n      <td>-2.157009</td>\n      <td>-0.090006</td>\n      <td>-0.414355</td>\n      <td>0.713300</td>\n      <td>-0.002243</td>\n      <td>-0.657375</td>\n      <td>0.665949</td>\n      <td>-0.778800</td>\n      <td>-0.426118</td>\n      <td>0.062203</td>\n    </tr>\n    <tr>\n      <th>20</th>\n      <td>NaN</td>\n      <td>1.0</td>\n      <td>1</td>\n      <td>0</td>\n      <td>0</td>\n      <td>0</td>\n      <td>0</td>\n      <td>1</td>\n      <td>0</td>\n      <td>0</td>\n      <td>...</td>\n      <td>-2.104642</td>\n      <td>-1.858202</td>\n      <td>0.353218</td>\n      <td>-0.002266</td>\n      <td>1.156176</td>\n      <td>0.989521</td>\n      <td>1.036399</td>\n      <td>1.093130</td>\n      <td>-0.053236</td>\n      <td>0.311117</td>\n    </tr>\n    <tr>\n      <th>...</th>\n      <td>...</td>\n      <td>...</td>\n      <td>...</td>\n      <td>...</td>\n      <td>...</td>\n      <td>...</td>\n      <td>...</td>\n      <td>...</td>\n      <td>...</td>\n      <td>...</td>\n      <td>...</td>\n      <td>...</td>\n      <td>...</td>\n      <td>...</td>\n      <td>...</td>\n      <td>...</td>\n      <td>...</td>\n      <td>...</td>\n      <td>...</td>\n      <td>...</td>\n      <td>...</td>\n    </tr>\n    <tr>\n      <th>53629</th>\n      <td>NaN</td>\n      <td>NaN</td>\n      <td>0</td>\n      <td>0</td>\n      <td>0</td>\n      <td>0</td>\n      <td>0</td>\n      <td>1</td>\n      <td>0</td>\n      <td>0</td>\n      <td>...</td>\n      <td>NaN</td>\n      <td>NaN</td>\n      <td>NaN</td>\n      <td>NaN</td>\n      <td>NaN</td>\n      <td>NaN</td>\n      <td>NaN</td>\n      <td>NaN</td>\n      <td>NaN</td>\n      <td>NaN</td>\n    </tr>\n    <tr>\n      <th>53634</th>\n      <td>2.0</td>\n      <td>NaN</td>\n      <td>0</td>\n      <td>1</td>\n      <td>0</td>\n      <td>0</td>\n      <td>0</td>\n      <td>0</td>\n      <td>0</td>\n      <td>0</td>\n      <td>...</td>\n      <td>NaN</td>\n      <td>NaN</td>\n      <td>NaN</td>\n      <td>NaN</td>\n      <td>NaN</td>\n      <td>NaN</td>\n      <td>NaN</td>\n      <td>NaN</td>\n      <td>NaN</td>\n      <td>NaN</td>\n    </tr>\n    <tr>\n      <th>53639</th>\n      <td>NaN</td>\n      <td>NaN</td>\n      <td>0</td>\n      <td>0</td>\n      <td>0</td>\n      <td>0</td>\n      <td>0</td>\n      <td>0</td>\n      <td>0</td>\n      <td>0</td>\n      <td>...</td>\n      <td>0.986225</td>\n      <td>0.631970</td>\n      <td>-1.016368</td>\n      <td>-0.483061</td>\n      <td>0.258043</td>\n      <td>-0.659922</td>\n      <td>-0.543884</td>\n      <td>-0.903313</td>\n      <td>-0.251372</td>\n      <td>-0.427285</td>\n    </tr>\n    <tr>\n      <th>53644</th>\n      <td>NaN</td>\n      <td>NaN</td>\n      <td>1</td>\n      <td>0</td>\n      <td>0</td>\n      <td>0</td>\n      <td>0</td>\n      <td>1</td>\n      <td>0</td>\n      <td>0</td>\n      <td>...</td>\n      <td>NaN</td>\n      <td>NaN</td>\n      <td>NaN</td>\n      <td>NaN</td>\n      <td>NaN</td>\n      <td>NaN</td>\n      <td>NaN</td>\n      <td>NaN</td>\n      <td>NaN</td>\n      <td>NaN</td>\n    </tr>\n    <tr>\n      <th>53649</th>\n      <td>1.0</td>\n      <td>NaN</td>\n      <td>1</td>\n      <td>0</td>\n      <td>0</td>\n      <td>0</td>\n      <td>0</td>\n      <td>1</td>\n      <td>0</td>\n      <td>0</td>\n      <td>...</td>\n      <td>NaN</td>\n      <td>NaN</td>\n      <td>NaN</td>\n      <td>NaN</td>\n      <td>NaN</td>\n      <td>NaN</td>\n      <td>NaN</td>\n      <td>NaN</td>\n      <td>NaN</td>\n      <td>NaN</td>\n    </tr>\n  </tbody>\n</table>\n<p>9154 rows × 58 columns</p>\n</div>"
     },
     "execution_count": 74,
     "metadata": {},
     "output_type": "execute_result"
    }
   ],
   "source": [
    "with_tokenized_subject_df = with_encoded_mailer_df\n",
    "i = 0\n",
    "for dim in range(dimensions):\n",
    "    with_tokenized_subject_df[f'feat-subject-embedding-{dim}'] = np.nan\n",
    "\n",
    "for idx in embeddings.keys():\n",
    "    for dim in range(dimensions):\n",
    "        with_tokenized_subject_df.loc[idx, f'feat-subject-embedding-{dim}'] = reduced_embeddings[i][dim]\n",
    "    i += 1\n",
    "\n",
    "with_tokenized_subject_df[get_feat_cols(with_tokenized_subject_df)]"
   ],
   "metadata": {
    "collapsed": false,
    "ExecuteTime": {
     "end_time": "2023-06-19T20:32:52.262713Z",
     "start_time": "2023-06-19T20:32:49.058387Z"
    }
   }
  },
  {
   "cell_type": "code",
   "execution_count": 91,
   "outputs": [],
   "source": [
    "def featurize_text(row, col, max_length):\n",
    "    text = row[col]\n",
    "    if pd.isna(text) or len(text) == 0:\n",
    "        return row\n",
    "    text = re.sub(r\"[\\t\\s\\n]+\", \"\", text)\n",
    "    row[f'feat-{col}-normalized-length'] = len(text) / max_length\n",
    "    capital_letters, special_characters, digits = 0, 0, 0\n",
    "    for s in text:\n",
    "        if s.isupper():\n",
    "            capital_letters += 1\n",
    "        elif s.isdigit():\n",
    "            digits += 1\n",
    "        elif not s.isalnum():\n",
    "            special_characters += 1\n",
    "    row[f'feat-{col}-capital-letter-ratio'] = capital_letters / len(text)\n",
    "    row[f'feat-{col}-special-character-ratio'] = special_characters / len(text)\n",
    "    row[f'feat-{col}-digit-ratio'] = digits / len(text)\n",
    "\n",
    "    return row\n",
    "\n",
    "\n",
    "with_subject_features_df = with_tokenized_subject_df.apply(\n",
    "    lambda r: featurize_text(r, max_length=with_tokenized_subject_df['subject'].str.len().max(), col='subject'),\n",
    "    axis=1)"
   ],
   "metadata": {
    "collapsed": false,
    "ExecuteTime": {
     "end_time": "2023-06-19T21:31:10.586242Z",
     "start_time": "2023-06-19T21:30:46.060040Z"
    }
   }
  },
  {
   "cell_type": "code",
   "execution_count": 94,
   "outputs": [],
   "source": [
    "with_body_features_df = with_subject_features_df.apply(\n",
    "    lambda r: featurize_text(r, max_length=with_subject_features_df['body'].str.len().max(), col='body'),\n",
    "    axis=1)"
   ],
   "metadata": {
    "collapsed": false,
    "ExecuteTime": {
     "end_time": "2023-06-19T21:32:50.898162Z",
     "start_time": "2023-06-19T21:32:03.606821Z"
    }
   }
  },
  {
   "cell_type": "code",
   "execution_count": 96,
   "outputs": [
    {
     "name": "stderr",
     "output_type": "stream",
     "text": [
      "23/06/19 18:33:27 WARN MemoryManager: Total allocation exceeds 95.00% (1,020,054,720 bytes) of heap memory\n",
      "Scaling row group sizes to 95.00% for 8 writers\n",
      "23/06/19 18:33:27 WARN MemoryManager: Total allocation exceeds 95.00% (1,020,054,720 bytes) of heap memory\n",
      "Scaling row group sizes to 84.44% for 9 writers\n",
      "23/06/19 18:33:27 WARN MemoryManager: Total allocation exceeds 95.00% (1,020,054,720 bytes) of heap memory\n",
      "Scaling row group sizes to 76.00% for 10 writers\n",
      "23/06/19 18:33:27 WARN MemoryManager: Total allocation exceeds 95.00% (1,020,054,720 bytes) of heap memory\n",
      "Scaling row group sizes to 69.09% for 11 writers\n",
      "23/06/19 18:33:27 WARN MemoryManager: Total allocation exceeds 95.00% (1,020,054,720 bytes) of heap memory\n",
      "Scaling row group sizes to 63.33% for 12 writers\n",
      "23/06/19 18:33:27 WARN MemoryManager: Total allocation exceeds 95.00% (1,020,054,720 bytes) of heap memory\n",
      "Scaling row group sizes to 58.46% for 13 writers\n",
      "23/06/19 18:33:27 WARN MemoryManager: Total allocation exceeds 95.00% (1,020,054,720 bytes) of heap memory\n",
      "Scaling row group sizes to 54.29% for 14 writers\n",
      "23/06/19 18:33:27 WARN MemoryManager: Total allocation exceeds 95.00% (1,020,054,720 bytes) of heap memory\n",
      "Scaling row group sizes to 58.46% for 13 writers\n",
      "23/06/19 18:33:27 WARN MemoryManager: Total allocation exceeds 95.00% (1,020,054,720 bytes) of heap memory\n",
      "Scaling row group sizes to 54.29% for 14 writers\n",
      "23/06/19 18:33:27 WARN MemoryManager: Total allocation exceeds 95.00% (1,020,054,720 bytes) of heap memory\n",
      "Scaling row group sizes to 50.67% for 15 writers\n",
      "23/06/19 18:33:27 WARN MemoryManager: Total allocation exceeds 95.00% (1,020,054,720 bytes) of heap memory\n",
      "Scaling row group sizes to 54.29% for 14 writers\n",
      "23/06/19 18:33:27 WARN MemoryManager: Total allocation exceeds 95.00% (1,020,054,720 bytes) of heap memory\n",
      "Scaling row group sizes to 58.46% for 13 writers\n",
      "23/06/19 18:33:27 WARN MemoryManager: Total allocation exceeds 95.00% (1,020,054,720 bytes) of heap memory\n",
      "Scaling row group sizes to 63.33% for 12 writers\n",
      "23/06/19 18:33:27 WARN MemoryManager: Total allocation exceeds 95.00% (1,020,054,720 bytes) of heap memory\n",
      "Scaling row group sizes to 69.09% for 11 writers\n",
      "23/06/19 18:33:27 WARN MemoryManager: Total allocation exceeds 95.00% (1,020,054,720 bytes) of heap memory\n",
      "Scaling row group sizes to 76.00% for 10 writers\n",
      "23/06/19 18:33:27 WARN MemoryManager: Total allocation exceeds 95.00% (1,020,054,720 bytes) of heap memory\n",
      "Scaling row group sizes to 84.44% for 9 writers\n",
      "23/06/19 18:33:27 WARN MemoryManager: Total allocation exceeds 95.00% (1,020,054,720 bytes) of heap memory\n",
      "Scaling row group sizes to 95.00% for 8 writers\n",
      "                                                                                \r"
     ]
    }
   ],
   "source": [
    "spark_df = spark.createDataFrame(with_body_features_df[['category'] + get_feat_cols(with_body_features_df)])\n",
    "spark_df.write.parquet(f'{DATA_FOLDER}/preprocessed.parquet', mode='overwrite')"
   ],
   "metadata": {
    "collapsed": false,
    "ExecuteTime": {
     "end_time": "2023-06-19T21:33:27.772574Z",
     "start_time": "2023-06-19T21:33:23.755364Z"
    }
   }
  },
  {
   "cell_type": "markdown",
   "source": [
    "# Training"
   ],
   "metadata": {
    "collapsed": false
   }
  },
  {
   "cell_type": "code",
   "execution_count": 97,
   "outputs": [
    {
     "data": {
      "text/plain": "       feat-cc-count  feat-content-type-boundary  feat-duplicate-message-id  \\\ncount    1962.000000                 9154.000000                6109.000000   \nmean        3.007136                    0.985689                   0.478147   \nstd         6.011204                    0.118775                   0.499563   \nmin         1.000000                    0.000000                   0.000000   \n25%         1.000000                    1.000000                   0.000000   \n50%         1.000000                    1.000000                   0.000000   \n75%         2.000000                    1.000000                   1.000000   \nmax        73.000000                    1.000000                   1.000000   \n\n       feat-encoded-content-transfer-encoding_7bit  \\\ncount                                  9154.000000   \nmean                                      0.277802   \nstd                                       0.447940   \nmin                                       0.000000   \n25%                                       0.000000   \n50%                                       0.000000   \n75%                                       1.000000   \nmax                                       1.000000   \n\n       feat-encoded-content-transfer-encoding_8bit  \\\ncount                                  9154.000000   \nmean                                      0.105855   \nstd                                       0.307669   \nmin                                       0.000000   \n25%                                       0.000000   \n50%                                       0.000000   \n75%                                       0.000000   \nmax                                       1.000000   \n\n       feat-encoded-content-transfer-encoding_base64  \\\ncount                                    9154.000000   \nmean                                        0.001092   \nstd                                         0.033036   \nmin                                         0.000000   \n25%                                         0.000000   \n50%                                         0.000000   \n75%                                         0.000000   \nmax                                         1.000000   \n\n       feat-encoded-content-transfer-encoding_binary  \\\ncount                                    9154.000000   \nmean                                        0.002076   \nstd                                         0.045514   \nmin                                         0.000000   \n25%                                         0.000000   \n50%                                         0.000000   \n75%                                         0.000000   \nmax                                         1.000000   \n\n       feat-encoded-content-transfer-encoding_quoted-printable  \\\ncount                                        9154.000000         \nmean                                            0.051890         \nstd                                             0.221817         \nmin                                             0.000000         \n25%                                             0.000000         \n50%                                             0.000000         \n75%                                             0.000000         \nmax                                             1.000000         \n\n       feat-encoded-content-type-charset_iso-8859-1  \\\ncount                                   9154.000000   \nmean                                       0.006008   \nstd                                        0.077284   \nmin                                        0.000000   \n25%                                        0.000000   \n50%                                        0.000000   \n75%                                        0.000000   \nmax                                        1.000000   \n\n       feat-encoded-content-type-charset_iso-8859-15  ...  \\\ncount                                    9154.000000  ...   \nmean                                        0.001639  ...   \nstd                                         0.040449  ...   \nmin                                         0.000000  ...   \n25%                                         0.000000  ...   \n50%                                         0.000000  ...   \n75%                                         0.000000  ...   \nmax                                         1.000000  ...   \n\n       feat-subject-normalized-length  feat-subject-special-character-ratio  \\\ncount                     4798.000000                           4798.000000   \nmean                         0.156687                              0.062115   \nstd                          0.076849                              0.069987   \nmin                          0.010050                              0.000000   \n25%                          0.100503                              0.000000   \n50%                          0.145729                              0.050000   \n75%                          0.195980                              0.095238   \nmax                          0.874372                              0.714286   \n\n       feat-x-msmail-priority  feat-x-priority  feat-x-spam-level  \\\ncount             1149.000000      1488.000000        2156.000000   \nmean                 1.075718         2.828629           0.067718   \nstd                  0.387537         0.588674           0.628818   \nmin                 -1.000000         0.000000           0.000000   \n25%                  1.000000         3.000000           0.000000   \n50%                  1.000000         3.000000           0.000000   \n75%                  1.000000         3.000000           0.000000   \nmax                  3.000000         5.000000          11.000000   \n\n       feat-x-spam-status  feat-body-normalized-length  \\\ncount         2155.000000                  9154.000000   \nmean             0.007425                     0.010045   \nstd              0.085866                     0.029435   \nmin              0.000000                     0.000090   \n25%              0.000000                     0.001730   \n50%              0.000000                     0.003270   \n75%              0.000000                     0.007013   \nmax              1.000000                     0.986811   \n\n       feat-body-capital-letter-ratio  feat-body-special-character-ratio  \\\ncount                     9154.000000                        9154.000000   \nmean                         0.072883                           0.144725   \nstd                          0.078673                           0.075907   \nmin                          0.000000                           0.001258   \n25%                          0.036157                           0.080925   \n50%                          0.050542                           0.134228   \n75%                          0.073324                           0.202592   \nmax                          0.966427                           0.621425   \n\n       feat-body-digit-ratio  \ncount            9154.000000  \nmean                0.048042  \nstd                 0.057052  \nmin                 0.000000  \n25%                 0.011010  \n50%                 0.029155  \n75%                 0.066021  \nmax                 0.654460  \n\n[8 rows x 66 columns]",
      "text/html": "<div>\n<style scoped>\n    .dataframe tbody tr th:only-of-type {\n        vertical-align: middle;\n    }\n\n    .dataframe tbody tr th {\n        vertical-align: top;\n    }\n\n    .dataframe thead th {\n        text-align: right;\n    }\n</style>\n<table border=\"1\" class=\"dataframe\">\n  <thead>\n    <tr style=\"text-align: right;\">\n      <th></th>\n      <th>feat-cc-count</th>\n      <th>feat-content-type-boundary</th>\n      <th>feat-duplicate-message-id</th>\n      <th>feat-encoded-content-transfer-encoding_7bit</th>\n      <th>feat-encoded-content-transfer-encoding_8bit</th>\n      <th>feat-encoded-content-transfer-encoding_base64</th>\n      <th>feat-encoded-content-transfer-encoding_binary</th>\n      <th>feat-encoded-content-transfer-encoding_quoted-printable</th>\n      <th>feat-encoded-content-type-charset_iso-8859-1</th>\n      <th>feat-encoded-content-type-charset_iso-8859-15</th>\n      <th>...</th>\n      <th>feat-subject-normalized-length</th>\n      <th>feat-subject-special-character-ratio</th>\n      <th>feat-x-msmail-priority</th>\n      <th>feat-x-priority</th>\n      <th>feat-x-spam-level</th>\n      <th>feat-x-spam-status</th>\n      <th>feat-body-normalized-length</th>\n      <th>feat-body-capital-letter-ratio</th>\n      <th>feat-body-special-character-ratio</th>\n      <th>feat-body-digit-ratio</th>\n    </tr>\n  </thead>\n  <tbody>\n    <tr>\n      <th>count</th>\n      <td>1962.000000</td>\n      <td>9154.000000</td>\n      <td>6109.000000</td>\n      <td>9154.000000</td>\n      <td>9154.000000</td>\n      <td>9154.000000</td>\n      <td>9154.000000</td>\n      <td>9154.000000</td>\n      <td>9154.000000</td>\n      <td>9154.000000</td>\n      <td>...</td>\n      <td>4798.000000</td>\n      <td>4798.000000</td>\n      <td>1149.000000</td>\n      <td>1488.000000</td>\n      <td>2156.000000</td>\n      <td>2155.000000</td>\n      <td>9154.000000</td>\n      <td>9154.000000</td>\n      <td>9154.000000</td>\n      <td>9154.000000</td>\n    </tr>\n    <tr>\n      <th>mean</th>\n      <td>3.007136</td>\n      <td>0.985689</td>\n      <td>0.478147</td>\n      <td>0.277802</td>\n      <td>0.105855</td>\n      <td>0.001092</td>\n      <td>0.002076</td>\n      <td>0.051890</td>\n      <td>0.006008</td>\n      <td>0.001639</td>\n      <td>...</td>\n      <td>0.156687</td>\n      <td>0.062115</td>\n      <td>1.075718</td>\n      <td>2.828629</td>\n      <td>0.067718</td>\n      <td>0.007425</td>\n      <td>0.010045</td>\n      <td>0.072883</td>\n      <td>0.144725</td>\n      <td>0.048042</td>\n    </tr>\n    <tr>\n      <th>std</th>\n      <td>6.011204</td>\n      <td>0.118775</td>\n      <td>0.499563</td>\n      <td>0.447940</td>\n      <td>0.307669</td>\n      <td>0.033036</td>\n      <td>0.045514</td>\n      <td>0.221817</td>\n      <td>0.077284</td>\n      <td>0.040449</td>\n      <td>...</td>\n      <td>0.076849</td>\n      <td>0.069987</td>\n      <td>0.387537</td>\n      <td>0.588674</td>\n      <td>0.628818</td>\n      <td>0.085866</td>\n      <td>0.029435</td>\n      <td>0.078673</td>\n      <td>0.075907</td>\n      <td>0.057052</td>\n    </tr>\n    <tr>\n      <th>min</th>\n      <td>1.000000</td>\n      <td>0.000000</td>\n      <td>0.000000</td>\n      <td>0.000000</td>\n      <td>0.000000</td>\n      <td>0.000000</td>\n      <td>0.000000</td>\n      <td>0.000000</td>\n      <td>0.000000</td>\n      <td>0.000000</td>\n      <td>...</td>\n      <td>0.010050</td>\n      <td>0.000000</td>\n      <td>-1.000000</td>\n      <td>0.000000</td>\n      <td>0.000000</td>\n      <td>0.000000</td>\n      <td>0.000090</td>\n      <td>0.000000</td>\n      <td>0.001258</td>\n      <td>0.000000</td>\n    </tr>\n    <tr>\n      <th>25%</th>\n      <td>1.000000</td>\n      <td>1.000000</td>\n      <td>0.000000</td>\n      <td>0.000000</td>\n      <td>0.000000</td>\n      <td>0.000000</td>\n      <td>0.000000</td>\n      <td>0.000000</td>\n      <td>0.000000</td>\n      <td>0.000000</td>\n      <td>...</td>\n      <td>0.100503</td>\n      <td>0.000000</td>\n      <td>1.000000</td>\n      <td>3.000000</td>\n      <td>0.000000</td>\n      <td>0.000000</td>\n      <td>0.001730</td>\n      <td>0.036157</td>\n      <td>0.080925</td>\n      <td>0.011010</td>\n    </tr>\n    <tr>\n      <th>50%</th>\n      <td>1.000000</td>\n      <td>1.000000</td>\n      <td>0.000000</td>\n      <td>0.000000</td>\n      <td>0.000000</td>\n      <td>0.000000</td>\n      <td>0.000000</td>\n      <td>0.000000</td>\n      <td>0.000000</td>\n      <td>0.000000</td>\n      <td>...</td>\n      <td>0.145729</td>\n      <td>0.050000</td>\n      <td>1.000000</td>\n      <td>3.000000</td>\n      <td>0.000000</td>\n      <td>0.000000</td>\n      <td>0.003270</td>\n      <td>0.050542</td>\n      <td>0.134228</td>\n      <td>0.029155</td>\n    </tr>\n    <tr>\n      <th>75%</th>\n      <td>2.000000</td>\n      <td>1.000000</td>\n      <td>1.000000</td>\n      <td>1.000000</td>\n      <td>0.000000</td>\n      <td>0.000000</td>\n      <td>0.000000</td>\n      <td>0.000000</td>\n      <td>0.000000</td>\n      <td>0.000000</td>\n      <td>...</td>\n      <td>0.195980</td>\n      <td>0.095238</td>\n      <td>1.000000</td>\n      <td>3.000000</td>\n      <td>0.000000</td>\n      <td>0.000000</td>\n      <td>0.007013</td>\n      <td>0.073324</td>\n      <td>0.202592</td>\n      <td>0.066021</td>\n    </tr>\n    <tr>\n      <th>max</th>\n      <td>73.000000</td>\n      <td>1.000000</td>\n      <td>1.000000</td>\n      <td>1.000000</td>\n      <td>1.000000</td>\n      <td>1.000000</td>\n      <td>1.000000</td>\n      <td>1.000000</td>\n      <td>1.000000</td>\n      <td>1.000000</td>\n      <td>...</td>\n      <td>0.874372</td>\n      <td>0.714286</td>\n      <td>3.000000</td>\n      <td>5.000000</td>\n      <td>11.000000</td>\n      <td>1.000000</td>\n      <td>0.986811</td>\n      <td>0.966427</td>\n      <td>0.621425</td>\n      <td>0.654460</td>\n    </tr>\n  </tbody>\n</table>\n<p>8 rows × 66 columns</p>\n</div>"
     },
     "execution_count": 97,
     "metadata": {},
     "output_type": "execute_result"
    }
   ],
   "source": [
    "df = spark.read.parquet(f'{DATA_FOLDER}/preprocessed.parquet')\n",
    "preprocessed_df = df.toPandas()\n",
    "preprocessed_df.describe()"
   ],
   "metadata": {
    "collapsed": false,
    "ExecuteTime": {
     "end_time": "2023-06-19T21:33:31.424005Z",
     "start_time": "2023-06-19T21:33:30.533444Z"
    }
   }
  },
  {
   "cell_type": "code",
   "execution_count": null,
   "outputs": [],
   "source": [],
   "metadata": {
    "collapsed": false
   }
  }
 ],
 "metadata": {
  "kernelspec": {
   "display_name": "Python 3",
   "language": "python",
   "name": "python3"
  },
  "language_info": {
   "codemirror_mode": {
    "name": "ipython",
    "version": 2
   },
   "file_extension": ".py",
   "mimetype": "text/x-python",
   "name": "python",
   "nbconvert_exporter": "python",
   "pygments_lexer": "ipython2",
   "version": "2.7.6"
  }
 },
 "nbformat": 4,
 "nbformat_minor": 0
}
