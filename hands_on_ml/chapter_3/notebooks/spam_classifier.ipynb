{
 "cells": [
  {
   "cell_type": "markdown",
   "source": [
    "# Data Extraction"
   ],
   "metadata": {
    "collapsed": false
   }
  },
  {
   "cell_type": "code",
   "execution_count": 180,
   "outputs": [],
   "source": [
    "import io\n",
    "import os\n",
    "import re\n",
    "import tarfile\n",
    "from pathlib import Path\n",
    "\n",
    "import chardet\n",
    "import numpy as np\n",
    "import pandas as pd\n",
    "import requests\n",
    "from bs4 import BeautifulSoup\n",
    "from pyspark.sql import SparkSession"
   ],
   "metadata": {
    "collapsed": false,
    "ExecuteTime": {
     "end_time": "2023-06-18T21:02:36.408260Z",
     "start_time": "2023-06-18T21:02:36.402127Z"
    }
   }
  },
  {
   "cell_type": "code",
   "execution_count": 181,
   "outputs": [],
   "source": [
    "spark = SparkSession.builder.getOrCreate()\n",
    "spark.conf.set(\"spark.sql.parquet.enableVectorizedReader\", \"false\")"
   ],
   "metadata": {
    "collapsed": false,
    "ExecuteTime": {
     "end_time": "2023-06-18T21:02:36.880334Z",
     "start_time": "2023-06-18T21:02:36.873652Z"
    }
   }
  },
  {
   "cell_type": "code",
   "execution_count": 182,
   "outputs": [],
   "source": [
    "APACHE_SPAM_ASSASSIN = \"https://spamassassin.apache.org/old/publiccorpus\"\n",
    "DATA_FOLDER = '../data'"
   ],
   "metadata": {
    "collapsed": false,
    "ExecuteTime": {
     "end_time": "2023-06-18T21:02:38.525881Z",
     "start_time": "2023-06-18T21:02:38.518201Z"
    }
   }
  },
  {
   "cell_type": "code",
   "execution_count": 4,
   "outputs": [],
   "source": [
    "def pull_data():\n",
    "    response = requests.get(APACHE_SPAM_ASSASSIN)\n",
    "    response.raise_for_status()\n",
    "\n",
    "    soup = BeautifulSoup(response.text, 'html.parser')\n",
    "    file_paths = [link.get('href') for link in soup.find_all('a')]\n",
    "    file_paths = [path for path in file_paths if path.split('.')[-1] == 'bz2']\n",
    "\n",
    "    available_data = set(os.listdir(DATA_FOLDER))\n",
    "    file_paths = [path for path in file_paths if path not in available_data and path != 'corpus.parquet']\n",
    "\n",
    "    if len(file_paths) == 0:\n",
    "        print('No data to pull')\n",
    "\n",
    "    for file_path in file_paths:\n",
    "        print(f'Pulling {file_path}')\n",
    "        response = requests.get(f\"{APACHE_SPAM_ASSASSIN}/{file_path}\")\n",
    "        response.raise_for_status()\n",
    "\n",
    "        file_object = io.BytesIO(response.content)\n",
    "        tar = tarfile.open(fileobj=file_object, mode=\"r:bz2\")\n",
    "\n",
    "        extract_dir = Path(DATA_FOLDER)\n",
    "        extract_path = extract_dir.joinpath(Path(file_path))\n",
    "\n",
    "        extract_dir.mkdir(exist_ok=True)\n",
    "        tar.extractall(extract_path)\n",
    "\n",
    "        tar.close()\n",
    "\n",
    "    size = get_directory_size(\"../data\")\n",
    "    print(f\"Data directory size: {size} bytes\")\n",
    "\n",
    "\n",
    "def get_directory_size(directory):\n",
    "    total = 0\n",
    "    for dirpath, dirnames, filenames in os.walk(directory):\n",
    "        for f in filenames:\n",
    "            fp = os.path.join(dirpath, f)\n",
    "            if not os.path.islink(fp):\n",
    "                total += os.path.getsize(fp)\n",
    "\n",
    "    return total"
   ],
   "metadata": {
    "collapsed": false,
    "ExecuteTime": {
     "end_time": "2023-06-18T18:55:30.328167Z",
     "start_time": "2023-06-18T18:55:30.325691Z"
    }
   }
  },
  {
   "cell_type": "code",
   "execution_count": 10,
   "outputs": [
    {
     "name": "stdout",
     "output_type": "stream",
     "text": [
      "No data to pull\n",
      "Data directory size: 121604826 bytes\n"
     ]
    }
   ],
   "source": [
    "pull_data()"
   ],
   "metadata": {
    "collapsed": false,
    "ExecuteTime": {
     "end_time": "2023-06-15T00:57:47.341226Z",
     "start_time": "2023-06-15T00:57:46.943876Z"
    }
   }
  },
  {
   "cell_type": "code",
   "execution_count": 185,
   "outputs": [],
   "source": [
    "def parse_data():\n",
    "    successful_files = []\n",
    "    failed_files = []\n",
    "    corpus_df = pd.DataFrame(columns=['date', 'difficulty', 'category', 'collection', 'body'])\n",
    "    for dirpath, dirnames, filenames in os.walk(DATA_FOLDER):\n",
    "        print(dirpath)\n",
    "        for filename in filenames:\n",
    "            corpus_path = os.path.join(dirpath, filename)\n",
    "            corpus_df, successful_files, failed_files = incorporate(corpus_df, corpus_path, dirpath, successful_files,\n",
    "                                                                    failed_files)\n",
    "    return corpus_df, successful_files, failed_files\n",
    "\n",
    "\n",
    "def incorporate(df, corpus_path, dirpath, successful_files, failed_files):\n",
    "    rawdata = open(corpus_path, 'rb').read()\n",
    "    result = chardet.detect(rawdata)\n",
    "    encoding = result['encoding']\n",
    "\n",
    "    with open(corpus_path, 'r', encoding=encoding) as f:\n",
    "        [(date, *ids)] = re.findall(r'([\\d]{8})_([a-z]*)_?([a-z]*)_?([\\d]*)\\.tar\\.bz2.*',\n",
    "                                    dirpath)\n",
    "        [difficulty, category, collection] = parse_ids(ids)\n",
    "        try:\n",
    "            body = f.read()\n",
    "            row = pd.DataFrame({'date': date,\n",
    "                                'difficulty': difficulty,\n",
    "                                'category': category,\n",
    "                                'collection': collection,\n",
    "                                'body': body}, index=[0, 1, 2, 3, 4])\n",
    "            df = pd.concat([df, row], ignore_index=True)\n",
    "            successful_files.append(corpus_path)\n",
    "        except Exception as E:\n",
    "            print(E)\n",
    "            failed_files.append(corpus_path)\n",
    "    return df, successful_files, failed_files\n",
    "\n",
    "\n",
    "def parse_ids(ids):\n",
    "    cls, difficulty, collection = None, None, None\n",
    "    match ids:\n",
    "        case [cls, '', '']:\n",
    "            difficulty = None\n",
    "            collection = None\n",
    "        case [difficulty, cls, '']:\n",
    "            collection = None\n",
    "        case [difficulty, cls, collection]:\n",
    "            pass\n",
    "        case _:\n",
    "            pass\n",
    "\n",
    "    return [difficulty, cls, collection]\n",
    "\n",
    "\n",
    "def save_as_parquet(df):\n",
    "    spark_df = spark.createDataFrame(df)\n",
    "    spark_df.write.parquet(f'{DATA_FOLDER}/corpus.parquet')"
   ],
   "metadata": {
    "collapsed": false,
    "ExecuteTime": {
     "end_time": "2023-06-18T21:04:37.004834Z",
     "start_time": "2023-06-18T21:04:37.003211Z"
    }
   }
  },
  {
   "cell_type": "code",
   "execution_count": 187,
   "outputs": [
    {
     "name": "stdout",
     "output_type": "stream",
     "text": [
      "../data\n",
      "../data/20030228_hard_ham.tar.bz2\n",
      "../data/20030228_hard_ham.tar.bz2/hard_ham\n",
      "../data/20021010_hard_ham.tar.bz2\n",
      "../data/20021010_hard_ham.tar.bz2/hard_ham\n",
      "../data/20030228_spam_2.tar.bz2\n",
      "../data/20030228_spam_2.tar.bz2/spam_2\n",
      "'cp949' codec can't decode byte 0xb7 in position 4589: illegal multibyte sequence\n",
      "'charmap' codec can't decode byte 0x90 in position 2832: character maps to <undefined>\n",
      "'charmap' codec can't decode byte 0x9e in position 3019: character maps to <undefined>\n",
      "'big5' codec can't decode byte 0xf9 in position 2730: illegal multibyte sequence\n",
      "../data/20030228_easy_ham_2.tar.bz2\n",
      "../data/20030228_easy_ham_2.tar.bz2/easy_ham_2\n",
      "'cp949' codec can't decode byte 0xb7 in position 3140: illegal multibyte sequence\n",
      "../data/20030228_spam.tar.bz2\n",
      "../data/20030228_spam.tar.bz2/spam\n",
      "'gb2312' codec can't decode byte 0xeb in position 1587: illegal multibyte sequence\n",
      "'cp949' codec can't decode byte 0xb7 in position 3073: illegal multibyte sequence\n",
      "'cp949' codec can't decode byte 0xb7 in position 2149: illegal multibyte sequence\n",
      "'cp949' codec can't decode byte 0xb7 in position 2190: illegal multibyte sequence\n",
      "'cp949' codec can't decode byte 0xb7 in position 2592: illegal multibyte sequence\n",
      "'charmap' codec can't decode byte 0x9e in position 2957: character maps to <undefined>\n",
      "../data/20030228_easy_ham.tar.bz2\n",
      "../data/20030228_easy_ham.tar.bz2/easy_ham\n",
      "../data/20021010_spam.tar.bz2\n",
      "../data/20021010_spam.tar.bz2/spam\n",
      "'cp949' codec can't decode byte 0xb7 in position 3061: illegal multibyte sequence\n",
      "'cp949' codec can't decode byte 0xb7 in position 2134: illegal multibyte sequence\n",
      "'cp949' codec can't decode byte 0xb7 in position 2580: illegal multibyte sequence\n",
      "'cp949' codec can't decode byte 0xb7 in position 2127: illegal multibyte sequence\n",
      "'charmap' codec can't decode byte 0x9e in position 2915: character maps to <undefined>\n",
      "../data/20021010_easy_ham.tar.bz2\n",
      "../data/20021010_easy_ham.tar.bz2/easy_ham\n",
      "../data/20050311_spam_2.tar.bz2\n",
      "../data/20050311_spam_2.tar.bz2/spam_2\n",
      "'cp949' codec can't decode byte 0xb7 in position 4589: illegal multibyte sequence\n",
      "'charmap' codec can't decode byte 0x90 in position 2832: character maps to <undefined>\n",
      "'charmap' codec can't decode byte 0x9e in position 3019: character maps to <undefined>\n",
      "'big5' codec can't decode byte 0xf9 in position 2730: illegal multibyte sequence\n"
     ]
    },
    {
     "name": "stderr",
     "output_type": "stream",
     "text": [
      "23/06/18 18:09:30 WARN TaskSetManager: Stage 2 contains a task of very large size (11918 KiB). The maximum recommended task size is 1000 KiB.\n",
      "23/06/18 18:09:31 WARN MemoryManager: Total allocation exceeds 95.00% (1,020,054,720 bytes) of heap memory\n",
      "Scaling row group sizes to 95.00% for 8 writers\n",
      "23/06/18 18:09:31 WARN MemoryManager: Total allocation exceeds 95.00% (1,020,054,720 bytes) of heap memory\n",
      "Scaling row group sizes to 84.44% for 9 writers\n",
      "23/06/18 18:09:31 WARN MemoryManager: Total allocation exceeds 95.00% (1,020,054,720 bytes) of heap memory\n",
      "Scaling row group sizes to 76.00% for 10 writers\n",
      "23/06/18 18:09:31 WARN MemoryManager: Total allocation exceeds 95.00% (1,020,054,720 bytes) of heap memory\n",
      "Scaling row group sizes to 69.09% for 11 writers\n",
      "23/06/18 18:09:31 WARN MemoryManager: Total allocation exceeds 95.00% (1,020,054,720 bytes) of heap memory\n",
      "Scaling row group sizes to 63.33% for 12 writers\n",
      "23/06/18 18:09:31 WARN MemoryManager: Total allocation exceeds 95.00% (1,020,054,720 bytes) of heap memory\n",
      "Scaling row group sizes to 58.46% for 13 writers\n",
      "23/06/18 18:09:31 WARN MemoryManager: Total allocation exceeds 95.00% (1,020,054,720 bytes) of heap memory\n",
      "Scaling row group sizes to 54.29% for 14 writers\n",
      "23/06/18 18:09:31 WARN MemoryManager: Total allocation exceeds 95.00% (1,020,054,720 bytes) of heap memory\n",
      "Scaling row group sizes to 50.67% for 15 writers\n",
      "23/06/18 18:09:31 WARN MemoryManager: Total allocation exceeds 95.00% (1,020,054,720 bytes) of heap memory\n",
      "Scaling row group sizes to 47.50% for 16 writers\n",
      "23/06/18 18:09:32 WARN MemoryManager: Total allocation exceeds 95.00% (1,020,054,720 bytes) of heap memory\n",
      "Scaling row group sizes to 50.67% for 15 writers\n",
      "23/06/18 18:09:32 WARN MemoryManager: Total allocation exceeds 95.00% (1,020,054,720 bytes) of heap memory\n",
      "Scaling row group sizes to 54.29% for 14 writers\n",
      "23/06/18 18:09:32 WARN MemoryManager: Total allocation exceeds 95.00% (1,020,054,720 bytes) of heap memory\n",
      "Scaling row group sizes to 58.46% for 13 writers\n",
      "23/06/18 18:09:32 WARN MemoryManager: Total allocation exceeds 95.00% (1,020,054,720 bytes) of heap memory\n",
      "Scaling row group sizes to 63.33% for 12 writers\n",
      "23/06/18 18:09:32 WARN MemoryManager: Total allocation exceeds 95.00% (1,020,054,720 bytes) of heap memory\n",
      "Scaling row group sizes to 69.09% for 11 writers\n",
      "23/06/18 18:09:32 WARN MemoryManager: Total allocation exceeds 95.00% (1,020,054,720 bytes) of heap memory\n",
      "Scaling row group sizes to 76.00% for 10 writers\n",
      "23/06/18 18:09:32 WARN MemoryManager: Total allocation exceeds 95.00% (1,020,054,720 bytes) of heap memory\n",
      "Scaling row group sizes to 84.44% for 9 writers\n",
      "23/06/18 18:09:32 WARN MemoryManager: Total allocation exceeds 95.00% (1,020,054,720 bytes) of heap memory\n",
      "Scaling row group sizes to 95.00% for 8 writers\n",
      "                                                                                \r"
     ]
    }
   ],
   "source": [
    "if 'corpus.parquet' in set(os.listdir(DATA_FOLDER)):\n",
    "    df = spark.read.parquet(f'{DATA_FOLDER}/corpus.parquet')\n",
    "    corpus_df = df.toPandas()\n",
    "else:\n",
    "    corpus_df, successful_files, failed_files = parse_data()\n",
    "    print(failed_files)\n",
    "    save_as_parquet(corpus_df)"
   ],
   "metadata": {
    "collapsed": false,
    "ExecuteTime": {
     "end_time": "2023-06-18T21:09:33.281687Z",
     "start_time": "2023-06-18T21:07:07.749951Z"
    }
   }
  },
  {
   "cell_type": "code",
   "execution_count": 188,
   "outputs": [
    {
     "data": {
      "text/plain": "           date difficulty category collection  \\\n0      20030228       hard      ham       None   \n1      20030228       hard      ham       None   \n2      20030228       hard      ham       None   \n3      20030228       hard      ham       None   \n4      20030228       hard      ham       None   \n...         ...        ...      ...        ...   \n53650  20050311       spam                   2   \n53651  20050311       spam                   2   \n53652  20050311       spam                   2   \n53653  20050311       spam                   2   \n53654  20050311       spam                   2   \n\n                                                    body  \n0      Return-Path: <bounce-lghtml-2534368@sprocket.l...  \n1      Return-Path: <bounce-lghtml-2534368@sprocket.l...  \n2      Return-Path: <bounce-lghtml-2534368@sprocket.l...  \n3      Return-Path: <bounce-lghtml-2534368@sprocket.l...  \n4      Return-Path: <bounce-lghtml-2534368@sprocket.l...  \n...                                                  ...  \n53650  Received: from actioncouriers.com ([207.225.37...  \n53651  Received: from actioncouriers.com ([207.225.37...  \n53652  Received: from actioncouriers.com ([207.225.37...  \n53653  Received: from actioncouriers.com ([207.225.37...  \n53654  Received: from actioncouriers.com ([207.225.37...  \n\n[53655 rows x 5 columns]",
      "text/html": "<div>\n<style scoped>\n    .dataframe tbody tr th:only-of-type {\n        vertical-align: middle;\n    }\n\n    .dataframe tbody tr th {\n        vertical-align: top;\n    }\n\n    .dataframe thead th {\n        text-align: right;\n    }\n</style>\n<table border=\"1\" class=\"dataframe\">\n  <thead>\n    <tr style=\"text-align: right;\">\n      <th></th>\n      <th>date</th>\n      <th>difficulty</th>\n      <th>category</th>\n      <th>collection</th>\n      <th>body</th>\n    </tr>\n  </thead>\n  <tbody>\n    <tr>\n      <th>0</th>\n      <td>20030228</td>\n      <td>hard</td>\n      <td>ham</td>\n      <td>None</td>\n      <td>Return-Path: &lt;bounce-lghtml-2534368@sprocket.l...</td>\n    </tr>\n    <tr>\n      <th>1</th>\n      <td>20030228</td>\n      <td>hard</td>\n      <td>ham</td>\n      <td>None</td>\n      <td>Return-Path: &lt;bounce-lghtml-2534368@sprocket.l...</td>\n    </tr>\n    <tr>\n      <th>2</th>\n      <td>20030228</td>\n      <td>hard</td>\n      <td>ham</td>\n      <td>None</td>\n      <td>Return-Path: &lt;bounce-lghtml-2534368@sprocket.l...</td>\n    </tr>\n    <tr>\n      <th>3</th>\n      <td>20030228</td>\n      <td>hard</td>\n      <td>ham</td>\n      <td>None</td>\n      <td>Return-Path: &lt;bounce-lghtml-2534368@sprocket.l...</td>\n    </tr>\n    <tr>\n      <th>4</th>\n      <td>20030228</td>\n      <td>hard</td>\n      <td>ham</td>\n      <td>None</td>\n      <td>Return-Path: &lt;bounce-lghtml-2534368@sprocket.l...</td>\n    </tr>\n    <tr>\n      <th>...</th>\n      <td>...</td>\n      <td>...</td>\n      <td>...</td>\n      <td>...</td>\n      <td>...</td>\n    </tr>\n    <tr>\n      <th>53650</th>\n      <td>20050311</td>\n      <td>spam</td>\n      <td></td>\n      <td>2</td>\n      <td>Received: from actioncouriers.com ([207.225.37...</td>\n    </tr>\n    <tr>\n      <th>53651</th>\n      <td>20050311</td>\n      <td>spam</td>\n      <td></td>\n      <td>2</td>\n      <td>Received: from actioncouriers.com ([207.225.37...</td>\n    </tr>\n    <tr>\n      <th>53652</th>\n      <td>20050311</td>\n      <td>spam</td>\n      <td></td>\n      <td>2</td>\n      <td>Received: from actioncouriers.com ([207.225.37...</td>\n    </tr>\n    <tr>\n      <th>53653</th>\n      <td>20050311</td>\n      <td>spam</td>\n      <td></td>\n      <td>2</td>\n      <td>Received: from actioncouriers.com ([207.225.37...</td>\n    </tr>\n    <tr>\n      <th>53654</th>\n      <td>20050311</td>\n      <td>spam</td>\n      <td></td>\n      <td>2</td>\n      <td>Received: from actioncouriers.com ([207.225.37...</td>\n    </tr>\n  </tbody>\n</table>\n<p>53655 rows × 5 columns</p>\n</div>"
     },
     "execution_count": 188,
     "metadata": {},
     "output_type": "execute_result"
    }
   ],
   "source": [
    "corpus_df"
   ],
   "metadata": {
    "collapsed": false,
    "ExecuteTime": {
     "end_time": "2023-06-18T21:10:01.880972Z",
     "start_time": "2023-06-18T21:10:01.872907Z"
    }
   }
  },
  {
   "cell_type": "markdown",
   "source": [
    "# Preprocessing"
   ],
   "metadata": {
    "collapsed": false
   }
  },
  {
   "cell_type": "code",
   "execution_count": 193,
   "outputs": [],
   "source": [
    "def extract_headers(row):\n",
    "    row['has_headers'] = True\n",
    "    try:\n",
    "        [headers, body] = row['body'].split('\\n\\n', maxsplit=1)\n",
    "        header_rows = headers.split('\\n')\n",
    "        current_key = None\n",
    "        for h in header_rows:\n",
    "            row, current_key = parse_header(row, h, current_key)\n",
    "        row['body'] = body\n",
    "    except Exception as e:\n",
    "        row['header_error'] = e\n",
    "        row['has_headers'] = False\n",
    "    return row\n",
    "\n",
    "\n",
    "def parse_header(row, h, current_key):\n",
    "    match re.split(r\"([\\w\\-]+)\\:\\s*\", h):\n",
    "        case ['', key, value]:\n",
    "            row[key.lower()] = value\n",
    "            current_key = key.lower()\n",
    "        case [value]:\n",
    "            if current_key:\n",
    "                row[current_key] += value\n",
    "        case _:\n",
    "            pass\n",
    "    return row, current_key"
   ],
   "metadata": {
    "collapsed": false,
    "ExecuteTime": {
     "end_time": "2023-06-18T21:12:05.172145Z",
     "start_time": "2023-06-18T21:12:05.169854Z"
    }
   }
  },
  {
   "cell_type": "code",
   "execution_count": 194,
   "outputs": [],
   "source": [
    "preproc_df = corpus_df.drop_duplicates(subset='body')\n",
    "preproc_df = preproc_df.apply(extract_headers, axis=1)"
   ],
   "metadata": {
    "collapsed": false
   }
  },
  {
   "cell_type": "code",
   "execution_count": 195,
   "outputs": [],
   "source": [
    "reduced_preproc_df = preproc_df.dropna(thresh=1000, axis=1)"
   ],
   "metadata": {
    "collapsed": false,
    "ExecuteTime": {
     "end_time": "2023-06-18T21:13:00.573353Z",
     "start_time": "2023-06-18T21:13:00.408755Z"
    }
   }
  },
  {
   "cell_type": "code",
   "execution_count": 197,
   "outputs": [],
   "source": [
    "def extract_email_address(row, cols):\n",
    "    for col in cols:\n",
    "        if str(row[col]) and type(row[col]) != list:\n",
    "            row[col] = re.findall(r\"([^\\s\\<]+\\@[^\\s\\>]+)\", str(row[col])) or None\n",
    "    return row"
   ],
   "metadata": {
    "collapsed": false,
    "ExecuteTime": {
     "end_time": "2023-06-18T21:13:19.808276Z",
     "start_time": "2023-06-18T21:13:19.799341Z"
    }
   }
  },
  {
   "cell_type": "code",
   "execution_count": 198,
   "outputs": [],
   "source": [
    "envelope_cols = ['delivered-to', 'errors-to', 'from', 'in-reply-to', 'list-id', 'message-id', 'received', 'references',\n",
    "                 'reply-to', 'return-path', 'sender', 'to', 'x-beenthere']\n",
    "extracted_emails_df = reduced_preproc_df.apply(lambda r: extract_email_address(r, envelope_cols), axis=1)"
   ],
   "metadata": {
    "collapsed": false,
    "ExecuteTime": {
     "end_time": "2023-06-18T21:13:23.356043Z",
     "start_time": "2023-06-18T21:13:20.339001Z"
    }
   }
  },
  {
   "cell_type": "code",
   "execution_count": 199,
   "outputs": [],
   "source": [
    "matching_cols = [\n",
    "    ['delivered-to', 'to'],\n",
    "    ['errors-to', 'from'],\n",
    "    ['errors-to', 'return-path'],\n",
    "    ['from', 'reply-to'],\n",
    "    ['from', 'return-path'],\n",
    "    ['from', 'sender'],\n",
    "    ['x-beenthere', 'list-id']\n",
    "]\n",
    "\n",
    "\n",
    "def envelope_cols_match(row):\n",
    "    for [col1, col2] in matching_cols:\n",
    "        values_exist = row[col1] and row[col2]\n",
    "        if not values_exist:\n",
    "            return row\n",
    "        row[f'feat-match-{col1}-{col2}'] = 1 if set(row[col1]) == set(row[col2]) else 0\n",
    "    return row"
   ],
   "metadata": {
    "collapsed": false,
    "ExecuteTime": {
     "end_time": "2023-06-18T21:13:24.318503Z",
     "start_time": "2023-06-18T21:13:24.313412Z"
    }
   }
  },
  {
   "cell_type": "code",
   "execution_count": 200,
   "outputs": [],
   "source": [
    "matched_envelopes_df = extracted_emails_df.apply(envelope_cols_match, axis=1)"
   ],
   "metadata": {
    "collapsed": false,
    "ExecuteTime": {
     "end_time": "2023-06-18T21:13:34.686884Z",
     "start_time": "2023-06-18T21:13:25.229456Z"
    }
   }
  },
  {
   "cell_type": "code",
   "execution_count": 201,
   "outputs": [],
   "source": [
    "def get_feat_cols(df):\n",
    "    return [col for col in df.columns if re.match(r\"^feat\\-.*$\", col) is not None]"
   ],
   "metadata": {
    "collapsed": false,
    "ExecuteTime": {
     "end_time": "2023-06-18T21:13:34.698259Z",
     "start_time": "2023-06-18T21:13:34.675174Z"
    }
   }
  },
  {
   "cell_type": "code",
   "execution_count": 202,
   "outputs": [
    {
     "data": {
      "text/plain": "       feat-match-delivered-to-to  feat-match-errors-to-from  \\\ncount                 7760.000000                4569.000000   \nmean                     0.147938                   0.003502   \nstd                      0.355062                   0.059079   \nmin                      0.000000                   0.000000   \n25%                      0.000000                   0.000000   \n50%                      0.000000                   0.000000   \n75%                      0.000000                   0.000000   \nmax                      1.000000                   1.000000   \n\n       feat-match-errors-to-return-path  feat-match-from-reply-to  \\\ncount                       4568.000000               1662.000000   \nmean                           0.992557                  0.293020   \nstd                            0.085961                  0.455285   \nmin                            0.000000                  0.000000   \n25%                            1.000000                  0.000000   \n50%                            1.000000                  0.000000   \n75%                            1.000000                  1.000000   \nmax                            1.000000                  1.000000   \n\n       feat-match-from-return-path  feat-match-from-sender  \ncount                  1662.000000             1654.000000  \nmean                      0.010229                0.007860  \nstd                       0.100648                0.088333  \nmin                       0.000000                0.000000  \n25%                       0.000000                0.000000  \n50%                       0.000000                0.000000  \n75%                       0.000000                0.000000  \nmax                       1.000000                1.000000  ",
      "text/html": "<div>\n<style scoped>\n    .dataframe tbody tr th:only-of-type {\n        vertical-align: middle;\n    }\n\n    .dataframe tbody tr th {\n        vertical-align: top;\n    }\n\n    .dataframe thead th {\n        text-align: right;\n    }\n</style>\n<table border=\"1\" class=\"dataframe\">\n  <thead>\n    <tr style=\"text-align: right;\">\n      <th></th>\n      <th>feat-match-delivered-to-to</th>\n      <th>feat-match-errors-to-from</th>\n      <th>feat-match-errors-to-return-path</th>\n      <th>feat-match-from-reply-to</th>\n      <th>feat-match-from-return-path</th>\n      <th>feat-match-from-sender</th>\n    </tr>\n  </thead>\n  <tbody>\n    <tr>\n      <th>count</th>\n      <td>7760.000000</td>\n      <td>4569.000000</td>\n      <td>4568.000000</td>\n      <td>1662.000000</td>\n      <td>1662.000000</td>\n      <td>1654.000000</td>\n    </tr>\n    <tr>\n      <th>mean</th>\n      <td>0.147938</td>\n      <td>0.003502</td>\n      <td>0.992557</td>\n      <td>0.293020</td>\n      <td>0.010229</td>\n      <td>0.007860</td>\n    </tr>\n    <tr>\n      <th>std</th>\n      <td>0.355062</td>\n      <td>0.059079</td>\n      <td>0.085961</td>\n      <td>0.455285</td>\n      <td>0.100648</td>\n      <td>0.088333</td>\n    </tr>\n    <tr>\n      <th>min</th>\n      <td>0.000000</td>\n      <td>0.000000</td>\n      <td>0.000000</td>\n      <td>0.000000</td>\n      <td>0.000000</td>\n      <td>0.000000</td>\n    </tr>\n    <tr>\n      <th>25%</th>\n      <td>0.000000</td>\n      <td>0.000000</td>\n      <td>1.000000</td>\n      <td>0.000000</td>\n      <td>0.000000</td>\n      <td>0.000000</td>\n    </tr>\n    <tr>\n      <th>50%</th>\n      <td>0.000000</td>\n      <td>0.000000</td>\n      <td>1.000000</td>\n      <td>0.000000</td>\n      <td>0.000000</td>\n      <td>0.000000</td>\n    </tr>\n    <tr>\n      <th>75%</th>\n      <td>0.000000</td>\n      <td>0.000000</td>\n      <td>1.000000</td>\n      <td>1.000000</td>\n      <td>0.000000</td>\n      <td>0.000000</td>\n    </tr>\n    <tr>\n      <th>max</th>\n      <td>1.000000</td>\n      <td>1.000000</td>\n      <td>1.000000</td>\n      <td>1.000000</td>\n      <td>1.000000</td>\n      <td>1.000000</td>\n    </tr>\n  </tbody>\n</table>\n</div>"
     },
     "execution_count": 202,
     "metadata": {},
     "output_type": "execute_result"
    }
   ],
   "source": [
    "matched_envelopes_df[get_feat_cols(matched_envelopes_df)].describe()"
   ],
   "metadata": {
    "collapsed": false,
    "ExecuteTime": {
     "end_time": "2023-06-18T21:13:34.726202Z",
     "start_time": "2023-06-18T21:13:34.679963Z"
    }
   }
  },
  {
   "cell_type": "code",
   "execution_count": 203,
   "outputs": [],
   "source": [
    "message_ids = {}\n",
    "\n",
    "\n",
    "def duplicate_message_id(row):\n",
    "    if not row['message-id']:\n",
    "        matched_envelopes_df.loc[row.name, 'feat-duplicate-message-id'] = 0\n",
    "        return row\n",
    "\n",
    "    for message_id in row['message-id']:\n",
    "        if message_id not in message_ids:\n",
    "            message_ids[message_id] = row.name\n",
    "            matched_envelopes_df.loc[row.name, 'feat-duplicate-message-id'] = 0\n",
    "        else:\n",
    "            matched_envelopes_df.loc[message_ids[message_id], 'feat-duplicate-message-id'] = 1\n",
    "    return row\n",
    "\n",
    "\n",
    "matched_envelopes_df.apply(duplicate_message_id, axis=1)\n",
    "duplicate_messages_df = matched_envelopes_df"
   ],
   "metadata": {
    "collapsed": false,
    "ExecuteTime": {
     "end_time": "2023-06-18T21:13:40.859469Z",
     "start_time": "2023-06-18T21:13:39.247005Z"
    }
   }
  },
  {
   "cell_type": "code",
   "execution_count": 204,
   "outputs": [],
   "source": [
    "def prepare_for_encoding(row, col):\n",
    "    if pd.isna(row[col]):\n",
    "        return row\n",
    "\n",
    "    row[col] = row[col].lower()\n",
    "    row[col] = row[col].split(' ')[0]\n",
    "    return row\n",
    "\n",
    "\n",
    "def one_hot_encode(df, col):\n",
    "    cte_df = df.apply(lambda r: prepare_for_encoding(r, col), axis=1)\n",
    "    encoded_cte_df = pd.get_dummies(cte_df[col], prefix=f'feat-encoded-{col}', dtype=int)\n",
    "    return pd.concat([cte_df, encoded_cte_df], axis=1)\n",
    "\n",
    "\n",
    "with_encoded_cte_df = one_hot_encode(duplicate_messages_df, 'content-transfer-encoding')"
   ],
   "metadata": {
    "collapsed": false,
    "ExecuteTime": {
     "end_time": "2023-06-18T21:13:41.365579Z",
     "start_time": "2023-06-18T21:13:40.878314Z"
    }
   }
  },
  {
   "cell_type": "code",
   "execution_count": 205,
   "outputs": [
    {
     "data": {
      "text/plain": "       feat-match-delivered-to-to  feat-match-errors-to-from  \\\n0                             NaN                        NaN   \n5                             0.0                        NaN   \n10                            NaN                        NaN   \n15                            NaN                        NaN   \n20                            NaN                        NaN   \n...                           ...                        ...   \n46660                         1.0                        0.0   \n46665                         0.0                        0.0   \n46675                         1.0                        0.0   \n46680                         1.0                        0.0   \n46685                         0.0                        0.0   \n\n       feat-match-errors-to-return-path  feat-match-from-reply-to  \\\n0                                   NaN                       NaN   \n5                                   NaN                       NaN   \n10                                  NaN                       NaN   \n15                                  NaN                       NaN   \n20                                  NaN                       NaN   \n...                                 ...                       ...   \n46660                               1.0                       NaN   \n46665                               1.0                       NaN   \n46675                               1.0                       NaN   \n46680                               1.0                       NaN   \n46685                               1.0                       NaN   \n\n       feat-match-from-return-path  feat-match-from-sender  \\\n0                              NaN                     NaN   \n5                              NaN                     NaN   \n10                             NaN                     NaN   \n15                             NaN                     NaN   \n20                             NaN                     NaN   \n...                            ...                     ...   \n46660                          NaN                     NaN   \n46665                          NaN                     NaN   \n46675                          NaN                     NaN   \n46680                          NaN                     NaN   \n46685                          NaN                     NaN   \n\n       feat-duplicate-message-id  feat-encoded-content-transfer-encoding_7bit  \\\n0                            0.0                                            0   \n5                            1.0                                            1   \n10                           1.0                                            1   \n15                           1.0                                            0   \n20                           1.0                                            1   \n...                          ...                                          ...   \n46660                        NaN                                            0   \n46665                        NaN                                            1   \n46675                        NaN                                            0   \n46680                        NaN                                            0   \n46685                        NaN                                            0   \n\n       feat-encoded-content-transfer-encoding_8bit  \\\n0                                                0   \n5                                                0   \n10                                               0   \n15                                               0   \n20                                               0   \n...                                            ...   \n46660                                            1   \n46665                                            0   \n46675                                            0   \n46680                                            0   \n46685                                            0   \n\n       feat-encoded-content-transfer-encoding_base64  \\\n0                                                  0   \n5                                                  0   \n10                                                 0   \n15                                                 0   \n20                                                 0   \n...                                              ...   \n46660                                              0   \n46665                                              0   \n46675                                              0   \n46680                                              0   \n46685                                              0   \n\n       feat-encoded-content-transfer-encoding_binary  \\\n0                                                  0   \n5                                                  0   \n10                                                 0   \n15                                                 0   \n20                                                 0   \n...                                              ...   \n46660                                              0   \n46665                                              0   \n46675                                              0   \n46680                                              0   \n46685                                              0   \n\n       feat-encoded-content-transfer-encoding_quoted-printable  \\\n0                                                      0         \n5                                                      0         \n10                                                     0         \n15                                                     1         \n20                                                     0         \n...                                                  ...         \n46660                                                  0         \n46665                                                  0         \n46675                                                  0         \n46680                                                  0         \n46685                                                  0         \n\n       feat-encoded-precedence_bulk  feat-encoded-precedence_first-class  \\\n0                                 0                                    0   \n5                                 1                                    0   \n10                                0                                    0   \n15                                0                                    0   \n20                                1                                    0   \n...                             ...                                  ...   \n46660                             1                                    0   \n46665                             1                                    0   \n46675                             1                                    0   \n46680                             1                                    0   \n46685                             1                                    0   \n\n       feat-encoded-precedence_list  feat-encoded-precedence_normal  \n0                                 0                               0  \n5                                 0                               0  \n10                                0                               0  \n15                                0                               0  \n20                                0                               0  \n...                             ...                             ...  \n46660                             0                               0  \n46665                             0                               0  \n46675                             0                               0  \n46680                             0                               0  \n46685                             0                               0  \n\n[9154 rows x 16 columns]",
      "text/html": "<div>\n<style scoped>\n    .dataframe tbody tr th:only-of-type {\n        vertical-align: middle;\n    }\n\n    .dataframe tbody tr th {\n        vertical-align: top;\n    }\n\n    .dataframe thead th {\n        text-align: right;\n    }\n</style>\n<table border=\"1\" class=\"dataframe\">\n  <thead>\n    <tr style=\"text-align: right;\">\n      <th></th>\n      <th>feat-match-delivered-to-to</th>\n      <th>feat-match-errors-to-from</th>\n      <th>feat-match-errors-to-return-path</th>\n      <th>feat-match-from-reply-to</th>\n      <th>feat-match-from-return-path</th>\n      <th>feat-match-from-sender</th>\n      <th>feat-duplicate-message-id</th>\n      <th>feat-encoded-content-transfer-encoding_7bit</th>\n      <th>feat-encoded-content-transfer-encoding_8bit</th>\n      <th>feat-encoded-content-transfer-encoding_base64</th>\n      <th>feat-encoded-content-transfer-encoding_binary</th>\n      <th>feat-encoded-content-transfer-encoding_quoted-printable</th>\n      <th>feat-encoded-precedence_bulk</th>\n      <th>feat-encoded-precedence_first-class</th>\n      <th>feat-encoded-precedence_list</th>\n      <th>feat-encoded-precedence_normal</th>\n    </tr>\n  </thead>\n  <tbody>\n    <tr>\n      <th>0</th>\n      <td>NaN</td>\n      <td>NaN</td>\n      <td>NaN</td>\n      <td>NaN</td>\n      <td>NaN</td>\n      <td>NaN</td>\n      <td>0.0</td>\n      <td>0</td>\n      <td>0</td>\n      <td>0</td>\n      <td>0</td>\n      <td>0</td>\n      <td>0</td>\n      <td>0</td>\n      <td>0</td>\n      <td>0</td>\n    </tr>\n    <tr>\n      <th>5</th>\n      <td>0.0</td>\n      <td>NaN</td>\n      <td>NaN</td>\n      <td>NaN</td>\n      <td>NaN</td>\n      <td>NaN</td>\n      <td>1.0</td>\n      <td>1</td>\n      <td>0</td>\n      <td>0</td>\n      <td>0</td>\n      <td>0</td>\n      <td>1</td>\n      <td>0</td>\n      <td>0</td>\n      <td>0</td>\n    </tr>\n    <tr>\n      <th>10</th>\n      <td>NaN</td>\n      <td>NaN</td>\n      <td>NaN</td>\n      <td>NaN</td>\n      <td>NaN</td>\n      <td>NaN</td>\n      <td>1.0</td>\n      <td>1</td>\n      <td>0</td>\n      <td>0</td>\n      <td>0</td>\n      <td>0</td>\n      <td>0</td>\n      <td>0</td>\n      <td>0</td>\n      <td>0</td>\n    </tr>\n    <tr>\n      <th>15</th>\n      <td>NaN</td>\n      <td>NaN</td>\n      <td>NaN</td>\n      <td>NaN</td>\n      <td>NaN</td>\n      <td>NaN</td>\n      <td>1.0</td>\n      <td>0</td>\n      <td>0</td>\n      <td>0</td>\n      <td>0</td>\n      <td>1</td>\n      <td>0</td>\n      <td>0</td>\n      <td>0</td>\n      <td>0</td>\n    </tr>\n    <tr>\n      <th>20</th>\n      <td>NaN</td>\n      <td>NaN</td>\n      <td>NaN</td>\n      <td>NaN</td>\n      <td>NaN</td>\n      <td>NaN</td>\n      <td>1.0</td>\n      <td>1</td>\n      <td>0</td>\n      <td>0</td>\n      <td>0</td>\n      <td>0</td>\n      <td>1</td>\n      <td>0</td>\n      <td>0</td>\n      <td>0</td>\n    </tr>\n    <tr>\n      <th>...</th>\n      <td>...</td>\n      <td>...</td>\n      <td>...</td>\n      <td>...</td>\n      <td>...</td>\n      <td>...</td>\n      <td>...</td>\n      <td>...</td>\n      <td>...</td>\n      <td>...</td>\n      <td>...</td>\n      <td>...</td>\n      <td>...</td>\n      <td>...</td>\n      <td>...</td>\n      <td>...</td>\n    </tr>\n    <tr>\n      <th>46660</th>\n      <td>1.0</td>\n      <td>0.0</td>\n      <td>1.0</td>\n      <td>NaN</td>\n      <td>NaN</td>\n      <td>NaN</td>\n      <td>NaN</td>\n      <td>0</td>\n      <td>1</td>\n      <td>0</td>\n      <td>0</td>\n      <td>0</td>\n      <td>1</td>\n      <td>0</td>\n      <td>0</td>\n      <td>0</td>\n    </tr>\n    <tr>\n      <th>46665</th>\n      <td>0.0</td>\n      <td>0.0</td>\n      <td>1.0</td>\n      <td>NaN</td>\n      <td>NaN</td>\n      <td>NaN</td>\n      <td>NaN</td>\n      <td>1</td>\n      <td>0</td>\n      <td>0</td>\n      <td>0</td>\n      <td>0</td>\n      <td>1</td>\n      <td>0</td>\n      <td>0</td>\n      <td>0</td>\n    </tr>\n    <tr>\n      <th>46675</th>\n      <td>1.0</td>\n      <td>0.0</td>\n      <td>1.0</td>\n      <td>NaN</td>\n      <td>NaN</td>\n      <td>NaN</td>\n      <td>NaN</td>\n      <td>0</td>\n      <td>0</td>\n      <td>0</td>\n      <td>0</td>\n      <td>0</td>\n      <td>1</td>\n      <td>0</td>\n      <td>0</td>\n      <td>0</td>\n    </tr>\n    <tr>\n      <th>46680</th>\n      <td>1.0</td>\n      <td>0.0</td>\n      <td>1.0</td>\n      <td>NaN</td>\n      <td>NaN</td>\n      <td>NaN</td>\n      <td>NaN</td>\n      <td>0</td>\n      <td>0</td>\n      <td>0</td>\n      <td>0</td>\n      <td>0</td>\n      <td>1</td>\n      <td>0</td>\n      <td>0</td>\n      <td>0</td>\n    </tr>\n    <tr>\n      <th>46685</th>\n      <td>0.0</td>\n      <td>0.0</td>\n      <td>1.0</td>\n      <td>NaN</td>\n      <td>NaN</td>\n      <td>NaN</td>\n      <td>NaN</td>\n      <td>0</td>\n      <td>0</td>\n      <td>0</td>\n      <td>0</td>\n      <td>0</td>\n      <td>1</td>\n      <td>0</td>\n      <td>0</td>\n      <td>0</td>\n    </tr>\n  </tbody>\n</table>\n<p>9154 rows × 16 columns</p>\n</div>"
     },
     "execution_count": 205,
     "metadata": {},
     "output_type": "execute_result"
    }
   ],
   "source": [
    "with_encoded_precedence_df = one_hot_encode(with_encoded_cte_df, 'precedence')\n",
    "with_encoded_precedence_df[get_feat_cols(with_encoded_precedence_df)]"
   ],
   "metadata": {
    "collapsed": false,
    "ExecuteTime": {
     "end_time": "2023-06-18T21:13:41.914436Z",
     "start_time": "2023-06-18T21:13:41.373693Z"
    }
   }
  },
  {
   "cell_type": "code",
   "execution_count": 206,
   "outputs": [
    {
     "data": {
      "text/plain": "       feat-match-delivered-to-to  feat-match-errors-to-from  \\\n0                             NaN                        NaN   \n5                             0.0                        NaN   \n10                            NaN                        NaN   \n15                            NaN                        NaN   \n20                            NaN                        NaN   \n...                           ...                        ...   \n46660                         1.0                        0.0   \n46665                         0.0                        0.0   \n46675                         1.0                        0.0   \n46680                         1.0                        0.0   \n46685                         0.0                        0.0   \n\n       feat-match-errors-to-return-path  feat-match-from-reply-to  \\\n0                                   NaN                       NaN   \n5                                   NaN                       NaN   \n10                                  NaN                       NaN   \n15                                  NaN                       NaN   \n20                                  NaN                       NaN   \n...                                 ...                       ...   \n46660                               1.0                       NaN   \n46665                               1.0                       NaN   \n46675                               1.0                       NaN   \n46680                               1.0                       NaN   \n46685                               1.0                       NaN   \n\n       feat-match-from-return-path  feat-match-from-sender  \\\n0                              NaN                     NaN   \n5                              NaN                     NaN   \n10                             NaN                     NaN   \n15                             NaN                     NaN   \n20                             NaN                     NaN   \n...                            ...                     ...   \n46660                          NaN                     NaN   \n46665                          NaN                     NaN   \n46675                          NaN                     NaN   \n46680                          NaN                     NaN   \n46685                          NaN                     NaN   \n\n       feat-duplicate-message-id  feat-encoded-content-transfer-encoding_7bit  \\\n0                            0.0                                            0   \n5                            1.0                                            1   \n10                           1.0                                            1   \n15                           1.0                                            0   \n20                           1.0                                            1   \n...                          ...                                          ...   \n46660                        NaN                                            0   \n46665                        NaN                                            1   \n46675                        NaN                                            0   \n46680                        NaN                                            0   \n46685                        NaN                                            0   \n\n       feat-encoded-content-transfer-encoding_8bit  \\\n0                                                0   \n5                                                0   \n10                                               0   \n15                                               0   \n20                                               0   \n...                                            ...   \n46660                                            1   \n46665                                            0   \n46675                                            0   \n46680                                            0   \n46685                                            0   \n\n       feat-encoded-content-transfer-encoding_base64  ...  \\\n0                                                  0  ...   \n5                                                  0  ...   \n10                                                 0  ...   \n15                                                 0  ...   \n20                                                 0  ...   \n...                                              ...  ...   \n46660                                              0  ...   \n46665                                              0  ...   \n46675                                              0  ...   \n46680                                              0  ...   \n46685                                              0  ...   \n\n       feat-encoded-x-mailman-version_2.0.1  \\\n0                                         0   \n5                                         0   \n10                                        0   \n15                                        0   \n20                                        0   \n...                                     ...   \n46660                                     0   \n46665                                     0   \n46675                                     0   \n46680                                     0   \n46685                                     0   \n\n       feat-encoded-x-mailman-version_2.0.10  \\\n0                                          0   \n5                                          0   \n10                                         0   \n15                                         0   \n20                                         0   \n...                                      ...   \n46660                                      0   \n46665                                      0   \n46675                                      0   \n46680                                      0   \n46685                                      0   \n\n       feat-encoded-x-mailman-version_2.0.11  \\\n0                                          0   \n5                                          0   \n10                                         0   \n15                                         0   \n20                                         0   \n...                                      ...   \n46660                                      1   \n46665                                      1   \n46675                                      1   \n46680                                      1   \n46685                                      0   \n\n       feat-encoded-x-mailman-version_2.0.3  \\\n0                                         0   \n5                                         0   \n10                                        0   \n15                                        0   \n20                                        0   \n...                                     ...   \n46660                                     0   \n46665                                     0   \n46675                                     0   \n46680                                     0   \n46685                                     0   \n\n       feat-encoded-x-mailman-version_2.0.6  \\\n0                                         0   \n5                                         0   \n10                                        0   \n15                                        0   \n20                                        0   \n...                                     ...   \n46660                                     0   \n46665                                     0   \n46675                                     0   \n46680                                     0   \n46685                                     0   \n\n       feat-encoded-x-mailman-version_2.0.7  \\\n0                                         0   \n5                                         0   \n10                                        0   \n15                                        0   \n20                                        0   \n...                                     ...   \n46660                                     0   \n46665                                     0   \n46675                                     0   \n46680                                     0   \n46685                                     0   \n\n       feat-encoded-x-mailman-version_2.0.8  \\\n0                                         0   \n5                                         0   \n10                                        0   \n15                                        0   \n20                                        0   \n...                                     ...   \n46660                                     0   \n46665                                     0   \n46675                                     0   \n46680                                     0   \n46685                                     0   \n\n       feat-encoded-x-mailman-version_2.0.9-sf.net  \\\n0                                                0   \n5                                                0   \n10                                               0   \n15                                               0   \n20                                               0   \n...                                            ...   \n46660                                            0   \n46665                                            0   \n46675                                            0   \n46680                                            0   \n46685                                            1   \n\n       feat-encoded-x-mailman-version_2.1b5  \\\n0                                         0   \n5                                         0   \n10                                        0   \n15                                        0   \n20                                        0   \n...                                     ...   \n46660                                     0   \n46665                                     0   \n46675                                     0   \n46680                                     0   \n46685                                     0   \n\n       feat-encoded-x-mailman-version_2.1b5+  \n0                                          0  \n5                                          0  \n10                                         0  \n15                                         0  \n20                                         0  \n...                                      ...  \n46660                                      0  \n46665                                      0  \n46675                                      0  \n46680                                      0  \n46685                                      0  \n\n[9154 rows x 27 columns]",
      "text/html": "<div>\n<style scoped>\n    .dataframe tbody tr th:only-of-type {\n        vertical-align: middle;\n    }\n\n    .dataframe tbody tr th {\n        vertical-align: top;\n    }\n\n    .dataframe thead th {\n        text-align: right;\n    }\n</style>\n<table border=\"1\" class=\"dataframe\">\n  <thead>\n    <tr style=\"text-align: right;\">\n      <th></th>\n      <th>feat-match-delivered-to-to</th>\n      <th>feat-match-errors-to-from</th>\n      <th>feat-match-errors-to-return-path</th>\n      <th>feat-match-from-reply-to</th>\n      <th>feat-match-from-return-path</th>\n      <th>feat-match-from-sender</th>\n      <th>feat-duplicate-message-id</th>\n      <th>feat-encoded-content-transfer-encoding_7bit</th>\n      <th>feat-encoded-content-transfer-encoding_8bit</th>\n      <th>feat-encoded-content-transfer-encoding_base64</th>\n      <th>...</th>\n      <th>feat-encoded-x-mailman-version_2.0.1</th>\n      <th>feat-encoded-x-mailman-version_2.0.10</th>\n      <th>feat-encoded-x-mailman-version_2.0.11</th>\n      <th>feat-encoded-x-mailman-version_2.0.3</th>\n      <th>feat-encoded-x-mailman-version_2.0.6</th>\n      <th>feat-encoded-x-mailman-version_2.0.7</th>\n      <th>feat-encoded-x-mailman-version_2.0.8</th>\n      <th>feat-encoded-x-mailman-version_2.0.9-sf.net</th>\n      <th>feat-encoded-x-mailman-version_2.1b5</th>\n      <th>feat-encoded-x-mailman-version_2.1b5+</th>\n    </tr>\n  </thead>\n  <tbody>\n    <tr>\n      <th>0</th>\n      <td>NaN</td>\n      <td>NaN</td>\n      <td>NaN</td>\n      <td>NaN</td>\n      <td>NaN</td>\n      <td>NaN</td>\n      <td>0.0</td>\n      <td>0</td>\n      <td>0</td>\n      <td>0</td>\n      <td>...</td>\n      <td>0</td>\n      <td>0</td>\n      <td>0</td>\n      <td>0</td>\n      <td>0</td>\n      <td>0</td>\n      <td>0</td>\n      <td>0</td>\n      <td>0</td>\n      <td>0</td>\n    </tr>\n    <tr>\n      <th>5</th>\n      <td>0.0</td>\n      <td>NaN</td>\n      <td>NaN</td>\n      <td>NaN</td>\n      <td>NaN</td>\n      <td>NaN</td>\n      <td>1.0</td>\n      <td>1</td>\n      <td>0</td>\n      <td>0</td>\n      <td>...</td>\n      <td>0</td>\n      <td>0</td>\n      <td>0</td>\n      <td>0</td>\n      <td>0</td>\n      <td>0</td>\n      <td>0</td>\n      <td>0</td>\n      <td>0</td>\n      <td>0</td>\n    </tr>\n    <tr>\n      <th>10</th>\n      <td>NaN</td>\n      <td>NaN</td>\n      <td>NaN</td>\n      <td>NaN</td>\n      <td>NaN</td>\n      <td>NaN</td>\n      <td>1.0</td>\n      <td>1</td>\n      <td>0</td>\n      <td>0</td>\n      <td>...</td>\n      <td>0</td>\n      <td>0</td>\n      <td>0</td>\n      <td>0</td>\n      <td>0</td>\n      <td>0</td>\n      <td>0</td>\n      <td>0</td>\n      <td>0</td>\n      <td>0</td>\n    </tr>\n    <tr>\n      <th>15</th>\n      <td>NaN</td>\n      <td>NaN</td>\n      <td>NaN</td>\n      <td>NaN</td>\n      <td>NaN</td>\n      <td>NaN</td>\n      <td>1.0</td>\n      <td>0</td>\n      <td>0</td>\n      <td>0</td>\n      <td>...</td>\n      <td>0</td>\n      <td>0</td>\n      <td>0</td>\n      <td>0</td>\n      <td>0</td>\n      <td>0</td>\n      <td>0</td>\n      <td>0</td>\n      <td>0</td>\n      <td>0</td>\n    </tr>\n    <tr>\n      <th>20</th>\n      <td>NaN</td>\n      <td>NaN</td>\n      <td>NaN</td>\n      <td>NaN</td>\n      <td>NaN</td>\n      <td>NaN</td>\n      <td>1.0</td>\n      <td>1</td>\n      <td>0</td>\n      <td>0</td>\n      <td>...</td>\n      <td>0</td>\n      <td>0</td>\n      <td>0</td>\n      <td>0</td>\n      <td>0</td>\n      <td>0</td>\n      <td>0</td>\n      <td>0</td>\n      <td>0</td>\n      <td>0</td>\n    </tr>\n    <tr>\n      <th>...</th>\n      <td>...</td>\n      <td>...</td>\n      <td>...</td>\n      <td>...</td>\n      <td>...</td>\n      <td>...</td>\n      <td>...</td>\n      <td>...</td>\n      <td>...</td>\n      <td>...</td>\n      <td>...</td>\n      <td>...</td>\n      <td>...</td>\n      <td>...</td>\n      <td>...</td>\n      <td>...</td>\n      <td>...</td>\n      <td>...</td>\n      <td>...</td>\n      <td>...</td>\n      <td>...</td>\n    </tr>\n    <tr>\n      <th>46660</th>\n      <td>1.0</td>\n      <td>0.0</td>\n      <td>1.0</td>\n      <td>NaN</td>\n      <td>NaN</td>\n      <td>NaN</td>\n      <td>NaN</td>\n      <td>0</td>\n      <td>1</td>\n      <td>0</td>\n      <td>...</td>\n      <td>0</td>\n      <td>0</td>\n      <td>1</td>\n      <td>0</td>\n      <td>0</td>\n      <td>0</td>\n      <td>0</td>\n      <td>0</td>\n      <td>0</td>\n      <td>0</td>\n    </tr>\n    <tr>\n      <th>46665</th>\n      <td>0.0</td>\n      <td>0.0</td>\n      <td>1.0</td>\n      <td>NaN</td>\n      <td>NaN</td>\n      <td>NaN</td>\n      <td>NaN</td>\n      <td>1</td>\n      <td>0</td>\n      <td>0</td>\n      <td>...</td>\n      <td>0</td>\n      <td>0</td>\n      <td>1</td>\n      <td>0</td>\n      <td>0</td>\n      <td>0</td>\n      <td>0</td>\n      <td>0</td>\n      <td>0</td>\n      <td>0</td>\n    </tr>\n    <tr>\n      <th>46675</th>\n      <td>1.0</td>\n      <td>0.0</td>\n      <td>1.0</td>\n      <td>NaN</td>\n      <td>NaN</td>\n      <td>NaN</td>\n      <td>NaN</td>\n      <td>0</td>\n      <td>0</td>\n      <td>0</td>\n      <td>...</td>\n      <td>0</td>\n      <td>0</td>\n      <td>1</td>\n      <td>0</td>\n      <td>0</td>\n      <td>0</td>\n      <td>0</td>\n      <td>0</td>\n      <td>0</td>\n      <td>0</td>\n    </tr>\n    <tr>\n      <th>46680</th>\n      <td>1.0</td>\n      <td>0.0</td>\n      <td>1.0</td>\n      <td>NaN</td>\n      <td>NaN</td>\n      <td>NaN</td>\n      <td>NaN</td>\n      <td>0</td>\n      <td>0</td>\n      <td>0</td>\n      <td>...</td>\n      <td>0</td>\n      <td>0</td>\n      <td>1</td>\n      <td>0</td>\n      <td>0</td>\n      <td>0</td>\n      <td>0</td>\n      <td>0</td>\n      <td>0</td>\n      <td>0</td>\n    </tr>\n    <tr>\n      <th>46685</th>\n      <td>0.0</td>\n      <td>0.0</td>\n      <td>1.0</td>\n      <td>NaN</td>\n      <td>NaN</td>\n      <td>NaN</td>\n      <td>NaN</td>\n      <td>0</td>\n      <td>0</td>\n      <td>0</td>\n      <td>...</td>\n      <td>0</td>\n      <td>0</td>\n      <td>0</td>\n      <td>0</td>\n      <td>0</td>\n      <td>0</td>\n      <td>0</td>\n      <td>1</td>\n      <td>0</td>\n      <td>0</td>\n    </tr>\n  </tbody>\n</table>\n<p>9154 rows × 27 columns</p>\n</div>"
     },
     "execution_count": 206,
     "metadata": {},
     "output_type": "execute_result"
    }
   ],
   "source": [
    "with_encoded_mailman_version_df = one_hot_encode(with_encoded_precedence_df, 'x-mailman-version')\n",
    "with_encoded_mailman_version_df[get_feat_cols(with_encoded_mailman_version_df)]"
   ],
   "metadata": {
    "collapsed": false,
    "ExecuteTime": {
     "end_time": "2023-06-18T21:13:43.120396Z",
     "start_time": "2023-06-18T21:13:41.923995Z"
    }
   }
  },
  {
   "cell_type": "code",
   "execution_count": 207,
   "outputs": [
    {
     "data": {
      "text/plain": "count    1149.000000\nmean        1.075718\nstd         0.387537\nmin        -1.000000\n25%         1.000000\n50%         1.000000\n75%         1.000000\nmax         3.000000\nName: feat-x-msmail-priority, dtype: float64"
     },
     "execution_count": 207,
     "metadata": {},
     "output_type": "execute_result"
    }
   ],
   "source": [
    "def parse_msmail_priority(row):\n",
    "    if pd.isna(row['x-msmail-priority']):\n",
    "        return row\n",
    "\n",
    "    match row['x-msmail-priority']:\n",
    "        case 'normal':\n",
    "            row['feat-x-msmail-priority'] = 1\n",
    "        case 'medium':\n",
    "            row['feat-x-msmail-priority'] = 1\n",
    "        case 'low':\n",
    "            row['feat-x-msmail-priority'] = 2\n",
    "        case 'high':\n",
    "            row['feat-x-msmail-priority'] = 3\n",
    "        case _:\n",
    "            row['feat-x-msmail-priority'] = -1\n",
    "\n",
    "    return row\n",
    "\n",
    "\n",
    "with_msmail_priority_df = with_encoded_mailman_version_df.apply(lambda r: prepare_for_encoding(r, 'x-msmail-priority'),\n",
    "                                                                axis=1)\n",
    "with_categorical_msmail_priority_df = with_msmail_priority_df.apply(parse_msmail_priority, axis=1)\n",
    "with_categorical_msmail_priority_df['feat-x-msmail-priority'].describe()"
   ],
   "metadata": {
    "collapsed": false,
    "ExecuteTime": {
     "end_time": "2023-06-18T21:13:46.464275Z",
     "start_time": "2023-06-18T21:13:43.120871Z"
    }
   }
  },
  {
   "cell_type": "code",
   "execution_count": 208,
   "outputs": [
    {
     "data": {
      "text/plain": "count    1488.000000\nmean        2.828629\nstd         0.588674\nmin         0.000000\n25%         3.000000\n50%         3.000000\n75%         3.000000\nmax         5.000000\nName: feat-x-priority, dtype: float64"
     },
     "execution_count": 208,
     "metadata": {},
     "output_type": "execute_result"
    }
   ],
   "source": [
    "def parse_priority(row):\n",
    "    if pd.isna(row['x-priority']):\n",
    "        return row\n",
    "\n",
    "    priority = row['x-priority']\n",
    "    if re.findall(r\"Highest\", priority):\n",
    "        row['feat-x-priority'] = 0\n",
    "    else:\n",
    "        row['feat-x-priority'] = int(re.search(r'\\d', priority).group())\n",
    "    return row\n",
    "\n",
    "\n",
    "with_categorical_priority_df = with_categorical_msmail_priority_df.apply(parse_priority, axis=1)\n",
    "with_categorical_priority_df['feat-x-priority'].describe()"
   ],
   "metadata": {
    "collapsed": false,
    "ExecuteTime": {
     "end_time": "2023-06-18T21:13:48.781430Z",
     "start_time": "2023-06-18T21:13:46.513159Z"
    }
   }
  },
  {
   "cell_type": "code",
   "execution_count": 209,
   "outputs": [
    {
     "data": {
      "text/plain": "count    2155.000000\nmean        0.007425\nstd         0.085866\nmin         0.000000\n25%         0.000000\n50%         0.000000\n75%         0.000000\nmax         1.000000\nName: feat-x-spam-status, dtype: float64"
     },
     "execution_count": 209,
     "metadata": {},
     "output_type": "execute_result"
    }
   ],
   "source": [
    "def parse_spam_status(row):\n",
    "    spam_status = row['x-spam-status']\n",
    "    if pd.isna(spam_status):\n",
    "        return row\n",
    "\n",
    "    match spam_status.split(', ')[0].lower():\n",
    "        case 'no':\n",
    "            row['feat-x-spam-status'] = 0\n",
    "        case 'yes':\n",
    "            row['feat-x-spam-status'] = 1\n",
    "        case _:\n",
    "            row['feat-x-spam-status'] = -1\n",
    "    return row\n",
    "\n",
    "\n",
    "with_binary_spam_status_df = with_categorical_priority_df.apply(parse_spam_status, axis=1)\n",
    "with_binary_spam_status_df['feat-x-spam-status'].describe()"
   ],
   "metadata": {
    "collapsed": false,
    "ExecuteTime": {
     "end_time": "2023-06-18T21:13:51.635588Z",
     "start_time": "2023-06-18T21:13:48.811367Z"
    }
   }
  },
  {
   "cell_type": "code",
   "execution_count": 210,
   "outputs": [
    {
     "data": {
      "text/plain": "count    2156.000000\nmean        0.067718\nstd         0.628818\nmin         0.000000\n25%         0.000000\n50%         0.000000\n75%         0.000000\nmax        11.000000\nName: feat-x-spam-level, dtype: float64"
     },
     "execution_count": 210,
     "metadata": {},
     "output_type": "execute_result"
    }
   ],
   "source": [
    "def parse_spam_level(row):\n",
    "    spam_level = row['x-spam-level']\n",
    "    if pd.isna(spam_level):\n",
    "        return row\n",
    "\n",
    "    row['feat-x-spam-level'] = len(spam_level.rstrip().lstrip())\n",
    "    return row\n",
    "\n",
    "\n",
    "with_categorical_spam_level_df = with_binary_spam_status_df.apply(parse_spam_level, axis=1)\n",
    "with_categorical_spam_level_df['feat-x-spam-level'].describe()"
   ],
   "metadata": {
    "collapsed": false,
    "ExecuteTime": {
     "end_time": "2023-06-18T21:13:53.764617Z",
     "start_time": "2023-06-18T21:13:51.661089Z"
    }
   }
  },
  {
   "cell_type": "code",
   "execution_count": 211,
   "outputs": [],
   "source": [
    "embedding_cols = ['cc', 'content-type', 'subject', 'x-mailer']"
   ],
   "metadata": {
    "collapsed": false,
    "ExecuteTime": {
     "end_time": "2023-06-18T21:13:53.768922Z",
     "start_time": "2023-06-18T21:13:53.766597Z"
    }
   }
  },
  {
   "cell_type": "code",
   "execution_count": 212,
   "outputs": [
    {
     "data": {
      "text/plain": "count    1962.000000\nmean        3.007136\nstd         6.011204\nmin         1.000000\n25%         1.000000\n50%         1.000000\n75%         2.000000\nmax        73.000000\nName: feat-cc-count, dtype: float64"
     },
     "execution_count": 212,
     "metadata": {},
     "output_type": "execute_result"
    }
   ],
   "source": [
    "def get_cc_count(row):\n",
    "    if pd.isna(row['cc']):\n",
    "        return row\n",
    "\n",
    "    row['feat-cc-count'] = len(row['cc'].split(','))\n",
    "    return row\n",
    "\n",
    "\n",
    "with_cc_count_df = with_categorical_spam_level_df.apply(get_cc_count, axis=1)\n",
    "with_cc_count_df['feat-cc-count'].describe()"
   ],
   "metadata": {
    "collapsed": false,
    "ExecuteTime": {
     "end_time": "2023-06-18T21:13:56.354352Z",
     "start_time": "2023-06-18T21:13:53.775782Z"
    }
   }
  },
  {
   "cell_type": "code",
   "execution_count": 213,
   "outputs": [
    {
     "data": {
      "text/plain": "                     content-type-boundary content-type-format  \\\ncount                                  131                  13   \nunique                                  77                   1   \ntop     =_NextPart_2rfkindysadvnqw3nerasdf              flowed   \nfreq                                     6                  13   \n\n       content-type-delsp content-type-micalg      content-type-protocol  \\\ncount                   2                 180                         69   \nunique                  1                   3                          2   \ntop                   yes            pgp-sha1  application/pgp-signature   \nfreq                    2                 168                         67   \n\n            content-type-type content-type-charset  \ncount                      39                  585  \nunique                      2                    7  \ntop     multipart/alternative             us-ascii  \nfreq                       34                  388  ",
      "text/html": "<div>\n<style scoped>\n    .dataframe tbody tr th:only-of-type {\n        vertical-align: middle;\n    }\n\n    .dataframe tbody tr th {\n        vertical-align: top;\n    }\n\n    .dataframe thead th {\n        text-align: right;\n    }\n</style>\n<table border=\"1\" class=\"dataframe\">\n  <thead>\n    <tr style=\"text-align: right;\">\n      <th></th>\n      <th>content-type-boundary</th>\n      <th>content-type-format</th>\n      <th>content-type-delsp</th>\n      <th>content-type-micalg</th>\n      <th>content-type-protocol</th>\n      <th>content-type-type</th>\n      <th>content-type-charset</th>\n    </tr>\n  </thead>\n  <tbody>\n    <tr>\n      <th>count</th>\n      <td>131</td>\n      <td>13</td>\n      <td>2</td>\n      <td>180</td>\n      <td>69</td>\n      <td>39</td>\n      <td>585</td>\n    </tr>\n    <tr>\n      <th>unique</th>\n      <td>77</td>\n      <td>1</td>\n      <td>1</td>\n      <td>3</td>\n      <td>2</td>\n      <td>2</td>\n      <td>7</td>\n    </tr>\n    <tr>\n      <th>top</th>\n      <td>=_NextPart_2rfkindysadvnqw3nerasdf</td>\n      <td>flowed</td>\n      <td>yes</td>\n      <td>pgp-sha1</td>\n      <td>application/pgp-signature</td>\n      <td>multipart/alternative</td>\n      <td>us-ascii</td>\n    </tr>\n    <tr>\n      <th>freq</th>\n      <td>6</td>\n      <td>13</td>\n      <td>2</td>\n      <td>168</td>\n      <td>67</td>\n      <td>34</td>\n      <td>388</td>\n    </tr>\n  </tbody>\n</table>\n</div>"
     },
     "execution_count": 213,
     "metadata": {},
     "output_type": "execute_result"
    }
   ],
   "source": [
    "ct_subfields = set()\n",
    "\n",
    "\n",
    "def parse_content_type(row):\n",
    "    content_type = row['content-type']\n",
    "    if pd.isna(content_type):\n",
    "        return row\n",
    "\n",
    "    value = content_type.split(';')[0]\n",
    "    row['content-type'] = value\n",
    "\n",
    "    subfields = re.findall(r\"([\\w]+)\\=[\\\"]?(.+?)[\\\"]?[\\;|\\n|$]\", re.sub('[\\t\\s\\n]+?', '', content_type))\n",
    "    for (subfield, subvalue) in subfields:\n",
    "        ct_subfields.add(f'content-type-{subfield.lower()}')\n",
    "        row[f'content-type-{subfield}'] = subvalue\n",
    "    return row\n",
    "\n",
    "\n",
    "with_content_type_df = with_cc_count_df.apply(parse_content_type, axis=1)\n",
    "with_content_type_df[list(ct_subfields)].describe()"
   ],
   "metadata": {
    "collapsed": false,
    "ExecuteTime": {
     "end_time": "2023-06-18T21:13:58.258097Z",
     "start_time": "2023-06-18T21:13:56.423320Z"
    }
   }
  },
  {
   "cell_type": "code",
   "execution_count": 214,
   "outputs": [
    {
     "data": {
      "text/plain": "       feat-cc-count  feat-duplicate-message-id  \\\n0                NaN                        0.0   \n5                NaN                        1.0   \n10               NaN                        1.0   \n15               NaN                        1.0   \n20               NaN                        1.0   \n...              ...                        ...   \n46660            NaN                        NaN   \n46665            NaN                        NaN   \n46675            NaN                        NaN   \n46680            NaN                        NaN   \n46685            NaN                        NaN   \n\n       feat-encoded-content-transfer-encoding_7bit  \\\n0                                                0   \n5                                                1   \n10                                               1   \n15                                               0   \n20                                               1   \n...                                            ...   \n46660                                            0   \n46665                                            1   \n46675                                            0   \n46680                                            0   \n46685                                            0   \n\n       feat-encoded-content-transfer-encoding_8bit  \\\n0                                                0   \n5                                                0   \n10                                               0   \n15                                               0   \n20                                               0   \n...                                            ...   \n46660                                            1   \n46665                                            0   \n46675                                            0   \n46680                                            0   \n46685                                            0   \n\n       feat-encoded-content-transfer-encoding_base64  \\\n0                                                  0   \n5                                                  0   \n10                                                 0   \n15                                                 0   \n20                                                 0   \n...                                              ...   \n46660                                              0   \n46665                                              0   \n46675                                              0   \n46680                                              0   \n46685                                              0   \n\n       feat-encoded-content-transfer-encoding_binary  \\\n0                                                  0   \n5                                                  0   \n10                                                 0   \n15                                                 0   \n20                                                 0   \n...                                              ...   \n46660                                              0   \n46665                                              0   \n46675                                              0   \n46680                                              0   \n46685                                              0   \n\n       feat-encoded-content-transfer-encoding_quoted-printable  \\\n0                                                      0         \n5                                                      0         \n10                                                     0         \n15                                                     1         \n20                                                     0         \n...                                                  ...         \n46660                                                  0         \n46665                                                  0         \n46675                                                  0         \n46680                                                  0         \n46685                                                  0         \n\n       feat-encoded-precedence_bulk  feat-encoded-precedence_first-class  \\\n0                                 0                                    0   \n5                                 1                                    0   \n10                                0                                    0   \n15                                0                                    0   \n20                                1                                    0   \n...                             ...                                  ...   \n46660                             1                                    0   \n46665                             1                                    0   \n46675                             1                                    0   \n46680                             1                                    0   \n46685                             1                                    0   \n\n       feat-encoded-precedence_list  ...  feat-match-from-return-path  \\\n0                                 0  ...                          NaN   \n5                                 0  ...                          NaN   \n10                                0  ...                          NaN   \n15                                0  ...                          NaN   \n20                                0  ...                          NaN   \n...                             ...  ...                          ...   \n46660                             0  ...                          NaN   \n46665                             0  ...                          NaN   \n46675                             0  ...                          NaN   \n46680                             0  ...                          NaN   \n46685                             0  ...                          NaN   \n\n       feat-match-from-sender  feat-x-msmail-priority  feat-x-priority  \\\n0                         NaN                     NaN              NaN   \n5                         NaN                     NaN              NaN   \n10                        NaN                     NaN              NaN   \n15                        NaN                     NaN              NaN   \n20                        NaN                     NaN              NaN   \n...                       ...                     ...              ...   \n46660                     NaN                     NaN              NaN   \n46665                     NaN                     1.0              3.0   \n46675                     NaN                     NaN              NaN   \n46680                     NaN                     NaN              NaN   \n46685                     NaN                     NaN              NaN   \n\n       feat-x-spam-level  feat-x-spam-status  \\\n0                    NaN                 NaN   \n5                    NaN                 NaN   \n10                   NaN                 NaN   \n15                   NaN                 NaN   \n20                   NaN                 NaN   \n...                  ...                 ...   \n46660                0.0                 0.0   \n46665                NaN                 NaN   \n46675                0.0                 0.0   \n46680                0.0                 0.0   \n46685                0.0                 0.0   \n\n       feat-encoded-content-type-charset_iso-8859-1  \\\n0                                                 0   \n5                                                 0   \n10                                                0   \n15                                                0   \n20                                                0   \n...                                             ...   \n46660                                             0   \n46665                                             0   \n46675                                             0   \n46680                                             0   \n46685                                             0   \n\n       feat-encoded-content-type-charset_iso-8859-15  \\\n0                                                  0   \n5                                                  0   \n10                                                 0   \n15                                                 0   \n20                                                 0   \n...                                              ...   \n46660                                              0   \n46665                                              0   \n46675                                              0   \n46680                                              0   \n46685                                              0   \n\n       feat-encoded-content-type-charset_us-ascii  \\\n0                                               0   \n5                                               1   \n10                                              0   \n15                                              0   \n20                                              0   \n...                                           ...   \n46660                                           0   \n46665                                           0   \n46675                                           0   \n46680                                           0   \n46685                                           1   \n\n       feat-encoded-content-type-charset_windows-1252  \n0                                                   0  \n5                                                   0  \n10                                                  0  \n15                                                  0  \n20                                                  0  \n...                                               ...  \n46660                                               0  \n46665                                               0  \n46675                                               0  \n46680                                               0  \n46685                                               0  \n\n[9154 rows x 36 columns]",
      "text/html": "<div>\n<style scoped>\n    .dataframe tbody tr th:only-of-type {\n        vertical-align: middle;\n    }\n\n    .dataframe tbody tr th {\n        vertical-align: top;\n    }\n\n    .dataframe thead th {\n        text-align: right;\n    }\n</style>\n<table border=\"1\" class=\"dataframe\">\n  <thead>\n    <tr style=\"text-align: right;\">\n      <th></th>\n      <th>feat-cc-count</th>\n      <th>feat-duplicate-message-id</th>\n      <th>feat-encoded-content-transfer-encoding_7bit</th>\n      <th>feat-encoded-content-transfer-encoding_8bit</th>\n      <th>feat-encoded-content-transfer-encoding_base64</th>\n      <th>feat-encoded-content-transfer-encoding_binary</th>\n      <th>feat-encoded-content-transfer-encoding_quoted-printable</th>\n      <th>feat-encoded-precedence_bulk</th>\n      <th>feat-encoded-precedence_first-class</th>\n      <th>feat-encoded-precedence_list</th>\n      <th>...</th>\n      <th>feat-match-from-return-path</th>\n      <th>feat-match-from-sender</th>\n      <th>feat-x-msmail-priority</th>\n      <th>feat-x-priority</th>\n      <th>feat-x-spam-level</th>\n      <th>feat-x-spam-status</th>\n      <th>feat-encoded-content-type-charset_iso-8859-1</th>\n      <th>feat-encoded-content-type-charset_iso-8859-15</th>\n      <th>feat-encoded-content-type-charset_us-ascii</th>\n      <th>feat-encoded-content-type-charset_windows-1252</th>\n    </tr>\n  </thead>\n  <tbody>\n    <tr>\n      <th>0</th>\n      <td>NaN</td>\n      <td>0.0</td>\n      <td>0</td>\n      <td>0</td>\n      <td>0</td>\n      <td>0</td>\n      <td>0</td>\n      <td>0</td>\n      <td>0</td>\n      <td>0</td>\n      <td>...</td>\n      <td>NaN</td>\n      <td>NaN</td>\n      <td>NaN</td>\n      <td>NaN</td>\n      <td>NaN</td>\n      <td>NaN</td>\n      <td>0</td>\n      <td>0</td>\n      <td>0</td>\n      <td>0</td>\n    </tr>\n    <tr>\n      <th>5</th>\n      <td>NaN</td>\n      <td>1.0</td>\n      <td>1</td>\n      <td>0</td>\n      <td>0</td>\n      <td>0</td>\n      <td>0</td>\n      <td>1</td>\n      <td>0</td>\n      <td>0</td>\n      <td>...</td>\n      <td>NaN</td>\n      <td>NaN</td>\n      <td>NaN</td>\n      <td>NaN</td>\n      <td>NaN</td>\n      <td>NaN</td>\n      <td>0</td>\n      <td>0</td>\n      <td>1</td>\n      <td>0</td>\n    </tr>\n    <tr>\n      <th>10</th>\n      <td>NaN</td>\n      <td>1.0</td>\n      <td>1</td>\n      <td>0</td>\n      <td>0</td>\n      <td>0</td>\n      <td>0</td>\n      <td>0</td>\n      <td>0</td>\n      <td>0</td>\n      <td>...</td>\n      <td>NaN</td>\n      <td>NaN</td>\n      <td>NaN</td>\n      <td>NaN</td>\n      <td>NaN</td>\n      <td>NaN</td>\n      <td>0</td>\n      <td>0</td>\n      <td>0</td>\n      <td>0</td>\n    </tr>\n    <tr>\n      <th>15</th>\n      <td>NaN</td>\n      <td>1.0</td>\n      <td>0</td>\n      <td>0</td>\n      <td>0</td>\n      <td>0</td>\n      <td>1</td>\n      <td>0</td>\n      <td>0</td>\n      <td>0</td>\n      <td>...</td>\n      <td>NaN</td>\n      <td>NaN</td>\n      <td>NaN</td>\n      <td>NaN</td>\n      <td>NaN</td>\n      <td>NaN</td>\n      <td>0</td>\n      <td>0</td>\n      <td>0</td>\n      <td>0</td>\n    </tr>\n    <tr>\n      <th>20</th>\n      <td>NaN</td>\n      <td>1.0</td>\n      <td>1</td>\n      <td>0</td>\n      <td>0</td>\n      <td>0</td>\n      <td>0</td>\n      <td>1</td>\n      <td>0</td>\n      <td>0</td>\n      <td>...</td>\n      <td>NaN</td>\n      <td>NaN</td>\n      <td>NaN</td>\n      <td>NaN</td>\n      <td>NaN</td>\n      <td>NaN</td>\n      <td>0</td>\n      <td>0</td>\n      <td>0</td>\n      <td>0</td>\n    </tr>\n    <tr>\n      <th>...</th>\n      <td>...</td>\n      <td>...</td>\n      <td>...</td>\n      <td>...</td>\n      <td>...</td>\n      <td>...</td>\n      <td>...</td>\n      <td>...</td>\n      <td>...</td>\n      <td>...</td>\n      <td>...</td>\n      <td>...</td>\n      <td>...</td>\n      <td>...</td>\n      <td>...</td>\n      <td>...</td>\n      <td>...</td>\n      <td>...</td>\n      <td>...</td>\n      <td>...</td>\n      <td>...</td>\n    </tr>\n    <tr>\n      <th>46660</th>\n      <td>NaN</td>\n      <td>NaN</td>\n      <td>0</td>\n      <td>1</td>\n      <td>0</td>\n      <td>0</td>\n      <td>0</td>\n      <td>1</td>\n      <td>0</td>\n      <td>0</td>\n      <td>...</td>\n      <td>NaN</td>\n      <td>NaN</td>\n      <td>NaN</td>\n      <td>NaN</td>\n      <td>0.0</td>\n      <td>0.0</td>\n      <td>0</td>\n      <td>0</td>\n      <td>0</td>\n      <td>0</td>\n    </tr>\n    <tr>\n      <th>46665</th>\n      <td>NaN</td>\n      <td>NaN</td>\n      <td>1</td>\n      <td>0</td>\n      <td>0</td>\n      <td>0</td>\n      <td>0</td>\n      <td>1</td>\n      <td>0</td>\n      <td>0</td>\n      <td>...</td>\n      <td>NaN</td>\n      <td>NaN</td>\n      <td>1.0</td>\n      <td>3.0</td>\n      <td>NaN</td>\n      <td>NaN</td>\n      <td>0</td>\n      <td>0</td>\n      <td>0</td>\n      <td>0</td>\n    </tr>\n    <tr>\n      <th>46675</th>\n      <td>NaN</td>\n      <td>NaN</td>\n      <td>0</td>\n      <td>0</td>\n      <td>0</td>\n      <td>0</td>\n      <td>0</td>\n      <td>1</td>\n      <td>0</td>\n      <td>0</td>\n      <td>...</td>\n      <td>NaN</td>\n      <td>NaN</td>\n      <td>NaN</td>\n      <td>NaN</td>\n      <td>0.0</td>\n      <td>0.0</td>\n      <td>0</td>\n      <td>0</td>\n      <td>0</td>\n      <td>0</td>\n    </tr>\n    <tr>\n      <th>46680</th>\n      <td>NaN</td>\n      <td>NaN</td>\n      <td>0</td>\n      <td>0</td>\n      <td>0</td>\n      <td>0</td>\n      <td>0</td>\n      <td>1</td>\n      <td>0</td>\n      <td>0</td>\n      <td>...</td>\n      <td>NaN</td>\n      <td>NaN</td>\n      <td>NaN</td>\n      <td>NaN</td>\n      <td>0.0</td>\n      <td>0.0</td>\n      <td>0</td>\n      <td>0</td>\n      <td>0</td>\n      <td>0</td>\n    </tr>\n    <tr>\n      <th>46685</th>\n      <td>NaN</td>\n      <td>NaN</td>\n      <td>0</td>\n      <td>0</td>\n      <td>0</td>\n      <td>0</td>\n      <td>0</td>\n      <td>1</td>\n      <td>0</td>\n      <td>0</td>\n      <td>...</td>\n      <td>NaN</td>\n      <td>NaN</td>\n      <td>NaN</td>\n      <td>NaN</td>\n      <td>0.0</td>\n      <td>0.0</td>\n      <td>0</td>\n      <td>0</td>\n      <td>1</td>\n      <td>0</td>\n    </tr>\n  </tbody>\n</table>\n<p>9154 rows × 36 columns</p>\n</div>"
     },
     "execution_count": 214,
     "metadata": {},
     "output_type": "execute_result"
    }
   ],
   "source": [
    "with_encoded_charset_df = one_hot_encode(with_content_type_df, 'content-type-charset')\n",
    "with_encoded_charset_df[get_feat_cols(with_encoded_charset_df)]"
   ],
   "metadata": {
    "collapsed": false,
    "ExecuteTime": {
     "end_time": "2023-06-18T21:13:58.748518Z",
     "start_time": "2023-06-18T21:13:58.259428Z"
    }
   }
  },
  {
   "cell_type": "code",
   "execution_count": 215,
   "outputs": [
    {
     "data": {
      "text/plain": "       feat-cc-count  feat-duplicate-message-id  \\\n0                NaN                        0.0   \n5                NaN                        1.0   \n10               NaN                        1.0   \n15               NaN                        1.0   \n20               NaN                        1.0   \n...              ...                        ...   \n46660            NaN                        NaN   \n46665            NaN                        NaN   \n46675            NaN                        NaN   \n46680            NaN                        NaN   \n46685            NaN                        NaN   \n\n       feat-encoded-content-transfer-encoding_7bit  \\\n0                                                0   \n5                                                1   \n10                                               1   \n15                                               0   \n20                                               1   \n...                                            ...   \n46660                                            0   \n46665                                            1   \n46675                                            0   \n46680                                            0   \n46685                                            0   \n\n       feat-encoded-content-transfer-encoding_8bit  \\\n0                                                0   \n5                                                0   \n10                                               0   \n15                                               0   \n20                                               0   \n...                                            ...   \n46660                                            1   \n46665                                            0   \n46675                                            0   \n46680                                            0   \n46685                                            0   \n\n       feat-encoded-content-transfer-encoding_base64  \\\n0                                                  0   \n5                                                  0   \n10                                                 0   \n15                                                 0   \n20                                                 0   \n...                                              ...   \n46660                                              0   \n46665                                              0   \n46675                                              0   \n46680                                              0   \n46685                                              0   \n\n       feat-encoded-content-transfer-encoding_binary  \\\n0                                                  0   \n5                                                  0   \n10                                                 0   \n15                                                 0   \n20                                                 0   \n...                                              ...   \n46660                                              0   \n46665                                              0   \n46675                                              0   \n46680                                              0   \n46685                                              0   \n\n       feat-encoded-content-transfer-encoding_quoted-printable  \\\n0                                                      0         \n5                                                      0         \n10                                                     0         \n15                                                     1         \n20                                                     0         \n...                                                  ...         \n46660                                                  0         \n46665                                                  0         \n46675                                                  0         \n46680                                                  0         \n46685                                                  0         \n\n       feat-encoded-precedence_bulk  feat-encoded-precedence_first-class  \\\n0                                 0                                    0   \n5                                 1                                    0   \n10                                0                                    0   \n15                                0                                    0   \n20                                1                                    0   \n...                             ...                                  ...   \n46660                             1                                    0   \n46665                             1                                    0   \n46675                             1                                    0   \n46680                             1                                    0   \n46685                             1                                    0   \n\n       feat-encoded-precedence_list  ...  feat-match-from-sender  \\\n0                                 0  ...                     NaN   \n5                                 0  ...                     NaN   \n10                                0  ...                     NaN   \n15                                0  ...                     NaN   \n20                                0  ...                     NaN   \n...                             ...  ...                     ...   \n46660                             0  ...                     NaN   \n46665                             0  ...                     NaN   \n46675                             0  ...                     NaN   \n46680                             0  ...                     NaN   \n46685                             0  ...                     NaN   \n\n       feat-x-msmail-priority  feat-x-priority  feat-x-spam-level  \\\n0                         NaN              NaN                NaN   \n5                         NaN              NaN                NaN   \n10                        NaN              NaN                NaN   \n15                        NaN              NaN                NaN   \n20                        NaN              NaN                NaN   \n...                       ...              ...                ...   \n46660                     NaN              NaN                0.0   \n46665                     1.0              3.0                NaN   \n46675                     NaN              NaN                0.0   \n46680                     NaN              NaN                0.0   \n46685                     NaN              NaN                0.0   \n\n       feat-x-spam-status  feat-encoded-content-type-charset_iso-8859-1  \\\n0                     NaN                                             0   \n5                     NaN                                             0   \n10                    NaN                                             0   \n15                    NaN                                             0   \n20                    NaN                                             0   \n...                   ...                                           ...   \n46660                 0.0                                             0   \n46665                 NaN                                             0   \n46675                 0.0                                             0   \n46680                 0.0                                             0   \n46685                 0.0                                             0   \n\n       feat-encoded-content-type-charset_iso-8859-15  \\\n0                                                  0   \n5                                                  0   \n10                                                 0   \n15                                                 0   \n20                                                 0   \n...                                              ...   \n46660                                              0   \n46665                                              0   \n46675                                              0   \n46680                                              0   \n46685                                              0   \n\n       feat-encoded-content-type-charset_us-ascii  \\\n0                                               0   \n5                                               1   \n10                                              0   \n15                                              0   \n20                                              0   \n...                                           ...   \n46660                                           0   \n46665                                           0   \n46675                                           0   \n46680                                           0   \n46685                                           1   \n\n       feat-encoded-content-type-charset_windows-1252  \\\n0                                                   0   \n5                                                   0   \n10                                                  0   \n15                                                  0   \n20                                                  0   \n...                                               ...   \n46660                                               0   \n46665                                               0   \n46675                                               0   \n46680                                               0   \n46685                                               0   \n\n       feat-content-type-boundary  \n0                               1  \n5                               1  \n10                              1  \n15                              1  \n20                              1  \n...                           ...  \n46660                           1  \n46665                           1  \n46675                           1  \n46680                           1  \n46685                           1  \n\n[9154 rows x 37 columns]",
      "text/html": "<div>\n<style scoped>\n    .dataframe tbody tr th:only-of-type {\n        vertical-align: middle;\n    }\n\n    .dataframe tbody tr th {\n        vertical-align: top;\n    }\n\n    .dataframe thead th {\n        text-align: right;\n    }\n</style>\n<table border=\"1\" class=\"dataframe\">\n  <thead>\n    <tr style=\"text-align: right;\">\n      <th></th>\n      <th>feat-cc-count</th>\n      <th>feat-duplicate-message-id</th>\n      <th>feat-encoded-content-transfer-encoding_7bit</th>\n      <th>feat-encoded-content-transfer-encoding_8bit</th>\n      <th>feat-encoded-content-transfer-encoding_base64</th>\n      <th>feat-encoded-content-transfer-encoding_binary</th>\n      <th>feat-encoded-content-transfer-encoding_quoted-printable</th>\n      <th>feat-encoded-precedence_bulk</th>\n      <th>feat-encoded-precedence_first-class</th>\n      <th>feat-encoded-precedence_list</th>\n      <th>...</th>\n      <th>feat-match-from-sender</th>\n      <th>feat-x-msmail-priority</th>\n      <th>feat-x-priority</th>\n      <th>feat-x-spam-level</th>\n      <th>feat-x-spam-status</th>\n      <th>feat-encoded-content-type-charset_iso-8859-1</th>\n      <th>feat-encoded-content-type-charset_iso-8859-15</th>\n      <th>feat-encoded-content-type-charset_us-ascii</th>\n      <th>feat-encoded-content-type-charset_windows-1252</th>\n      <th>feat-content-type-boundary</th>\n    </tr>\n  </thead>\n  <tbody>\n    <tr>\n      <th>0</th>\n      <td>NaN</td>\n      <td>0.0</td>\n      <td>0</td>\n      <td>0</td>\n      <td>0</td>\n      <td>0</td>\n      <td>0</td>\n      <td>0</td>\n      <td>0</td>\n      <td>0</td>\n      <td>...</td>\n      <td>NaN</td>\n      <td>NaN</td>\n      <td>NaN</td>\n      <td>NaN</td>\n      <td>NaN</td>\n      <td>0</td>\n      <td>0</td>\n      <td>0</td>\n      <td>0</td>\n      <td>1</td>\n    </tr>\n    <tr>\n      <th>5</th>\n      <td>NaN</td>\n      <td>1.0</td>\n      <td>1</td>\n      <td>0</td>\n      <td>0</td>\n      <td>0</td>\n      <td>0</td>\n      <td>1</td>\n      <td>0</td>\n      <td>0</td>\n      <td>...</td>\n      <td>NaN</td>\n      <td>NaN</td>\n      <td>NaN</td>\n      <td>NaN</td>\n      <td>NaN</td>\n      <td>0</td>\n      <td>0</td>\n      <td>1</td>\n      <td>0</td>\n      <td>1</td>\n    </tr>\n    <tr>\n      <th>10</th>\n      <td>NaN</td>\n      <td>1.0</td>\n      <td>1</td>\n      <td>0</td>\n      <td>0</td>\n      <td>0</td>\n      <td>0</td>\n      <td>0</td>\n      <td>0</td>\n      <td>0</td>\n      <td>...</td>\n      <td>NaN</td>\n      <td>NaN</td>\n      <td>NaN</td>\n      <td>NaN</td>\n      <td>NaN</td>\n      <td>0</td>\n      <td>0</td>\n      <td>0</td>\n      <td>0</td>\n      <td>1</td>\n    </tr>\n    <tr>\n      <th>15</th>\n      <td>NaN</td>\n      <td>1.0</td>\n      <td>0</td>\n      <td>0</td>\n      <td>0</td>\n      <td>0</td>\n      <td>1</td>\n      <td>0</td>\n      <td>0</td>\n      <td>0</td>\n      <td>...</td>\n      <td>NaN</td>\n      <td>NaN</td>\n      <td>NaN</td>\n      <td>NaN</td>\n      <td>NaN</td>\n      <td>0</td>\n      <td>0</td>\n      <td>0</td>\n      <td>0</td>\n      <td>1</td>\n    </tr>\n    <tr>\n      <th>20</th>\n      <td>NaN</td>\n      <td>1.0</td>\n      <td>1</td>\n      <td>0</td>\n      <td>0</td>\n      <td>0</td>\n      <td>0</td>\n      <td>1</td>\n      <td>0</td>\n      <td>0</td>\n      <td>...</td>\n      <td>NaN</td>\n      <td>NaN</td>\n      <td>NaN</td>\n      <td>NaN</td>\n      <td>NaN</td>\n      <td>0</td>\n      <td>0</td>\n      <td>0</td>\n      <td>0</td>\n      <td>1</td>\n    </tr>\n    <tr>\n      <th>...</th>\n      <td>...</td>\n      <td>...</td>\n      <td>...</td>\n      <td>...</td>\n      <td>...</td>\n      <td>...</td>\n      <td>...</td>\n      <td>...</td>\n      <td>...</td>\n      <td>...</td>\n      <td>...</td>\n      <td>...</td>\n      <td>...</td>\n      <td>...</td>\n      <td>...</td>\n      <td>...</td>\n      <td>...</td>\n      <td>...</td>\n      <td>...</td>\n      <td>...</td>\n      <td>...</td>\n    </tr>\n    <tr>\n      <th>46660</th>\n      <td>NaN</td>\n      <td>NaN</td>\n      <td>0</td>\n      <td>1</td>\n      <td>0</td>\n      <td>0</td>\n      <td>0</td>\n      <td>1</td>\n      <td>0</td>\n      <td>0</td>\n      <td>...</td>\n      <td>NaN</td>\n      <td>NaN</td>\n      <td>NaN</td>\n      <td>0.0</td>\n      <td>0.0</td>\n      <td>0</td>\n      <td>0</td>\n      <td>0</td>\n      <td>0</td>\n      <td>1</td>\n    </tr>\n    <tr>\n      <th>46665</th>\n      <td>NaN</td>\n      <td>NaN</td>\n      <td>1</td>\n      <td>0</td>\n      <td>0</td>\n      <td>0</td>\n      <td>0</td>\n      <td>1</td>\n      <td>0</td>\n      <td>0</td>\n      <td>...</td>\n      <td>NaN</td>\n      <td>1.0</td>\n      <td>3.0</td>\n      <td>NaN</td>\n      <td>NaN</td>\n      <td>0</td>\n      <td>0</td>\n      <td>0</td>\n      <td>0</td>\n      <td>1</td>\n    </tr>\n    <tr>\n      <th>46675</th>\n      <td>NaN</td>\n      <td>NaN</td>\n      <td>0</td>\n      <td>0</td>\n      <td>0</td>\n      <td>0</td>\n      <td>0</td>\n      <td>1</td>\n      <td>0</td>\n      <td>0</td>\n      <td>...</td>\n      <td>NaN</td>\n      <td>NaN</td>\n      <td>NaN</td>\n      <td>0.0</td>\n      <td>0.0</td>\n      <td>0</td>\n      <td>0</td>\n      <td>0</td>\n      <td>0</td>\n      <td>1</td>\n    </tr>\n    <tr>\n      <th>46680</th>\n      <td>NaN</td>\n      <td>NaN</td>\n      <td>0</td>\n      <td>0</td>\n      <td>0</td>\n      <td>0</td>\n      <td>0</td>\n      <td>1</td>\n      <td>0</td>\n      <td>0</td>\n      <td>...</td>\n      <td>NaN</td>\n      <td>NaN</td>\n      <td>NaN</td>\n      <td>0.0</td>\n      <td>0.0</td>\n      <td>0</td>\n      <td>0</td>\n      <td>0</td>\n      <td>0</td>\n      <td>1</td>\n    </tr>\n    <tr>\n      <th>46685</th>\n      <td>NaN</td>\n      <td>NaN</td>\n      <td>0</td>\n      <td>0</td>\n      <td>0</td>\n      <td>0</td>\n      <td>0</td>\n      <td>1</td>\n      <td>0</td>\n      <td>0</td>\n      <td>...</td>\n      <td>NaN</td>\n      <td>NaN</td>\n      <td>NaN</td>\n      <td>0.0</td>\n      <td>0.0</td>\n      <td>0</td>\n      <td>0</td>\n      <td>1</td>\n      <td>0</td>\n      <td>1</td>\n    </tr>\n  </tbody>\n</table>\n<p>9154 rows × 37 columns</p>\n</div>"
     },
     "execution_count": 215,
     "metadata": {},
     "output_type": "execute_result"
    }
   ],
   "source": [
    "with_encoded_charset_df['feat-content-type-boundary'] = with_encoded_charset_df['content-type-boundary'].isna().astype(\n",
    "    int)\n",
    "with_binary_boundary_df = with_encoded_charset_df\n",
    "with_binary_boundary_df[get_feat_cols(with_binary_boundary_df)]"
   ],
   "metadata": {
    "collapsed": false,
    "ExecuteTime": {
     "end_time": "2023-06-18T21:13:58.789241Z",
     "start_time": "2023-06-18T21:13:58.731110Z"
    }
   }
  },
  {
   "cell_type": "code",
   "execution_count": 243,
   "outputs": [
    {
     "data": {
      "text/plain": "count                        3370\nunique                        152\ntop       microsoftoutlookexpress\nfreq                          652\nName: x-mailer, dtype: object"
     },
     "execution_count": 243,
     "metadata": {},
     "output_type": "execute_result"
    }
   ],
   "source": [
    "def parse_mailer(row):\n",
    "    x_mailer = row['x-mailer']\n",
    "    if pd.isna(x_mailer):\n",
    "        return row\n",
    "\n",
    "    result = re.sub(r\"[\\(\\[\\{].*?[\\)\\]\\}]\", \"\", x_mailer)\n",
    "    result = re.sub(r\"([\\w\\-]*?([\\d]+\\.)+[\\+\\d\\w\\-]*?)\", \"\", result)\n",
    "    result = re.sub(r\"([\\d\\/]+)\", \"\", result)\n",
    "    result = result.lower()\n",
    "    result = re.sub(r\"version|with\", \"\", result)\n",
    "    result = re.sub(r\"[\\W]\", \"\", result)\n",
    "\n",
    "    row['x-mailer'] = result\n",
    "    return row\n",
    "\n",
    "\n",
    "with_mailer_df = with_binary_boundary_df.apply(parse_mailer, axis=1)\n",
    "with_mailer_df['x-mailer'].describe()"
   ],
   "metadata": {
    "collapsed": false,
    "ExecuteTime": {
     "end_time": "2023-06-18T21:54:00.048385Z",
     "start_time": "2023-06-18T21:53:59.334275Z"
    }
   }
  },
  {
   "cell_type": "code",
   "execution_count": 245,
   "outputs": [
    {
     "data": {
      "text/plain": "count      3370\nunique       11\ntop       other\nfreq       1180\nName: x-mailer, dtype: object"
     },
     "execution_count": 245,
     "metadata": {},
     "output_type": "execute_result"
    }
   ],
   "source": [
    "def bin_mailers(row, mailers):\n",
    "    mailer = row['x-mailer']\n",
    "    if pd.isna(mailer):\n",
    "        return row\n",
    "\n",
    "    if mailer not in mailers:\n",
    "        row['x-mailer'] = 'other'\n",
    "\n",
    "    return row\n",
    "\n",
    "\n",
    "def get_top_mailers(df):\n",
    "    spam_counts = df[df['category'] == 'spam']['x-mailer'].value_counts().sort_values(ascending=False)\n",
    "    ham_counts = df[df['category'] == 'ham']['x-mailer'].value_counts().sort_values(ascending=False)\n",
    "    ham = pd.DataFrame(ham_counts).rename(columns={'count': 'ham'})\n",
    "    spam = pd.DataFrame(spam_counts).rename(columns={'count': 'spam'})\n",
    "    mailer_counts = pd.concat([ham, spam], axis=1).fillna(0)\n",
    "    mailer_counts['total'] = mailer_counts['spam'] + mailer_counts['ham']\n",
    "    mailer_counts['spam_ratio'] = mailer_counts['spam'] / mailer_counts['total']\n",
    "    return list(mailer_counts.sort_values(by=['total', 'spam_ratio'], ascending=False).iloc[:10].index)\n",
    "\n",
    "\n",
    "top_mailers = get_top_mailers(with_mailer_df)\n",
    "with_binned_mailer_df = with_mailer_df.apply(lambda r: bin_mailers(r, top_mailers), axis=1)\n",
    "with_binned_mailer_df['x-mailer'].describe()"
   ],
   "metadata": {
    "collapsed": false,
    "ExecuteTime": {
     "end_time": "2023-06-18T21:54:20.467506Z",
     "start_time": "2023-06-18T21:54:19.287781Z"
    }
   }
  },
  {
   "cell_type": "code",
   "execution_count": 246,
   "outputs": [
    {
     "data": {
      "text/plain": "       feat-cc-count  feat-duplicate-message-id  \\\n0                NaN                        0.0   \n5                NaN                        1.0   \n10               NaN                        1.0   \n15               NaN                        1.0   \n20               NaN                        1.0   \n...              ...                        ...   \n46660            NaN                        NaN   \n46665            NaN                        NaN   \n46675            NaN                        NaN   \n46680            NaN                        NaN   \n46685            NaN                        NaN   \n\n       feat-encoded-content-transfer-encoding_7bit  \\\n0                                                0   \n5                                                1   \n10                                               1   \n15                                               0   \n20                                               1   \n...                                            ...   \n46660                                            0   \n46665                                            1   \n46675                                            0   \n46680                                            0   \n46685                                            0   \n\n       feat-encoded-content-transfer-encoding_8bit  \\\n0                                                0   \n5                                                0   \n10                                               0   \n15                                               0   \n20                                               0   \n...                                            ...   \n46660                                            1   \n46665                                            0   \n46675                                            0   \n46680                                            0   \n46685                                            0   \n\n       feat-encoded-content-transfer-encoding_base64  \\\n0                                                  0   \n5                                                  0   \n10                                                 0   \n15                                                 0   \n20                                                 0   \n...                                              ...   \n46660                                              0   \n46665                                              0   \n46675                                              0   \n46680                                              0   \n46685                                              0   \n\n       feat-encoded-content-transfer-encoding_binary  \\\n0                                                  0   \n5                                                  0   \n10                                                 0   \n15                                                 0   \n20                                                 0   \n...                                              ...   \n46660                                              0   \n46665                                              0   \n46675                                              0   \n46680                                              0   \n46685                                              0   \n\n       feat-encoded-content-transfer-encoding_quoted-printable  \\\n0                                                      0         \n5                                                      0         \n10                                                     0         \n15                                                     1         \n20                                                     0         \n...                                                  ...         \n46660                                                  0         \n46665                                                  0         \n46675                                                  0         \n46680                                                  0         \n46685                                                  0         \n\n       feat-encoded-precedence_bulk  feat-encoded-precedence_first-class  \\\n0                                 0                                    0   \n5                                 1                                    0   \n10                                0                                    0   \n15                                0                                    0   \n20                                1                                    0   \n...                             ...                                  ...   \n46660                             1                                    0   \n46665                             1                                    0   \n46675                             1                                    0   \n46680                             1                                    0   \n46685                             1                                    0   \n\n       feat-encoded-precedence_list  ...  feat-encoded-x-mailer_exmh  \\\n0                                 0  ...                           0   \n5                                 0  ...                           0   \n10                                0  ...                           0   \n15                                0  ...                           0   \n20                                0  ...                           0   \n...                             ...  ...                         ...   \n46660                             0  ...                           0   \n46665                             0  ...                           0   \n46675                             0  ...                           0   \n46680                             0  ...                           0   \n46685                             0  ...                           0   \n\n       feat-encoded-x-mailer_internetmailservice  \\\n0                                              0   \n5                                              0   \n10                                             0   \n15                                             0   \n20                                             0   \n...                                          ...   \n46660                                          0   \n46665                                          0   \n46675                                          0   \n46680                                          0   \n46685                                          0   \n\n       feat-encoded-x-mailer_microsoftcdoforwindows  \\\n0                                                 0   \n5                                                 0   \n10                                                0   \n15                                                0   \n20                                                0   \n...                                             ...   \n46660                                             0   \n46665                                             0   \n46675                                             0   \n46680                                             0   \n46685                                             0   \n\n       feat-encoded-x-mailer_microsoftoutlookbuild  \\\n0                                                0   \n5                                                0   \n10                                               0   \n15                                               0   \n20                                               0   \n...                                            ...   \n46660                                            0   \n46665                                            0   \n46675                                            0   \n46680                                            0   \n46685                                            0   \n\n       feat-encoded-x-mailer_microsoftoutlookexpress  \\\n0                                                  0   \n5                                                  0   \n10                                                 0   \n15                                                 0   \n20                                                 0   \n...                                              ...   \n46660                                              0   \n46665                                              0   \n46675                                              0   \n46680                                              0   \n46685                                              0   \n\n       feat-encoded-x-mailer_microsoftoutlookimobuild  \\\n0                                                   0   \n5                                                   0   \n10                                                  0   \n15                                                  0   \n20                                                  0   \n...                                               ...   \n46660                                               0   \n46665                                               1   \n46675                                               0   \n46680                                               0   \n46685                                               0   \n\n       feat-encoded-x-mailer_mozilla  feat-encoded-x-mailer_other  \\\n0                                  0                            1   \n5                                  0                            0   \n10                                 0                            0   \n15                                 0                            0   \n20                                 1                            0   \n...                              ...                          ...   \n46660                              0                            0   \n46665                              0                            0   \n46675                              0                            0   \n46680                              0                            0   \n46685                              0                            0   \n\n       feat-encoded-x-mailer_sylpheedclaws  \\\n0                                        0   \n5                                        0   \n10                                       0   \n15                                       0   \n20                                       0   \n...                                    ...   \n46660                                    0   \n46665                                    0   \n46675                                    0   \n46680                                    0   \n46685                                    0   \n\n       feat-encoded-x-mailer_ximianevolution  \n0                                          0  \n5                                          0  \n10                                         0  \n15                                         0  \n20                                         0  \n...                                      ...  \n46660                                      0  \n46665                                      0  \n46675                                      0  \n46680                                      0  \n46685                                      0  \n\n[9154 rows x 48 columns]",
      "text/html": "<div>\n<style scoped>\n    .dataframe tbody tr th:only-of-type {\n        vertical-align: middle;\n    }\n\n    .dataframe tbody tr th {\n        vertical-align: top;\n    }\n\n    .dataframe thead th {\n        text-align: right;\n    }\n</style>\n<table border=\"1\" class=\"dataframe\">\n  <thead>\n    <tr style=\"text-align: right;\">\n      <th></th>\n      <th>feat-cc-count</th>\n      <th>feat-duplicate-message-id</th>\n      <th>feat-encoded-content-transfer-encoding_7bit</th>\n      <th>feat-encoded-content-transfer-encoding_8bit</th>\n      <th>feat-encoded-content-transfer-encoding_base64</th>\n      <th>feat-encoded-content-transfer-encoding_binary</th>\n      <th>feat-encoded-content-transfer-encoding_quoted-printable</th>\n      <th>feat-encoded-precedence_bulk</th>\n      <th>feat-encoded-precedence_first-class</th>\n      <th>feat-encoded-precedence_list</th>\n      <th>...</th>\n      <th>feat-encoded-x-mailer_exmh</th>\n      <th>feat-encoded-x-mailer_internetmailservice</th>\n      <th>feat-encoded-x-mailer_microsoftcdoforwindows</th>\n      <th>feat-encoded-x-mailer_microsoftoutlookbuild</th>\n      <th>feat-encoded-x-mailer_microsoftoutlookexpress</th>\n      <th>feat-encoded-x-mailer_microsoftoutlookimobuild</th>\n      <th>feat-encoded-x-mailer_mozilla</th>\n      <th>feat-encoded-x-mailer_other</th>\n      <th>feat-encoded-x-mailer_sylpheedclaws</th>\n      <th>feat-encoded-x-mailer_ximianevolution</th>\n    </tr>\n  </thead>\n  <tbody>\n    <tr>\n      <th>0</th>\n      <td>NaN</td>\n      <td>0.0</td>\n      <td>0</td>\n      <td>0</td>\n      <td>0</td>\n      <td>0</td>\n      <td>0</td>\n      <td>0</td>\n      <td>0</td>\n      <td>0</td>\n      <td>...</td>\n      <td>0</td>\n      <td>0</td>\n      <td>0</td>\n      <td>0</td>\n      <td>0</td>\n      <td>0</td>\n      <td>0</td>\n      <td>1</td>\n      <td>0</td>\n      <td>0</td>\n    </tr>\n    <tr>\n      <th>5</th>\n      <td>NaN</td>\n      <td>1.0</td>\n      <td>1</td>\n      <td>0</td>\n      <td>0</td>\n      <td>0</td>\n      <td>0</td>\n      <td>1</td>\n      <td>0</td>\n      <td>0</td>\n      <td>...</td>\n      <td>0</td>\n      <td>0</td>\n      <td>0</td>\n      <td>0</td>\n      <td>0</td>\n      <td>0</td>\n      <td>0</td>\n      <td>0</td>\n      <td>0</td>\n      <td>0</td>\n    </tr>\n    <tr>\n      <th>10</th>\n      <td>NaN</td>\n      <td>1.0</td>\n      <td>1</td>\n      <td>0</td>\n      <td>0</td>\n      <td>0</td>\n      <td>0</td>\n      <td>0</td>\n      <td>0</td>\n      <td>0</td>\n      <td>...</td>\n      <td>0</td>\n      <td>0</td>\n      <td>0</td>\n      <td>0</td>\n      <td>0</td>\n      <td>0</td>\n      <td>0</td>\n      <td>0</td>\n      <td>0</td>\n      <td>0</td>\n    </tr>\n    <tr>\n      <th>15</th>\n      <td>NaN</td>\n      <td>1.0</td>\n      <td>0</td>\n      <td>0</td>\n      <td>0</td>\n      <td>0</td>\n      <td>1</td>\n      <td>0</td>\n      <td>0</td>\n      <td>0</td>\n      <td>...</td>\n      <td>0</td>\n      <td>0</td>\n      <td>0</td>\n      <td>0</td>\n      <td>0</td>\n      <td>0</td>\n      <td>0</td>\n      <td>0</td>\n      <td>0</td>\n      <td>0</td>\n    </tr>\n    <tr>\n      <th>20</th>\n      <td>NaN</td>\n      <td>1.0</td>\n      <td>1</td>\n      <td>0</td>\n      <td>0</td>\n      <td>0</td>\n      <td>0</td>\n      <td>1</td>\n      <td>0</td>\n      <td>0</td>\n      <td>...</td>\n      <td>0</td>\n      <td>0</td>\n      <td>0</td>\n      <td>0</td>\n      <td>0</td>\n      <td>0</td>\n      <td>1</td>\n      <td>0</td>\n      <td>0</td>\n      <td>0</td>\n    </tr>\n    <tr>\n      <th>...</th>\n      <td>...</td>\n      <td>...</td>\n      <td>...</td>\n      <td>...</td>\n      <td>...</td>\n      <td>...</td>\n      <td>...</td>\n      <td>...</td>\n      <td>...</td>\n      <td>...</td>\n      <td>...</td>\n      <td>...</td>\n      <td>...</td>\n      <td>...</td>\n      <td>...</td>\n      <td>...</td>\n      <td>...</td>\n      <td>...</td>\n      <td>...</td>\n      <td>...</td>\n      <td>...</td>\n    </tr>\n    <tr>\n      <th>46660</th>\n      <td>NaN</td>\n      <td>NaN</td>\n      <td>0</td>\n      <td>1</td>\n      <td>0</td>\n      <td>0</td>\n      <td>0</td>\n      <td>1</td>\n      <td>0</td>\n      <td>0</td>\n      <td>...</td>\n      <td>0</td>\n      <td>0</td>\n      <td>0</td>\n      <td>0</td>\n      <td>0</td>\n      <td>0</td>\n      <td>0</td>\n      <td>0</td>\n      <td>0</td>\n      <td>0</td>\n    </tr>\n    <tr>\n      <th>46665</th>\n      <td>NaN</td>\n      <td>NaN</td>\n      <td>1</td>\n      <td>0</td>\n      <td>0</td>\n      <td>0</td>\n      <td>0</td>\n      <td>1</td>\n      <td>0</td>\n      <td>0</td>\n      <td>...</td>\n      <td>0</td>\n      <td>0</td>\n      <td>0</td>\n      <td>0</td>\n      <td>0</td>\n      <td>1</td>\n      <td>0</td>\n      <td>0</td>\n      <td>0</td>\n      <td>0</td>\n    </tr>\n    <tr>\n      <th>46675</th>\n      <td>NaN</td>\n      <td>NaN</td>\n      <td>0</td>\n      <td>0</td>\n      <td>0</td>\n      <td>0</td>\n      <td>0</td>\n      <td>1</td>\n      <td>0</td>\n      <td>0</td>\n      <td>...</td>\n      <td>0</td>\n      <td>0</td>\n      <td>0</td>\n      <td>0</td>\n      <td>0</td>\n      <td>0</td>\n      <td>0</td>\n      <td>0</td>\n      <td>0</td>\n      <td>0</td>\n    </tr>\n    <tr>\n      <th>46680</th>\n      <td>NaN</td>\n      <td>NaN</td>\n      <td>0</td>\n      <td>0</td>\n      <td>0</td>\n      <td>0</td>\n      <td>0</td>\n      <td>1</td>\n      <td>0</td>\n      <td>0</td>\n      <td>...</td>\n      <td>0</td>\n      <td>0</td>\n      <td>0</td>\n      <td>0</td>\n      <td>0</td>\n      <td>0</td>\n      <td>0</td>\n      <td>0</td>\n      <td>0</td>\n      <td>0</td>\n    </tr>\n    <tr>\n      <th>46685</th>\n      <td>NaN</td>\n      <td>NaN</td>\n      <td>0</td>\n      <td>0</td>\n      <td>0</td>\n      <td>0</td>\n      <td>0</td>\n      <td>1</td>\n      <td>0</td>\n      <td>0</td>\n      <td>...</td>\n      <td>0</td>\n      <td>0</td>\n      <td>0</td>\n      <td>0</td>\n      <td>0</td>\n      <td>0</td>\n      <td>0</td>\n      <td>0</td>\n      <td>0</td>\n      <td>0</td>\n    </tr>\n  </tbody>\n</table>\n<p>9154 rows × 48 columns</p>\n</div>"
     },
     "execution_count": 246,
     "metadata": {},
     "output_type": "execute_result"
    }
   ],
   "source": [
    "with_encoded_mailer_df = one_hot_encode(with_binned_mailer_df, 'x-mailer')\n",
    "with_encoded_mailer_df[get_feat_cols(with_encoded_mailer_df)]"
   ],
   "metadata": {
    "collapsed": false,
    "ExecuteTime": {
     "end_time": "2023-06-18T21:54:45.902160Z",
     "start_time": "2023-06-18T21:54:45.188258Z"
    }
   }
  },
  {
   "cell_type": "code",
   "execution_count": 247,
   "outputs": [
    {
     "data": {
      "text/plain": "0            [Lockergnome Windows Daily]  Sticker Courtesy\n5                                                      NaN\n10       Great deals on perfect Summer cameras! (CNET S...\n15       How Microsoft plans to take over your living r...\n20            [NOVICE] pl/pgsql and returns timestamp type\n                               ...                        \n46660                                                  NaN\n46665                                                  NaN\n46675                  public mailing list sign up package\n46680                                                  NaN\n46685                                                  NaN\nName: subject, Length: 9154, dtype: object"
     },
     "execution_count": 247,
     "metadata": {},
     "output_type": "execute_result"
    }
   ],
   "source": [
    "with_encoded_mailer_df['subject']"
   ],
   "metadata": {
    "collapsed": false,
    "ExecuteTime": {
     "end_time": "2023-06-18T21:58:44.995588Z",
     "start_time": "2023-06-18T21:58:44.990230Z"
    }
   }
  },
  {
   "cell_type": "code",
   "execution_count": null,
   "outputs": [],
   "source": [],
   "metadata": {
    "collapsed": false
   }
  }
 ],
 "metadata": {
  "kernelspec": {
   "display_name": "Python 3",
   "language": "python",
   "name": "python3"
  },
  "language_info": {
   "codemirror_mode": {
    "name": "ipython",
    "version": 2
   },
   "file_extension": ".py",
   "mimetype": "text/x-python",
   "name": "python",
   "nbconvert_exporter": "python",
   "pygments_lexer": "ipython2",
   "version": "2.7.6"
  }
 },
 "nbformat": 4,
 "nbformat_minor": 0
}
