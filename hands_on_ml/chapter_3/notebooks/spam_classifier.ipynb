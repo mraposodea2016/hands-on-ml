{
 "cells": [
  {
   "cell_type": "markdown",
   "source": [
    "# Data Extraction"
   ],
   "metadata": {
    "collapsed": false
   }
  },
  {
   "cell_type": "code",
   "execution_count": 1,
   "outputs": [],
   "source": [
    "import io\n",
    "import os\n",
    "import re\n",
    "import tarfile\n",
    "from pathlib import Path\n",
    "\n",
    "import chardet\n",
    "import numpy as np\n",
    "import pandas as pd\n",
    "import requests\n",
    "from bs4 import BeautifulSoup\n",
    "from pyspark.sql import SparkSession"
   ],
   "metadata": {
    "collapsed": false,
    "ExecuteTime": {
     "end_time": "2023-06-20T01:00:19.058709Z",
     "start_time": "2023-06-20T01:00:17.527377Z"
    }
   }
  },
  {
   "cell_type": "code",
   "execution_count": 2,
   "outputs": [
    {
     "name": "stderr",
     "output_type": "stream",
     "text": [
      "Setting default log level to \"WARN\".\n",
      "To adjust logging level use sc.setLogLevel(newLevel). For SparkR, use setLogLevel(newLevel).\n",
      "23/06/19 22:00:20 WARN NativeCodeLoader: Unable to load native-hadoop library for your platform... using builtin-java classes where applicable\n"
     ]
    }
   ],
   "source": [
    "spark = SparkSession.builder.getOrCreate()\n",
    "spark.conf.set(\"spark.sql.parquet.enableVectorizedReader\", \"false\")"
   ],
   "metadata": {
    "collapsed": false,
    "ExecuteTime": {
     "end_time": "2023-06-20T01:00:22.683452Z",
     "start_time": "2023-06-20T01:00:19.059832Z"
    }
   }
  },
  {
   "cell_type": "code",
   "execution_count": 3,
   "outputs": [],
   "source": [
    "APACHE_SPAM_ASSASSIN = \"https://spamassassin.apache.org/old/publiccorpus\"\n",
    "DATA_FOLDER = '../data'"
   ],
   "metadata": {
    "collapsed": false,
    "ExecuteTime": {
     "end_time": "2023-06-20T01:00:22.688309Z",
     "start_time": "2023-06-20T01:00:22.685458Z"
    }
   }
  },
  {
   "cell_type": "code",
   "execution_count": 4,
   "outputs": [],
   "source": [
    "def pull_data():\n",
    "    response = requests.get(APACHE_SPAM_ASSASSIN)\n",
    "    response.raise_for_status()\n",
    "\n",
    "    soup = BeautifulSoup(response.text, 'html.parser')\n",
    "    file_paths = [link.get('href') for link in soup.find_all('a')]\n",
    "    file_paths = [path for path in file_paths if path.split('.')[-1] == 'bz2']\n",
    "\n",
    "    available_data = set(os.listdir(DATA_FOLDER))\n",
    "    file_paths = [path for path in file_paths if path not in available_data and path != 'corpus.parquet']\n",
    "\n",
    "    if len(file_paths) == 0:\n",
    "        print('No data to pull')\n",
    "\n",
    "    for file_path in file_paths:\n",
    "        print(f'Pulling {file_path}')\n",
    "        response = requests.get(f\"{APACHE_SPAM_ASSASSIN}/{file_path}\")\n",
    "        response.raise_for_status()\n",
    "\n",
    "        file_object = io.BytesIO(response.content)\n",
    "        tar = tarfile.open(fileobj=file_object, mode=\"r:bz2\")\n",
    "\n",
    "        extract_dir = Path(DATA_FOLDER)\n",
    "        extract_path = extract_dir.joinpath(Path(file_path))\n",
    "\n",
    "        extract_dir.mkdir(exist_ok=True)\n",
    "        tar.extractall(extract_path)\n",
    "\n",
    "        tar.close()\n",
    "\n",
    "    size = get_directory_size(\"../data\")\n",
    "    print(f\"Data directory size: {size} bytes\")\n",
    "\n",
    "\n",
    "def get_directory_size(directory):\n",
    "    total = 0\n",
    "    for dirpath, dirnames, filenames in os.walk(directory):\n",
    "        for f in filenames:\n",
    "            fp = os.path.join(dirpath, f)\n",
    "            if not os.path.islink(fp):\n",
    "                total += os.path.getsize(fp)\n",
    "\n",
    "    return total"
   ],
   "metadata": {
    "collapsed": false,
    "ExecuteTime": {
     "end_time": "2023-06-19T19:48:26.232828Z",
     "start_time": "2023-06-19T19:48:26.229691Z"
    }
   }
  },
  {
   "cell_type": "code",
   "execution_count": 10,
   "outputs": [
    {
     "name": "stdout",
     "output_type": "stream",
     "text": [
      "No data to pull\n",
      "Data directory size: 121604826 bytes\n"
     ]
    }
   ],
   "source": [
    "pull_data()"
   ],
   "metadata": {
    "collapsed": false,
    "ExecuteTime": {
     "end_time": "2023-06-15T00:57:47.341226Z",
     "start_time": "2023-06-15T00:57:46.943876Z"
    }
   }
  },
  {
   "cell_type": "code",
   "execution_count": 28,
   "outputs": [],
   "source": [
    "def parse_data():\n",
    "    successful_files = []\n",
    "    failed_files = []\n",
    "    corpus_df = pd.DataFrame(columns=['date', 'difficulty', 'category', 'collection', 'body'])\n",
    "    for dirpath, dirnames, filenames in os.walk(DATA_FOLDER):\n",
    "        print(dirpath)\n",
    "        if re.match(r\"^.*\\.parquet$\", dirpath) is None:\n",
    "            for filename in filenames:\n",
    "                corpus_path = os.path.join(dirpath, filename)\n",
    "                corpus_df, successful_files, failed_files = incorporate(corpus_df, corpus_path, dirpath, successful_files,\n",
    "                                                                        failed_files)\n",
    "    return corpus_df, successful_files, failed_files\n",
    "\n",
    "\n",
    "def incorporate(df, corpus_path, dirpath, successful_files, failed_files):\n",
    "    rawdata = open(corpus_path, 'rb').read()\n",
    "    result = chardet.detect(rawdata)\n",
    "    encoding = result['encoding']\n",
    "\n",
    "    with open(corpus_path, 'r', encoding=encoding) as f:\n",
    "        [(date, *ids)] = re.findall(r'([\\d]{8})_([a-z]*)_?([a-z]*)_?([\\d]*)\\.tar\\.bz2.*',\n",
    "                                    dirpath)\n",
    "        [difficulty, category, collection] = parse_ids(ids)\n",
    "        try:\n",
    "            body = f.read()\n",
    "            row = pd.DataFrame({'date': date,\n",
    "                                'difficulty': difficulty,\n",
    "                                'category': category,\n",
    "                                'collection': collection,\n",
    "                                'body': body}, index=[0, 1, 2, 3, 4])\n",
    "            df = pd.concat([df, row], ignore_index=True)\n",
    "            successful_files.append(corpus_path)\n",
    "        except Exception as E:\n",
    "            print(E)\n",
    "            failed_files.append(corpus_path)\n",
    "    return df, successful_files, failed_files\n",
    "\n",
    "\n",
    "def parse_ids(ids):\n",
    "    cls, difficulty, collection = np.nan, np.nan, np.nan\n",
    "    match ids:\n",
    "        case [cls_, '', '']:\n",
    "            cls = cls_\n",
    "        case [difficulty_, cls_, '']:\n",
    "            difficulty = difficulty_\n",
    "            cls = cls_\n",
    "        case [difficulty_, cls_, collection_]:\n",
    "            difficulty = difficulty_\n",
    "            cls = cls_\n",
    "            collection = collection_\n",
    "        case _:\n",
    "            pass\n",
    "\n",
    "    return [difficulty, cls, collection]\n",
    "\n",
    "\n",
    "def save_as_parquet(df):\n",
    "    spark_df = spark.createDataFrame(df)\n",
    "    spark_df.write.parquet(f'{DATA_FOLDER}/corpus.parquet', mode='overwrite')"
   ],
   "metadata": {
    "collapsed": false,
    "ExecuteTime": {
     "end_time": "2023-06-20T01:28:32.339601Z",
     "start_time": "2023-06-20T01:28:32.320313Z"
    }
   }
  },
  {
   "cell_type": "code",
   "execution_count": 29,
   "outputs": [
    {
     "name": "stdout",
     "output_type": "stream",
     "text": [
      "../data\n",
      "../data/20030228_hard_ham.tar.bz2\n",
      "../data/20030228_hard_ham.tar.bz2/hard_ham\n",
      "../data/20021010_hard_ham.tar.bz2\n",
      "../data/20021010_hard_ham.tar.bz2/hard_ham\n",
      "../data/20030228_spam_2.tar.bz2\n",
      "../data/20030228_spam_2.tar.bz2/spam_2\n",
      "'cp949' codec can't decode byte 0xb7 in position 4589: illegal multibyte sequence\n",
      "'charmap' codec can't decode byte 0x90 in position 2832: character maps to <undefined>\n",
      "'charmap' codec can't decode byte 0x9e in position 3019: character maps to <undefined>\n",
      "'big5' codec can't decode byte 0xf9 in position 2730: illegal multibyte sequence\n",
      "../data/20030228_easy_ham_2.tar.bz2\n",
      "../data/20030228_easy_ham_2.tar.bz2/easy_ham_2\n",
      "'cp949' codec can't decode byte 0xb7 in position 3140: illegal multibyte sequence\n",
      "../data/20030228_spam.tar.bz2\n",
      "../data/20030228_spam.tar.bz2/spam\n",
      "'gb2312' codec can't decode byte 0xeb in position 1587: illegal multibyte sequence\n",
      "'cp949' codec can't decode byte 0xb7 in position 3073: illegal multibyte sequence\n",
      "'cp949' codec can't decode byte 0xb7 in position 2149: illegal multibyte sequence\n",
      "'cp949' codec can't decode byte 0xb7 in position 2190: illegal multibyte sequence\n",
      "'cp949' codec can't decode byte 0xb7 in position 2592: illegal multibyte sequence\n",
      "'charmap' codec can't decode byte 0x9e in position 2957: character maps to <undefined>\n",
      "../data/20030228_easy_ham.tar.bz2\n",
      "../data/20030228_easy_ham.tar.bz2/easy_ham\n",
      "../data/preprocessed.parquet\n",
      "../data/20021010_spam.tar.bz2\n",
      "../data/20021010_spam.tar.bz2/spam\n",
      "'cp949' codec can't decode byte 0xb7 in position 3061: illegal multibyte sequence\n",
      "'cp949' codec can't decode byte 0xb7 in position 2134: illegal multibyte sequence\n",
      "'cp949' codec can't decode byte 0xb7 in position 2580: illegal multibyte sequence\n",
      "'cp949' codec can't decode byte 0xb7 in position 2127: illegal multibyte sequence\n",
      "'charmap' codec can't decode byte 0x9e in position 2915: character maps to <undefined>\n",
      "../data/20021010_easy_ham.tar.bz2\n",
      "../data/20021010_easy_ham.tar.bz2/easy_ham\n",
      "../data/corpus.parquet\n",
      "../data/20050311_spam_2.tar.bz2\n",
      "../data/20050311_spam_2.tar.bz2/spam_2\n",
      "'cp949' codec can't decode byte 0xb7 in position 4589: illegal multibyte sequence\n",
      "'charmap' codec can't decode byte 0x90 in position 2832: character maps to <undefined>\n",
      "'charmap' codec can't decode byte 0x9e in position 3019: character maps to <undefined>\n",
      "'big5' codec can't decode byte 0xf9 in position 2730: illegal multibyte sequence\n",
      "['../data/20030228_spam_2.tar.bz2/spam_2/00475.3d497c7d96c51986316db566756ff35a', '../data/20030228_spam_2.tar.bz2/spam_2/01227.04a4f94c7a73b29cb56bf38c7d526116', '../data/20030228_spam_2.tar.bz2/spam_2/01065.9ecef01b01ca912fa35453196b4dae4c', '../data/20030228_spam_2.tar.bz2/spam_2/00737.af5f503fe444ae773bfeb4652d122349', '../data/20030228_easy_ham_2.tar.bz2/easy_ham_2/00547.a4bff0b61d5617808712cf2085aa8170', '../data/20030228_spam.tar.bz2/spam/00500.85b72f09f6778a085dc8b6821965a76f', '../data/20030228_spam.tar.bz2/spam/00358.2cf55d91739f3530d1f4bc8bc9bc0b12', '../data/20030228_spam.tar.bz2/spam/00093.ca4edc32d2ff8e1dbb5f9c0b15ec435b', '../data/20030228_spam.tar.bz2/spam/00294.df27a988d82cc82296e33e6d727ac47e', '../data/20030228_spam.tar.bz2/spam/00280.026da2bd191f11081b8d8428134b0c66', '../data/20030228_spam.tar.bz2/spam/00116.29e39a0064e2714681726ac28ff3fdef', '../data/20021010_spam.tar.bz2/spam/0369.2530542de47d461ccb925fcafc6f0ad5', '../data/20021010_spam.tar.bz2/spam/0304.88cf1d3ce0e138fd9ffb801e675f69b3', '../data/20021010_spam.tar.bz2/spam/0290.13035c75be0d5b447a10e2263f8c1361', '../data/20021010_spam.tar.bz2/spam/0100.c60d1c697136b07c947fa180ba3e0441', '../data/20021010_spam.tar.bz2/spam/0123.68e87f8b736959b1ab5c4b5f2ce7484a', '../data/20050311_spam_2.tar.bz2/spam_2/00475.3d497c7d96c51986316db566756ff35a', '../data/20050311_spam_2.tar.bz2/spam_2/01227.04a4f94c7a73b29cb56bf38c7d526116', '../data/20050311_spam_2.tar.bz2/spam_2/01065.9ecef01b01ca912fa35453196b4dae4c', '../data/20050311_spam_2.tar.bz2/spam_2/00737.af5f503fe444ae773bfeb4652d122349']\n"
     ]
    },
    {
     "name": "stderr",
     "output_type": "stream",
     "text": [
      "23/06/19 22:31:13 WARN TaskSetManager: Stage 6 contains a task of very large size (11938 KiB). The maximum recommended task size is 1000 KiB.\n",
      "23/06/19 22:31:15 WARN MemoryManager: Total allocation exceeds 95.00% (1,020,054,720 bytes) of heap memory\n",
      "Scaling row group sizes to 95.00% for 8 writers\n",
      "23/06/19 22:31:15 WARN MemoryManager: Total allocation exceeds 95.00% (1,020,054,720 bytes) of heap memory\n",
      "Scaling row group sizes to 84.44% for 9 writers\n",
      "23/06/19 22:31:15 WARN MemoryManager: Total allocation exceeds 95.00% (1,020,054,720 bytes) of heap memory\n",
      "Scaling row group sizes to 76.00% for 10 writers\n",
      "23/06/19 22:31:15 WARN MemoryManager: Total allocation exceeds 95.00% (1,020,054,720 bytes) of heap memory\n",
      "Scaling row group sizes to 69.09% for 11 writers\n",
      "23/06/19 22:31:15 WARN MemoryManager: Total allocation exceeds 95.00% (1,020,054,720 bytes) of heap memory\n",
      "Scaling row group sizes to 63.33% for 12 writers\n",
      "23/06/19 22:31:15 WARN MemoryManager: Total allocation exceeds 95.00% (1,020,054,720 bytes) of heap memory\n",
      "Scaling row group sizes to 58.46% for 13 writers\n",
      "23/06/19 22:31:15 WARN MemoryManager: Total allocation exceeds 95.00% (1,020,054,720 bytes) of heap memory\n",
      "Scaling row group sizes to 54.29% for 14 writers\n",
      "23/06/19 22:31:15 WARN MemoryManager: Total allocation exceeds 95.00% (1,020,054,720 bytes) of heap memory\n",
      "Scaling row group sizes to 50.67% for 15 writers\n",
      "23/06/19 22:31:15 WARN MemoryManager: Total allocation exceeds 95.00% (1,020,054,720 bytes) of heap memory\n",
      "Scaling row group sizes to 47.50% for 16 writers\n",
      "23/06/19 22:31:15 WARN MemoryManager: Total allocation exceeds 95.00% (1,020,054,720 bytes) of heap memory\n",
      "Scaling row group sizes to 50.67% for 15 writers\n",
      "23/06/19 22:31:15 WARN MemoryManager: Total allocation exceeds 95.00% (1,020,054,720 bytes) of heap memory\n",
      "Scaling row group sizes to 54.29% for 14 writers\n",
      "23/06/19 22:31:15 WARN MemoryManager: Total allocation exceeds 95.00% (1,020,054,720 bytes) of heap memory\n",
      "Scaling row group sizes to 58.46% for 13 writers\n",
      "23/06/19 22:31:15 WARN MemoryManager: Total allocation exceeds 95.00% (1,020,054,720 bytes) of heap memory\n",
      "Scaling row group sizes to 63.33% for 12 writers\n",
      "23/06/19 22:31:15 WARN MemoryManager: Total allocation exceeds 95.00% (1,020,054,720 bytes) of heap memory\n",
      "Scaling row group sizes to 69.09% for 11 writers\n",
      "23/06/19 22:31:15 WARN MemoryManager: Total allocation exceeds 95.00% (1,020,054,720 bytes) of heap memory\n",
      "Scaling row group sizes to 76.00% for 10 writers\n",
      "23/06/19 22:31:15 WARN MemoryManager: Total allocation exceeds 95.00% (1,020,054,720 bytes) of heap memory\n",
      "Scaling row group sizes to 84.44% for 9 writers\n",
      "23/06/19 22:31:15 WARN MemoryManager: Total allocation exceeds 95.00% (1,020,054,720 bytes) of heap memory\n",
      "Scaling row group sizes to 95.00% for 8 writers\n",
      "                                                                                \r"
     ]
    }
   ],
   "source": [
    "force_reload = True\n",
    "\n",
    "if 'corpus.parquet' in set(os.listdir(DATA_FOLDER)) and not force_reload:\n",
    "    df = spark.read.parquet(f'{DATA_FOLDER}/corpus.parquet')\n",
    "    corpus_df = df.toPandas()\n",
    "else:\n",
    "    corpus_df, successful_files, failed_files = parse_data()\n",
    "    print(failed_files)\n",
    "    save_as_parquet(corpus_df)"
   ],
   "metadata": {
    "collapsed": false,
    "ExecuteTime": {
     "end_time": "2023-06-20T01:31:16.170086Z",
     "start_time": "2023-06-20T01:28:36.032591Z"
    }
   }
  },
  {
   "cell_type": "code",
   "execution_count": 31,
   "outputs": [
    {
     "data": {
      "text/plain": "category\nham     34765\n        13935\nspam     4955\nName: count, dtype: int64"
     },
     "execution_count": 31,
     "metadata": {},
     "output_type": "execute_result"
    }
   ],
   "source": [
    "corpus_df['category'].value_counts()"
   ],
   "metadata": {
    "collapsed": false,
    "ExecuteTime": {
     "end_time": "2023-06-20T01:31:26.450419Z",
     "start_time": "2023-06-20T01:31:26.440566Z"
    }
   }
  },
  {
   "cell_type": "markdown",
   "source": [
    "# Preprocessing"
   ],
   "metadata": {
    "collapsed": false
   }
  },
  {
   "cell_type": "markdown",
   "source": [
    "## Categorical or Binary Features"
   ],
   "metadata": {
    "collapsed": false
   }
  },
  {
   "cell_type": "code",
   "execution_count": 34,
   "outputs": [
    {
     "name": "stderr",
     "output_type": "stream",
     "text": [
      "/var/folders/_t/kjvh_2295rnbf4fvm71_rcfm0000gn/T/ipykernel_49829/2717592929.py:2: SettingWithCopyWarning: \n",
      "A value is trying to be set on a copy of a slice from a DataFrame.\n",
      "Try using .loc[row_indexer,col_indexer] = value instead\n",
      "\n",
      "See the caveats in the documentation: https://pandas.pydata.org/pandas-docs/stable/user_guide/indexing.html#returning-a-view-versus-a-copy\n",
      "  preproc_df['category'] = preproc_df['category'].replace('', np.nan)\n"
     ]
    },
    {
     "data": {
      "text/plain": "            date difficulty category collection  \\\ncount       7760       6779     7760       1400   \nunique         2          2        2          1   \ntop     20030228       easy      ham          2   \nfreq        4647       6311     6779       1400   \n\n                                                     body  \ncount                                                7760  \nunique                                               7760  \ntop     Return-Path: <bounce-lghtml-2534368@sprocket.l...  \nfreq                                                    1  ",
      "text/html": "<div>\n<style scoped>\n    .dataframe tbody tr th:only-of-type {\n        vertical-align: middle;\n    }\n\n    .dataframe tbody tr th {\n        vertical-align: top;\n    }\n\n    .dataframe thead th {\n        text-align: right;\n    }\n</style>\n<table border=\"1\" class=\"dataframe\">\n  <thead>\n    <tr style=\"text-align: right;\">\n      <th></th>\n      <th>date</th>\n      <th>difficulty</th>\n      <th>category</th>\n      <th>collection</th>\n      <th>body</th>\n    </tr>\n  </thead>\n  <tbody>\n    <tr>\n      <th>count</th>\n      <td>7760</td>\n      <td>6779</td>\n      <td>7760</td>\n      <td>1400</td>\n      <td>7760</td>\n    </tr>\n    <tr>\n      <th>unique</th>\n      <td>2</td>\n      <td>2</td>\n      <td>2</td>\n      <td>1</td>\n      <td>7760</td>\n    </tr>\n    <tr>\n      <th>top</th>\n      <td>20030228</td>\n      <td>easy</td>\n      <td>ham</td>\n      <td>2</td>\n      <td>Return-Path: &lt;bounce-lghtml-2534368@sprocket.l...</td>\n    </tr>\n    <tr>\n      <th>freq</th>\n      <td>4647</td>\n      <td>6311</td>\n      <td>6779</td>\n      <td>1400</td>\n      <td>1</td>\n    </tr>\n  </tbody>\n</table>\n</div>"
     },
     "execution_count": 34,
     "metadata": {},
     "output_type": "execute_result"
    }
   ],
   "source": [
    "preproc_df = corpus_df.drop_duplicates(subset='body')\n",
    "preproc_df['category'] = preproc_df['category'].replace('', np.nan)\n",
    "preproc_df = preproc_df.dropna(subset='category')\n",
    "preproc_df.describe()"
   ],
   "metadata": {
    "collapsed": false,
    "ExecuteTime": {
     "end_time": "2023-06-20T01:33:46.903315Z",
     "start_time": "2023-06-20T01:33:46.879636Z"
    }
   }
  },
  {
   "cell_type": "code",
   "execution_count": 35,
   "outputs": [
    {
     "data": {
      "text/plain": "                        approved-by  \\\ncount                             9   \nunique                            4   \ntop     DoNotUse@WORLDWIDEWORDS.ORG   \nfreq                              4   \n\n                                                     body  \\\ncount                                                7760   \nunique                                               4826   \ntop     URL: http://www.askbjoernhansen.com/archives/2...   \nfreq                                                    8   \n\n                                bounce-to  \\\ncount                                   4   \nunique                                  1   \ntop     DivX-bounce@krieger.mailshell.com   \nfreq                                    4   \n\n                                   bounces-to category  \\\ncount                                       1     7760   \nunique                                      1        2   \ntop     ems+P8T5PED6GPLZ4A@bounces.amazon.com      ham   \nfreq                                        1     6779   \n\n                                 cc collection  \\\ncount                          1656       1400   \nunique                          471          1   \ntop     fork@spamassassin.taint.org          2   \nfreq                            123       1400   \n\n                                                  comment  \\\ncount                                                   6   \nunique                                                  1   \ntop     li 0x18080B5EBAEAEC17619A6B51DFF93585D986F633 ...   \nfreq                                                    6   \n\n                                                 comments         complain-to  \\\ncount                                                  73                   4   \nunique                                                 28                   1   \ntop     In-reply-to Rick Baartman <baartman@lin12.triu...  abuse@linkgift.com   \nfreq                                                    6                   4   \n\n        ... x-virus-checked         x-virus-scanned x-viruschecked  \\\ncount   ...               2                      43              1   \nunique  ...               1                       9              1   \ntop     ...             Yes  by AMaViS new-20020517        Checked   \nfreq    ...               2                      24              1   \n\n       x-vopfilter-ip        x-webmail-userid x-wigglefluff  \\\ncount               2                       1             4   \nunique              1                       1             1   \ntop       198.6.50.33  jac1@student.cs.ucc.ie    fuddtastic   \nfreq                2                       1             4   \n\n                    x-wss-id                    x-x-sender x-yahoo-profile  \\\ncount                      8                           114             189   \nunique                     7                            17              35   \ntop     11BC091D161421-01-01  lgonze@localhost.localdomain         tim2ubh   \nfreq                       2                            32              56   \n\n                                                  x-zippy  \ncount                                                   4  \nunique                                                  4  \ntop     NOT fucking!! Also not a PACKAGE of LOOSE-LEAF...  \nfreq                                                    1  \n\n[4 rows x 299 columns]",
      "text/html": "<div>\n<style scoped>\n    .dataframe tbody tr th:only-of-type {\n        vertical-align: middle;\n    }\n\n    .dataframe tbody tr th {\n        vertical-align: top;\n    }\n\n    .dataframe thead th {\n        text-align: right;\n    }\n</style>\n<table border=\"1\" class=\"dataframe\">\n  <thead>\n    <tr style=\"text-align: right;\">\n      <th></th>\n      <th>approved-by</th>\n      <th>body</th>\n      <th>bounce-to</th>\n      <th>bounces-to</th>\n      <th>category</th>\n      <th>cc</th>\n      <th>collection</th>\n      <th>comment</th>\n      <th>comments</th>\n      <th>complain-to</th>\n      <th>...</th>\n      <th>x-virus-checked</th>\n      <th>x-virus-scanned</th>\n      <th>x-viruschecked</th>\n      <th>x-vopfilter-ip</th>\n      <th>x-webmail-userid</th>\n      <th>x-wigglefluff</th>\n      <th>x-wss-id</th>\n      <th>x-x-sender</th>\n      <th>x-yahoo-profile</th>\n      <th>x-zippy</th>\n    </tr>\n  </thead>\n  <tbody>\n    <tr>\n      <th>count</th>\n      <td>9</td>\n      <td>7760</td>\n      <td>4</td>\n      <td>1</td>\n      <td>7760</td>\n      <td>1656</td>\n      <td>1400</td>\n      <td>6</td>\n      <td>73</td>\n      <td>4</td>\n      <td>...</td>\n      <td>2</td>\n      <td>43</td>\n      <td>1</td>\n      <td>2</td>\n      <td>1</td>\n      <td>4</td>\n      <td>8</td>\n      <td>114</td>\n      <td>189</td>\n      <td>4</td>\n    </tr>\n    <tr>\n      <th>unique</th>\n      <td>4</td>\n      <td>4826</td>\n      <td>1</td>\n      <td>1</td>\n      <td>2</td>\n      <td>471</td>\n      <td>1</td>\n      <td>1</td>\n      <td>28</td>\n      <td>1</td>\n      <td>...</td>\n      <td>1</td>\n      <td>9</td>\n      <td>1</td>\n      <td>1</td>\n      <td>1</td>\n      <td>1</td>\n      <td>7</td>\n      <td>17</td>\n      <td>35</td>\n      <td>4</td>\n    </tr>\n    <tr>\n      <th>top</th>\n      <td>DoNotUse@WORLDWIDEWORDS.ORG</td>\n      <td>URL: http://www.askbjoernhansen.com/archives/2...</td>\n      <td>DivX-bounce@krieger.mailshell.com</td>\n      <td>ems+P8T5PED6GPLZ4A@bounces.amazon.com</td>\n      <td>ham</td>\n      <td>fork@spamassassin.taint.org</td>\n      <td>2</td>\n      <td>li 0x18080B5EBAEAEC17619A6B51DFF93585D986F633 ...</td>\n      <td>In-reply-to Rick Baartman &lt;baartman@lin12.triu...</td>\n      <td>abuse@linkgift.com</td>\n      <td>...</td>\n      <td>Yes</td>\n      <td>by AMaViS new-20020517</td>\n      <td>Checked</td>\n      <td>198.6.50.33</td>\n      <td>jac1@student.cs.ucc.ie</td>\n      <td>fuddtastic</td>\n      <td>11BC091D161421-01-01</td>\n      <td>lgonze@localhost.localdomain</td>\n      <td>tim2ubh</td>\n      <td>NOT fucking!! Also not a PACKAGE of LOOSE-LEAF...</td>\n    </tr>\n    <tr>\n      <th>freq</th>\n      <td>4</td>\n      <td>8</td>\n      <td>4</td>\n      <td>1</td>\n      <td>6779</td>\n      <td>123</td>\n      <td>1400</td>\n      <td>6</td>\n      <td>6</td>\n      <td>4</td>\n      <td>...</td>\n      <td>2</td>\n      <td>24</td>\n      <td>1</td>\n      <td>2</td>\n      <td>1</td>\n      <td>4</td>\n      <td>2</td>\n      <td>32</td>\n      <td>56</td>\n      <td>1</td>\n    </tr>\n  </tbody>\n</table>\n<p>4 rows × 299 columns</p>\n</div>"
     },
     "execution_count": 35,
     "metadata": {},
     "output_type": "execute_result"
    }
   ],
   "source": [
    "def extract_headers(row):\n",
    "    row['has_headers'] = True\n",
    "    try:\n",
    "        [headers, body] = row['body'].split('\\n\\n', maxsplit=1)\n",
    "        header_rows = headers.split('\\n')\n",
    "        current_key = None\n",
    "        for h in header_rows:\n",
    "            row, current_key = parse_header(row, h, current_key)\n",
    "        row['body'] = body\n",
    "    except Exception as e:\n",
    "        row['header_error'] = e\n",
    "        row['has_headers'] = False\n",
    "    return row\n",
    "\n",
    "\n",
    "def parse_header(row, h, current_key):\n",
    "    match re.split(r\"([\\w\\-]+)\\:\\s*\", h):\n",
    "        case ['', key, value]:\n",
    "            row[key.lower()] = value\n",
    "            current_key = key.lower()\n",
    "        case [value]:\n",
    "            if current_key:\n",
    "                row[current_key] += value\n",
    "        case _:\n",
    "            pass\n",
    "    return row, current_key\n",
    "\n",
    "preproc_df = preproc_df.apply(extract_headers, axis=1)\n",
    "preproc_df.describe()"
   ],
   "metadata": {
    "collapsed": false,
    "ExecuteTime": {
     "end_time": "2023-06-20T01:34:53.544162Z",
     "start_time": "2023-06-20T01:34:03.611934Z"
    }
   }
  },
  {
   "cell_type": "code",
   "execution_count": 49,
   "outputs": [
    {
     "data": {
      "text/plain": "                                                     body category  \\\ncount                                                7760     7760   \nunique                                               4826        2   \ntop     URL: http://www.askbjoernhansen.com/archives/2...      ham   \nfreq                                                    8     6779   \n\n                                 cc collection content-transfer-encoding  \\\ncount                          1656       1400                      3242   \nunique                          471          1                         8   \ntop     fork@spamassassin.taint.org          2                      7bit   \nfreq                            123       1400                      2200   \n\n                      content-type      date                   delivered-to  \\\ncount                         6833      7760                           7210   \nunique                         370         2                             58   \ntop     text/plain; encoding=utf-8  20030228  yyyy@localhost.netnoteinc.com   \nfreq                          1262      4647                           1249   \n\n       difficulty            errors-to  ...                 subject  \\\ncount        6779                 4482  ...                    3591   \nunique          2                   48  ...                    1854   \ntop          easy  fork-admin@xent.com  ...  [Spambayes] Deployment   \nfreq         6311                 1760  ...                      21   \n\n                      to                  x-beenthere  \\\ncount               7535                         4442   \nunique              1156                           32   \ntop     yyyy@example.com  fork@spamassassin.taint.org   \nfreq                 622                         1060   \n\n                                        x-mailer x-mailman-version  \\\ncount                                       2796              4443   \nunique                                       226                 9   \ntop     Microsoft Outlook Express 6.00.2600.0000            2.0.11   \nfreq                                         180              2416   \n\n                                            x-mimeole x-msmail-priority  \\\ncount                                             828               858   \nunique                                             18                 4   \ntop     Produced By Microsoft MimeOLE V6.00.2600.0000            Normal   \nfreq                                              337               840   \n\n        x-priority x-spam-level  \\\ncount         1103         2155   \nunique           7           11   \ntop     3 (Normal)                \nfreq           556         2117   \n\n                                            x-spam-status  \ncount                                                2155  \nunique                                               1785  \ntop     No, hits=0.0 required=5.0\\ttests=AWL\\tversion=...  \nfreq                                                  158  \n\n[4 rows x 32 columns]",
      "text/html": "<div>\n<style scoped>\n    .dataframe tbody tr th:only-of-type {\n        vertical-align: middle;\n    }\n\n    .dataframe tbody tr th {\n        vertical-align: top;\n    }\n\n    .dataframe thead th {\n        text-align: right;\n    }\n</style>\n<table border=\"1\" class=\"dataframe\">\n  <thead>\n    <tr style=\"text-align: right;\">\n      <th></th>\n      <th>body</th>\n      <th>category</th>\n      <th>cc</th>\n      <th>collection</th>\n      <th>content-transfer-encoding</th>\n      <th>content-type</th>\n      <th>date</th>\n      <th>delivered-to</th>\n      <th>difficulty</th>\n      <th>errors-to</th>\n      <th>...</th>\n      <th>subject</th>\n      <th>to</th>\n      <th>x-beenthere</th>\n      <th>x-mailer</th>\n      <th>x-mailman-version</th>\n      <th>x-mimeole</th>\n      <th>x-msmail-priority</th>\n      <th>x-priority</th>\n      <th>x-spam-level</th>\n      <th>x-spam-status</th>\n    </tr>\n  </thead>\n  <tbody>\n    <tr>\n      <th>count</th>\n      <td>7760</td>\n      <td>7760</td>\n      <td>1656</td>\n      <td>1400</td>\n      <td>3242</td>\n      <td>6833</td>\n      <td>7760</td>\n      <td>7210</td>\n      <td>6779</td>\n      <td>4482</td>\n      <td>...</td>\n      <td>3591</td>\n      <td>7535</td>\n      <td>4442</td>\n      <td>2796</td>\n      <td>4443</td>\n      <td>828</td>\n      <td>858</td>\n      <td>1103</td>\n      <td>2155</td>\n      <td>2155</td>\n    </tr>\n    <tr>\n      <th>unique</th>\n      <td>4826</td>\n      <td>2</td>\n      <td>471</td>\n      <td>1</td>\n      <td>8</td>\n      <td>370</td>\n      <td>2</td>\n      <td>58</td>\n      <td>2</td>\n      <td>48</td>\n      <td>...</td>\n      <td>1854</td>\n      <td>1156</td>\n      <td>32</td>\n      <td>226</td>\n      <td>9</td>\n      <td>18</td>\n      <td>4</td>\n      <td>7</td>\n      <td>11</td>\n      <td>1785</td>\n    </tr>\n    <tr>\n      <th>top</th>\n      <td>URL: http://www.askbjoernhansen.com/archives/2...</td>\n      <td>ham</td>\n      <td>fork@spamassassin.taint.org</td>\n      <td>2</td>\n      <td>7bit</td>\n      <td>text/plain; encoding=utf-8</td>\n      <td>20030228</td>\n      <td>yyyy@localhost.netnoteinc.com</td>\n      <td>easy</td>\n      <td>fork-admin@xent.com</td>\n      <td>...</td>\n      <td>[Spambayes] Deployment</td>\n      <td>yyyy@example.com</td>\n      <td>fork@spamassassin.taint.org</td>\n      <td>Microsoft Outlook Express 6.00.2600.0000</td>\n      <td>2.0.11</td>\n      <td>Produced By Microsoft MimeOLE V6.00.2600.0000</td>\n      <td>Normal</td>\n      <td>3 (Normal)</td>\n      <td></td>\n      <td>No, hits=0.0 required=5.0\\ttests=AWL\\tversion=...</td>\n    </tr>\n    <tr>\n      <th>freq</th>\n      <td>8</td>\n      <td>6779</td>\n      <td>123</td>\n      <td>1400</td>\n      <td>2200</td>\n      <td>1262</td>\n      <td>4647</td>\n      <td>1249</td>\n      <td>6311</td>\n      <td>1760</td>\n      <td>...</td>\n      <td>21</td>\n      <td>622</td>\n      <td>1060</td>\n      <td>180</td>\n      <td>2416</td>\n      <td>337</td>\n      <td>840</td>\n      <td>556</td>\n      <td>2117</td>\n      <td>158</td>\n    </tr>\n  </tbody>\n</table>\n<p>4 rows × 32 columns</p>\n</div>"
     },
     "execution_count": 49,
     "metadata": {},
     "output_type": "execute_result"
    }
   ],
   "source": [
    "reduced_preproc_df = preproc_df.dropna(thresh=800, axis=1)\n",
    "reduced_preproc_df.describe()"
   ],
   "metadata": {
    "collapsed": false,
    "ExecuteTime": {
     "end_time": "2023-06-20T01:37:32.345775Z",
     "start_time": "2023-06-20T01:37:32.178846Z"
    }
   }
  },
  {
   "cell_type": "code",
   "execution_count": 50,
   "outputs": [],
   "source": [
    "def extract_email_address(row, cols):\n",
    "    for col in cols:\n",
    "        if str(row[col]) and type(row[col]) != list:\n",
    "            row[col] = re.findall(r\"([^\\s\\<]+\\@[^\\s\\>]+)\", str(row[col])) or None\n",
    "    return row"
   ],
   "metadata": {
    "collapsed": false,
    "ExecuteTime": {
     "end_time": "2023-06-20T01:37:34.727214Z",
     "start_time": "2023-06-20T01:37:34.723620Z"
    }
   }
  },
  {
   "cell_type": "code",
   "execution_count": 51,
   "outputs": [],
   "source": [
    "envelope_cols = ['delivered-to', 'errors-to', 'from', 'in-reply-to', 'list-id', 'message-id', 'received', 'references',\n",
    "                 'reply-to', 'return-path', 'sender', 'to', 'x-beenthere']\n",
    "extracted_emails_df = reduced_preproc_df.apply(lambda r: extract_email_address(r, envelope_cols), axis=1)"
   ],
   "metadata": {
    "collapsed": false,
    "ExecuteTime": {
     "end_time": "2023-06-20T01:37:38.068487Z",
     "start_time": "2023-06-20T01:37:35.019513Z"
    }
   }
  },
  {
   "cell_type": "code",
   "execution_count": 52,
   "outputs": [
    {
     "data": {
      "text/plain": "       feat-match-delivered-to-to  feat-match-errors-to-from  \\\ncount                 7112.000000                4413.000000   \nmean                     0.148481                   0.003626   \nstd                      0.355602                   0.060111   \nmin                      0.000000                   0.000000   \n25%                      0.000000                   0.000000   \n50%                      0.000000                   0.000000   \n75%                      0.000000                   0.000000   \nmax                      1.000000                   1.000000   \n\n       feat-match-errors-to-return-path  feat-match-from-reply-to  \\\ncount                       4412.000000               1580.000000   \nmean                           0.994334                  0.276582   \nstd                            0.075070                  0.447450   \nmin                            0.000000                  0.000000   \n25%                            1.000000                  0.000000   \n50%                            1.000000                  0.000000   \n75%                            1.000000                  1.000000   \nmax                            1.000000                  1.000000   \n\n       feat-match-from-return-path  feat-match-from-sender  \ncount                  1580.000000             1575.000000  \nmean                      0.008861                0.008254  \nstd                       0.093743                0.090504  \nmin                       0.000000                0.000000  \n25%                       0.000000                0.000000  \n50%                       0.000000                0.000000  \n75%                       0.000000                0.000000  \nmax                       1.000000                1.000000  ",
      "text/html": "<div>\n<style scoped>\n    .dataframe tbody tr th:only-of-type {\n        vertical-align: middle;\n    }\n\n    .dataframe tbody tr th {\n        vertical-align: top;\n    }\n\n    .dataframe thead th {\n        text-align: right;\n    }\n</style>\n<table border=\"1\" class=\"dataframe\">\n  <thead>\n    <tr style=\"text-align: right;\">\n      <th></th>\n      <th>feat-match-delivered-to-to</th>\n      <th>feat-match-errors-to-from</th>\n      <th>feat-match-errors-to-return-path</th>\n      <th>feat-match-from-reply-to</th>\n      <th>feat-match-from-return-path</th>\n      <th>feat-match-from-sender</th>\n    </tr>\n  </thead>\n  <tbody>\n    <tr>\n      <th>count</th>\n      <td>7112.000000</td>\n      <td>4413.000000</td>\n      <td>4412.000000</td>\n      <td>1580.000000</td>\n      <td>1580.000000</td>\n      <td>1575.000000</td>\n    </tr>\n    <tr>\n      <th>mean</th>\n      <td>0.148481</td>\n      <td>0.003626</td>\n      <td>0.994334</td>\n      <td>0.276582</td>\n      <td>0.008861</td>\n      <td>0.008254</td>\n    </tr>\n    <tr>\n      <th>std</th>\n      <td>0.355602</td>\n      <td>0.060111</td>\n      <td>0.075070</td>\n      <td>0.447450</td>\n      <td>0.093743</td>\n      <td>0.090504</td>\n    </tr>\n    <tr>\n      <th>min</th>\n      <td>0.000000</td>\n      <td>0.000000</td>\n      <td>0.000000</td>\n      <td>0.000000</td>\n      <td>0.000000</td>\n      <td>0.000000</td>\n    </tr>\n    <tr>\n      <th>25%</th>\n      <td>0.000000</td>\n      <td>0.000000</td>\n      <td>1.000000</td>\n      <td>0.000000</td>\n      <td>0.000000</td>\n      <td>0.000000</td>\n    </tr>\n    <tr>\n      <th>50%</th>\n      <td>0.000000</td>\n      <td>0.000000</td>\n      <td>1.000000</td>\n      <td>0.000000</td>\n      <td>0.000000</td>\n      <td>0.000000</td>\n    </tr>\n    <tr>\n      <th>75%</th>\n      <td>0.000000</td>\n      <td>0.000000</td>\n      <td>1.000000</td>\n      <td>1.000000</td>\n      <td>0.000000</td>\n      <td>0.000000</td>\n    </tr>\n    <tr>\n      <th>max</th>\n      <td>1.000000</td>\n      <td>1.000000</td>\n      <td>1.000000</td>\n      <td>1.000000</td>\n      <td>1.000000</td>\n      <td>1.000000</td>\n    </tr>\n  </tbody>\n</table>\n</div>"
     },
     "execution_count": 52,
     "metadata": {},
     "output_type": "execute_result"
    }
   ],
   "source": [
    "matching_cols = [\n",
    "    ['delivered-to', 'to'],\n",
    "    ['errors-to', 'from'],\n",
    "    ['errors-to', 'return-path'],\n",
    "    ['from', 'reply-to'],\n",
    "    ['from', 'return-path'],\n",
    "    ['from', 'sender'],\n",
    "    ['x-beenthere', 'list-id']\n",
    "]\n",
    "\n",
    "\n",
    "def envelope_cols_match(row):\n",
    "    for [col1, col2] in matching_cols:\n",
    "        values_exist = row[col1] and row[col2]\n",
    "        if not values_exist:\n",
    "            return row\n",
    "        row[f'feat-match-{col1}-{col2}'] = 1 if set(row[col1]) == set(row[col2]) else 0\n",
    "    return row\n",
    "\n",
    "matched_envelopes_df = extracted_emails_df.apply(envelope_cols_match, axis=1)\n",
    "matched_envelopes_df.describe()"
   ],
   "metadata": {
    "collapsed": false,
    "ExecuteTime": {
     "end_time": "2023-06-20T01:37:47.314861Z",
     "start_time": "2023-06-20T01:37:38.069189Z"
    }
   }
  },
  {
   "cell_type": "code",
   "execution_count": 53,
   "outputs": [
    {
     "data": {
      "text/plain": "       feat-match-delivered-to-to  feat-match-errors-to-from  \\\ncount                 7112.000000                4413.000000   \nmean                     0.148481                   0.003626   \nstd                      0.355602                   0.060111   \nmin                      0.000000                   0.000000   \n25%                      0.000000                   0.000000   \n50%                      0.000000                   0.000000   \n75%                      0.000000                   0.000000   \nmax                      1.000000                   1.000000   \n\n       feat-match-errors-to-return-path  feat-match-from-reply-to  \\\ncount                       4412.000000               1580.000000   \nmean                           0.994334                  0.276582   \nstd                            0.075070                  0.447450   \nmin                            0.000000                  0.000000   \n25%                            1.000000                  0.000000   \n50%                            1.000000                  0.000000   \n75%                            1.000000                  1.000000   \nmax                            1.000000                  1.000000   \n\n       feat-match-from-return-path  feat-match-from-sender  \ncount                  1580.000000             1575.000000  \nmean                      0.008861                0.008254  \nstd                       0.093743                0.090504  \nmin                       0.000000                0.000000  \n25%                       0.000000                0.000000  \n50%                       0.000000                0.000000  \n75%                       0.000000                0.000000  \nmax                       1.000000                1.000000  ",
      "text/html": "<div>\n<style scoped>\n    .dataframe tbody tr th:only-of-type {\n        vertical-align: middle;\n    }\n\n    .dataframe tbody tr th {\n        vertical-align: top;\n    }\n\n    .dataframe thead th {\n        text-align: right;\n    }\n</style>\n<table border=\"1\" class=\"dataframe\">\n  <thead>\n    <tr style=\"text-align: right;\">\n      <th></th>\n      <th>feat-match-delivered-to-to</th>\n      <th>feat-match-errors-to-from</th>\n      <th>feat-match-errors-to-return-path</th>\n      <th>feat-match-from-reply-to</th>\n      <th>feat-match-from-return-path</th>\n      <th>feat-match-from-sender</th>\n    </tr>\n  </thead>\n  <tbody>\n    <tr>\n      <th>count</th>\n      <td>7112.000000</td>\n      <td>4413.000000</td>\n      <td>4412.000000</td>\n      <td>1580.000000</td>\n      <td>1580.000000</td>\n      <td>1575.000000</td>\n    </tr>\n    <tr>\n      <th>mean</th>\n      <td>0.148481</td>\n      <td>0.003626</td>\n      <td>0.994334</td>\n      <td>0.276582</td>\n      <td>0.008861</td>\n      <td>0.008254</td>\n    </tr>\n    <tr>\n      <th>std</th>\n      <td>0.355602</td>\n      <td>0.060111</td>\n      <td>0.075070</td>\n      <td>0.447450</td>\n      <td>0.093743</td>\n      <td>0.090504</td>\n    </tr>\n    <tr>\n      <th>min</th>\n      <td>0.000000</td>\n      <td>0.000000</td>\n      <td>0.000000</td>\n      <td>0.000000</td>\n      <td>0.000000</td>\n      <td>0.000000</td>\n    </tr>\n    <tr>\n      <th>25%</th>\n      <td>0.000000</td>\n      <td>0.000000</td>\n      <td>1.000000</td>\n      <td>0.000000</td>\n      <td>0.000000</td>\n      <td>0.000000</td>\n    </tr>\n    <tr>\n      <th>50%</th>\n      <td>0.000000</td>\n      <td>0.000000</td>\n      <td>1.000000</td>\n      <td>0.000000</td>\n      <td>0.000000</td>\n      <td>0.000000</td>\n    </tr>\n    <tr>\n      <th>75%</th>\n      <td>0.000000</td>\n      <td>0.000000</td>\n      <td>1.000000</td>\n      <td>1.000000</td>\n      <td>0.000000</td>\n      <td>0.000000</td>\n    </tr>\n    <tr>\n      <th>max</th>\n      <td>1.000000</td>\n      <td>1.000000</td>\n      <td>1.000000</td>\n      <td>1.000000</td>\n      <td>1.000000</td>\n      <td>1.000000</td>\n    </tr>\n  </tbody>\n</table>\n</div>"
     },
     "execution_count": 53,
     "metadata": {},
     "output_type": "execute_result"
    }
   ],
   "source": [
    "def get_feat_cols(df):\n",
    "    return [col for col in df.columns if re.match(r\"^feat\\-.*$\", col) is not None]\n",
    "\n",
    "matched_envelopes_df[get_feat_cols(matched_envelopes_df)].describe()"
   ],
   "metadata": {
    "collapsed": false,
    "ExecuteTime": {
     "end_time": "2023-06-20T01:37:47.344963Z",
     "start_time": "2023-06-20T01:37:47.313257Z"
    }
   }
  },
  {
   "cell_type": "code",
   "execution_count": 54,
   "outputs": [
    {
     "data": {
      "text/plain": "       feat-match-delivered-to-to  feat-match-errors-to-from  \\\ncount                 7112.000000                4413.000000   \nmean                     0.148481                   0.003626   \nstd                      0.355602                   0.060111   \nmin                      0.000000                   0.000000   \n25%                      0.000000                   0.000000   \n50%                      0.000000                   0.000000   \n75%                      0.000000                   0.000000   \nmax                      1.000000                   1.000000   \n\n       feat-match-errors-to-return-path  feat-match-from-reply-to  \\\ncount                       4412.000000               1580.000000   \nmean                           0.994334                  0.276582   \nstd                            0.075070                  0.447450   \nmin                            0.000000                  0.000000   \n25%                            1.000000                  0.000000   \n50%                            1.000000                  0.000000   \n75%                            1.000000                  1.000000   \nmax                            1.000000                  1.000000   \n\n       feat-match-from-return-path  feat-match-from-sender  \\\ncount                  1580.000000             1575.000000   \nmean                      0.008861                0.008254   \nstd                       0.093743                0.090504   \nmin                       0.000000                0.000000   \n25%                       0.000000                0.000000   \n50%                       0.000000                0.000000   \n75%                       0.000000                0.000000   \nmax                       1.000000                1.000000   \n\n       feat-duplicate-message-id  \ncount                4715.000000  \nmean                    0.619512  \nstd                     0.485558  \nmin                     0.000000  \n25%                     0.000000  \n50%                     1.000000  \n75%                     1.000000  \nmax                     1.000000  ",
      "text/html": "<div>\n<style scoped>\n    .dataframe tbody tr th:only-of-type {\n        vertical-align: middle;\n    }\n\n    .dataframe tbody tr th {\n        vertical-align: top;\n    }\n\n    .dataframe thead th {\n        text-align: right;\n    }\n</style>\n<table border=\"1\" class=\"dataframe\">\n  <thead>\n    <tr style=\"text-align: right;\">\n      <th></th>\n      <th>feat-match-delivered-to-to</th>\n      <th>feat-match-errors-to-from</th>\n      <th>feat-match-errors-to-return-path</th>\n      <th>feat-match-from-reply-to</th>\n      <th>feat-match-from-return-path</th>\n      <th>feat-match-from-sender</th>\n      <th>feat-duplicate-message-id</th>\n    </tr>\n  </thead>\n  <tbody>\n    <tr>\n      <th>count</th>\n      <td>7112.000000</td>\n      <td>4413.000000</td>\n      <td>4412.000000</td>\n      <td>1580.000000</td>\n      <td>1580.000000</td>\n      <td>1575.000000</td>\n      <td>4715.000000</td>\n    </tr>\n    <tr>\n      <th>mean</th>\n      <td>0.148481</td>\n      <td>0.003626</td>\n      <td>0.994334</td>\n      <td>0.276582</td>\n      <td>0.008861</td>\n      <td>0.008254</td>\n      <td>0.619512</td>\n    </tr>\n    <tr>\n      <th>std</th>\n      <td>0.355602</td>\n      <td>0.060111</td>\n      <td>0.075070</td>\n      <td>0.447450</td>\n      <td>0.093743</td>\n      <td>0.090504</td>\n      <td>0.485558</td>\n    </tr>\n    <tr>\n      <th>min</th>\n      <td>0.000000</td>\n      <td>0.000000</td>\n      <td>0.000000</td>\n      <td>0.000000</td>\n      <td>0.000000</td>\n      <td>0.000000</td>\n      <td>0.000000</td>\n    </tr>\n    <tr>\n      <th>25%</th>\n      <td>0.000000</td>\n      <td>0.000000</td>\n      <td>1.000000</td>\n      <td>0.000000</td>\n      <td>0.000000</td>\n      <td>0.000000</td>\n      <td>0.000000</td>\n    </tr>\n    <tr>\n      <th>50%</th>\n      <td>0.000000</td>\n      <td>0.000000</td>\n      <td>1.000000</td>\n      <td>0.000000</td>\n      <td>0.000000</td>\n      <td>0.000000</td>\n      <td>1.000000</td>\n    </tr>\n    <tr>\n      <th>75%</th>\n      <td>0.000000</td>\n      <td>0.000000</td>\n      <td>1.000000</td>\n      <td>1.000000</td>\n      <td>0.000000</td>\n      <td>0.000000</td>\n      <td>1.000000</td>\n    </tr>\n    <tr>\n      <th>max</th>\n      <td>1.000000</td>\n      <td>1.000000</td>\n      <td>1.000000</td>\n      <td>1.000000</td>\n      <td>1.000000</td>\n      <td>1.000000</td>\n      <td>1.000000</td>\n    </tr>\n  </tbody>\n</table>\n</div>"
     },
     "execution_count": 54,
     "metadata": {},
     "output_type": "execute_result"
    }
   ],
   "source": [
    "message_ids = {}\n",
    "\n",
    "\n",
    "def duplicate_message_id(row):\n",
    "    if not row['message-id']:\n",
    "        matched_envelopes_df.loc[row.name, 'feat-duplicate-message-id'] = 0\n",
    "        return row\n",
    "\n",
    "    for message_id in row['message-id']:\n",
    "        if message_id not in message_ids:\n",
    "            message_ids[message_id] = row.name\n",
    "            matched_envelopes_df.loc[row.name, 'feat-duplicate-message-id'] = 0\n",
    "        else:\n",
    "            matched_envelopes_df.loc[message_ids[message_id], 'feat-duplicate-message-id'] = 1\n",
    "    return row\n",
    "\n",
    "\n",
    "matched_envelopes_df.apply(duplicate_message_id, axis=1)\n",
    "duplicate_messages_df = matched_envelopes_df\n",
    "duplicate_messages_df.describe()"
   ],
   "metadata": {
    "collapsed": false,
    "ExecuteTime": {
     "end_time": "2023-06-20T01:37:48.602709Z",
     "start_time": "2023-06-20T01:37:47.392077Z"
    }
   }
  },
  {
   "cell_type": "code",
   "execution_count": 55,
   "outputs": [
    {
     "data": {
      "text/plain": "       feat-match-delivered-to-to  feat-match-errors-to-from  \\\ncount                 7112.000000                4413.000000   \nmean                     0.148481                   0.003626   \nstd                      0.355602                   0.060111   \nmin                      0.000000                   0.000000   \n25%                      0.000000                   0.000000   \n50%                      0.000000                   0.000000   \n75%                      0.000000                   0.000000   \nmax                      1.000000                   1.000000   \n\n       feat-match-errors-to-return-path  feat-match-from-reply-to  \\\ncount                       4412.000000               1580.000000   \nmean                           0.994334                  0.276582   \nstd                            0.075070                  0.447450   \nmin                            0.000000                  0.000000   \n25%                            1.000000                  0.000000   \n50%                            1.000000                  0.000000   \n75%                            1.000000                  1.000000   \nmax                            1.000000                  1.000000   \n\n       feat-match-from-return-path  feat-match-from-sender  \\\ncount                  1580.000000             1575.000000   \nmean                      0.008861                0.008254   \nstd                       0.093743                0.090504   \nmin                       0.000000                0.000000   \n25%                       0.000000                0.000000   \n50%                       0.000000                0.000000   \n75%                       0.000000                0.000000   \nmax                       1.000000                1.000000   \n\n       feat-duplicate-message-id  feat-encoded-content-transfer-encoding_7bit  \\\ncount                4715.000000                                  7760.000000   \nmean                    0.619512                                     0.287113   \nstd                     0.485558                                     0.452444   \nmin                     0.000000                                     0.000000   \n25%                     0.000000                                     0.000000   \n50%                     1.000000                                     0.000000   \n75%                     1.000000                                     1.000000   \nmax                     1.000000                                     1.000000   \n\n       feat-encoded-content-transfer-encoding_8bit  \\\ncount                                  7760.000000   \nmean                                      0.106057   \nstd                                       0.307930   \nmin                                       0.000000   \n25%                                       0.000000   \n50%                                       0.000000   \n75%                                       0.000000   \nmax                                       1.000000   \n\n       feat-encoded-content-transfer-encoding_base64  \\\ncount                                    7760.000000   \nmean                                        0.000515   \nstd                                         0.022699   \nmin                                         0.000000   \n25%                                         0.000000   \n50%                                         0.000000   \n75%                                         0.000000   \nmax                                         1.000000   \n\n       feat-encoded-content-transfer-encoding_binary  \\\ncount                                    7760.000000   \nmean                                        0.002062   \nstd                                         0.045364   \nmin                                         0.000000   \n25%                                         0.000000   \n50%                                         0.000000   \n75%                                         0.000000   \nmax                                         1.000000   \n\n       feat-encoded-content-transfer-encoding_quoted-printable  \ncount                                        7760.000000        \nmean                                            0.022036        \nstd                                             0.146810        \nmin                                             0.000000        \n25%                                             0.000000        \n50%                                             0.000000        \n75%                                             0.000000        \nmax                                             1.000000        ",
      "text/html": "<div>\n<style scoped>\n    .dataframe tbody tr th:only-of-type {\n        vertical-align: middle;\n    }\n\n    .dataframe tbody tr th {\n        vertical-align: top;\n    }\n\n    .dataframe thead th {\n        text-align: right;\n    }\n</style>\n<table border=\"1\" class=\"dataframe\">\n  <thead>\n    <tr style=\"text-align: right;\">\n      <th></th>\n      <th>feat-match-delivered-to-to</th>\n      <th>feat-match-errors-to-from</th>\n      <th>feat-match-errors-to-return-path</th>\n      <th>feat-match-from-reply-to</th>\n      <th>feat-match-from-return-path</th>\n      <th>feat-match-from-sender</th>\n      <th>feat-duplicate-message-id</th>\n      <th>feat-encoded-content-transfer-encoding_7bit</th>\n      <th>feat-encoded-content-transfer-encoding_8bit</th>\n      <th>feat-encoded-content-transfer-encoding_base64</th>\n      <th>feat-encoded-content-transfer-encoding_binary</th>\n      <th>feat-encoded-content-transfer-encoding_quoted-printable</th>\n    </tr>\n  </thead>\n  <tbody>\n    <tr>\n      <th>count</th>\n      <td>7112.000000</td>\n      <td>4413.000000</td>\n      <td>4412.000000</td>\n      <td>1580.000000</td>\n      <td>1580.000000</td>\n      <td>1575.000000</td>\n      <td>4715.000000</td>\n      <td>7760.000000</td>\n      <td>7760.000000</td>\n      <td>7760.000000</td>\n      <td>7760.000000</td>\n      <td>7760.000000</td>\n    </tr>\n    <tr>\n      <th>mean</th>\n      <td>0.148481</td>\n      <td>0.003626</td>\n      <td>0.994334</td>\n      <td>0.276582</td>\n      <td>0.008861</td>\n      <td>0.008254</td>\n      <td>0.619512</td>\n      <td>0.287113</td>\n      <td>0.106057</td>\n      <td>0.000515</td>\n      <td>0.002062</td>\n      <td>0.022036</td>\n    </tr>\n    <tr>\n      <th>std</th>\n      <td>0.355602</td>\n      <td>0.060111</td>\n      <td>0.075070</td>\n      <td>0.447450</td>\n      <td>0.093743</td>\n      <td>0.090504</td>\n      <td>0.485558</td>\n      <td>0.452444</td>\n      <td>0.307930</td>\n      <td>0.022699</td>\n      <td>0.045364</td>\n      <td>0.146810</td>\n    </tr>\n    <tr>\n      <th>min</th>\n      <td>0.000000</td>\n      <td>0.000000</td>\n      <td>0.000000</td>\n      <td>0.000000</td>\n      <td>0.000000</td>\n      <td>0.000000</td>\n      <td>0.000000</td>\n      <td>0.000000</td>\n      <td>0.000000</td>\n      <td>0.000000</td>\n      <td>0.000000</td>\n      <td>0.000000</td>\n    </tr>\n    <tr>\n      <th>25%</th>\n      <td>0.000000</td>\n      <td>0.000000</td>\n      <td>1.000000</td>\n      <td>0.000000</td>\n      <td>0.000000</td>\n      <td>0.000000</td>\n      <td>0.000000</td>\n      <td>0.000000</td>\n      <td>0.000000</td>\n      <td>0.000000</td>\n      <td>0.000000</td>\n      <td>0.000000</td>\n    </tr>\n    <tr>\n      <th>50%</th>\n      <td>0.000000</td>\n      <td>0.000000</td>\n      <td>1.000000</td>\n      <td>0.000000</td>\n      <td>0.000000</td>\n      <td>0.000000</td>\n      <td>1.000000</td>\n      <td>0.000000</td>\n      <td>0.000000</td>\n      <td>0.000000</td>\n      <td>0.000000</td>\n      <td>0.000000</td>\n    </tr>\n    <tr>\n      <th>75%</th>\n      <td>0.000000</td>\n      <td>0.000000</td>\n      <td>1.000000</td>\n      <td>1.000000</td>\n      <td>0.000000</td>\n      <td>0.000000</td>\n      <td>1.000000</td>\n      <td>1.000000</td>\n      <td>0.000000</td>\n      <td>0.000000</td>\n      <td>0.000000</td>\n      <td>0.000000</td>\n    </tr>\n    <tr>\n      <th>max</th>\n      <td>1.000000</td>\n      <td>1.000000</td>\n      <td>1.000000</td>\n      <td>1.000000</td>\n      <td>1.000000</td>\n      <td>1.000000</td>\n      <td>1.000000</td>\n      <td>1.000000</td>\n      <td>1.000000</td>\n      <td>1.000000</td>\n      <td>1.000000</td>\n      <td>1.000000</td>\n    </tr>\n  </tbody>\n</table>\n</div>"
     },
     "execution_count": 55,
     "metadata": {},
     "output_type": "execute_result"
    }
   ],
   "source": [
    "def prepare_for_encoding(row, col):\n",
    "    if pd.isna(row[col]):\n",
    "        return row\n",
    "\n",
    "    row[col] = row[col].lower()\n",
    "    row[col] = row[col].split(' ')[0]\n",
    "    return row\n",
    "\n",
    "\n",
    "def one_hot_encode(df, col):\n",
    "    cte_df = df.apply(lambda r: prepare_for_encoding(r, col), axis=1)\n",
    "    encoded_cte_df = pd.get_dummies(cte_df[col], prefix=f'feat-encoded-{col}', dtype=int)\n",
    "    return pd.concat([cte_df, encoded_cte_df], axis=1)\n",
    "\n",
    "\n",
    "with_encoded_cte_df = one_hot_encode(duplicate_messages_df, 'content-transfer-encoding')\n",
    "with_encoded_cte_df.describe()"
   ],
   "metadata": {
    "collapsed": false,
    "ExecuteTime": {
     "end_time": "2023-06-20T01:37:49.512604Z",
     "start_time": "2023-06-20T01:37:48.612102Z"
    }
   }
  },
  {
   "cell_type": "code",
   "execution_count": 56,
   "outputs": [
    {
     "data": {
      "text/plain": "       feat-match-delivered-to-to  feat-match-errors-to-from  \\\ncount                 7112.000000                4413.000000   \nmean                     0.148481                   0.003626   \nstd                      0.355602                   0.060111   \nmin                      0.000000                   0.000000   \n25%                      0.000000                   0.000000   \n50%                      0.000000                   0.000000   \n75%                      0.000000                   0.000000   \nmax                      1.000000                   1.000000   \n\n       feat-match-errors-to-return-path  feat-match-from-reply-to  \\\ncount                       4412.000000               1580.000000   \nmean                           0.994334                  0.276582   \nstd                            0.075070                  0.447450   \nmin                            0.000000                  0.000000   \n25%                            1.000000                  0.000000   \n50%                            1.000000                  0.000000   \n75%                            1.000000                  1.000000   \nmax                            1.000000                  1.000000   \n\n       feat-match-from-return-path  feat-match-from-sender  \\\ncount                  1580.000000             1575.000000   \nmean                      0.008861                0.008254   \nstd                       0.093743                0.090504   \nmin                       0.000000                0.000000   \n25%                       0.000000                0.000000   \n50%                       0.000000                0.000000   \n75%                       0.000000                0.000000   \nmax                       1.000000                1.000000   \n\n       feat-duplicate-message-id  feat-encoded-content-transfer-encoding_7bit  \\\ncount                4715.000000                                  7760.000000   \nmean                    0.619512                                     0.287113   \nstd                     0.485558                                     0.452444   \nmin                     0.000000                                     0.000000   \n25%                     0.000000                                     0.000000   \n50%                     1.000000                                     0.000000   \n75%                     1.000000                                     1.000000   \nmax                     1.000000                                     1.000000   \n\n       feat-encoded-content-transfer-encoding_8bit  \\\ncount                                  7760.000000   \nmean                                      0.106057   \nstd                                       0.307930   \nmin                                       0.000000   \n25%                                       0.000000   \n50%                                       0.000000   \n75%                                       0.000000   \nmax                                       1.000000   \n\n       feat-encoded-content-transfer-encoding_base64  \\\ncount                                    7760.000000   \nmean                                        0.000515   \nstd                                         0.022699   \nmin                                         0.000000   \n25%                                         0.000000   \n50%                                         0.000000   \n75%                                         0.000000   \nmax                                         1.000000   \n\n       feat-encoded-content-transfer-encoding_binary  \\\ncount                                    7760.000000   \nmean                                        0.002062   \nstd                                         0.045364   \nmin                                         0.000000   \n25%                                         0.000000   \n50%                                         0.000000   \n75%                                         0.000000   \nmax                                         1.000000   \n\n       feat-encoded-content-transfer-encoding_quoted-printable  \\\ncount                                        7760.000000         \nmean                                            0.022036         \nstd                                             0.146810         \nmin                                             0.000000         \n25%                                             0.000000         \n50%                                             0.000000         \n75%                                             0.000000         \nmax                                             1.000000         \n\n       feat-encoded-precedence_bulk  feat-encoded-precedence_first-class  \\\ncount                   7760.000000                          7760.000000   \nmean                       0.619974                             0.000387   \nstd                        0.485424                             0.019660   \nmin                        0.000000                             0.000000   \n25%                        0.000000                             0.000000   \n50%                        1.000000                             0.000000   \n75%                        1.000000                             0.000000   \nmax                        1.000000                             1.000000   \n\n       feat-encoded-precedence_list  feat-encoded-precedence_normal  \ncount                   7760.000000                     7760.000000  \nmean                       0.026160                        0.001546  \nstd                        0.159621                        0.039296  \nmin                        0.000000                        0.000000  \n25%                        0.000000                        0.000000  \n50%                        0.000000                        0.000000  \n75%                        0.000000                        0.000000  \nmax                        1.000000                        1.000000  ",
      "text/html": "<div>\n<style scoped>\n    .dataframe tbody tr th:only-of-type {\n        vertical-align: middle;\n    }\n\n    .dataframe tbody tr th {\n        vertical-align: top;\n    }\n\n    .dataframe thead th {\n        text-align: right;\n    }\n</style>\n<table border=\"1\" class=\"dataframe\">\n  <thead>\n    <tr style=\"text-align: right;\">\n      <th></th>\n      <th>feat-match-delivered-to-to</th>\n      <th>feat-match-errors-to-from</th>\n      <th>feat-match-errors-to-return-path</th>\n      <th>feat-match-from-reply-to</th>\n      <th>feat-match-from-return-path</th>\n      <th>feat-match-from-sender</th>\n      <th>feat-duplicate-message-id</th>\n      <th>feat-encoded-content-transfer-encoding_7bit</th>\n      <th>feat-encoded-content-transfer-encoding_8bit</th>\n      <th>feat-encoded-content-transfer-encoding_base64</th>\n      <th>feat-encoded-content-transfer-encoding_binary</th>\n      <th>feat-encoded-content-transfer-encoding_quoted-printable</th>\n      <th>feat-encoded-precedence_bulk</th>\n      <th>feat-encoded-precedence_first-class</th>\n      <th>feat-encoded-precedence_list</th>\n      <th>feat-encoded-precedence_normal</th>\n    </tr>\n  </thead>\n  <tbody>\n    <tr>\n      <th>count</th>\n      <td>7112.000000</td>\n      <td>4413.000000</td>\n      <td>4412.000000</td>\n      <td>1580.000000</td>\n      <td>1580.000000</td>\n      <td>1575.000000</td>\n      <td>4715.000000</td>\n      <td>7760.000000</td>\n      <td>7760.000000</td>\n      <td>7760.000000</td>\n      <td>7760.000000</td>\n      <td>7760.000000</td>\n      <td>7760.000000</td>\n      <td>7760.000000</td>\n      <td>7760.000000</td>\n      <td>7760.000000</td>\n    </tr>\n    <tr>\n      <th>mean</th>\n      <td>0.148481</td>\n      <td>0.003626</td>\n      <td>0.994334</td>\n      <td>0.276582</td>\n      <td>0.008861</td>\n      <td>0.008254</td>\n      <td>0.619512</td>\n      <td>0.287113</td>\n      <td>0.106057</td>\n      <td>0.000515</td>\n      <td>0.002062</td>\n      <td>0.022036</td>\n      <td>0.619974</td>\n      <td>0.000387</td>\n      <td>0.026160</td>\n      <td>0.001546</td>\n    </tr>\n    <tr>\n      <th>std</th>\n      <td>0.355602</td>\n      <td>0.060111</td>\n      <td>0.075070</td>\n      <td>0.447450</td>\n      <td>0.093743</td>\n      <td>0.090504</td>\n      <td>0.485558</td>\n      <td>0.452444</td>\n      <td>0.307930</td>\n      <td>0.022699</td>\n      <td>0.045364</td>\n      <td>0.146810</td>\n      <td>0.485424</td>\n      <td>0.019660</td>\n      <td>0.159621</td>\n      <td>0.039296</td>\n    </tr>\n    <tr>\n      <th>min</th>\n      <td>0.000000</td>\n      <td>0.000000</td>\n      <td>0.000000</td>\n      <td>0.000000</td>\n      <td>0.000000</td>\n      <td>0.000000</td>\n      <td>0.000000</td>\n      <td>0.000000</td>\n      <td>0.000000</td>\n      <td>0.000000</td>\n      <td>0.000000</td>\n      <td>0.000000</td>\n      <td>0.000000</td>\n      <td>0.000000</td>\n      <td>0.000000</td>\n      <td>0.000000</td>\n    </tr>\n    <tr>\n      <th>25%</th>\n      <td>0.000000</td>\n      <td>0.000000</td>\n      <td>1.000000</td>\n      <td>0.000000</td>\n      <td>0.000000</td>\n      <td>0.000000</td>\n      <td>0.000000</td>\n      <td>0.000000</td>\n      <td>0.000000</td>\n      <td>0.000000</td>\n      <td>0.000000</td>\n      <td>0.000000</td>\n      <td>0.000000</td>\n      <td>0.000000</td>\n      <td>0.000000</td>\n      <td>0.000000</td>\n    </tr>\n    <tr>\n      <th>50%</th>\n      <td>0.000000</td>\n      <td>0.000000</td>\n      <td>1.000000</td>\n      <td>0.000000</td>\n      <td>0.000000</td>\n      <td>0.000000</td>\n      <td>1.000000</td>\n      <td>0.000000</td>\n      <td>0.000000</td>\n      <td>0.000000</td>\n      <td>0.000000</td>\n      <td>0.000000</td>\n      <td>1.000000</td>\n      <td>0.000000</td>\n      <td>0.000000</td>\n      <td>0.000000</td>\n    </tr>\n    <tr>\n      <th>75%</th>\n      <td>0.000000</td>\n      <td>0.000000</td>\n      <td>1.000000</td>\n      <td>1.000000</td>\n      <td>0.000000</td>\n      <td>0.000000</td>\n      <td>1.000000</td>\n      <td>1.000000</td>\n      <td>0.000000</td>\n      <td>0.000000</td>\n      <td>0.000000</td>\n      <td>0.000000</td>\n      <td>1.000000</td>\n      <td>0.000000</td>\n      <td>0.000000</td>\n      <td>0.000000</td>\n    </tr>\n    <tr>\n      <th>max</th>\n      <td>1.000000</td>\n      <td>1.000000</td>\n      <td>1.000000</td>\n      <td>1.000000</td>\n      <td>1.000000</td>\n      <td>1.000000</td>\n      <td>1.000000</td>\n      <td>1.000000</td>\n      <td>1.000000</td>\n      <td>1.000000</td>\n      <td>1.000000</td>\n      <td>1.000000</td>\n      <td>1.000000</td>\n      <td>1.000000</td>\n      <td>1.000000</td>\n      <td>1.000000</td>\n    </tr>\n  </tbody>\n</table>\n</div>"
     },
     "execution_count": 56,
     "metadata": {},
     "output_type": "execute_result"
    }
   ],
   "source": [
    "with_encoded_precedence_df = one_hot_encode(with_encoded_cte_df, 'precedence')\n",
    "with_encoded_precedence_df[get_feat_cols(with_encoded_precedence_df)].describe()"
   ],
   "metadata": {
    "collapsed": false,
    "ExecuteTime": {
     "end_time": "2023-06-20T01:37:50.090539Z",
     "start_time": "2023-06-20T01:37:49.504305Z"
    }
   }
  },
  {
   "cell_type": "code",
   "execution_count": 57,
   "outputs": [
    {
     "data": {
      "text/plain": "       feat-match-delivered-to-to  feat-match-errors-to-from  \\\ncount                 7112.000000                4413.000000   \nmean                     0.148481                   0.003626   \nstd                      0.355602                   0.060111   \nmin                      0.000000                   0.000000   \n25%                      0.000000                   0.000000   \n50%                      0.000000                   0.000000   \n75%                      0.000000                   0.000000   \nmax                      1.000000                   1.000000   \n\n       feat-match-errors-to-return-path  feat-match-from-reply-to  \\\ncount                       4412.000000               1580.000000   \nmean                           0.994334                  0.276582   \nstd                            0.075070                  0.447450   \nmin                            0.000000                  0.000000   \n25%                            1.000000                  0.000000   \n50%                            1.000000                  0.000000   \n75%                            1.000000                  1.000000   \nmax                            1.000000                  1.000000   \n\n       feat-match-from-return-path  feat-match-from-sender  \\\ncount                  1580.000000             1575.000000   \nmean                      0.008861                0.008254   \nstd                       0.093743                0.090504   \nmin                       0.000000                0.000000   \n25%                       0.000000                0.000000   \n50%                       0.000000                0.000000   \n75%                       0.000000                0.000000   \nmax                       1.000000                1.000000   \n\n       feat-duplicate-message-id  feat-encoded-content-transfer-encoding_7bit  \\\ncount                4715.000000                                  7760.000000   \nmean                    0.619512                                     0.287113   \nstd                     0.485558                                     0.452444   \nmin                     0.000000                                     0.000000   \n25%                     0.000000                                     0.000000   \n50%                     1.000000                                     0.000000   \n75%                     1.000000                                     1.000000   \nmax                     1.000000                                     1.000000   \n\n       feat-encoded-content-transfer-encoding_8bit  \\\ncount                                  7760.000000   \nmean                                      0.106057   \nstd                                       0.307930   \nmin                                       0.000000   \n25%                                       0.000000   \n50%                                       0.000000   \n75%                                       0.000000   \nmax                                       1.000000   \n\n       feat-encoded-content-transfer-encoding_base64  ...  \\\ncount                                    7760.000000  ...   \nmean                                        0.000515  ...   \nstd                                         0.022699  ...   \nmin                                         0.000000  ...   \n25%                                         0.000000  ...   \n50%                                         0.000000  ...   \n75%                                         0.000000  ...   \nmax                                         1.000000  ...   \n\n       feat-encoded-precedence_normal  feat-encoded-x-mailman-version_1.1  \\\ncount                     7760.000000                         7760.000000   \nmean                         0.001546                            0.090722   \nstd                          0.039296                            0.287231   \nmin                          0.000000                            0.000000   \n25%                          0.000000                            0.000000   \n50%                          0.000000                            0.000000   \n75%                          0.000000                            0.000000   \nmax                          1.000000                            1.000000   \n\n       feat-encoded-x-mailman-version_2.0.1  \\\ncount                           7760.000000   \nmean                               0.064433   \nstd                                0.245538   \nmin                                0.000000   \n25%                                0.000000   \n50%                                0.000000   \n75%                                0.000000   \nmax                                1.000000   \n\n       feat-encoded-x-mailman-version_2.0.10  \\\ncount                            7760.000000   \nmean                                0.005541   \nstd                                 0.074238   \nmin                                 0.000000   \n25%                                 0.000000   \n50%                                 0.000000   \n75%                                 0.000000   \nmax                                 1.000000   \n\n       feat-encoded-x-mailman-version_2.0.11  \\\ncount                            7760.000000   \nmean                                0.311340   \nstd                                 0.463071   \nmin                                 0.000000   \n25%                                 0.000000   \n50%                                 0.000000   \n75%                                 1.000000   \nmax                                 1.000000   \n\n       feat-encoded-x-mailman-version_2.0.6  \\\ncount                           7760.000000   \nmean                               0.001031   \nstd                                0.032094   \nmin                                0.000000   \n25%                                0.000000   \n50%                                0.000000   \n75%                                0.000000   \nmax                                1.000000   \n\n       feat-encoded-x-mailman-version_2.0.8  \\\ncount                           7760.000000   \nmean                               0.000258   \nstd                                0.016053   \nmin                                0.000000   \n25%                                0.000000   \n50%                                0.000000   \n75%                                0.000000   \nmax                                1.000000   \n\n       feat-encoded-x-mailman-version_2.0.9-sf.net  \\\ncount                                  7760.000000   \nmean                                      0.098454   \nstd                                       0.297946   \nmin                                       0.000000   \n25%                                       0.000000   \n50%                                       0.000000   \n75%                                       0.000000   \nmax                                       1.000000   \n\n       feat-encoded-x-mailman-version_2.1b5  \\\ncount                           7760.000000   \nmean                               0.000644   \nstd                                0.025377   \nmin                                0.000000   \n25%                                0.000000   \n50%                                0.000000   \n75%                                0.000000   \nmax                                1.000000   \n\n       feat-encoded-x-mailman-version_2.1b5+  \ncount                            7760.000000  \nmean                                0.000129  \nstd                                 0.011352  \nmin                                 0.000000  \n25%                                 0.000000  \n50%                                 0.000000  \n75%                                 0.000000  \nmax                                 1.000000  \n\n[8 rows x 25 columns]",
      "text/html": "<div>\n<style scoped>\n    .dataframe tbody tr th:only-of-type {\n        vertical-align: middle;\n    }\n\n    .dataframe tbody tr th {\n        vertical-align: top;\n    }\n\n    .dataframe thead th {\n        text-align: right;\n    }\n</style>\n<table border=\"1\" class=\"dataframe\">\n  <thead>\n    <tr style=\"text-align: right;\">\n      <th></th>\n      <th>feat-match-delivered-to-to</th>\n      <th>feat-match-errors-to-from</th>\n      <th>feat-match-errors-to-return-path</th>\n      <th>feat-match-from-reply-to</th>\n      <th>feat-match-from-return-path</th>\n      <th>feat-match-from-sender</th>\n      <th>feat-duplicate-message-id</th>\n      <th>feat-encoded-content-transfer-encoding_7bit</th>\n      <th>feat-encoded-content-transfer-encoding_8bit</th>\n      <th>feat-encoded-content-transfer-encoding_base64</th>\n      <th>...</th>\n      <th>feat-encoded-precedence_normal</th>\n      <th>feat-encoded-x-mailman-version_1.1</th>\n      <th>feat-encoded-x-mailman-version_2.0.1</th>\n      <th>feat-encoded-x-mailman-version_2.0.10</th>\n      <th>feat-encoded-x-mailman-version_2.0.11</th>\n      <th>feat-encoded-x-mailman-version_2.0.6</th>\n      <th>feat-encoded-x-mailman-version_2.0.8</th>\n      <th>feat-encoded-x-mailman-version_2.0.9-sf.net</th>\n      <th>feat-encoded-x-mailman-version_2.1b5</th>\n      <th>feat-encoded-x-mailman-version_2.1b5+</th>\n    </tr>\n  </thead>\n  <tbody>\n    <tr>\n      <th>count</th>\n      <td>7112.000000</td>\n      <td>4413.000000</td>\n      <td>4412.000000</td>\n      <td>1580.000000</td>\n      <td>1580.000000</td>\n      <td>1575.000000</td>\n      <td>4715.000000</td>\n      <td>7760.000000</td>\n      <td>7760.000000</td>\n      <td>7760.000000</td>\n      <td>...</td>\n      <td>7760.000000</td>\n      <td>7760.000000</td>\n      <td>7760.000000</td>\n      <td>7760.000000</td>\n      <td>7760.000000</td>\n      <td>7760.000000</td>\n      <td>7760.000000</td>\n      <td>7760.000000</td>\n      <td>7760.000000</td>\n      <td>7760.000000</td>\n    </tr>\n    <tr>\n      <th>mean</th>\n      <td>0.148481</td>\n      <td>0.003626</td>\n      <td>0.994334</td>\n      <td>0.276582</td>\n      <td>0.008861</td>\n      <td>0.008254</td>\n      <td>0.619512</td>\n      <td>0.287113</td>\n      <td>0.106057</td>\n      <td>0.000515</td>\n      <td>...</td>\n      <td>0.001546</td>\n      <td>0.090722</td>\n      <td>0.064433</td>\n      <td>0.005541</td>\n      <td>0.311340</td>\n      <td>0.001031</td>\n      <td>0.000258</td>\n      <td>0.098454</td>\n      <td>0.000644</td>\n      <td>0.000129</td>\n    </tr>\n    <tr>\n      <th>std</th>\n      <td>0.355602</td>\n      <td>0.060111</td>\n      <td>0.075070</td>\n      <td>0.447450</td>\n      <td>0.093743</td>\n      <td>0.090504</td>\n      <td>0.485558</td>\n      <td>0.452444</td>\n      <td>0.307930</td>\n      <td>0.022699</td>\n      <td>...</td>\n      <td>0.039296</td>\n      <td>0.287231</td>\n      <td>0.245538</td>\n      <td>0.074238</td>\n      <td>0.463071</td>\n      <td>0.032094</td>\n      <td>0.016053</td>\n      <td>0.297946</td>\n      <td>0.025377</td>\n      <td>0.011352</td>\n    </tr>\n    <tr>\n      <th>min</th>\n      <td>0.000000</td>\n      <td>0.000000</td>\n      <td>0.000000</td>\n      <td>0.000000</td>\n      <td>0.000000</td>\n      <td>0.000000</td>\n      <td>0.000000</td>\n      <td>0.000000</td>\n      <td>0.000000</td>\n      <td>0.000000</td>\n      <td>...</td>\n      <td>0.000000</td>\n      <td>0.000000</td>\n      <td>0.000000</td>\n      <td>0.000000</td>\n      <td>0.000000</td>\n      <td>0.000000</td>\n      <td>0.000000</td>\n      <td>0.000000</td>\n      <td>0.000000</td>\n      <td>0.000000</td>\n    </tr>\n    <tr>\n      <th>25%</th>\n      <td>0.000000</td>\n      <td>0.000000</td>\n      <td>1.000000</td>\n      <td>0.000000</td>\n      <td>0.000000</td>\n      <td>0.000000</td>\n      <td>0.000000</td>\n      <td>0.000000</td>\n      <td>0.000000</td>\n      <td>0.000000</td>\n      <td>...</td>\n      <td>0.000000</td>\n      <td>0.000000</td>\n      <td>0.000000</td>\n      <td>0.000000</td>\n      <td>0.000000</td>\n      <td>0.000000</td>\n      <td>0.000000</td>\n      <td>0.000000</td>\n      <td>0.000000</td>\n      <td>0.000000</td>\n    </tr>\n    <tr>\n      <th>50%</th>\n      <td>0.000000</td>\n      <td>0.000000</td>\n      <td>1.000000</td>\n      <td>0.000000</td>\n      <td>0.000000</td>\n      <td>0.000000</td>\n      <td>1.000000</td>\n      <td>0.000000</td>\n      <td>0.000000</td>\n      <td>0.000000</td>\n      <td>...</td>\n      <td>0.000000</td>\n      <td>0.000000</td>\n      <td>0.000000</td>\n      <td>0.000000</td>\n      <td>0.000000</td>\n      <td>0.000000</td>\n      <td>0.000000</td>\n      <td>0.000000</td>\n      <td>0.000000</td>\n      <td>0.000000</td>\n    </tr>\n    <tr>\n      <th>75%</th>\n      <td>0.000000</td>\n      <td>0.000000</td>\n      <td>1.000000</td>\n      <td>1.000000</td>\n      <td>0.000000</td>\n      <td>0.000000</td>\n      <td>1.000000</td>\n      <td>1.000000</td>\n      <td>0.000000</td>\n      <td>0.000000</td>\n      <td>...</td>\n      <td>0.000000</td>\n      <td>0.000000</td>\n      <td>0.000000</td>\n      <td>0.000000</td>\n      <td>1.000000</td>\n      <td>0.000000</td>\n      <td>0.000000</td>\n      <td>0.000000</td>\n      <td>0.000000</td>\n      <td>0.000000</td>\n    </tr>\n    <tr>\n      <th>max</th>\n      <td>1.000000</td>\n      <td>1.000000</td>\n      <td>1.000000</td>\n      <td>1.000000</td>\n      <td>1.000000</td>\n      <td>1.000000</td>\n      <td>1.000000</td>\n      <td>1.000000</td>\n      <td>1.000000</td>\n      <td>1.000000</td>\n      <td>...</td>\n      <td>1.000000</td>\n      <td>1.000000</td>\n      <td>1.000000</td>\n      <td>1.000000</td>\n      <td>1.000000</td>\n      <td>1.000000</td>\n      <td>1.000000</td>\n      <td>1.000000</td>\n      <td>1.000000</td>\n      <td>1.000000</td>\n    </tr>\n  </tbody>\n</table>\n<p>8 rows × 25 columns</p>\n</div>"
     },
     "execution_count": 57,
     "metadata": {},
     "output_type": "execute_result"
    }
   ],
   "source": [
    "with_encoded_mailman_version_df = one_hot_encode(with_encoded_precedence_df, 'x-mailman-version')\n",
    "with_encoded_mailman_version_df[get_feat_cols(with_encoded_mailman_version_df)].describe()"
   ],
   "metadata": {
    "collapsed": false,
    "ExecuteTime": {
     "end_time": "2023-06-20T01:38:00.412627Z",
     "start_time": "2023-06-20T01:37:59.639287Z"
    }
   }
  },
  {
   "cell_type": "code",
   "execution_count": 58,
   "outputs": [
    {
     "data": {
      "text/plain": "count    858.000000\nmean       1.034965\nstd        0.257787\nmin        1.000000\n25%        1.000000\n50%        1.000000\n75%        1.000000\nmax        3.000000\nName: feat-x-msmail-priority, dtype: float64"
     },
     "execution_count": 58,
     "metadata": {},
     "output_type": "execute_result"
    }
   ],
   "source": [
    "def parse_msmail_priority(row):\n",
    "    if pd.isna(row['x-msmail-priority']):\n",
    "        return row\n",
    "\n",
    "    match row['x-msmail-priority']:\n",
    "        case 'normal':\n",
    "            row['feat-x-msmail-priority'] = 1\n",
    "        case 'medium':\n",
    "            row['feat-x-msmail-priority'] = 1\n",
    "        case 'low':\n",
    "            row['feat-x-msmail-priority'] = 2\n",
    "        case 'high':\n",
    "            row['feat-x-msmail-priority'] = 3\n",
    "        case _:\n",
    "            row['feat-x-msmail-priority'] = -1\n",
    "\n",
    "    return row\n",
    "\n",
    "\n",
    "with_msmail_priority_df = with_encoded_mailman_version_df.apply(lambda r: prepare_for_encoding(r, 'x-msmail-priority'),\n",
    "                                                                axis=1)\n",
    "with_categorical_msmail_priority_df = with_msmail_priority_df.apply(parse_msmail_priority, axis=1)\n",
    "with_categorical_msmail_priority_df['feat-x-msmail-priority'].describe()"
   ],
   "metadata": {
    "collapsed": false,
    "ExecuteTime": {
     "end_time": "2023-06-20T01:38:02.574512Z",
     "start_time": "2023-06-20T01:38:00.412359Z"
    }
   }
  },
  {
   "cell_type": "code",
   "execution_count": 59,
   "outputs": [
    {
     "data": {
      "text/plain": "count    1103.000000\nmean        2.877607\nstd         0.500886\nmin         0.000000\n25%         3.000000\n50%         3.000000\n75%         3.000000\nmax         5.000000\nName: feat-x-priority, dtype: float64"
     },
     "execution_count": 59,
     "metadata": {},
     "output_type": "execute_result"
    }
   ],
   "source": [
    "def parse_priority(row):\n",
    "    if pd.isna(row['x-priority']):\n",
    "        return row\n",
    "\n",
    "    priority = row['x-priority']\n",
    "    if re.findall(r\"Highest\", priority):\n",
    "        row['feat-x-priority'] = 0\n",
    "    else:\n",
    "        row['feat-x-priority'] = int(re.search(r'\\d', priority).group())\n",
    "    return row\n",
    "\n",
    "\n",
    "with_categorical_priority_df = with_categorical_msmail_priority_df.apply(parse_priority, axis=1)\n",
    "with_categorical_priority_df['feat-x-priority'].describe()"
   ],
   "metadata": {
    "collapsed": false,
    "ExecuteTime": {
     "end_time": "2023-06-20T01:38:07.709664Z",
     "start_time": "2023-06-20T01:38:06.025369Z"
    }
   }
  },
  {
   "cell_type": "code",
   "execution_count": 60,
   "outputs": [
    {
     "data": {
      "text/plain": "count    2155.000000\nmean        0.007425\nstd         0.085866\nmin         0.000000\n25%         0.000000\n50%         0.000000\n75%         0.000000\nmax         1.000000\nName: feat-x-spam-status, dtype: float64"
     },
     "execution_count": 60,
     "metadata": {},
     "output_type": "execute_result"
    }
   ],
   "source": [
    "def parse_spam_status(row):\n",
    "    spam_status = row['x-spam-status']\n",
    "    if pd.isna(spam_status):\n",
    "        return row\n",
    "\n",
    "    match spam_status.split(', ')[0].lower():\n",
    "        case 'no':\n",
    "            row['feat-x-spam-status'] = 0\n",
    "        case 'yes':\n",
    "            row['feat-x-spam-status'] = 1\n",
    "        case _:\n",
    "            row['feat-x-spam-status'] = -1\n",
    "    return row\n",
    "\n",
    "\n",
    "with_binary_spam_status_df = with_categorical_priority_df.apply(parse_spam_status, axis=1)\n",
    "with_binary_spam_status_df['feat-x-spam-status'].describe()"
   ],
   "metadata": {
    "collapsed": false,
    "ExecuteTime": {
     "end_time": "2023-06-20T01:38:11.627438Z",
     "start_time": "2023-06-20T01:38:09.485262Z"
    }
   }
  },
  {
   "cell_type": "code",
   "execution_count": 61,
   "outputs": [
    {
     "data": {
      "text/plain": "count    2155.000000\nmean        0.067749\nstd         0.628962\nmin         0.000000\n25%         0.000000\n50%         0.000000\n75%         0.000000\nmax        11.000000\nName: feat-x-spam-level, dtype: float64"
     },
     "execution_count": 61,
     "metadata": {},
     "output_type": "execute_result"
    }
   ],
   "source": [
    "def parse_spam_level(row):\n",
    "    spam_level = row['x-spam-level']\n",
    "    if pd.isna(spam_level):\n",
    "        return row\n",
    "\n",
    "    row['feat-x-spam-level'] = len(spam_level.rstrip().lstrip())\n",
    "    return row\n",
    "\n",
    "\n",
    "with_categorical_spam_level_df = with_binary_spam_status_df.apply(parse_spam_level, axis=1)\n",
    "with_categorical_spam_level_df['feat-x-spam-level'].describe()"
   ],
   "metadata": {
    "collapsed": false,
    "ExecuteTime": {
     "end_time": "2023-06-20T01:38:15.525986Z",
     "start_time": "2023-06-20T01:38:13.652281Z"
    }
   }
  },
  {
   "cell_type": "code",
   "execution_count": 62,
   "outputs": [],
   "source": [
    "embedding_cols = ['cc', 'content-type', 'subject', 'x-mailer']"
   ],
   "metadata": {
    "collapsed": false,
    "ExecuteTime": {
     "end_time": "2023-06-20T01:38:16.193416Z",
     "start_time": "2023-06-20T01:38:16.188965Z"
    }
   }
  },
  {
   "cell_type": "code",
   "execution_count": 63,
   "outputs": [
    {
     "data": {
      "text/plain": "count    1656.000000\nmean        1.977053\nstd         3.479515\nmin         1.000000\n25%         1.000000\n50%         1.000000\n75%         2.000000\nmax        47.000000\nName: feat-cc-count, dtype: float64"
     },
     "execution_count": 63,
     "metadata": {},
     "output_type": "execute_result"
    }
   ],
   "source": [
    "def get_cc_count(row):\n",
    "    if pd.isna(row['cc']):\n",
    "        return row\n",
    "\n",
    "    row['feat-cc-count'] = len(row['cc'].split(','))\n",
    "    return row\n",
    "\n",
    "\n",
    "with_cc_count_df = with_categorical_spam_level_df.apply(get_cc_count, axis=1)\n",
    "with_cc_count_df['feat-cc-count'].describe()"
   ],
   "metadata": {
    "collapsed": false,
    "ExecuteTime": {
     "end_time": "2023-06-20T01:38:19.674594Z",
     "start_time": "2023-06-20T01:38:17.529924Z"
    }
   }
  },
  {
   "cell_type": "code",
   "execution_count": 64,
   "outputs": [
    {
     "data": {
      "text/plain": "       content-type-delsp      content-type-protocol content-type-boundary  \\\ncount                   2                         69                   126   \nunique                  1                          2                    76   \ntop                   yes  application/pgp-signature  ==_Exmh_-1317289252P   \nfreq                    2                         67                     3   \n\n            content-type-type content-type-charset content-type-format  \\\ncount                      17                  566                  13   \nunique                      2                    7                   1   \ntop     multipart/alternative             us-ascii              flowed   \nfreq                       12                  370                  13   \n\n       content-type-micalg  \ncount                  180  \nunique                   3  \ntop               pgp-sha1  \nfreq                   168  ",
      "text/html": "<div>\n<style scoped>\n    .dataframe tbody tr th:only-of-type {\n        vertical-align: middle;\n    }\n\n    .dataframe tbody tr th {\n        vertical-align: top;\n    }\n\n    .dataframe thead th {\n        text-align: right;\n    }\n</style>\n<table border=\"1\" class=\"dataframe\">\n  <thead>\n    <tr style=\"text-align: right;\">\n      <th></th>\n      <th>content-type-delsp</th>\n      <th>content-type-protocol</th>\n      <th>content-type-boundary</th>\n      <th>content-type-type</th>\n      <th>content-type-charset</th>\n      <th>content-type-format</th>\n      <th>content-type-micalg</th>\n    </tr>\n  </thead>\n  <tbody>\n    <tr>\n      <th>count</th>\n      <td>2</td>\n      <td>69</td>\n      <td>126</td>\n      <td>17</td>\n      <td>566</td>\n      <td>13</td>\n      <td>180</td>\n    </tr>\n    <tr>\n      <th>unique</th>\n      <td>1</td>\n      <td>2</td>\n      <td>76</td>\n      <td>2</td>\n      <td>7</td>\n      <td>1</td>\n      <td>3</td>\n    </tr>\n    <tr>\n      <th>top</th>\n      <td>yes</td>\n      <td>application/pgp-signature</td>\n      <td>==_Exmh_-1317289252P</td>\n      <td>multipart/alternative</td>\n      <td>us-ascii</td>\n      <td>flowed</td>\n      <td>pgp-sha1</td>\n    </tr>\n    <tr>\n      <th>freq</th>\n      <td>2</td>\n      <td>67</td>\n      <td>3</td>\n      <td>12</td>\n      <td>370</td>\n      <td>13</td>\n      <td>168</td>\n    </tr>\n  </tbody>\n</table>\n</div>"
     },
     "execution_count": 64,
     "metadata": {},
     "output_type": "execute_result"
    }
   ],
   "source": [
    "ct_subfields = set()\n",
    "\n",
    "\n",
    "def parse_content_type(row):\n",
    "    content_type = row['content-type']\n",
    "    if pd.isna(content_type):\n",
    "        return row\n",
    "\n",
    "    value = content_type.split(';')[0]\n",
    "    row['content-type'] = value\n",
    "\n",
    "    subfields = re.findall(r\"([\\w]+)\\=[\\\"]?(.+?)[\\\"]?[\\;|\\n|$]\", re.sub('[\\t\\s\\n]+?', '', content_type))\n",
    "    for (subfield, subvalue) in subfields:\n",
    "        ct_subfields.add(f'content-type-{subfield.lower()}')\n",
    "        row[f'content-type-{subfield}'] = subvalue\n",
    "    return row\n",
    "\n",
    "\n",
    "with_content_type_df = with_cc_count_df.apply(parse_content_type, axis=1)\n",
    "with_content_type_df[list(ct_subfields)].describe()"
   ],
   "metadata": {
    "collapsed": false,
    "ExecuteTime": {
     "end_time": "2023-06-20T01:38:22.414490Z",
     "start_time": "2023-06-20T01:38:20.435381Z"
    }
   }
  },
  {
   "cell_type": "code",
   "execution_count": 67,
   "outputs": [
    {
     "data": {
      "text/plain": "       feat-cc-count  feat-duplicate-message-id  \\\ncount    1656.000000                4715.000000   \nmean        1.977053                   0.619512   \nstd         3.479515                   0.485558   \nmin         1.000000                   0.000000   \n25%         1.000000                   0.000000   \n50%         1.000000                   1.000000   \n75%         2.000000                   1.000000   \nmax        47.000000                   1.000000   \n\n       feat-encoded-content-transfer-encoding_7bit  \\\ncount                                  7760.000000   \nmean                                      0.287113   \nstd                                       0.452444   \nmin                                       0.000000   \n25%                                       0.000000   \n50%                                       0.000000   \n75%                                       1.000000   \nmax                                       1.000000   \n\n       feat-encoded-content-transfer-encoding_8bit  \\\ncount                                  7760.000000   \nmean                                      0.106057   \nstd                                       0.307930   \nmin                                       0.000000   \n25%                                       0.000000   \n50%                                       0.000000   \n75%                                       0.000000   \nmax                                       1.000000   \n\n       feat-encoded-content-transfer-encoding_base64  \\\ncount                                    7760.000000   \nmean                                        0.000515   \nstd                                         0.022699   \nmin                                         0.000000   \n25%                                         0.000000   \n50%                                         0.000000   \n75%                                         0.000000   \nmax                                         1.000000   \n\n       feat-encoded-content-transfer-encoding_binary  \\\ncount                                    7760.000000   \nmean                                        0.002062   \nstd                                         0.045364   \nmin                                         0.000000   \n25%                                         0.000000   \n50%                                         0.000000   \n75%                                         0.000000   \nmax                                         1.000000   \n\n       feat-encoded-content-transfer-encoding_quoted-printable  \\\ncount                                        7760.000000         \nmean                                            0.022036         \nstd                                             0.146810         \nmin                                             0.000000         \n25%                                             0.000000         \n50%                                             0.000000         \n75%                                             0.000000         \nmax                                             1.000000         \n\n       feat-encoded-precedence_bulk  feat-encoded-precedence_first-class  \\\ncount                   7760.000000                          7760.000000   \nmean                       0.619974                             0.000387   \nstd                        0.485424                             0.019660   \nmin                        0.000000                             0.000000   \n25%                        0.000000                             0.000000   \n50%                        1.000000                             0.000000   \n75%                        1.000000                             0.000000   \nmax                        1.000000                             1.000000   \n\n       feat-encoded-precedence_list  ...  feat-match-from-return-path  \\\ncount                   7760.000000  ...                  1580.000000   \nmean                       0.026160  ...                     0.008861   \nstd                        0.159621  ...                     0.093743   \nmin                        0.000000  ...                     0.000000   \n25%                        0.000000  ...                     0.000000   \n50%                        0.000000  ...                     0.000000   \n75%                        0.000000  ...                     0.000000   \nmax                        1.000000  ...                     1.000000   \n\n       feat-match-from-sender  feat-x-msmail-priority  feat-x-priority  \\\ncount             1575.000000              858.000000      1103.000000   \nmean                 0.008254                1.034965         2.877607   \nstd                  0.090504                0.257787         0.500886   \nmin                  0.000000                1.000000         0.000000   \n25%                  0.000000                1.000000         3.000000   \n50%                  0.000000                1.000000         3.000000   \n75%                  0.000000                1.000000         3.000000   \nmax                  1.000000                3.000000         5.000000   \n\n       feat-x-spam-level  feat-x-spam-status  \\\ncount        2155.000000         2155.000000   \nmean            0.067749            0.007425   \nstd             0.628962            0.085866   \nmin             0.000000            0.000000   \n25%             0.000000            0.000000   \n50%             0.000000            0.000000   \n75%             0.000000            0.000000   \nmax            11.000000            1.000000   \n\n       feat-encoded-content-type-charset_iso-8859-1  \\\ncount                                   7760.000000   \nmean                                       0.007088   \nstd                                        0.083895   \nmin                                        0.000000   \n25%                                        0.000000   \n50%                                        0.000000   \n75%                                        0.000000   \nmax                                        1.000000   \n\n       feat-encoded-content-type-charset_iso-8859-15  \\\ncount                                    7760.000000   \nmean                                        0.001933   \nstd                                         0.043926   \nmin                                         0.000000   \n25%                                         0.000000   \n50%                                         0.000000   \n75%                                         0.000000   \nmax                                         1.000000   \n\n       feat-encoded-content-type-charset_us-ascii  \\\ncount                                 7760.000000   \nmean                                     0.061727   \nstd                                      0.240674   \nmin                                      0.000000   \n25%                                      0.000000   \n50%                                      0.000000   \n75%                                      0.000000   \nmax                                      1.000000   \n\n       feat-encoded-content-type-charset_windows-1252  \ncount                                     7760.000000  \nmean                                         0.002191  \nstd                                          0.046757  \nmin                                          0.000000  \n25%                                          0.000000  \n50%                                          0.000000  \n75%                                          0.000000  \nmax                                          1.000000  \n\n[8 rows x 34 columns]",
      "text/html": "<div>\n<style scoped>\n    .dataframe tbody tr th:only-of-type {\n        vertical-align: middle;\n    }\n\n    .dataframe tbody tr th {\n        vertical-align: top;\n    }\n\n    .dataframe thead th {\n        text-align: right;\n    }\n</style>\n<table border=\"1\" class=\"dataframe\">\n  <thead>\n    <tr style=\"text-align: right;\">\n      <th></th>\n      <th>feat-cc-count</th>\n      <th>feat-duplicate-message-id</th>\n      <th>feat-encoded-content-transfer-encoding_7bit</th>\n      <th>feat-encoded-content-transfer-encoding_8bit</th>\n      <th>feat-encoded-content-transfer-encoding_base64</th>\n      <th>feat-encoded-content-transfer-encoding_binary</th>\n      <th>feat-encoded-content-transfer-encoding_quoted-printable</th>\n      <th>feat-encoded-precedence_bulk</th>\n      <th>feat-encoded-precedence_first-class</th>\n      <th>feat-encoded-precedence_list</th>\n      <th>...</th>\n      <th>feat-match-from-return-path</th>\n      <th>feat-match-from-sender</th>\n      <th>feat-x-msmail-priority</th>\n      <th>feat-x-priority</th>\n      <th>feat-x-spam-level</th>\n      <th>feat-x-spam-status</th>\n      <th>feat-encoded-content-type-charset_iso-8859-1</th>\n      <th>feat-encoded-content-type-charset_iso-8859-15</th>\n      <th>feat-encoded-content-type-charset_us-ascii</th>\n      <th>feat-encoded-content-type-charset_windows-1252</th>\n    </tr>\n  </thead>\n  <tbody>\n    <tr>\n      <th>count</th>\n      <td>1656.000000</td>\n      <td>4715.000000</td>\n      <td>7760.000000</td>\n      <td>7760.000000</td>\n      <td>7760.000000</td>\n      <td>7760.000000</td>\n      <td>7760.000000</td>\n      <td>7760.000000</td>\n      <td>7760.000000</td>\n      <td>7760.000000</td>\n      <td>...</td>\n      <td>1580.000000</td>\n      <td>1575.000000</td>\n      <td>858.000000</td>\n      <td>1103.000000</td>\n      <td>2155.000000</td>\n      <td>2155.000000</td>\n      <td>7760.000000</td>\n      <td>7760.000000</td>\n      <td>7760.000000</td>\n      <td>7760.000000</td>\n    </tr>\n    <tr>\n      <th>mean</th>\n      <td>1.977053</td>\n      <td>0.619512</td>\n      <td>0.287113</td>\n      <td>0.106057</td>\n      <td>0.000515</td>\n      <td>0.002062</td>\n      <td>0.022036</td>\n      <td>0.619974</td>\n      <td>0.000387</td>\n      <td>0.026160</td>\n      <td>...</td>\n      <td>0.008861</td>\n      <td>0.008254</td>\n      <td>1.034965</td>\n      <td>2.877607</td>\n      <td>0.067749</td>\n      <td>0.007425</td>\n      <td>0.007088</td>\n      <td>0.001933</td>\n      <td>0.061727</td>\n      <td>0.002191</td>\n    </tr>\n    <tr>\n      <th>std</th>\n      <td>3.479515</td>\n      <td>0.485558</td>\n      <td>0.452444</td>\n      <td>0.307930</td>\n      <td>0.022699</td>\n      <td>0.045364</td>\n      <td>0.146810</td>\n      <td>0.485424</td>\n      <td>0.019660</td>\n      <td>0.159621</td>\n      <td>...</td>\n      <td>0.093743</td>\n      <td>0.090504</td>\n      <td>0.257787</td>\n      <td>0.500886</td>\n      <td>0.628962</td>\n      <td>0.085866</td>\n      <td>0.083895</td>\n      <td>0.043926</td>\n      <td>0.240674</td>\n      <td>0.046757</td>\n    </tr>\n    <tr>\n      <th>min</th>\n      <td>1.000000</td>\n      <td>0.000000</td>\n      <td>0.000000</td>\n      <td>0.000000</td>\n      <td>0.000000</td>\n      <td>0.000000</td>\n      <td>0.000000</td>\n      <td>0.000000</td>\n      <td>0.000000</td>\n      <td>0.000000</td>\n      <td>...</td>\n      <td>0.000000</td>\n      <td>0.000000</td>\n      <td>1.000000</td>\n      <td>0.000000</td>\n      <td>0.000000</td>\n      <td>0.000000</td>\n      <td>0.000000</td>\n      <td>0.000000</td>\n      <td>0.000000</td>\n      <td>0.000000</td>\n    </tr>\n    <tr>\n      <th>25%</th>\n      <td>1.000000</td>\n      <td>0.000000</td>\n      <td>0.000000</td>\n      <td>0.000000</td>\n      <td>0.000000</td>\n      <td>0.000000</td>\n      <td>0.000000</td>\n      <td>0.000000</td>\n      <td>0.000000</td>\n      <td>0.000000</td>\n      <td>...</td>\n      <td>0.000000</td>\n      <td>0.000000</td>\n      <td>1.000000</td>\n      <td>3.000000</td>\n      <td>0.000000</td>\n      <td>0.000000</td>\n      <td>0.000000</td>\n      <td>0.000000</td>\n      <td>0.000000</td>\n      <td>0.000000</td>\n    </tr>\n    <tr>\n      <th>50%</th>\n      <td>1.000000</td>\n      <td>1.000000</td>\n      <td>0.000000</td>\n      <td>0.000000</td>\n      <td>0.000000</td>\n      <td>0.000000</td>\n      <td>0.000000</td>\n      <td>1.000000</td>\n      <td>0.000000</td>\n      <td>0.000000</td>\n      <td>...</td>\n      <td>0.000000</td>\n      <td>0.000000</td>\n      <td>1.000000</td>\n      <td>3.000000</td>\n      <td>0.000000</td>\n      <td>0.000000</td>\n      <td>0.000000</td>\n      <td>0.000000</td>\n      <td>0.000000</td>\n      <td>0.000000</td>\n    </tr>\n    <tr>\n      <th>75%</th>\n      <td>2.000000</td>\n      <td>1.000000</td>\n      <td>1.000000</td>\n      <td>0.000000</td>\n      <td>0.000000</td>\n      <td>0.000000</td>\n      <td>0.000000</td>\n      <td>1.000000</td>\n      <td>0.000000</td>\n      <td>0.000000</td>\n      <td>...</td>\n      <td>0.000000</td>\n      <td>0.000000</td>\n      <td>1.000000</td>\n      <td>3.000000</td>\n      <td>0.000000</td>\n      <td>0.000000</td>\n      <td>0.000000</td>\n      <td>0.000000</td>\n      <td>0.000000</td>\n      <td>0.000000</td>\n    </tr>\n    <tr>\n      <th>max</th>\n      <td>47.000000</td>\n      <td>1.000000</td>\n      <td>1.000000</td>\n      <td>1.000000</td>\n      <td>1.000000</td>\n      <td>1.000000</td>\n      <td>1.000000</td>\n      <td>1.000000</td>\n      <td>1.000000</td>\n      <td>1.000000</td>\n      <td>...</td>\n      <td>1.000000</td>\n      <td>1.000000</td>\n      <td>3.000000</td>\n      <td>5.000000</td>\n      <td>11.000000</td>\n      <td>1.000000</td>\n      <td>1.000000</td>\n      <td>1.000000</td>\n      <td>1.000000</td>\n      <td>1.000000</td>\n    </tr>\n  </tbody>\n</table>\n<p>8 rows × 34 columns</p>\n</div>"
     },
     "execution_count": 67,
     "metadata": {},
     "output_type": "execute_result"
    }
   ],
   "source": [
    "with_encoded_charset_df = one_hot_encode(with_content_type_df, 'content-type-charset')\n",
    "with_encoded_charset_df[get_feat_cols(with_encoded_charset_df)].describe()"
   ],
   "metadata": {
    "collapsed": false,
    "ExecuteTime": {
     "end_time": "2023-06-20T01:38:37.241400Z",
     "start_time": "2023-06-20T01:38:36.772139Z"
    }
   }
  },
  {
   "cell_type": "code",
   "execution_count": 68,
   "outputs": [
    {
     "data": {
      "text/plain": "       feat-cc-count  feat-duplicate-message-id  \\\ncount    1656.000000                4715.000000   \nmean        1.977053                   0.619512   \nstd         3.479515                   0.485558   \nmin         1.000000                   0.000000   \n25%         1.000000                   0.000000   \n50%         1.000000                   1.000000   \n75%         2.000000                   1.000000   \nmax        47.000000                   1.000000   \n\n       feat-encoded-content-transfer-encoding_7bit  \\\ncount                                  7760.000000   \nmean                                      0.287113   \nstd                                       0.452444   \nmin                                       0.000000   \n25%                                       0.000000   \n50%                                       0.000000   \n75%                                       1.000000   \nmax                                       1.000000   \n\n       feat-encoded-content-transfer-encoding_8bit  \\\ncount                                  7760.000000   \nmean                                      0.106057   \nstd                                       0.307930   \nmin                                       0.000000   \n25%                                       0.000000   \n50%                                       0.000000   \n75%                                       0.000000   \nmax                                       1.000000   \n\n       feat-encoded-content-transfer-encoding_base64  \\\ncount                                    7760.000000   \nmean                                        0.000515   \nstd                                         0.022699   \nmin                                         0.000000   \n25%                                         0.000000   \n50%                                         0.000000   \n75%                                         0.000000   \nmax                                         1.000000   \n\n       feat-encoded-content-transfer-encoding_binary  \\\ncount                                    7760.000000   \nmean                                        0.002062   \nstd                                         0.045364   \nmin                                         0.000000   \n25%                                         0.000000   \n50%                                         0.000000   \n75%                                         0.000000   \nmax                                         1.000000   \n\n       feat-encoded-content-transfer-encoding_quoted-printable  \\\ncount                                        7760.000000         \nmean                                            0.022036         \nstd                                             0.146810         \nmin                                             0.000000         \n25%                                             0.000000         \n50%                                             0.000000         \n75%                                             0.000000         \nmax                                             1.000000         \n\n       feat-encoded-precedence_bulk  feat-encoded-precedence_first-class  \\\ncount                   7760.000000                          7760.000000   \nmean                       0.619974                             0.000387   \nstd                        0.485424                             0.019660   \nmin                        0.000000                             0.000000   \n25%                        0.000000                             0.000000   \n50%                        1.000000                             0.000000   \n75%                        1.000000                             0.000000   \nmax                        1.000000                             1.000000   \n\n       feat-encoded-precedence_list  ...  feat-match-from-sender  \\\ncount                   7760.000000  ...             1575.000000   \nmean                       0.026160  ...                0.008254   \nstd                        0.159621  ...                0.090504   \nmin                        0.000000  ...                0.000000   \n25%                        0.000000  ...                0.000000   \n50%                        0.000000  ...                0.000000   \n75%                        0.000000  ...                0.000000   \nmax                        1.000000  ...                1.000000   \n\n       feat-x-msmail-priority  feat-x-priority  feat-x-spam-level  \\\ncount              858.000000      1103.000000        2155.000000   \nmean                 1.034965         2.877607           0.067749   \nstd                  0.257787         0.500886           0.628962   \nmin                  1.000000         0.000000           0.000000   \n25%                  1.000000         3.000000           0.000000   \n50%                  1.000000         3.000000           0.000000   \n75%                  1.000000         3.000000           0.000000   \nmax                  3.000000         5.000000          11.000000   \n\n       feat-x-spam-status  feat-encoded-content-type-charset_iso-8859-1  \\\ncount         2155.000000                                   7760.000000   \nmean             0.007425                                      0.007088   \nstd              0.085866                                      0.083895   \nmin              0.000000                                      0.000000   \n25%              0.000000                                      0.000000   \n50%              0.000000                                      0.000000   \n75%              0.000000                                      0.000000   \nmax              1.000000                                      1.000000   \n\n       feat-encoded-content-type-charset_iso-8859-15  \\\ncount                                    7760.000000   \nmean                                        0.001933   \nstd                                         0.043926   \nmin                                         0.000000   \n25%                                         0.000000   \n50%                                         0.000000   \n75%                                         0.000000   \nmax                                         1.000000   \n\n       feat-encoded-content-type-charset_us-ascii  \\\ncount                                 7760.000000   \nmean                                     0.061727   \nstd                                      0.240674   \nmin                                      0.000000   \n25%                                      0.000000   \n50%                                      0.000000   \n75%                                      0.000000   \nmax                                      1.000000   \n\n       feat-encoded-content-type-charset_windows-1252  \\\ncount                                     7760.000000   \nmean                                         0.002191   \nstd                                          0.046757   \nmin                                          0.000000   \n25%                                          0.000000   \n50%                                          0.000000   \n75%                                          0.000000   \nmax                                          1.000000   \n\n       feat-content-type-boundary  \ncount                 7760.000000  \nmean                     0.983763  \nstd                      0.126394  \nmin                      0.000000  \n25%                      1.000000  \n50%                      1.000000  \n75%                      1.000000  \nmax                      1.000000  \n\n[8 rows x 35 columns]",
      "text/html": "<div>\n<style scoped>\n    .dataframe tbody tr th:only-of-type {\n        vertical-align: middle;\n    }\n\n    .dataframe tbody tr th {\n        vertical-align: top;\n    }\n\n    .dataframe thead th {\n        text-align: right;\n    }\n</style>\n<table border=\"1\" class=\"dataframe\">\n  <thead>\n    <tr style=\"text-align: right;\">\n      <th></th>\n      <th>feat-cc-count</th>\n      <th>feat-duplicate-message-id</th>\n      <th>feat-encoded-content-transfer-encoding_7bit</th>\n      <th>feat-encoded-content-transfer-encoding_8bit</th>\n      <th>feat-encoded-content-transfer-encoding_base64</th>\n      <th>feat-encoded-content-transfer-encoding_binary</th>\n      <th>feat-encoded-content-transfer-encoding_quoted-printable</th>\n      <th>feat-encoded-precedence_bulk</th>\n      <th>feat-encoded-precedence_first-class</th>\n      <th>feat-encoded-precedence_list</th>\n      <th>...</th>\n      <th>feat-match-from-sender</th>\n      <th>feat-x-msmail-priority</th>\n      <th>feat-x-priority</th>\n      <th>feat-x-spam-level</th>\n      <th>feat-x-spam-status</th>\n      <th>feat-encoded-content-type-charset_iso-8859-1</th>\n      <th>feat-encoded-content-type-charset_iso-8859-15</th>\n      <th>feat-encoded-content-type-charset_us-ascii</th>\n      <th>feat-encoded-content-type-charset_windows-1252</th>\n      <th>feat-content-type-boundary</th>\n    </tr>\n  </thead>\n  <tbody>\n    <tr>\n      <th>count</th>\n      <td>1656.000000</td>\n      <td>4715.000000</td>\n      <td>7760.000000</td>\n      <td>7760.000000</td>\n      <td>7760.000000</td>\n      <td>7760.000000</td>\n      <td>7760.000000</td>\n      <td>7760.000000</td>\n      <td>7760.000000</td>\n      <td>7760.000000</td>\n      <td>...</td>\n      <td>1575.000000</td>\n      <td>858.000000</td>\n      <td>1103.000000</td>\n      <td>2155.000000</td>\n      <td>2155.000000</td>\n      <td>7760.000000</td>\n      <td>7760.000000</td>\n      <td>7760.000000</td>\n      <td>7760.000000</td>\n      <td>7760.000000</td>\n    </tr>\n    <tr>\n      <th>mean</th>\n      <td>1.977053</td>\n      <td>0.619512</td>\n      <td>0.287113</td>\n      <td>0.106057</td>\n      <td>0.000515</td>\n      <td>0.002062</td>\n      <td>0.022036</td>\n      <td>0.619974</td>\n      <td>0.000387</td>\n      <td>0.026160</td>\n      <td>...</td>\n      <td>0.008254</td>\n      <td>1.034965</td>\n      <td>2.877607</td>\n      <td>0.067749</td>\n      <td>0.007425</td>\n      <td>0.007088</td>\n      <td>0.001933</td>\n      <td>0.061727</td>\n      <td>0.002191</td>\n      <td>0.983763</td>\n    </tr>\n    <tr>\n      <th>std</th>\n      <td>3.479515</td>\n      <td>0.485558</td>\n      <td>0.452444</td>\n      <td>0.307930</td>\n      <td>0.022699</td>\n      <td>0.045364</td>\n      <td>0.146810</td>\n      <td>0.485424</td>\n      <td>0.019660</td>\n      <td>0.159621</td>\n      <td>...</td>\n      <td>0.090504</td>\n      <td>0.257787</td>\n      <td>0.500886</td>\n      <td>0.628962</td>\n      <td>0.085866</td>\n      <td>0.083895</td>\n      <td>0.043926</td>\n      <td>0.240674</td>\n      <td>0.046757</td>\n      <td>0.126394</td>\n    </tr>\n    <tr>\n      <th>min</th>\n      <td>1.000000</td>\n      <td>0.000000</td>\n      <td>0.000000</td>\n      <td>0.000000</td>\n      <td>0.000000</td>\n      <td>0.000000</td>\n      <td>0.000000</td>\n      <td>0.000000</td>\n      <td>0.000000</td>\n      <td>0.000000</td>\n      <td>...</td>\n      <td>0.000000</td>\n      <td>1.000000</td>\n      <td>0.000000</td>\n      <td>0.000000</td>\n      <td>0.000000</td>\n      <td>0.000000</td>\n      <td>0.000000</td>\n      <td>0.000000</td>\n      <td>0.000000</td>\n      <td>0.000000</td>\n    </tr>\n    <tr>\n      <th>25%</th>\n      <td>1.000000</td>\n      <td>0.000000</td>\n      <td>0.000000</td>\n      <td>0.000000</td>\n      <td>0.000000</td>\n      <td>0.000000</td>\n      <td>0.000000</td>\n      <td>0.000000</td>\n      <td>0.000000</td>\n      <td>0.000000</td>\n      <td>...</td>\n      <td>0.000000</td>\n      <td>1.000000</td>\n      <td>3.000000</td>\n      <td>0.000000</td>\n      <td>0.000000</td>\n      <td>0.000000</td>\n      <td>0.000000</td>\n      <td>0.000000</td>\n      <td>0.000000</td>\n      <td>1.000000</td>\n    </tr>\n    <tr>\n      <th>50%</th>\n      <td>1.000000</td>\n      <td>1.000000</td>\n      <td>0.000000</td>\n      <td>0.000000</td>\n      <td>0.000000</td>\n      <td>0.000000</td>\n      <td>0.000000</td>\n      <td>1.000000</td>\n      <td>0.000000</td>\n      <td>0.000000</td>\n      <td>...</td>\n      <td>0.000000</td>\n      <td>1.000000</td>\n      <td>3.000000</td>\n      <td>0.000000</td>\n      <td>0.000000</td>\n      <td>0.000000</td>\n      <td>0.000000</td>\n      <td>0.000000</td>\n      <td>0.000000</td>\n      <td>1.000000</td>\n    </tr>\n    <tr>\n      <th>75%</th>\n      <td>2.000000</td>\n      <td>1.000000</td>\n      <td>1.000000</td>\n      <td>0.000000</td>\n      <td>0.000000</td>\n      <td>0.000000</td>\n      <td>0.000000</td>\n      <td>1.000000</td>\n      <td>0.000000</td>\n      <td>0.000000</td>\n      <td>...</td>\n      <td>0.000000</td>\n      <td>1.000000</td>\n      <td>3.000000</td>\n      <td>0.000000</td>\n      <td>0.000000</td>\n      <td>0.000000</td>\n      <td>0.000000</td>\n      <td>0.000000</td>\n      <td>0.000000</td>\n      <td>1.000000</td>\n    </tr>\n    <tr>\n      <th>max</th>\n      <td>47.000000</td>\n      <td>1.000000</td>\n      <td>1.000000</td>\n      <td>1.000000</td>\n      <td>1.000000</td>\n      <td>1.000000</td>\n      <td>1.000000</td>\n      <td>1.000000</td>\n      <td>1.000000</td>\n      <td>1.000000</td>\n      <td>...</td>\n      <td>1.000000</td>\n      <td>3.000000</td>\n      <td>5.000000</td>\n      <td>11.000000</td>\n      <td>1.000000</td>\n      <td>1.000000</td>\n      <td>1.000000</td>\n      <td>1.000000</td>\n      <td>1.000000</td>\n      <td>1.000000</td>\n    </tr>\n  </tbody>\n</table>\n<p>8 rows × 35 columns</p>\n</div>"
     },
     "execution_count": 68,
     "metadata": {},
     "output_type": "execute_result"
    }
   ],
   "source": [
    "with_encoded_charset_df['feat-content-type-boundary'] = with_encoded_charset_df['content-type-boundary'].isna().astype(\n",
    "    int)\n",
    "with_binary_boundary_df = with_encoded_charset_df\n",
    "with_binary_boundary_df[get_feat_cols(with_binary_boundary_df)].describe()"
   ],
   "metadata": {
    "collapsed": false,
    "ExecuteTime": {
     "end_time": "2023-06-20T01:38:41.886980Z",
     "start_time": "2023-06-20T01:38:41.813619Z"
    }
   }
  },
  {
   "cell_type": "code",
   "execution_count": 69,
   "outputs": [
    {
     "data": {
      "text/plain": "count                        2796\nunique                         94\ntop       microsoftoutlookexpress\nfreq                          441\nName: x-mailer, dtype: object"
     },
     "execution_count": 69,
     "metadata": {},
     "output_type": "execute_result"
    }
   ],
   "source": [
    "def parse_mailer(row):\n",
    "    x_mailer = row['x-mailer']\n",
    "    if pd.isna(x_mailer):\n",
    "        return row\n",
    "\n",
    "    result = re.sub(r\"[\\(\\[\\{].*?[\\)\\]\\}]\", \"\", x_mailer)\n",
    "    result = re.sub(r\"([\\w\\-]*?([\\d]+\\.)+[\\+\\d\\w\\-]*?)\", \"\", result)\n",
    "    result = re.sub(r\"([\\d\\/]+)\", \"\", result)\n",
    "    result = result.lower()\n",
    "    result = re.sub(r\"version|with\", \"\", result)\n",
    "    result = re.sub(r\"[\\W]\", \"\", result)\n",
    "\n",
    "    row['x-mailer'] = result\n",
    "    return row\n",
    "\n",
    "\n",
    "with_mailer_df = with_binary_boundary_df.apply(parse_mailer, axis=1)\n",
    "with_mailer_df['x-mailer'].describe()"
   ],
   "metadata": {
    "collapsed": false,
    "ExecuteTime": {
     "end_time": "2023-06-20T01:38:46.155814Z",
     "start_time": "2023-06-20T01:38:45.525359Z"
    }
   }
  },
  {
   "cell_type": "code",
   "execution_count": 70,
   "outputs": [
    {
     "data": {
      "text/plain": "count      2796\nunique       11\ntop       other\nfreq        963\nName: x-mailer, dtype: object"
     },
     "execution_count": 70,
     "metadata": {},
     "output_type": "execute_result"
    }
   ],
   "source": [
    "def bin_mailers(row, mailers):\n",
    "    mailer = row['x-mailer']\n",
    "    if pd.isna(mailer):\n",
    "        return row\n",
    "\n",
    "    if mailer not in mailers:\n",
    "        row['x-mailer'] = 'other'\n",
    "\n",
    "    return row\n",
    "\n",
    "\n",
    "def get_top_mailers(df):\n",
    "    spam_counts = df[df['category'] == 'spam']['x-mailer'].value_counts().sort_values(ascending=False)\n",
    "    ham_counts = df[df['category'] == 'ham']['x-mailer'].value_counts().sort_values(ascending=False)\n",
    "    ham = pd.DataFrame(ham_counts).rename(columns={'count': 'ham'})\n",
    "    spam = pd.DataFrame(spam_counts).rename(columns={'count': 'spam'})\n",
    "    mailer_counts = pd.concat([ham, spam], axis=1).fillna(0)\n",
    "    mailer_counts['total'] = mailer_counts['spam'] + mailer_counts['ham']\n",
    "    mailer_counts['spam_ratio'] = mailer_counts['spam'] / mailer_counts['total']\n",
    "    return list(mailer_counts.sort_values(by=['total', 'spam_ratio'], ascending=False).iloc[:10].index)\n",
    "\n",
    "\n",
    "top_mailers = get_top_mailers(with_mailer_df)\n",
    "with_binned_mailer_df = with_mailer_df.apply(lambda r: bin_mailers(r, top_mailers), axis=1)\n",
    "with_binned_mailer_df['x-mailer'].describe()"
   ],
   "metadata": {
    "collapsed": false,
    "ExecuteTime": {
     "end_time": "2023-06-20T01:38:49.804612Z",
     "start_time": "2023-06-20T01:38:49.438206Z"
    }
   }
  },
  {
   "cell_type": "code",
   "execution_count": 71,
   "outputs": [
    {
     "data": {
      "text/plain": "       feat-cc-count  feat-duplicate-message-id  \\\ncount    1656.000000                4715.000000   \nmean        1.977053                   0.619512   \nstd         3.479515                   0.485558   \nmin         1.000000                   0.000000   \n25%         1.000000                   0.000000   \n50%         1.000000                   1.000000   \n75%         2.000000                   1.000000   \nmax        47.000000                   1.000000   \n\n       feat-encoded-content-transfer-encoding_7bit  \\\ncount                                  7760.000000   \nmean                                      0.287113   \nstd                                       0.452444   \nmin                                       0.000000   \n25%                                       0.000000   \n50%                                       0.000000   \n75%                                       1.000000   \nmax                                       1.000000   \n\n       feat-encoded-content-transfer-encoding_8bit  \\\ncount                                  7760.000000   \nmean                                      0.106057   \nstd                                       0.307930   \nmin                                       0.000000   \n25%                                       0.000000   \n50%                                       0.000000   \n75%                                       0.000000   \nmax                                       1.000000   \n\n       feat-encoded-content-transfer-encoding_base64  \\\ncount                                    7760.000000   \nmean                                        0.000515   \nstd                                         0.022699   \nmin                                         0.000000   \n25%                                         0.000000   \n50%                                         0.000000   \n75%                                         0.000000   \nmax                                         1.000000   \n\n       feat-encoded-content-transfer-encoding_binary  \\\ncount                                    7760.000000   \nmean                                        0.002062   \nstd                                         0.045364   \nmin                                         0.000000   \n25%                                         0.000000   \n50%                                         0.000000   \n75%                                         0.000000   \nmax                                         1.000000   \n\n       feat-encoded-content-transfer-encoding_quoted-printable  \\\ncount                                        7760.000000         \nmean                                            0.022036         \nstd                                             0.146810         \nmin                                             0.000000         \n25%                                             0.000000         \n50%                                             0.000000         \n75%                                             0.000000         \nmax                                             1.000000         \n\n       feat-encoded-precedence_bulk  feat-encoded-precedence_first-class  \\\ncount                   7760.000000                          7760.000000   \nmean                       0.619974                             0.000387   \nstd                        0.485424                             0.019660   \nmin                        0.000000                             0.000000   \n25%                        0.000000                             0.000000   \n50%                        1.000000                             0.000000   \n75%                        1.000000                             0.000000   \nmax                        1.000000                             1.000000   \n\n       feat-encoded-precedence_list  ...  feat-encoded-x-mailer_exmh  \\\ncount                   7760.000000  ...                 7760.000000   \nmean                       0.026160  ...                    0.028351   \nstd                        0.159621  ...                    0.165983   \nmin                        0.000000  ...                    0.000000   \n25%                        0.000000  ...                    0.000000   \n50%                        0.000000  ...                    0.000000   \n75%                        0.000000  ...                    0.000000   \nmax                        1.000000  ...                    1.000000   \n\n       feat-encoded-x-mailer_internetmailservice  \\\ncount                                7760.000000   \nmean                                    0.019072   \nstd                                     0.136788   \nmin                                     0.000000   \n25%                                     0.000000   \n50%                                     0.000000   \n75%                                     0.000000   \nmax                                     1.000000   \n\n       feat-encoded-x-mailer_microsoftcdoforwindows  \\\ncount                                   7760.000000   \nmean                                       0.010309   \nstd                                        0.101016   \nmin                                        0.000000   \n25%                                        0.000000   \n50%                                        0.000000   \n75%                                        0.000000   \nmax                                        1.000000   \n\n       feat-encoded-x-mailer_microsoftoutlookbuild  \\\ncount                                  7760.000000   \nmean                                      0.018299   \nstd                                       0.134039   \nmin                                       0.000000   \n25%                                       0.000000   \n50%                                       0.000000   \n75%                                       0.000000   \nmax                                       1.000000   \n\n       feat-encoded-x-mailer_microsoftoutlookexpress  \\\ncount                                    7760.000000   \nmean                                        0.056830   \nstd                                         0.231532   \nmin                                         0.000000   \n25%                                         0.000000   \n50%                                         0.000000   \n75%                                         0.000000   \nmax                                         1.000000   \n\n       feat-encoded-x-mailer_microsoftoutlookimobuild  \\\ncount                                     7760.000000   \nmean                                         0.028608   \nstd                                          0.166714   \nmin                                          0.000000   \n25%                                          0.000000   \n50%                                          0.000000   \n75%                                          0.000000   \nmax                                          1.000000   \n\n       feat-encoded-x-mailer_mozilla  feat-encoded-x-mailer_other  \\\ncount                    7760.000000                  7760.000000   \nmean                        0.011727                     0.124098   \nstd                         0.107660                     0.329714   \nmin                         0.000000                     0.000000   \n25%                         0.000000                     0.000000   \n50%                         0.000000                     0.000000   \n75%                         0.000000                     0.000000   \nmax                         1.000000                     1.000000   \n\n       feat-encoded-x-mailer_sylpheedclaws  \\\ncount                          7760.000000   \nmean                              0.024613   \nstd                               0.154954   \nmin                               0.000000   \n25%                               0.000000   \n50%                               0.000000   \n75%                               0.000000   \nmax                               1.000000   \n\n       feat-encoded-x-mailer_ximianevolution  \ncount                            7760.000000  \nmean                                0.021521  \nstd                                 0.145121  \nmin                                 0.000000  \n25%                                 0.000000  \n50%                                 0.000000  \n75%                                 0.000000  \nmax                                 1.000000  \n\n[8 rows x 46 columns]",
      "text/html": "<div>\n<style scoped>\n    .dataframe tbody tr th:only-of-type {\n        vertical-align: middle;\n    }\n\n    .dataframe tbody tr th {\n        vertical-align: top;\n    }\n\n    .dataframe thead th {\n        text-align: right;\n    }\n</style>\n<table border=\"1\" class=\"dataframe\">\n  <thead>\n    <tr style=\"text-align: right;\">\n      <th></th>\n      <th>feat-cc-count</th>\n      <th>feat-duplicate-message-id</th>\n      <th>feat-encoded-content-transfer-encoding_7bit</th>\n      <th>feat-encoded-content-transfer-encoding_8bit</th>\n      <th>feat-encoded-content-transfer-encoding_base64</th>\n      <th>feat-encoded-content-transfer-encoding_binary</th>\n      <th>feat-encoded-content-transfer-encoding_quoted-printable</th>\n      <th>feat-encoded-precedence_bulk</th>\n      <th>feat-encoded-precedence_first-class</th>\n      <th>feat-encoded-precedence_list</th>\n      <th>...</th>\n      <th>feat-encoded-x-mailer_exmh</th>\n      <th>feat-encoded-x-mailer_internetmailservice</th>\n      <th>feat-encoded-x-mailer_microsoftcdoforwindows</th>\n      <th>feat-encoded-x-mailer_microsoftoutlookbuild</th>\n      <th>feat-encoded-x-mailer_microsoftoutlookexpress</th>\n      <th>feat-encoded-x-mailer_microsoftoutlookimobuild</th>\n      <th>feat-encoded-x-mailer_mozilla</th>\n      <th>feat-encoded-x-mailer_other</th>\n      <th>feat-encoded-x-mailer_sylpheedclaws</th>\n      <th>feat-encoded-x-mailer_ximianevolution</th>\n    </tr>\n  </thead>\n  <tbody>\n    <tr>\n      <th>count</th>\n      <td>1656.000000</td>\n      <td>4715.000000</td>\n      <td>7760.000000</td>\n      <td>7760.000000</td>\n      <td>7760.000000</td>\n      <td>7760.000000</td>\n      <td>7760.000000</td>\n      <td>7760.000000</td>\n      <td>7760.000000</td>\n      <td>7760.000000</td>\n      <td>...</td>\n      <td>7760.000000</td>\n      <td>7760.000000</td>\n      <td>7760.000000</td>\n      <td>7760.000000</td>\n      <td>7760.000000</td>\n      <td>7760.000000</td>\n      <td>7760.000000</td>\n      <td>7760.000000</td>\n      <td>7760.000000</td>\n      <td>7760.000000</td>\n    </tr>\n    <tr>\n      <th>mean</th>\n      <td>1.977053</td>\n      <td>0.619512</td>\n      <td>0.287113</td>\n      <td>0.106057</td>\n      <td>0.000515</td>\n      <td>0.002062</td>\n      <td>0.022036</td>\n      <td>0.619974</td>\n      <td>0.000387</td>\n      <td>0.026160</td>\n      <td>...</td>\n      <td>0.028351</td>\n      <td>0.019072</td>\n      <td>0.010309</td>\n      <td>0.018299</td>\n      <td>0.056830</td>\n      <td>0.028608</td>\n      <td>0.011727</td>\n      <td>0.124098</td>\n      <td>0.024613</td>\n      <td>0.021521</td>\n    </tr>\n    <tr>\n      <th>std</th>\n      <td>3.479515</td>\n      <td>0.485558</td>\n      <td>0.452444</td>\n      <td>0.307930</td>\n      <td>0.022699</td>\n      <td>0.045364</td>\n      <td>0.146810</td>\n      <td>0.485424</td>\n      <td>0.019660</td>\n      <td>0.159621</td>\n      <td>...</td>\n      <td>0.165983</td>\n      <td>0.136788</td>\n      <td>0.101016</td>\n      <td>0.134039</td>\n      <td>0.231532</td>\n      <td>0.166714</td>\n      <td>0.107660</td>\n      <td>0.329714</td>\n      <td>0.154954</td>\n      <td>0.145121</td>\n    </tr>\n    <tr>\n      <th>min</th>\n      <td>1.000000</td>\n      <td>0.000000</td>\n      <td>0.000000</td>\n      <td>0.000000</td>\n      <td>0.000000</td>\n      <td>0.000000</td>\n      <td>0.000000</td>\n      <td>0.000000</td>\n      <td>0.000000</td>\n      <td>0.000000</td>\n      <td>...</td>\n      <td>0.000000</td>\n      <td>0.000000</td>\n      <td>0.000000</td>\n      <td>0.000000</td>\n      <td>0.000000</td>\n      <td>0.000000</td>\n      <td>0.000000</td>\n      <td>0.000000</td>\n      <td>0.000000</td>\n      <td>0.000000</td>\n    </tr>\n    <tr>\n      <th>25%</th>\n      <td>1.000000</td>\n      <td>0.000000</td>\n      <td>0.000000</td>\n      <td>0.000000</td>\n      <td>0.000000</td>\n      <td>0.000000</td>\n      <td>0.000000</td>\n      <td>0.000000</td>\n      <td>0.000000</td>\n      <td>0.000000</td>\n      <td>...</td>\n      <td>0.000000</td>\n      <td>0.000000</td>\n      <td>0.000000</td>\n      <td>0.000000</td>\n      <td>0.000000</td>\n      <td>0.000000</td>\n      <td>0.000000</td>\n      <td>0.000000</td>\n      <td>0.000000</td>\n      <td>0.000000</td>\n    </tr>\n    <tr>\n      <th>50%</th>\n      <td>1.000000</td>\n      <td>1.000000</td>\n      <td>0.000000</td>\n      <td>0.000000</td>\n      <td>0.000000</td>\n      <td>0.000000</td>\n      <td>0.000000</td>\n      <td>1.000000</td>\n      <td>0.000000</td>\n      <td>0.000000</td>\n      <td>...</td>\n      <td>0.000000</td>\n      <td>0.000000</td>\n      <td>0.000000</td>\n      <td>0.000000</td>\n      <td>0.000000</td>\n      <td>0.000000</td>\n      <td>0.000000</td>\n      <td>0.000000</td>\n      <td>0.000000</td>\n      <td>0.000000</td>\n    </tr>\n    <tr>\n      <th>75%</th>\n      <td>2.000000</td>\n      <td>1.000000</td>\n      <td>1.000000</td>\n      <td>0.000000</td>\n      <td>0.000000</td>\n      <td>0.000000</td>\n      <td>0.000000</td>\n      <td>1.000000</td>\n      <td>0.000000</td>\n      <td>0.000000</td>\n      <td>...</td>\n      <td>0.000000</td>\n      <td>0.000000</td>\n      <td>0.000000</td>\n      <td>0.000000</td>\n      <td>0.000000</td>\n      <td>0.000000</td>\n      <td>0.000000</td>\n      <td>0.000000</td>\n      <td>0.000000</td>\n      <td>0.000000</td>\n    </tr>\n    <tr>\n      <th>max</th>\n      <td>47.000000</td>\n      <td>1.000000</td>\n      <td>1.000000</td>\n      <td>1.000000</td>\n      <td>1.000000</td>\n      <td>1.000000</td>\n      <td>1.000000</td>\n      <td>1.000000</td>\n      <td>1.000000</td>\n      <td>1.000000</td>\n      <td>...</td>\n      <td>1.000000</td>\n      <td>1.000000</td>\n      <td>1.000000</td>\n      <td>1.000000</td>\n      <td>1.000000</td>\n      <td>1.000000</td>\n      <td>1.000000</td>\n      <td>1.000000</td>\n      <td>1.000000</td>\n      <td>1.000000</td>\n    </tr>\n  </tbody>\n</table>\n<p>8 rows × 46 columns</p>\n</div>"
     },
     "execution_count": 71,
     "metadata": {},
     "output_type": "execute_result"
    }
   ],
   "source": [
    "with_encoded_mailer_df = one_hot_encode(with_binned_mailer_df, 'x-mailer')\n",
    "with_encoded_mailer_df[get_feat_cols(with_encoded_mailer_df)].describe()"
   ],
   "metadata": {
    "collapsed": false,
    "ExecuteTime": {
     "end_time": "2023-06-20T01:38:56.380193Z",
     "start_time": "2023-06-20T01:38:55.402594Z"
    }
   }
  },
  {
   "cell_type": "markdown",
   "source": [
    "## Text Features"
   ],
   "metadata": {
    "collapsed": false
   }
  },
  {
   "cell_type": "code",
   "execution_count": 72,
   "outputs": [
    {
     "name": "stderr",
     "output_type": "stream",
     "text": [
      "Some weights of the model checkpoint at bert-base-cased were not used when initializing BertModel: ['cls.predictions.transform.dense.weight', 'cls.predictions.bias', 'cls.predictions.transform.dense.bias', 'cls.predictions.transform.LayerNorm.bias', 'cls.seq_relationship.weight', 'cls.predictions.transform.LayerNorm.weight', 'cls.seq_relationship.bias']\n",
      "- This IS expected if you are initializing BertModel from the checkpoint of a model trained on another task or with another architecture (e.g. initializing a BertForSequenceClassification model from a BertForPreTraining model).\n",
      "- This IS NOT expected if you are initializing BertModel from the checkpoint of a model that you expect to be exactly identical (initializing a BertForSequenceClassification model from a BertForSequenceClassification model).\n"
     ]
    }
   ],
   "source": [
    "from transformers import AutoTokenizer, AutoModel\n",
    "\n",
    "tokenizer = AutoTokenizer.from_pretrained('bert-base-cased')\n",
    "model = AutoModel.from_pretrained('bert-base-cased')"
   ],
   "metadata": {
    "collapsed": false,
    "ExecuteTime": {
     "end_time": "2023-06-20T01:39:09.523454Z",
     "start_time": "2023-06-20T01:39:02.764334Z"
    }
   }
  },
  {
   "cell_type": "code",
   "execution_count": 73,
   "outputs": [
    {
     "data": {
      "text/plain": "dict_keys([0, 10, 15, 20, 25, 35, 40, 50, 55, 70, 75, 80, 85, 95, 110, 125, 130, 135, 140, 150, 155, 160, 165, 175, 180, 190, 195, 205, 210, 215, 220, 230, 245, 250, 255, 260, 265, 285, 290, 300, 305, 320, 325, 330, 345, 355, 360, 365, 375, 380, 385, 390, 395, 400, 405, 410, 415, 420, 425, 430, 440, 450, 470, 475, 485, 495, 500, 510, 525, 530, 535, 540, 550, 560, 565, 570, 575, 580, 585, 590, 595, 600, 605, 610, 615, 620, 625, 630, 635, 640, 650, 655, 660, 675, 680, 695, 715, 720, 725, 740, 745, 750, 755, 760, 765, 780, 790, 795, 800, 805, 810, 820, 825, 835, 845, 850, 855, 860, 865, 870, 880, 890, 900, 910, 915, 920, 930, 935, 945, 970, 975, 980, 985, 990, 995, 1000, 1015, 1025, 1035, 1045, 1050, 1060, 1070, 1075, 1080, 1085, 1095, 1100, 1105, 1110, 1115, 1120, 1125, 1140, 1150, 1160, 1175, 1195, 1200, 1210, 1215, 1220, 1225, 1230, 1245, 1250, 1260, 1265, 1275, 1290, 1305, 1310, 1320, 1330, 1335, 1340, 1355, 1360, 1365, 1370, 1375, 1385, 1390, 1395, 1410, 1415, 1420, 1430, 1455, 1460, 1465, 1470, 1475, 1480, 1485, 1490, 1505, 1510, 1520, 1530, 1545, 1550, 1555, 1560, 1565, 1570, 1580, 1585, 1590, 1595, 1600, 1605, 1610, 1615, 1620, 1625, 1635, 1640, 1645, 1660, 1680, 1685, 1695, 1700, 1710, 1715, 1720, 1725, 1735, 1755, 1760, 1780, 1785, 1805, 1820, 1825, 1830, 1835, 1845, 1855, 1870, 1880, 1885, 1890, 1915, 1920, 1930, 1935, 1940, 1950, 1955, 1975, 1980, 1990, 2000, 2005, 2020, 2050, 2055, 2070, 2075, 2085, 2100, 2105, 2110, 2115, 2130, 2135, 2145, 2150, 2155, 2160, 2165, 2195, 2205, 2215, 2220, 2230, 2235, 2250, 2270, 2280, 2295, 2300, 2310, 2320, 2325, 2335, 2355, 2360, 2365, 2370, 2380, 2385, 2395, 2400, 2405, 2415, 2425, 2440, 2450, 2455, 2465, 2475, 2480, 2485, 2490, 2495, 2500, 9480, 9485, 9525, 9540, 9550, 9565, 9570, 9645, 9660, 9665, 9740, 9825, 9850, 9875, 9900, 9940, 9975, 9990, 10010, 10020, 10040, 10105, 10135, 10140, 10150, 10175, 10190, 10205, 10210, 10220, 10225, 10230, 10235, 10245, 10265, 10270, 10320, 10330, 10355, 10360, 10370, 10380, 10405, 10415, 10480, 10495, 10510, 10515, 10520, 10525, 10530, 10545, 10615, 10665, 10670, 10685, 10710, 10725, 10760, 10800, 10815, 10820, 10825, 10840, 10925, 10995, 11005, 11035, 11040, 11095, 11105, 11125, 11140, 11145, 11160, 11170, 11180, 11195, 11210, 11215, 11220, 11240, 11275, 11305, 11340, 11355, 11375, 11380, 11430, 11475, 11500, 11530, 11535, 11560, 11575, 11590, 11615, 11645, 11655, 11700, 11705, 11725, 11755, 11805, 11820, 11835, 11870, 11940, 11945, 11955, 11965, 11985, 12000, 12005, 12020, 12025, 12060, 12100, 12105, 12140, 12145, 12155, 12165, 12175, 12185, 12220, 12230, 12240, 12250, 12260, 12285, 12315, 12340, 12430, 12455, 12505, 12545, 12550, 12560, 12565, 12590, 12605, 12610, 12660, 12705, 12725, 12730, 12775, 12785, 12810, 12820, 12825, 12835, 12850, 12870, 12880, 12905, 12935, 12945, 12980, 12985, 13000, 13040, 13050, 13105, 13110, 13145, 13150, 13155, 13190, 13200, 13220, 13235, 13240, 13285, 13300, 13325, 13330, 13345, 13365, 13395, 13400, 13435, 13470, 13480, 13495, 13555, 13590, 13600, 13615, 13620, 13650, 13660, 13730, 13750, 13755, 13760, 13780, 13840, 13870, 13920, 13935, 13950, 13960, 13985, 13990, 14000, 14065, 14085, 14090, 14095, 14100, 14125, 14140, 14145, 14150, 14195, 14200, 14225, 14295, 14315, 14345, 14375, 14390, 14405, 14465, 14470, 14490, 14500, 14510, 14515, 14545, 14580, 14610, 14625, 14635, 14670, 14680, 14720, 14725, 14760, 14785, 14805, 14845, 14855, 14885, 14890, 14970, 14985, 14990, 15020, 15035, 15060, 15070, 15075, 15080, 15085, 15125, 15140, 15170, 15175, 15180, 15195, 15200, 15215, 15225, 15230, 15245, 15255, 15310, 15315, 15360, 15405, 15415, 15430, 15445, 15455, 15465, 15470, 15500, 15550, 15560, 15565, 15575, 15620, 15645, 15705, 15725, 15735, 15815, 15820, 15825, 15860, 15875, 15890, 15920, 15980, 15990, 16015, 16045, 16050, 16055, 16065, 16085, 16115, 16130, 16145, 16190, 16245, 16250, 16255, 16335, 16375, 16380, 16440, 16475, 16480, 16485, 16490, 16495, 16500, 16505, 16510, 16515, 16520, 16525, 16530, 16535, 16540, 16545, 16550, 16560, 16565, 16575, 16580, 16585, 16595, 16600, 16605, 16610, 16615, 16620, 16625, 16630, 16640, 16645, 16655, 16660, 16670, 16675, 16680, 16690, 16695, 16700, 16705, 16710, 16715, 16720, 16725, 16730, 16740, 16750, 16760, 16770, 16775, 16785, 16790, 16800, 16805, 16820, 16830, 16835, 16845, 16850, 16855, 16860, 16865, 16870, 16875, 16890, 16895, 16910, 16915, 16920, 16925, 16930, 16935, 16940, 16945, 16950, 16955, 16960, 16970, 16975, 16980, 16985, 16990, 16995, 17000, 17005, 17015, 17020, 17025, 17030, 17035, 17040, 17045, 17050, 17055, 17060, 17070, 17080, 17090, 17095, 17100, 17110, 17115, 17120, 17125, 17130, 17135, 17140, 17145, 17150, 17155, 17160, 17165, 17170, 17175, 17190, 17195, 17205, 17210, 17215, 17220, 17225, 17230, 17235, 17240, 17245, 17250, 17255, 17260, 17265, 17270, 17275, 17290, 17300, 17305, 17310, 17320, 17325, 17330, 17335, 17340, 17345, 17350, 17355, 17360, 17365, 17370, 17375, 17380, 17390, 17395, 17400, 17405, 17410, 17420, 17425, 17430, 17435, 17440, 17445, 17455, 17460, 17465, 17470, 17475, 17480, 17485, 17495, 17500, 17505, 17510, 17515, 17520, 17525, 17530, 17540, 17545, 17550, 17555, 17570, 17575, 17585, 17595, 17600, 17605, 17610, 17615, 17620, 17625, 17630, 17640, 17645, 17650, 17655, 17665, 17670, 17685, 17690, 17700, 17705, 17710, 17715, 17720, 17725, 17730, 17740, 17745, 17755, 17760, 17765, 17770, 17775, 17780, 17795, 17800, 17805, 17810, 17815, 17825, 17830, 17835, 17840, 17850, 17855, 17860, 17865, 17870, 17875, 17885, 17890, 17895, 17900, 17905, 17910, 17915, 17920, 17925, 17935, 17940, 17950, 17955, 17960, 17965, 17970, 17975, 17980, 17990, 17995, 18000, 18005, 18010, 18015, 18020, 18025, 18030, 18035, 18040, 18045, 18050, 18055, 18060, 18065, 18070, 18075, 18085, 18090, 18095, 18100, 18105, 18110, 18115, 18125, 18130, 18135, 18145, 18160, 18165, 18170, 18175, 18180, 18185, 18190, 18195, 18200, 18215, 18220, 18225, 18230, 18235, 18240, 18245, 18255, 18260, 18270, 18275, 18280, 18285, 18290, 18295, 18300, 18305, 18315, 18320, 18325, 18335, 18340, 18350, 18355, 18360, 18370, 18375, 18380, 18385, 18390, 18395, 18410, 18415, 18430, 18435, 18440, 18445, 18450, 18455, 18460, 18470, 18475, 18480, 18490, 18495, 18500, 18510, 18515, 18520, 18525, 18530, 18535, 18540, 18545, 18550, 18555, 18560, 18570, 18575, 18580, 18585, 18595, 18600, 18605, 18610, 18615, 18620, 18625, 18630, 18635, 18645, 18650, 18655, 18660, 18665, 18670, 18675, 18680, 18685, 18690, 18700, 18705, 18710, 18720, 18725, 18730, 18735, 18740, 18745, 18750, 18755, 18760, 18765, 18770, 18775, 18780, 18785, 18790, 18795, 18800, 18805, 18815, 18820, 18825, 18830, 18835, 18845, 18850, 18855, 18865, 18870, 18880, 18885, 18890, 18895, 18900, 18905, 18910, 18915, 18925, 18935, 18940, 18945, 18955, 18965, 18995, 19000, 19005, 19025, 19030, 19035, 19050, 19055, 19065, 19075, 19085, 19110, 19115, 19120, 19135, 19145, 19155, 19170, 19180, 19185, 19190, 19210, 19220, 19230, 19235, 19240, 19255, 19265, 19270, 19285, 19290, 19295, 19315, 19320, 19330, 19335, 19340, 19345, 19350, 19355, 19360, 19365, 19380, 19385, 19390, 19410, 19420, 19440, 19460, 19465, 19470, 19475, 19480, 19485, 19500, 19505, 19510, 19515, 19540, 19550, 19555, 19560, 19585, 19595, 19620, 19625, 19635, 19645, 19650, 19670, 19675, 19685, 19695, 19700, 19715, 19725, 19730, 19750, 19755, 19760, 19765, 19770, 19780, 19785, 19790, 19825, 19830, 19840, 19860, 19870, 19885, 19890, 19925, 19960, 19965, 19970, 19985, 20000, 20005, 20010, 20015, 20020, 20025, 20035, 20040, 20045, 20050, 20060, 20070, 20075, 20090, 20095, 20115, 20120, 20150, 20155, 20165, 20170, 20195, 20215, 20235, 20240, 20245, 20250, 20260, 20280, 20305, 20310, 20315, 20320, 20325, 20345, 20350, 20375, 20380, 20385, 20390, 20405, 20415, 20425, 20430, 20435, 20465, 20490, 20510, 20540, 20545, 20550, 20560, 20565, 20570, 20595, 20600, 20630, 20635, 20680, 20685, 20695, 20700, 20720, 20735, 20740, 20745, 20750, 20755, 20760, 20765, 20790, 20800, 20810, 20815, 20820, 20840, 20850, 20855, 20865, 20875, 20885, 20895, 20940, 20945, 20965, 20985, 20990, 20995, 21035, 21040, 21050, 21065, 21070, 21075, 21100, 21115, 21120, 21130, 21135, 21145, 21150, 21155, 21160, 21165, 21175, 21190, 21195, 21200, 21210, 21230, 21235, 21245, 21250, 21255, 21260, 21275, 21280, 21285, 21295, 21300, 21325, 21335, 21340, 21345, 21365, 21375, 21380, 21405, 21410, 21430, 21445, 21450, 21475, 21490, 21495, 21500, 21505, 21515, 21520, 21540, 21545, 21560, 21565, 21570, 21580, 21585, 21600, 21605, 21620, 21625, 21645, 21650, 21660, 21665, 21670, 21680, 21690, 21695, 21705, 21710, 21730, 21765, 21800, 21805, 21815, 21820, 21835, 21855, 21865, 21880, 21885, 21900, 21910, 21920, 21925, 21930, 21945, 21955, 21960, 21985, 22005, 22035, 22040, 22060, 22065, 22080, 22085, 22095, 22100, 22105, 22110, 22115, 22120, 22130, 22135, 22150, 22155, 22160, 22170, 22175, 22180, 22190, 22195, 22205, 22210, 22230, 22235, 22270, 22285, 22290, 22305, 22320, 22330, 22340, 22345, 22365, 22385, 22395, 22400, 22410, 22415, 22425, 22435, 22440, 22450, 22460, 22465, 22470, 22475, 22505, 22510, 22520, 22525, 22530, 22545, 22550, 22570, 22575, 22580, 22585, 22590, 22595, 22600, 22615, 22620, 22625, 22635, 22640, 22650, 22675, 22680, 22690, 22715, 22725, 22730, 22750, 22770, 22800, 22815, 22830, 22835, 22845, 22850, 22885, 22890, 22900, 22910, 22915, 22920, 22930, 22935, 22950, 22970, 22975, 22985, 22990, 22995, 23020, 23025, 23030, 23035, 23050, 23055, 23065, 23075, 23085, 23110, 23120, 23130, 23135, 23145, 23160, 23165, 23195, 23200, 23215, 23225, 23230, 23240, 23250, 23260, 23275, 23290, 23305, 23310, 23320, 23325, 23340, 23345, 23350, 23355, 23390, 23395, 23410, 23415, 23430, 23435, 23440, 23455, 23460, 23465, 23475, 23490, 23495, 23500, 23505, 23520, 23525, 23585, 23600, 23610, 23620, 23625, 23630, 23635, 23645, 23655, 23660, 23665, 23675, 23680, 23725, 23750, 23755, 23775, 23780, 23800, 23810, 23830, 23855, 23860, 23880, 23885, 23890, 23910, 23915, 23920, 23925, 23935, 23940, 23945, 23970, 23980, 23990, 23995, 24000, 24020, 24025, 24035, 24045, 24050, 24055, 24075, 24085, 24095, 24105, 24110, 24115, 24120, 24145, 24150, 24155, 24165, 24170, 24175, 24210, 24230, 24255, 24265, 24270, 24275, 24285, 24295, 24310, 24315, 24360, 24365, 24370, 24375, 24380, 24390, 24405, 24415, 24425, 24435, 24455, 24460, 24470, 24475, 24485, 24495, 24500, 24515, 24520, 24525, 24530, 24535, 24540, 24550, 24565, 24570, 24590, 24600, 24605, 24610, 24615, 24625, 24635, 24655, 24665, 24675, 24680, 24695, 24700, 24705, 24715, 24725, 24730, 24740, 24750, 24755, 24765, 24770, 24775, 24790, 24795, 24805, 24815, 24825, 24835, 24855, 24860, 24865, 24870, 24900, 24905, 24915, 24920, 24935, 24940, 24945, 24950, 24955, 24960, 24970, 24995, 25035, 25050, 25055, 25070, 25075, 25085, 25090, 25095, 25100, 25110, 25115, 25125, 25155, 25165, 25200, 25205, 25225, 25245, 25270, 25300, 25320, 25325, 25330, 25345, 25350, 25355, 25360, 25365, 25375, 25405, 25410, 25425, 25430, 25435, 25445, 25460, 25475, 25480, 25485, 25495, 25500, 25515, 25525, 25535, 25540, 25545, 25555, 25560, 25570, 25580, 25605, 25610, 25615, 25620, 25625, 25630, 25635, 25640, 25660, 25665, 25675, 25680, 25695, 25700, 25705, 25710, 25715, 25725, 25730, 25740, 25745, 25755, 25770, 25785, 25790, 25795, 25810, 25815, 25820, 25825, 25830, 25835, 25855, 25870, 25875, 25880, 25890, 25935, 25955, 25960, 25970, 25975, 25995, 26000, 26005, 26010, 26020, 26025, 26040, 26045, 26055, 26065, 26070, 26075, 26080, 26090, 26095, 26115, 26120, 26130, 26150, 26160, 26170, 26200, 26210, 26215, 26220, 26240, 26250, 26255, 26260, 26270, 26280, 26300, 26310, 26315, 26330, 26340, 26365, 26370, 26380, 26390, 26395, 26400, 26410, 26415, 26425, 26430, 26435, 26440, 26470, 26475, 26480, 26500, 26510, 26520, 26525, 26535, 26545, 26550, 26555, 26565, 26605, 26610, 26615, 26620, 26625, 26675, 26680, 26710, 26715, 26740, 26755, 26770, 26775, 26795, 26810, 26815, 26825, 26830, 26850, 26855, 26870, 26875, 26880, 26890, 26895, 26930, 26945, 26950, 26980, 26985, 26995, 27000, 27015, 27020, 27025, 27030, 27050, 27060, 27065, 27070, 27075, 27095, 27110, 27120, 27125, 27165, 27175, 27180, 27190, 27195, 27200, 27220, 27230, 27240, 27250, 27255, 27265, 27285, 27295, 27300, 27315, 27340, 27345, 27355, 27395, 27400, 27425, 27440, 27450, 27455, 27460, 27465, 27475, 27485, 27490, 27495, 27500, 27505, 27515, 27525, 27535, 27545, 27585, 27600, 27610, 27620, 27640, 27645, 27650, 27660, 27670, 27680, 27685, 27690, 27695, 27710, 27720, 27730, 27755, 27765, 27775, 27795, 27810, 27815, 27825, 27840, 27865, 27875, 27880, 27900, 27910, 27920, 27925, 27935, 27945, 27950, 27985, 27990, 28000, 28015, 28020, 28025, 28035, 28040, 28045, 28055, 28065, 28090, 28105, 28110, 28120, 28155, 28165, 28170, 28175, 28200, 28215, 28225, 28230, 28235, 28250, 28275, 28280, 28290, 28300, 28305, 28320, 28335, 28340, 28350, 28355, 28360, 28365, 28370, 28380, 28390, 28395, 28420, 28470, 28500, 28515, 28545, 28560, 28580, 28595, 28610, 28630, 28660, 28680, 28690, 28695, 28700, 28710, 28715, 28720, 28730, 28735, 28745, 28750, 28765, 28770, 28785, 28790, 28815, 28820, 28835, 28840, 28845, 28850, 28855, 28860, 28865, 28870, 28880, 28885, 28890, 28895, 28905, 28910, 28915, 28925, 28930, 28940, 28945, 28980, 28990, 29005, 29020, 29040, 29045, 29050, 29055, 29060, 29065, 29070, 29075, 29090, 29100, 29120, 29125, 29135, 29145, 29160, 29165, 29185, 29195, 29210, 29215, 29225, 29235, 29240, 29255, 29285, 29290, 29295, 29315, 29320, 29325, 29330, 29350, 29365, 29375, 29400, 29410, 29430, 29435, 29445, 29455, 29460, 29475, 29495, 29500, 29530, 29535, 29540, 29545, 29565, 29570, 29580, 29585, 29600, 29610, 29615, 29630, 29635, 29645, 29655, 29680, 29700, 29705, 29710, 29720, 29725, 29755, 29760, 29770, 29775, 29780, 29785, 29795, 29830, 29835, 29845, 29850, 29870, 29885, 29900, 29915, 29925, 29965, 29970, 29980, 29990, 29995, 30010, 30015, 30025, 30030, 30050, 30055, 30065, 30070, 30090, 30125, 30130, 30135, 30150, 30165, 30170, 30175, 30180, 30185, 30190, 30195, 30200, 30205, 30225, 30230, 30265, 30270, 30280, 30285, 30290, 30300, 30305, 30315, 30320, 30335, 30340, 30345, 30360, 30365, 30370, 30410, 30415, 30425, 30455, 30460, 30465, 30470, 30475, 30480, 30495, 30505, 30510, 30515, 30570, 30580, 30590, 30625, 30635, 30645, 30695, 30705, 30710, 30715, 30725, 30740, 30750, 30770, 30775, 30785, 30790, 30800, 30805, 30810, 30815, 30825, 30840, 30865, 30885, 30890, 30895, 30910, 30915, 30925, 30940, 30970, 30975, 30980, 30990, 30995, 31000, 31005, 31015, 31025, 31050, 31055, 31065, 31110, 31120, 31125, 31135, 31145, 31150, 31155, 31185, 31195, 31215, 31225, 31230, 31235, 31240, 31245, 31250, 31255, 31265, 31280, 31290, 31305, 31330, 31350, 31360, 31365, 31375, 31390, 31410, 31415, 31420, 31435, 31440, 31455, 31460, 31465, 31470, 31475, 31480, 31485, 31490, 31500, 31505, 31510, 31515, 31520, 31525, 31530, 31535, 31540, 31545, 31550, 31555, 31560, 31565, 31580, 31585, 31590, 31595, 31605, 31610, 31615, 31625, 31630, 31635, 31640, 31660, 31665, 31670, 31675, 31690, 31695, 31700, 31705, 31710, 31720, 31725, 31730, 31735, 31740, 31745, 31750, 31755, 31760, 31765, 31770, 31775, 31780, 31785, 31790, 31795, 31800, 31805, 31810, 31815, 31820, 31825, 31830, 31835, 31840, 31845, 31850, 31855, 31860, 31875, 31880, 31885, 31890, 31905, 31910, 31915, 31925, 31930, 31940, 31945, 31950, 31955, 31965, 31970, 31975, 31980, 31985, 31990, 31995, 32000, 32010, 32015, 32020, 32025, 32030, 32040, 32045, 32055, 32060, 32065, 32070, 32075, 32080, 32085, 32090, 32095, 32100, 32105, 32110, 32115, 32120, 32125, 32130, 32135, 32140, 32145, 32150, 32155, 32160, 32165, 32175, 32180, 32185, 32190, 32195, 32200, 32210, 32215, 32220, 32225, 32230, 32235, 32240, 32245, 32250, 32255, 32260, 32270, 32275, 32285, 32290, 32295, 32300, 32305, 32310, 32315, 32320, 32325, 32330, 32335, 32345, 32350, 32355, 32365, 32375, 32380, 32385, 32390, 32395, 32400, 32410, 32415, 32420, 32425, 32430, 32435, 32440, 32445, 32450, 32455, 32465, 32475, 32480, 32485, 32490, 32495, 32505, 32510, 32515, 32530, 32535, 32540, 32545, 32550, 32555, 32560, 32565, 32575, 32580, 32585, 32590, 32595, 32600, 32610, 32615, 32620, 32625, 32630, 32645, 32650, 32655, 32665, 32670, 32685, 32690, 32695, 32700, 32725, 32730, 32735, 32740, 32745, 32750, 32755, 32760, 32765, 32770, 32780, 32785, 32800, 32805, 32810, 32815, 32825, 32830, 32835, 32840, 32845, 32850, 32855, 32865, 32875, 32880, 32885, 32890, 32900, 32905, 32910, 32915, 32920, 32925, 32930, 32935, 32940, 32945, 32950, 32955, 32960, 32965, 32970, 32975, 32980, 32995, 33000, 33005, 33010, 33015, 33020, 33025, 33030, 33035, 33040, 33045, 33050, 33055, 33065, 33070, 33080, 33085, 33095, 33100, 33105, 33110, 33135, 33140, 33145, 33150, 33155, 33160, 33165, 33170, 33175, 33180, 33185, 33190, 33195, 33205, 33210, 33215, 33220, 33225, 33230, 33240, 33245, 33250, 33255, 33260, 33270, 33280, 33285, 33290, 33310, 33315, 33325, 33330, 33335, 33340, 33345, 33350, 33355, 33370, 33380, 33385, 33390, 33400, 33405, 33410, 33415, 33420, 33430, 33435, 33440, 33445, 33450, 33460, 33475, 33480, 33490, 33505, 33510, 33515, 33520, 33525, 33530, 33535, 33540, 33550, 33560, 33565, 33570, 33575, 33580, 33585, 33595, 33600, 33605, 33610, 33630, 33635, 33640, 33650, 33655, 33665, 33680, 33685, 33690, 33695, 33700, 33705, 33710, 33720, 33730, 33735, 33740, 33745, 33755, 33760, 33765, 33770, 33775, 33785, 33790, 33795, 33805, 33810, 33815, 33820, 33830, 33835, 33840, 33845, 33850, 33860, 33865, 33870, 33875, 33880, 33890, 33895, 33900, 33905, 33915, 33920, 33925, 33935, 33940, 33955, 33980, 33985, 34000, 34020, 34030, 34035, 34040, 34050, 34055, 34065, 34070, 34105, 34110, 34115, 34120, 34125, 34135, 34140, 34150, 34185, 34190, 34195, 34200, 34205, 34210, 34220, 34225, 34230, 34235, 34240, 34245, 34275, 34280, 34310, 34315, 34330, 34335, 34340, 34360, 34375, 34405, 34410, 34415, 34425, 34435, 34445, 34465, 34470, 34475, 34495, 34500, 34510, 34515, 34520, 34540, 34575, 34580, 34590, 34595, 34610, 34625, 34645, 34650, 34655, 34665, 34670, 34675, 34685, 34700, 34715, 34730, 34735, 34740, 34745, 34755, 34760, 34835, 34840, 34865, 34870, 34885, 34895, 34900, 34930, 34955, 34960, 34965, 34970, 34990, 35015, 35030, 35035, 35065, 35090, 35110, 35115, 35120, 35130, 35140, 35150, 35155, 35180, 35185, 35190, 35195, 35205, 35210, 35225, 35230, 35250, 35255, 35280, 35290, 35295, 35300, 35310, 35375, 35380, 35390, 35395, 35405, 35420, 35425, 35430, 35445, 35450, 35455, 35475, 35490, 35500, 35505, 35510, 35525, 35530, 35540, 35545, 35550, 35555, 35560, 35565, 35570, 35580, 35600, 35640, 35650, 35655, 35660, 35665, 35670, 35685, 35690, 35695, 35735, 35740, 35745, 35760, 35785, 35790, 35800, 35810, 35840, 35845, 35850, 35855, 35860, 35875, 35895, 35905, 35915, 35940, 35960, 35980, 35990, 36020, 36025, 36050, 36075, 36100, 36105, 36110, 36130, 36135, 36140, 36155, 36175, 36185, 36210, 36215, 36220, 36225, 36235, 36240, 36245, 36285, 36290, 36300, 36315, 36345, 36355, 36360, 36370, 36395, 36400, 36415, 36435, 36450, 36460, 36465, 36485, 36505, 36510, 36525, 36535, 36540, 36550, 36555, 36575, 36580, 36585, 36590, 36600, 36620, 36630, 36645, 36650, 36670, 36680, 36685, 36720, 36725, 36735, 36740, 36750, 36755, 36760, 36780, 36790, 36800, 36810, 36820, 36850, 36855, 36890, 36905, 36915, 36920, 36940, 36985, 36995, 37025, 37035, 37080, 37095, 37100, 37120, 37130, 37140, 37195, 37205, 37210, 37235, 37270, 37280, 37285, 37305, 37310, 37315, 37330, 37365, 37380, 37390, 37400, 37425, 37430, 37470, 37475, 37490, 37495, 37530, 37535, 37555, 37565, 37580, 37590, 37595, 37610, 37635, 37640, 37645, 37650, 37655, 37670, 37680, 37690, 37700, 37715, 37735, 37740, 37745, 37765, 37795, 37800, 37805, 37810, 37820, 37830, 37835, 37840, 37850, 37865, 37875, 37890, 37895, 37900, 37910, 37930, 37940, 37945, 37950, 37955, 37960, 37965, 37975, 37990, 38000, 38005, 38015, 38020, 38030, 38035, 38040, 38070, 38075, 38090, 38120, 38160, 38165, 38170, 38175, 38190, 38200, 38205, 38210, 38230, 38245, 38260, 38275, 38280, 38285, 38290, 38295, 38305, 38310, 38315, 38320, 38335, 38340, 38370, 38395, 38400, 38420, 38450, 38465, 38470, 38475, 38480, 38500, 38505, 38510, 38530, 38540, 38555, 38570, 38575, 38600, 38605, 38640, 38645, 38650, 38665, 38680, 38685, 38690, 38695, 38700, 38705, 38735, 38745, 38750, 38760, 38765, 38770, 38780, 38790, 38820, 38830, 38840, 38845, 38850, 38855, 38865, 38880, 38895, 38910, 38940, 38950, 38955, 38960, 38975, 38980, 38985, 38990, 39010, 39015, 39020, 39030, 39040, 39050, 39055, 39060, 39080, 39090, 39095, 39115, 39120, 39125, 39140, 39155, 39160, 39165, 39175, 39180, 39200, 39210, 39215, 39220, 39225, 39230, 39245, 39280, 39295, 39315, 39325, 39330, 39340, 39345, 39365, 39370, 39375, 39420, 39435, 39445, 39460, 39465, 39475, 39490, 39495, 39510, 39530, 39540, 39555, 39560, 39570, 39585, 39600, 39605, 39630, 39645, 39705, 39725, 39755, 39765, 39775, 39790, 39795, 39800, 39810, 39825, 39840, 39845, 39850, 39865, 39875, 39880, 39890, 39905, 39925, 39930, 39940, 39950, 40000, 40010, 40015, 40025, 40035, 40040, 40055, 40070, 40100, 40110, 40115, 40120, 40130, 40135, 40155, 40165, 40185, 40195, 40215, 40220, 40235, 40255, 40265, 40280, 40285, 40290, 40335, 40340, 40365, 40380, 40390, 40420, 40435, 40450, 40455, 40475, 40490, 40495, 40505, 40510, 40515, 40530, 40540, 40545, 40550, 40555, 40580, 40605, 40615, 40650, 40655, 40660, 40685, 40705, 40710, 40750, 40765, 40770, 40790, 40800, 40805, 40810, 40815, 40825, 40845, 40885, 40910, 40920, 40960, 40980, 41010, 41025, 41040, 41050, 41065, 41075, 41080, 41085, 41095, 41100, 41115, 41150, 41155, 41165, 41170, 41200, 41205, 41210, 41215, 41220, 41255, 41260, 41285, 41320, 41335, 41340, 41345, 41350, 41355, 41360, 41365, 41375, 41380, 41395, 41425, 41435, 41440, 41445, 41455, 41465, 41480, 41510, 41530, 41535, 41545, 41550, 41555, 41560, 41585, 41590, 41595, 41600, 41610, 41620, 41635, 41645, 41655, 41660, 41670, 41685, 41700, 41715, 41740, 41750, 41760, 41765, 41770, 41775, 41780, 41785, 41790, 41795, 41820, 41830, 41855, 41860, 41870, 41890, 41900, 41905, 41925, 41950, 41955, 41965, 41985, 41995, 42010, 42045, 42050, 42055, 42060, 42070, 42085, 42095, 42100, 42120, 42140, 42145, 42150, 42165, 42190, 42210, 42225, 42230, 42235, 42250, 42280, 42290, 42315, 42325, 42355, 42365, 42395, 42405, 42420, 42425, 42470, 42480, 42490, 42500, 42510, 42515, 42530, 42540, 42555, 42560, 42570, 42580, 42590, 42615, 42625, 42630, 42635, 42645, 42650, 42670, 42685, 42705, 42710, 42715, 42735, 42755, 42760, 42765, 42770, 42775, 42780, 42815, 42840, 42845, 42850, 42865, 42895, 42910, 42930, 42935, 42945, 42965, 42970, 42985, 42995, 43000, 43010, 43030, 43035, 43040, 43045, 43060, 43105, 43115, 43125, 43130, 43140, 43150, 43165, 43175, 43180, 43190, 43195, 43205, 43210, 43225, 43235, 43240, 43245, 43270, 43280, 43285, 43290, 43295, 43300, 43310, 43320, 43330, 43335, 43340, 43345, 43350, 43355, 43360, 43365, 43370, 43390, 43405, 43415, 43420, 43425, 43450, 43460, 43465, 43475, 43485, 43505, 43515, 43525, 43560, 43565, 43570, 43585, 43590, 43600, 43610, 43620, 43635, 43640, 43645, 43670, 43675, 43685, 43690, 43705, 43710, 43715, 43720, 43730, 43745, 43750, 43755, 43775, 43785, 43805, 43810, 43835, 43860, 43865, 43870, 43880, 43885, 43895, 43900, 43920, 43940, 43955, 43960, 43965, 43975, 43980, 43985, 43995, 44000, 44005, 44020, 44030, 44040, 44050, 44060, 44065, 44075, 44090, 44095, 44115, 44120, 44135, 44160, 44170, 44200, 44205, 44230, 44235, 44260, 44265, 44270, 44280, 44285, 44290, 44330, 44360, 44365, 44410, 44420, 44430, 44435, 44440, 44460, 44500, 44505, 44525, 44555, 44580, 44620, 44625, 44630, 44640, 44650, 44660, 44675, 44680, 44690, 44700, 44735, 44755, 44760, 44765, 44775, 44790, 44825, 44830, 44845, 44850, 44855, 44865, 44880, 44890, 44900, 44915, 44920, 44935, 44945, 44965, 44975, 44980, 44990, 45000, 45005, 45015, 45020, 45035, 45040, 45055, 45060, 45075, 45095, 45110, 45120, 45140, 45145, 45155, 45160, 45165, 45180, 45190, 45205, 45210, 45215, 45230, 45240, 45260, 45265, 45275, 45280, 45285, 45295, 45315, 45330, 45340, 45355, 45375, 45415, 45420, 45435, 45445, 45460, 45470, 45485, 45505, 45510, 45530, 45535, 45550, 45570, 45580, 45585, 45610, 45615, 45620, 45660, 45670, 45680, 45695, 45700, 45720, 45725, 45730, 45735, 45745, 45825, 45830, 45840, 45855, 45865, 45900, 45915, 45920, 45925, 45935, 45940, 45985, 45995, 46000, 46020, 46025, 46040, 46045, 46055, 46075, 46085, 46090, 46095, 46100, 46105, 46120, 46125, 46155, 46160, 46190, 46195, 46200, 46215, 46230, 46235, 46250, 46255, 46270, 46275, 46290, 46320, 46335, 46345, 46365, 46380, 46395, 46405, 46430, 46445, 46455, 46460, 46480, 46485, 46495, 46515, 46525, 46535, 46540, 46550, 46560, 46575, 46595, 46605, 46625, 46630, 46635, 46650, 46655, 46675])"
     },
     "execution_count": 73,
     "metadata": {},
     "output_type": "execute_result"
    }
   ],
   "source": [
    "embeddings = {}\n",
    "\n",
    "\n",
    "def tokenize_email(row):\n",
    "    subject = row['subject']\n",
    "    if pd.isna(subject):\n",
    "        return row\n",
    "\n",
    "    encoded_input = tokenizer(subject, return_tensors='pt')\n",
    "    output = model(**encoded_input)\n",
    "    email_embedding = output.last_hidden_state.mean(dim=1)\n",
    "    embeddings[row.name] = email_embedding.detach().numpy()\n",
    "    return row\n",
    "\n",
    "\n",
    "with_encoded_mailer_df.apply(tokenize_email, axis=1)\n",
    "embeddings.keys()"
   ],
   "metadata": {
    "collapsed": false,
    "ExecuteTime": {
     "end_time": "2023-06-20T01:41:12.646893Z",
     "start_time": "2023-06-20T01:39:12.071777Z"
    }
   }
  },
  {
   "cell_type": "code",
   "execution_count": 74,
   "outputs": [
    {
     "name": "stderr",
     "output_type": "stream",
     "text": [
      "/var/folders/_t/kjvh_2295rnbf4fvm71_rcfm0000gn/T/ipykernel_49829/4071314012.py:3: FutureWarning: arrays to stack must be passed as a \"sequence\" type such as list or tuple. Support for non-sequence iterables such as generators is deprecated as of NumPy 1.16 and will raise an error in the future.\n",
      "  embeddings_array = np.vstack(embeddings.values())\n"
     ]
    },
    {
     "data": {
      "text/plain": "array([[-0.8113394 ,  0.6619982 , -0.86493444, ..., -0.6796434 ,\n         0.44944325,  0.458515  ],\n       [-1.7602763 , -0.49182615,  0.18057248, ..., -1.3686477 ,\n        -0.17696585, -0.5015807 ],\n       [-2.2135937 , -0.46899873, -0.3986716 , ..., -1.160225  ,\n        -0.16871852, -0.01649363],\n       ...,\n       [-1.587948  ,  3.0860586 ,  0.9100172 , ..., -0.1854146 ,\n        -0.2870283 , -0.34257105],\n       [-0.7935992 ,  0.63163054, -0.14420925, ...,  0.01830438,\n         0.35755423, -0.19384429],\n       [-0.63543344,  0.18543601,  1.7817357 , ..., -0.6721451 ,\n        -0.8747949 , -1.4694246 ]], dtype=float32)"
     },
     "execution_count": 74,
     "metadata": {},
     "output_type": "execute_result"
    }
   ],
   "source": [
    "from sklearn.decomposition import PCA\n",
    "\n",
    "embeddings_array = np.vstack(embeddings.values())\n",
    "dimensions = 10\n",
    "pca = PCA(n_components=dimensions)\n",
    "reduced_embeddings = pca.fit_transform(embeddings_array)\n",
    "reduced_embeddings"
   ],
   "metadata": {
    "collapsed": false,
    "ExecuteTime": {
     "end_time": "2023-06-20T01:41:12.862001Z",
     "start_time": "2023-06-20T01:41:12.648626Z"
    }
   }
  },
  {
   "cell_type": "code",
   "execution_count": 75,
   "outputs": [
    {
     "data": {
      "text/plain": "       feat-cc-count  feat-duplicate-message-id  \\\n0                NaN                        0.0   \n5                NaN                        1.0   \n10               NaN                        1.0   \n15               NaN                        1.0   \n20               NaN                        1.0   \n...              ...                        ...   \n46660            NaN                        NaN   \n46665            NaN                        NaN   \n46675            NaN                        NaN   \n46680            NaN                        NaN   \n46685            NaN                        NaN   \n\n       feat-encoded-content-transfer-encoding_7bit  \\\n0                                                0   \n5                                                1   \n10                                               1   \n15                                               0   \n20                                               1   \n...                                            ...   \n46660                                            0   \n46665                                            1   \n46675                                            0   \n46680                                            0   \n46685                                            0   \n\n       feat-encoded-content-transfer-encoding_8bit  \\\n0                                                0   \n5                                                0   \n10                                               0   \n15                                               0   \n20                                               0   \n...                                            ...   \n46660                                            1   \n46665                                            0   \n46675                                            0   \n46680                                            0   \n46685                                            0   \n\n       feat-encoded-content-transfer-encoding_base64  \\\n0                                                  0   \n5                                                  0   \n10                                                 0   \n15                                                 0   \n20                                                 0   \n...                                              ...   \n46660                                              0   \n46665                                              0   \n46675                                              0   \n46680                                              0   \n46685                                              0   \n\n       feat-encoded-content-transfer-encoding_binary  \\\n0                                                  0   \n5                                                  0   \n10                                                 0   \n15                                                 0   \n20                                                 0   \n...                                              ...   \n46660                                              0   \n46665                                              0   \n46675                                              0   \n46680                                              0   \n46685                                              0   \n\n       feat-encoded-content-transfer-encoding_quoted-printable  \\\n0                                                      0         \n5                                                      0         \n10                                                     0         \n15                                                     1         \n20                                                     0         \n...                                                  ...         \n46660                                                  0         \n46665                                                  0         \n46675                                                  0         \n46680                                                  0         \n46685                                                  0         \n\n       feat-encoded-precedence_bulk  feat-encoded-precedence_first-class  \\\n0                                 0                                    0   \n5                                 1                                    0   \n10                                0                                    0   \n15                                0                                    0   \n20                                1                                    0   \n...                             ...                                  ...   \n46660                             1                                    0   \n46665                             1                                    0   \n46675                             1                                    0   \n46680                             1                                    0   \n46685                             1                                    0   \n\n       feat-encoded-precedence_list  ...  feat-subject-embedding-0  \\\n0                                 0  ...                 -0.811339   \n5                                 0  ...                       NaN   \n10                                0  ...                 -1.760276   \n15                                0  ...                 -2.213594   \n20                                0  ...                 -2.303739   \n...                             ...  ...                       ...   \n46660                             0  ...                       NaN   \n46665                             0  ...                       NaN   \n46675                             0  ...                 -0.635433   \n46680                             0  ...                       NaN   \n46685                             0  ...                       NaN   \n\n       feat-subject-embedding-1  feat-subject-embedding-2  \\\n0                      0.661998                 -0.864934   \n5                           NaN                       NaN   \n10                    -0.491826                  0.180572   \n15                    -0.468999                 -0.398672   \n20                     1.538317                 -0.632445   \n...                         ...                       ...   \n46660                       NaN                       NaN   \n46665                       NaN                       NaN   \n46675                  0.185436                  1.781736   \n46680                       NaN                       NaN   \n46685                       NaN                       NaN   \n\n       feat-subject-embedding-3  feat-subject-embedding-4  \\\n0                      1.223145                 -1.080191   \n5                           NaN                       NaN   \n10                     1.104391                  1.211631   \n15                     0.321180                  0.611508   \n20                    -0.578130                  0.328798   \n...                         ...                       ...   \n46660                       NaN                       NaN   \n46665                       NaN                       NaN   \n46675                 -1.509864                 -0.347975   \n46680                       NaN                       NaN   \n46685                       NaN                       NaN   \n\n       feat-subject-embedding-5  feat-subject-embedding-6  \\\n0                     -0.549157                 -0.985146   \n5                           NaN                       NaN   \n10                    -0.250875                  0.203437   \n15                    -0.193643                  0.394972   \n20                     1.761715                  0.778496   \n...                         ...                       ...   \n46660                       NaN                       NaN   \n46665                       NaN                       NaN   \n46675                  1.304060                  1.427421   \n46680                       NaN                       NaN   \n46685                       NaN                       NaN   \n\n       feat-subject-embedding-7  feat-subject-embedding-8  \\\n0                     -0.679643                  0.449443   \n5                           NaN                       NaN   \n10                    -1.368648                 -0.176966   \n15                    -1.160225                 -0.168719   \n20                     0.814313                 -0.717058   \n...                         ...                       ...   \n46660                       NaN                       NaN   \n46665                       NaN                       NaN   \n46675                 -0.672145                 -0.874795   \n46680                       NaN                       NaN   \n46685                       NaN                       NaN   \n\n       feat-subject-embedding-9  \n0                      0.458515  \n5                           NaN  \n10                    -0.501581  \n15                    -0.016494  \n20                     0.221026  \n...                         ...  \n46660                       NaN  \n46665                       NaN  \n46675                 -1.469425  \n46680                       NaN  \n46685                       NaN  \n\n[7760 rows x 56 columns]",
      "text/html": "<div>\n<style scoped>\n    .dataframe tbody tr th:only-of-type {\n        vertical-align: middle;\n    }\n\n    .dataframe tbody tr th {\n        vertical-align: top;\n    }\n\n    .dataframe thead th {\n        text-align: right;\n    }\n</style>\n<table border=\"1\" class=\"dataframe\">\n  <thead>\n    <tr style=\"text-align: right;\">\n      <th></th>\n      <th>feat-cc-count</th>\n      <th>feat-duplicate-message-id</th>\n      <th>feat-encoded-content-transfer-encoding_7bit</th>\n      <th>feat-encoded-content-transfer-encoding_8bit</th>\n      <th>feat-encoded-content-transfer-encoding_base64</th>\n      <th>feat-encoded-content-transfer-encoding_binary</th>\n      <th>feat-encoded-content-transfer-encoding_quoted-printable</th>\n      <th>feat-encoded-precedence_bulk</th>\n      <th>feat-encoded-precedence_first-class</th>\n      <th>feat-encoded-precedence_list</th>\n      <th>...</th>\n      <th>feat-subject-embedding-0</th>\n      <th>feat-subject-embedding-1</th>\n      <th>feat-subject-embedding-2</th>\n      <th>feat-subject-embedding-3</th>\n      <th>feat-subject-embedding-4</th>\n      <th>feat-subject-embedding-5</th>\n      <th>feat-subject-embedding-6</th>\n      <th>feat-subject-embedding-7</th>\n      <th>feat-subject-embedding-8</th>\n      <th>feat-subject-embedding-9</th>\n    </tr>\n  </thead>\n  <tbody>\n    <tr>\n      <th>0</th>\n      <td>NaN</td>\n      <td>0.0</td>\n      <td>0</td>\n      <td>0</td>\n      <td>0</td>\n      <td>0</td>\n      <td>0</td>\n      <td>0</td>\n      <td>0</td>\n      <td>0</td>\n      <td>...</td>\n      <td>-0.811339</td>\n      <td>0.661998</td>\n      <td>-0.864934</td>\n      <td>1.223145</td>\n      <td>-1.080191</td>\n      <td>-0.549157</td>\n      <td>-0.985146</td>\n      <td>-0.679643</td>\n      <td>0.449443</td>\n      <td>0.458515</td>\n    </tr>\n    <tr>\n      <th>5</th>\n      <td>NaN</td>\n      <td>1.0</td>\n      <td>1</td>\n      <td>0</td>\n      <td>0</td>\n      <td>0</td>\n      <td>0</td>\n      <td>1</td>\n      <td>0</td>\n      <td>0</td>\n      <td>...</td>\n      <td>NaN</td>\n      <td>NaN</td>\n      <td>NaN</td>\n      <td>NaN</td>\n      <td>NaN</td>\n      <td>NaN</td>\n      <td>NaN</td>\n      <td>NaN</td>\n      <td>NaN</td>\n      <td>NaN</td>\n    </tr>\n    <tr>\n      <th>10</th>\n      <td>NaN</td>\n      <td>1.0</td>\n      <td>1</td>\n      <td>0</td>\n      <td>0</td>\n      <td>0</td>\n      <td>0</td>\n      <td>0</td>\n      <td>0</td>\n      <td>0</td>\n      <td>...</td>\n      <td>-1.760276</td>\n      <td>-0.491826</td>\n      <td>0.180572</td>\n      <td>1.104391</td>\n      <td>1.211631</td>\n      <td>-0.250875</td>\n      <td>0.203437</td>\n      <td>-1.368648</td>\n      <td>-0.176966</td>\n      <td>-0.501581</td>\n    </tr>\n    <tr>\n      <th>15</th>\n      <td>NaN</td>\n      <td>1.0</td>\n      <td>0</td>\n      <td>0</td>\n      <td>0</td>\n      <td>0</td>\n      <td>1</td>\n      <td>0</td>\n      <td>0</td>\n      <td>0</td>\n      <td>...</td>\n      <td>-2.213594</td>\n      <td>-0.468999</td>\n      <td>-0.398672</td>\n      <td>0.321180</td>\n      <td>0.611508</td>\n      <td>-0.193643</td>\n      <td>0.394972</td>\n      <td>-1.160225</td>\n      <td>-0.168719</td>\n      <td>-0.016494</td>\n    </tr>\n    <tr>\n      <th>20</th>\n      <td>NaN</td>\n      <td>1.0</td>\n      <td>1</td>\n      <td>0</td>\n      <td>0</td>\n      <td>0</td>\n      <td>0</td>\n      <td>1</td>\n      <td>0</td>\n      <td>0</td>\n      <td>...</td>\n      <td>-2.303739</td>\n      <td>1.538317</td>\n      <td>-0.632445</td>\n      <td>-0.578130</td>\n      <td>0.328798</td>\n      <td>1.761715</td>\n      <td>0.778496</td>\n      <td>0.814313</td>\n      <td>-0.717058</td>\n      <td>0.221026</td>\n    </tr>\n    <tr>\n      <th>...</th>\n      <td>...</td>\n      <td>...</td>\n      <td>...</td>\n      <td>...</td>\n      <td>...</td>\n      <td>...</td>\n      <td>...</td>\n      <td>...</td>\n      <td>...</td>\n      <td>...</td>\n      <td>...</td>\n      <td>...</td>\n      <td>...</td>\n      <td>...</td>\n      <td>...</td>\n      <td>...</td>\n      <td>...</td>\n      <td>...</td>\n      <td>...</td>\n      <td>...</td>\n      <td>...</td>\n    </tr>\n    <tr>\n      <th>46660</th>\n      <td>NaN</td>\n      <td>NaN</td>\n      <td>0</td>\n      <td>1</td>\n      <td>0</td>\n      <td>0</td>\n      <td>0</td>\n      <td>1</td>\n      <td>0</td>\n      <td>0</td>\n      <td>...</td>\n      <td>NaN</td>\n      <td>NaN</td>\n      <td>NaN</td>\n      <td>NaN</td>\n      <td>NaN</td>\n      <td>NaN</td>\n      <td>NaN</td>\n      <td>NaN</td>\n      <td>NaN</td>\n      <td>NaN</td>\n    </tr>\n    <tr>\n      <th>46665</th>\n      <td>NaN</td>\n      <td>NaN</td>\n      <td>1</td>\n      <td>0</td>\n      <td>0</td>\n      <td>0</td>\n      <td>0</td>\n      <td>1</td>\n      <td>0</td>\n      <td>0</td>\n      <td>...</td>\n      <td>NaN</td>\n      <td>NaN</td>\n      <td>NaN</td>\n      <td>NaN</td>\n      <td>NaN</td>\n      <td>NaN</td>\n      <td>NaN</td>\n      <td>NaN</td>\n      <td>NaN</td>\n      <td>NaN</td>\n    </tr>\n    <tr>\n      <th>46675</th>\n      <td>NaN</td>\n      <td>NaN</td>\n      <td>0</td>\n      <td>0</td>\n      <td>0</td>\n      <td>0</td>\n      <td>0</td>\n      <td>1</td>\n      <td>0</td>\n      <td>0</td>\n      <td>...</td>\n      <td>-0.635433</td>\n      <td>0.185436</td>\n      <td>1.781736</td>\n      <td>-1.509864</td>\n      <td>-0.347975</td>\n      <td>1.304060</td>\n      <td>1.427421</td>\n      <td>-0.672145</td>\n      <td>-0.874795</td>\n      <td>-1.469425</td>\n    </tr>\n    <tr>\n      <th>46680</th>\n      <td>NaN</td>\n      <td>NaN</td>\n      <td>0</td>\n      <td>0</td>\n      <td>0</td>\n      <td>0</td>\n      <td>0</td>\n      <td>1</td>\n      <td>0</td>\n      <td>0</td>\n      <td>...</td>\n      <td>NaN</td>\n      <td>NaN</td>\n      <td>NaN</td>\n      <td>NaN</td>\n      <td>NaN</td>\n      <td>NaN</td>\n      <td>NaN</td>\n      <td>NaN</td>\n      <td>NaN</td>\n      <td>NaN</td>\n    </tr>\n    <tr>\n      <th>46685</th>\n      <td>NaN</td>\n      <td>NaN</td>\n      <td>0</td>\n      <td>0</td>\n      <td>0</td>\n      <td>0</td>\n      <td>0</td>\n      <td>1</td>\n      <td>0</td>\n      <td>0</td>\n      <td>...</td>\n      <td>NaN</td>\n      <td>NaN</td>\n      <td>NaN</td>\n      <td>NaN</td>\n      <td>NaN</td>\n      <td>NaN</td>\n      <td>NaN</td>\n      <td>NaN</td>\n      <td>NaN</td>\n      <td>NaN</td>\n    </tr>\n  </tbody>\n</table>\n<p>7760 rows × 56 columns</p>\n</div>"
     },
     "execution_count": 75,
     "metadata": {},
     "output_type": "execute_result"
    }
   ],
   "source": [
    "with_tokenized_subject_df = with_encoded_mailer_df\n",
    "i = 0\n",
    "for dim in range(dimensions):\n",
    "    with_tokenized_subject_df[f'feat-subject-embedding-{dim}'] = np.nan\n",
    "\n",
    "for idx in embeddings.keys():\n",
    "    for dim in range(dimensions):\n",
    "        with_tokenized_subject_df.loc[idx, f'feat-subject-embedding-{dim}'] = reduced_embeddings[i][dim]\n",
    "    i += 1\n",
    "\n",
    "with_tokenized_subject_df[get_feat_cols(with_tokenized_subject_df)]"
   ],
   "metadata": {
    "collapsed": false,
    "ExecuteTime": {
     "end_time": "2023-06-20T01:41:15.181428Z",
     "start_time": "2023-06-20T01:41:12.858912Z"
    }
   }
  },
  {
   "cell_type": "code",
   "execution_count": 76,
   "outputs": [],
   "source": [
    "def featurize_text(row, col, max_length):\n",
    "    text = row[col]\n",
    "    if pd.isna(text) or len(text) == 0:\n",
    "        return row\n",
    "    text = re.sub(r\"[\\t\\s\\n]+\", \"\", text)\n",
    "    row[f'feat-{col}-normalized-length'] = len(text) / max_length\n",
    "    capital_letters, special_characters, digits = 0, 0, 0\n",
    "    for s in text:\n",
    "        if s.isupper():\n",
    "            capital_letters += 1\n",
    "        elif s.isdigit():\n",
    "            digits += 1\n",
    "        elif not s.isalnum():\n",
    "            special_characters += 1\n",
    "    row[f'feat-{col}-capital-letter-ratio'] = capital_letters / len(text)\n",
    "    row[f'feat-{col}-special-character-ratio'] = special_characters / len(text)\n",
    "    row[f'feat-{col}-digit-ratio'] = digits / len(text)\n",
    "\n",
    "    return row\n",
    "\n",
    "\n",
    "with_subject_features_df = with_tokenized_subject_df.apply(\n",
    "    lambda r: featurize_text(r, max_length=with_tokenized_subject_df['subject'].str.len().max(), col='subject'),\n",
    "    axis=1)"
   ],
   "metadata": {
    "collapsed": false,
    "ExecuteTime": {
     "end_time": "2023-06-20T01:41:33.263776Z",
     "start_time": "2023-06-20T01:41:15.198022Z"
    }
   }
  },
  {
   "cell_type": "code",
   "execution_count": 77,
   "outputs": [],
   "source": [
    "with_body_features_df = with_subject_features_df.apply(\n",
    "    lambda r: featurize_text(r, max_length=with_subject_features_df['body'].str.len().max(), col='body'),\n",
    "    axis=1)"
   ],
   "metadata": {
    "collapsed": false,
    "ExecuteTime": {
     "end_time": "2023-06-20T01:42:07.788740Z",
     "start_time": "2023-06-20T01:41:33.271328Z"
    }
   }
  },
  {
   "cell_type": "code",
   "execution_count": 78,
   "outputs": [
    {
     "name": "stderr",
     "output_type": "stream",
     "text": [
      "23/06/19 22:42:10 WARN MemoryManager: Total allocation exceeds 95.00% (1,020,054,720 bytes) of heap memory\n",
      "Scaling row group sizes to 95.00% for 8 writers\n",
      "23/06/19 22:42:10 WARN MemoryManager: Total allocation exceeds 95.00% (1,020,054,720 bytes) of heap memory\n",
      "Scaling row group sizes to 84.44% for 9 writers\n",
      "23/06/19 22:42:10 WARN MemoryManager: Total allocation exceeds 95.00% (1,020,054,720 bytes) of heap memory\n",
      "Scaling row group sizes to 76.00% for 10 writers\n",
      "23/06/19 22:42:10 WARN MemoryManager: Total allocation exceeds 95.00% (1,020,054,720 bytes) of heap memory\n",
      "Scaling row group sizes to 69.09% for 11 writers\n",
      "23/06/19 22:42:10 WARN MemoryManager: Total allocation exceeds 95.00% (1,020,054,720 bytes) of heap memory\n",
      "Scaling row group sizes to 63.33% for 12 writers\n",
      "23/06/19 22:42:10 WARN MemoryManager: Total allocation exceeds 95.00% (1,020,054,720 bytes) of heap memory\n",
      "Scaling row group sizes to 58.46% for 13 writers\n",
      "23/06/19 22:42:10 WARN MemoryManager: Total allocation exceeds 95.00% (1,020,054,720 bytes) of heap memory\n",
      "Scaling row group sizes to 54.29% for 14 writers\n",
      "23/06/19 22:42:10 WARN MemoryManager: Total allocation exceeds 95.00% (1,020,054,720 bytes) of heap memory\n",
      "Scaling row group sizes to 50.67% for 15 writers\n",
      "23/06/19 22:42:10 WARN MemoryManager: Total allocation exceeds 95.00% (1,020,054,720 bytes) of heap memory\n",
      "Scaling row group sizes to 47.50% for 16 writers\n",
      "23/06/19 22:42:10 WARN MemoryManager: Total allocation exceeds 95.00% (1,020,054,720 bytes) of heap memory\n",
      "Scaling row group sizes to 50.67% for 15 writers\n",
      "23/06/19 22:42:10 WARN MemoryManager: Total allocation exceeds 95.00% (1,020,054,720 bytes) of heap memory\n",
      "Scaling row group sizes to 54.29% for 14 writers\n",
      "23/06/19 22:42:10 WARN MemoryManager: Total allocation exceeds 95.00% (1,020,054,720 bytes) of heap memory\n",
      "Scaling row group sizes to 58.46% for 13 writers\n",
      "23/06/19 22:42:10 WARN MemoryManager: Total allocation exceeds 95.00% (1,020,054,720 bytes) of heap memory\n",
      "Scaling row group sizes to 63.33% for 12 writers\n",
      "23/06/19 22:42:10 WARN MemoryManager: Total allocation exceeds 95.00% (1,020,054,720 bytes) of heap memory\n",
      "Scaling row group sizes to 69.09% for 11 writers\n",
      "23/06/19 22:42:10 WARN MemoryManager: Total allocation exceeds 95.00% (1,020,054,720 bytes) of heap memory\n",
      "Scaling row group sizes to 76.00% for 10 writers\n",
      "23/06/19 22:42:10 WARN MemoryManager: Total allocation exceeds 95.00% (1,020,054,720 bytes) of heap memory\n",
      "Scaling row group sizes to 84.44% for 9 writers\n",
      "23/06/19 22:42:10 WARN MemoryManager: Total allocation exceeds 95.00% (1,020,054,720 bytes) of heap memory\n",
      "Scaling row group sizes to 95.00% for 8 writers\n",
      "                                                                                \r"
     ]
    }
   ],
   "source": [
    "spark_df = spark.createDataFrame(with_body_features_df[['category'] + get_feat_cols(with_body_features_df)])\n",
    "spark_df.write.parquet(f'{DATA_FOLDER}/preprocessed.parquet', mode='overwrite')"
   ],
   "metadata": {
    "collapsed": false,
    "ExecuteTime": {
     "end_time": "2023-06-20T01:42:10.746551Z",
     "start_time": "2023-06-20T01:42:07.788498Z"
    }
   }
  },
  {
   "cell_type": "markdown",
   "source": [
    "# Training"
   ],
   "metadata": {
    "collapsed": false
   }
  },
  {
   "cell_type": "code",
   "execution_count": 79,
   "outputs": [
    {
     "data": {
      "text/plain": "       feat-cc-count  feat-content-type-boundary  feat-duplicate-message-id  \\\ncount    1656.000000                 7760.000000                4715.000000   \nmean        1.977053                    0.983763                   0.619512   \nstd         3.479515                    0.126394                   0.485558   \nmin         1.000000                    0.000000                   0.000000   \n25%         1.000000                    1.000000                   0.000000   \n50%         1.000000                    1.000000                   1.000000   \n75%         2.000000                    1.000000                   1.000000   \nmax        47.000000                    1.000000                   1.000000   \n\n       feat-encoded-content-transfer-encoding_7bit  \\\ncount                                  7760.000000   \nmean                                      0.287113   \nstd                                       0.452444   \nmin                                       0.000000   \n25%                                       0.000000   \n50%                                       0.000000   \n75%                                       1.000000   \nmax                                       1.000000   \n\n       feat-encoded-content-transfer-encoding_8bit  \\\ncount                                  7760.000000   \nmean                                      0.106057   \nstd                                       0.307930   \nmin                                       0.000000   \n25%                                       0.000000   \n50%                                       0.000000   \n75%                                       0.000000   \nmax                                       1.000000   \n\n       feat-encoded-content-transfer-encoding_base64  \\\ncount                                    7760.000000   \nmean                                        0.000515   \nstd                                         0.022699   \nmin                                         0.000000   \n25%                                         0.000000   \n50%                                         0.000000   \n75%                                         0.000000   \nmax                                         1.000000   \n\n       feat-encoded-content-transfer-encoding_binary  \\\ncount                                    7760.000000   \nmean                                        0.002062   \nstd                                         0.045364   \nmin                                         0.000000   \n25%                                         0.000000   \n50%                                         0.000000   \n75%                                         0.000000   \nmax                                         1.000000   \n\n       feat-encoded-content-transfer-encoding_quoted-printable  \\\ncount                                        7760.000000         \nmean                                            0.022036         \nstd                                             0.146810         \nmin                                             0.000000         \n25%                                             0.000000         \n50%                                             0.000000         \n75%                                             0.000000         \nmax                                             1.000000         \n\n       feat-encoded-content-type-charset_iso-8859-1  \\\ncount                                   7760.000000   \nmean                                       0.007088   \nstd                                        0.083895   \nmin                                        0.000000   \n25%                                        0.000000   \n50%                                        0.000000   \n75%                                        0.000000   \nmax                                        1.000000   \n\n       feat-encoded-content-type-charset_iso-8859-15  ...  \\\ncount                                    7760.000000  ...   \nmean                                        0.001933  ...   \nstd                                         0.043926  ...   \nmin                                         0.000000  ...   \n25%                                         0.000000  ...   \n50%                                         0.000000  ...   \n75%                                         0.000000  ...   \nmax                                         1.000000  ...   \n\n       feat-subject-normalized-length  feat-subject-special-character-ratio  \\\ncount                     3589.000000                           3589.000000   \nmean                         0.178011                              0.060368   \nstd                          0.089743                              0.066861   \nmin                          0.011364                              0.000000   \n25%                          0.113636                              0.000000   \n50%                          0.164773                              0.048780   \n75%                          0.221591                              0.095238   \nmax                          0.988636                              0.714286   \n\n       feat-x-msmail-priority  feat-x-priority  feat-x-spam-level  \\\ncount              858.000000      1103.000000        2155.000000   \nmean                 1.034965         2.877607           0.067749   \nstd                  0.257787         0.500886           0.628962   \nmin                  1.000000         0.000000           0.000000   \n25%                  1.000000         3.000000           0.000000   \n50%                  1.000000         3.000000           0.000000   \n75%                  1.000000         3.000000           0.000000   \nmax                  3.000000         5.000000          11.000000   \n\n       feat-x-spam-status  feat-body-normalized-length  \\\ncount         2155.000000                  7760.000000   \nmean             0.007425                     0.009362   \nstd              0.085866                     0.030288   \nmin              0.000000                     0.000124   \n25%              0.000000                     0.001576   \n50%              0.000000                     0.002964   \n75%              0.000000                     0.005789   \nmax              1.000000                     0.986811   \n\n       feat-body-capital-letter-ratio  feat-body-special-character-ratio  \\\ncount                     7760.000000                        7760.000000   \nmean                         0.062952                           0.139792   \nstd                          0.065658                           0.073228   \nmin                          0.000000                           0.008280   \n25%                          0.034798                           0.080375   \n50%                          0.047619                           0.127350   \n75%                          0.066265                           0.190965   \nmax                          0.966427                           0.621425   \n\n       feat-body-digit-ratio  \ncount            7760.000000  \nmean                0.045986  \nstd                 0.057288  \nmin                 0.000000  \n25%                 0.009597  \n50%                 0.026152  \n75%                 0.061856  \nmax                 0.654460  \n\n[8 rows x 64 columns]",
      "text/html": "<div>\n<style scoped>\n    .dataframe tbody tr th:only-of-type {\n        vertical-align: middle;\n    }\n\n    .dataframe tbody tr th {\n        vertical-align: top;\n    }\n\n    .dataframe thead th {\n        text-align: right;\n    }\n</style>\n<table border=\"1\" class=\"dataframe\">\n  <thead>\n    <tr style=\"text-align: right;\">\n      <th></th>\n      <th>feat-cc-count</th>\n      <th>feat-content-type-boundary</th>\n      <th>feat-duplicate-message-id</th>\n      <th>feat-encoded-content-transfer-encoding_7bit</th>\n      <th>feat-encoded-content-transfer-encoding_8bit</th>\n      <th>feat-encoded-content-transfer-encoding_base64</th>\n      <th>feat-encoded-content-transfer-encoding_binary</th>\n      <th>feat-encoded-content-transfer-encoding_quoted-printable</th>\n      <th>feat-encoded-content-type-charset_iso-8859-1</th>\n      <th>feat-encoded-content-type-charset_iso-8859-15</th>\n      <th>...</th>\n      <th>feat-subject-normalized-length</th>\n      <th>feat-subject-special-character-ratio</th>\n      <th>feat-x-msmail-priority</th>\n      <th>feat-x-priority</th>\n      <th>feat-x-spam-level</th>\n      <th>feat-x-spam-status</th>\n      <th>feat-body-normalized-length</th>\n      <th>feat-body-capital-letter-ratio</th>\n      <th>feat-body-special-character-ratio</th>\n      <th>feat-body-digit-ratio</th>\n    </tr>\n  </thead>\n  <tbody>\n    <tr>\n      <th>count</th>\n      <td>1656.000000</td>\n      <td>7760.000000</td>\n      <td>4715.000000</td>\n      <td>7760.000000</td>\n      <td>7760.000000</td>\n      <td>7760.000000</td>\n      <td>7760.000000</td>\n      <td>7760.000000</td>\n      <td>7760.000000</td>\n      <td>7760.000000</td>\n      <td>...</td>\n      <td>3589.000000</td>\n      <td>3589.000000</td>\n      <td>858.000000</td>\n      <td>1103.000000</td>\n      <td>2155.000000</td>\n      <td>2155.000000</td>\n      <td>7760.000000</td>\n      <td>7760.000000</td>\n      <td>7760.000000</td>\n      <td>7760.000000</td>\n    </tr>\n    <tr>\n      <th>mean</th>\n      <td>1.977053</td>\n      <td>0.983763</td>\n      <td>0.619512</td>\n      <td>0.287113</td>\n      <td>0.106057</td>\n      <td>0.000515</td>\n      <td>0.002062</td>\n      <td>0.022036</td>\n      <td>0.007088</td>\n      <td>0.001933</td>\n      <td>...</td>\n      <td>0.178011</td>\n      <td>0.060368</td>\n      <td>1.034965</td>\n      <td>2.877607</td>\n      <td>0.067749</td>\n      <td>0.007425</td>\n      <td>0.009362</td>\n      <td>0.062952</td>\n      <td>0.139792</td>\n      <td>0.045986</td>\n    </tr>\n    <tr>\n      <th>std</th>\n      <td>3.479515</td>\n      <td>0.126394</td>\n      <td>0.485558</td>\n      <td>0.452444</td>\n      <td>0.307930</td>\n      <td>0.022699</td>\n      <td>0.045364</td>\n      <td>0.146810</td>\n      <td>0.083895</td>\n      <td>0.043926</td>\n      <td>...</td>\n      <td>0.089743</td>\n      <td>0.066861</td>\n      <td>0.257787</td>\n      <td>0.500886</td>\n      <td>0.628962</td>\n      <td>0.085866</td>\n      <td>0.030288</td>\n      <td>0.065658</td>\n      <td>0.073228</td>\n      <td>0.057288</td>\n    </tr>\n    <tr>\n      <th>min</th>\n      <td>1.000000</td>\n      <td>0.000000</td>\n      <td>0.000000</td>\n      <td>0.000000</td>\n      <td>0.000000</td>\n      <td>0.000000</td>\n      <td>0.000000</td>\n      <td>0.000000</td>\n      <td>0.000000</td>\n      <td>0.000000</td>\n      <td>...</td>\n      <td>0.011364</td>\n      <td>0.000000</td>\n      <td>1.000000</td>\n      <td>0.000000</td>\n      <td>0.000000</td>\n      <td>0.000000</td>\n      <td>0.000124</td>\n      <td>0.000000</td>\n      <td>0.008280</td>\n      <td>0.000000</td>\n    </tr>\n    <tr>\n      <th>25%</th>\n      <td>1.000000</td>\n      <td>1.000000</td>\n      <td>0.000000</td>\n      <td>0.000000</td>\n      <td>0.000000</td>\n      <td>0.000000</td>\n      <td>0.000000</td>\n      <td>0.000000</td>\n      <td>0.000000</td>\n      <td>0.000000</td>\n      <td>...</td>\n      <td>0.113636</td>\n      <td>0.000000</td>\n      <td>1.000000</td>\n      <td>3.000000</td>\n      <td>0.000000</td>\n      <td>0.000000</td>\n      <td>0.001576</td>\n      <td>0.034798</td>\n      <td>0.080375</td>\n      <td>0.009597</td>\n    </tr>\n    <tr>\n      <th>50%</th>\n      <td>1.000000</td>\n      <td>1.000000</td>\n      <td>1.000000</td>\n      <td>0.000000</td>\n      <td>0.000000</td>\n      <td>0.000000</td>\n      <td>0.000000</td>\n      <td>0.000000</td>\n      <td>0.000000</td>\n      <td>0.000000</td>\n      <td>...</td>\n      <td>0.164773</td>\n      <td>0.048780</td>\n      <td>1.000000</td>\n      <td>3.000000</td>\n      <td>0.000000</td>\n      <td>0.000000</td>\n      <td>0.002964</td>\n      <td>0.047619</td>\n      <td>0.127350</td>\n      <td>0.026152</td>\n    </tr>\n    <tr>\n      <th>75%</th>\n      <td>2.000000</td>\n      <td>1.000000</td>\n      <td>1.000000</td>\n      <td>1.000000</td>\n      <td>0.000000</td>\n      <td>0.000000</td>\n      <td>0.000000</td>\n      <td>0.000000</td>\n      <td>0.000000</td>\n      <td>0.000000</td>\n      <td>...</td>\n      <td>0.221591</td>\n      <td>0.095238</td>\n      <td>1.000000</td>\n      <td>3.000000</td>\n      <td>0.000000</td>\n      <td>0.000000</td>\n      <td>0.005789</td>\n      <td>0.066265</td>\n      <td>0.190965</td>\n      <td>0.061856</td>\n    </tr>\n    <tr>\n      <th>max</th>\n      <td>47.000000</td>\n      <td>1.000000</td>\n      <td>1.000000</td>\n      <td>1.000000</td>\n      <td>1.000000</td>\n      <td>1.000000</td>\n      <td>1.000000</td>\n      <td>1.000000</td>\n      <td>1.000000</td>\n      <td>1.000000</td>\n      <td>...</td>\n      <td>0.988636</td>\n      <td>0.714286</td>\n      <td>3.000000</td>\n      <td>5.000000</td>\n      <td>11.000000</td>\n      <td>1.000000</td>\n      <td>0.986811</td>\n      <td>0.966427</td>\n      <td>0.621425</td>\n      <td>0.654460</td>\n    </tr>\n  </tbody>\n</table>\n<p>8 rows × 64 columns</p>\n</div>"
     },
     "execution_count": 79,
     "metadata": {},
     "output_type": "execute_result"
    }
   ],
   "source": [
    "df = spark.read.parquet(f'{DATA_FOLDER}/preprocessed.parquet')\n",
    "preprocessed_df = df.toPandas()\n",
    "preprocessed_df.describe()"
   ],
   "metadata": {
    "collapsed": false,
    "ExecuteTime": {
     "end_time": "2023-06-20T01:42:24.913987Z",
     "start_time": "2023-06-20T01:42:24.328257Z"
    }
   }
  },
  {
   "cell_type": "code",
   "execution_count": 83,
   "outputs": [],
   "source": [
    "df = preprocessed_df.fillna(0)\n",
    "df = df.dropna(subset='category')\n",
    "df['category'] = df['category'].replace('ham', 0)\n",
    "df['category'] = df['category'].replace('spam', 1)"
   ],
   "metadata": {
    "collapsed": false,
    "ExecuteTime": {
     "end_time": "2023-06-20T01:43:21.358533Z",
     "start_time": "2023-06-20T01:43:21.334871Z"
    }
   }
  },
  {
   "cell_type": "code",
   "execution_count": 84,
   "outputs": [],
   "source": [
    "from sklearn.model_selection import train_test_split\n",
    "\n",
    "X = df.drop('category', axis=1)\n",
    "y = df['category']\n",
    "\n",
    "seed = 42\n",
    "test_size = 0.2\n",
    "X_train, X_test, y_train, y_test = train_test_split(X, y, test_size=test_size, random_state=seed)"
   ],
   "metadata": {
    "collapsed": false,
    "ExecuteTime": {
     "end_time": "2023-06-20T01:43:24.612609Z",
     "start_time": "2023-06-20T01:43:24.600221Z"
    }
   }
  },
  {
   "cell_type": "code",
   "execution_count": 85,
   "outputs": [
    {
     "name": "stdout",
     "output_type": "stream",
     "text": [
      "[22:43:25] WARNING: /Users/runner/work/xgboost/xgboost/python-package/build/temp.macosx-10.9-x86_64-cpython-38/xgboost/src/objective/regression_obj.cu:213: reg:linear is now deprecated in favor of reg:squarederror.\n"
     ]
    },
    {
     "data": {
      "text/plain": "XGBClassifier(alpha=10, base_score=None, booster=None, callbacks=None,\n              colsample_bylevel=None, colsample_bynode=None,\n              colsample_bytree=0.3, early_stopping_rounds=None,\n              enable_categorical=False, eval_metric=None, feature_types=None,\n              gamma=None, gpu_id=None, grow_policy=None, importance_type=None,\n              interaction_constraints=None, learning_rate=0.1, max_bin=None,\n              max_cat_threshold=None, max_cat_to_onehot=None,\n              max_delta_step=None, max_depth=5, max_leaves=None,\n              min_child_weight=None, missing=nan, monotone_constraints=None,\n              n_estimators=10, n_jobs=None, num_parallel_tree=None,\n              objective='reg:linear', ...)",
      "text/html": "<style>#sk-container-id-1 {color: black;background-color: white;}#sk-container-id-1 pre{padding: 0;}#sk-container-id-1 div.sk-toggleable {background-color: white;}#sk-container-id-1 label.sk-toggleable__label {cursor: pointer;display: block;width: 100%;margin-bottom: 0;padding: 0.3em;box-sizing: border-box;text-align: center;}#sk-container-id-1 label.sk-toggleable__label-arrow:before {content: \"▸\";float: left;margin-right: 0.25em;color: #696969;}#sk-container-id-1 label.sk-toggleable__label-arrow:hover:before {color: black;}#sk-container-id-1 div.sk-estimator:hover label.sk-toggleable__label-arrow:before {color: black;}#sk-container-id-1 div.sk-toggleable__content {max-height: 0;max-width: 0;overflow: hidden;text-align: left;background-color: #f0f8ff;}#sk-container-id-1 div.sk-toggleable__content pre {margin: 0.2em;color: black;border-radius: 0.25em;background-color: #f0f8ff;}#sk-container-id-1 input.sk-toggleable__control:checked~div.sk-toggleable__content {max-height: 200px;max-width: 100%;overflow: auto;}#sk-container-id-1 input.sk-toggleable__control:checked~label.sk-toggleable__label-arrow:before {content: \"▾\";}#sk-container-id-1 div.sk-estimator input.sk-toggleable__control:checked~label.sk-toggleable__label {background-color: #d4ebff;}#sk-container-id-1 div.sk-label input.sk-toggleable__control:checked~label.sk-toggleable__label {background-color: #d4ebff;}#sk-container-id-1 input.sk-hidden--visually {border: 0;clip: rect(1px 1px 1px 1px);clip: rect(1px, 1px, 1px, 1px);height: 1px;margin: -1px;overflow: hidden;padding: 0;position: absolute;width: 1px;}#sk-container-id-1 div.sk-estimator {font-family: monospace;background-color: #f0f8ff;border: 1px dotted black;border-radius: 0.25em;box-sizing: border-box;margin-bottom: 0.5em;}#sk-container-id-1 div.sk-estimator:hover {background-color: #d4ebff;}#sk-container-id-1 div.sk-parallel-item::after {content: \"\";width: 100%;border-bottom: 1px solid gray;flex-grow: 1;}#sk-container-id-1 div.sk-label:hover label.sk-toggleable__label {background-color: #d4ebff;}#sk-container-id-1 div.sk-serial::before {content: \"\";position: absolute;border-left: 1px solid gray;box-sizing: border-box;top: 0;bottom: 0;left: 50%;z-index: 0;}#sk-container-id-1 div.sk-serial {display: flex;flex-direction: column;align-items: center;background-color: white;padding-right: 0.2em;padding-left: 0.2em;position: relative;}#sk-container-id-1 div.sk-item {position: relative;z-index: 1;}#sk-container-id-1 div.sk-parallel {display: flex;align-items: stretch;justify-content: center;background-color: white;position: relative;}#sk-container-id-1 div.sk-item::before, #sk-container-id-1 div.sk-parallel-item::before {content: \"\";position: absolute;border-left: 1px solid gray;box-sizing: border-box;top: 0;bottom: 0;left: 50%;z-index: -1;}#sk-container-id-1 div.sk-parallel-item {display: flex;flex-direction: column;z-index: 1;position: relative;background-color: white;}#sk-container-id-1 div.sk-parallel-item:first-child::after {align-self: flex-end;width: 50%;}#sk-container-id-1 div.sk-parallel-item:last-child::after {align-self: flex-start;width: 50%;}#sk-container-id-1 div.sk-parallel-item:only-child::after {width: 0;}#sk-container-id-1 div.sk-dashed-wrapped {border: 1px dashed gray;margin: 0 0.4em 0.5em 0.4em;box-sizing: border-box;padding-bottom: 0.4em;background-color: white;}#sk-container-id-1 div.sk-label label {font-family: monospace;font-weight: bold;display: inline-block;line-height: 1.2em;}#sk-container-id-1 div.sk-label-container {text-align: center;}#sk-container-id-1 div.sk-container {/* jupyter's `normalize.less` sets `[hidden] { display: none; }` but bootstrap.min.css set `[hidden] { display: none !important; }` so we also need the `!important` here to be able to override the default hidden behavior on the sphinx rendered scikit-learn.org. See: https://github.com/scikit-learn/scikit-learn/issues/21755 */display: inline-block !important;position: relative;}#sk-container-id-1 div.sk-text-repr-fallback {display: none;}</style><div id=\"sk-container-id-1\" class=\"sk-top-container\"><div class=\"sk-text-repr-fallback\"><pre>XGBClassifier(alpha=10, base_score=None, booster=None, callbacks=None,\n              colsample_bylevel=None, colsample_bynode=None,\n              colsample_bytree=0.3, early_stopping_rounds=None,\n              enable_categorical=False, eval_metric=None, feature_types=None,\n              gamma=None, gpu_id=None, grow_policy=None, importance_type=None,\n              interaction_constraints=None, learning_rate=0.1, max_bin=None,\n              max_cat_threshold=None, max_cat_to_onehot=None,\n              max_delta_step=None, max_depth=5, max_leaves=None,\n              min_child_weight=None, missing=nan, monotone_constraints=None,\n              n_estimators=10, n_jobs=None, num_parallel_tree=None,\n              objective=&#x27;reg:linear&#x27;, ...)</pre><b>In a Jupyter environment, please rerun this cell to show the HTML representation or trust the notebook. <br />On GitHub, the HTML representation is unable to render, please try loading this page with nbviewer.org.</b></div><div class=\"sk-container\" hidden><div class=\"sk-item\"><div class=\"sk-estimator sk-toggleable\"><input class=\"sk-toggleable__control sk-hidden--visually\" id=\"sk-estimator-id-1\" type=\"checkbox\" checked><label for=\"sk-estimator-id-1\" class=\"sk-toggleable__label sk-toggleable__label-arrow\">XGBClassifier</label><div class=\"sk-toggleable__content\"><pre>XGBClassifier(alpha=10, base_score=None, booster=None, callbacks=None,\n              colsample_bylevel=None, colsample_bynode=None,\n              colsample_bytree=0.3, early_stopping_rounds=None,\n              enable_categorical=False, eval_metric=None, feature_types=None,\n              gamma=None, gpu_id=None, grow_policy=None, importance_type=None,\n              interaction_constraints=None, learning_rate=0.1, max_bin=None,\n              max_cat_threshold=None, max_cat_to_onehot=None,\n              max_delta_step=None, max_depth=5, max_leaves=None,\n              min_child_weight=None, missing=nan, monotone_constraints=None,\n              n_estimators=10, n_jobs=None, num_parallel_tree=None,\n              objective=&#x27;reg:linear&#x27;, ...)</pre></div></div></div></div></div>"
     },
     "execution_count": 85,
     "metadata": {},
     "output_type": "execute_result"
    }
   ],
   "source": [
    "import xgboost as xgb\n",
    "\n",
    "model = xgb.XGBClassifier(objective ='reg:linear', colsample_bytree = 0.3, learning_rate = 0.1,\n",
    "                          max_depth = 5, alpha = 10, n_estimators = 10)\n",
    "model.fit(X_train, y_train)"
   ],
   "metadata": {
    "collapsed": false,
    "ExecuteTime": {
     "end_time": "2023-06-20T01:43:25.360777Z",
     "start_time": "2023-06-20T01:43:25.283173Z"
    }
   }
  },
  {
   "cell_type": "code",
   "execution_count": 89,
   "outputs": [
    {
     "name": "stdout",
     "output_type": "stream",
     "text": [
      "Precision: 0.956989247311828\n",
      "F1: 0.6033898305084746\n",
      "Accuracy: 0.9246134020618557\n",
      "ROC_AUC_SCORE: 0.7188155482214889\n",
      "Confusion Matrix:\n",
      " [[1346    4]\n",
      " [ 113   89]]\n"
     ]
    }
   ],
   "source": [
    "from sklearn.metrics import precision_score, f1_score, accuracy_score, roc_auc_score, confusion_matrix\n",
    "\n",
    "y_pred = model.predict(X_test)\n",
    "print(f'Precision: {precision_score(y_test, y_pred)}')\n",
    "print(f'F1: {f1_score(y_test, y_pred)}')\n",
    "print(f'Accuracy: {accuracy_score(y_test, y_pred)}')\n",
    "print(f'ROC_AUC_SCORE: {roc_auc_score(y_test, y_pred)}')\n",
    "print(f'Confusion Matrix:\\n', confusion_matrix(y_test, y_pred))"
   ],
   "metadata": {
    "collapsed": false,
    "ExecuteTime": {
     "end_time": "2023-06-20T01:44:49.771025Z",
     "start_time": "2023-06-20T01:44:49.749610Z"
    }
   }
  },
  {
   "cell_type": "code",
   "execution_count": 87,
   "outputs": [
    {
     "data": {
      "text/plain": "<Figure size 640x480 with 1 Axes>",
      "image/png": "[encoded data removed]"
     },
     "metadata": {},
     "output_type": "display_data"
    }
   ],
   "source": [
    "import matplotlib.pyplot as plt\n",
    "from sklearn.metrics import auc, roc_curve\n",
    "\n",
    "y_pred_proba = model.predict_proba(X_test)[:,1]\n",
    "fpr, tpr, thresholds = roc_curve(y_test, y_pred_proba)\n",
    "roc_auc = auc(fpr, tpr)\n",
    "\n",
    "plt.figure()\n",
    "plt.plot(fpr, tpr, color='darkorange', lw=2, label='ROC curve (area = %0.2f)' % roc_auc)\n",
    "plt.plot([0, 1], [0, 1], color='navy', lw=2, linestyle='--')\n",
    "plt.xlim([0.0, 1.0])\n",
    "plt.ylim([0.0, 1.05])\n",
    "plt.xlabel('False Positive Rate')\n",
    "plt.ylabel('True Positive Rate')\n",
    "plt.title('Receiver Operating Characteristic')\n",
    "plt.legend(loc=\"lower right\")\n",
    "plt.show()"
   ],
   "metadata": {
    "collapsed": false,
    "ExecuteTime": {
     "end_time": "2023-06-20T01:43:47.873852Z",
     "start_time": "2023-06-20T01:43:46.300365Z"
    }
   }
  },
  {
   "cell_type": "code",
   "execution_count": null,
   "outputs": [],
   "source": [],
   "metadata": {
    "collapsed": false
   }
  }
 ],
 "metadata": {
  "kernelspec": {
   "display_name": "Python 3",
   "language": "python",
   "name": "python3"
  },
  "language_info": {
   "codemirror_mode": {
    "name": "ipython",
    "version": 2
   },
   "file_extension": ".py",
   "mimetype": "text/x-python",
   "name": "python",
   "nbconvert_exporter": "python",
   "pygments_lexer": "ipython2",
   "version": "2.7.6"
  }
 },
 "nbformat": 4,
 "nbformat_minor": 0
}
